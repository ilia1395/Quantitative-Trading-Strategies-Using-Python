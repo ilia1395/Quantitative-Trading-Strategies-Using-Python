{
 "cells": [
  {
   "cell_type": "markdown",
   "metadata": {},
   "source": [
    "### Blockchain Capital Portfolio monthly momemtum strategy"
   ]
  },
  {
   "cell_type": "code",
   "execution_count": 57,
   "metadata": {},
   "outputs": [
    {
     "name": "stdout",
     "output_type": "stream",
     "text": [
      "DeFi Symbols: ['XRP/USDT', 'UNI/USDT', 'ICP/USDT', 'STX/USDT', 'FIL/USDT', 'AAVE/USDT', 'TIA/USDT', 'WLD/USDT', 'THETA/USDT', 'AR/USDT', 'CKB/USDT', 'ROSE/USDT', 'ZK/USDT', '1INCH/USDT', 'ZRX/USDT', 'DCR/USDT', 'YFI/USDT', 'UMA/USDT', 'ACX/USDT', 'SUSHI/USDT', 'BAL/USDT', 'BB/USDT', 'POWR/USDT', 'CVC/USDT', 'COW/USDT', 'AUCTION/USDT', 'BADGER/USDT', 'EWT/USDT', 'WNXM/USDT', 'FLIP/USDT', 'FORT/USDT', 'OXT/USDT', 'FOX/USDT', 'PSP/USDT', 'INDEX/USDT', 'ARCH/USDT', 'WIT/USDT', 'HXRO/USDT', 'TNT/USDT', 'KINE/USDT', 'SAFE/USDT']\n"
     ]
    }
   ],
   "source": [
    "# get category symbols\n",
    "category = \"blockchain-capital-portfolio\"\n",
    "import requests\n",
    "url = \"https://api.coingecko.com/api/v3/coins/markets\"\n",
    "params = {\n",
    "    \"vs_currency\": \"usd\",\n",
    "    \"category\": category,\n",
    "    \"order\": \"market_cap_desc\",\n",
    "    \"per_page\": 100,\n",
    "    \"page\": 1\n",
    "}\n",
    "\n",
    "response = requests.get(url, params=params)\n",
    "data = response.json()\n",
    "\n",
    "# Extract the symbols\n",
    "defi_symbols = [coin['symbol'].upper() + '/USDT' for coin in data]\n",
    "print(\"DeFi Symbols:\", defi_symbols)"
   ]
  },
  {
   "cell_type": "code",
   "execution_count": 58,
   "metadata": {},
   "outputs": [
    {
     "name": "stdout",
     "output_type": "stream",
     "text": [
      "Available DeFi Symbols: ['XRP/USDT', 'UNI/USDT', 'ICP/USDT', 'STX/USDT', 'FIL/USDT', 'AAVE/USDT', 'TIA/USDT', 'WLD/USDT', 'THETA/USDT', 'AR/USDT', 'ROSE/USDT', 'ZK/USDT', '1INCH/USDT', 'ZRX/USDT', 'DCR/USDT', 'YFI/USDT', 'UMA/USDT', 'SUSHI/USDT', 'BB/USDT', 'FLIP/USDT', 'FORT/USDT', 'PSP/USDT', 'SAFE/USDT']\n"
     ]
    }
   ],
   "source": [
    "# Fetch aviable symbols from Bybit\n",
    "import ccxt\n",
    "\n",
    "exchange = ccxt.bybit()\n",
    "exchange.load_markets()\n",
    "all_symbols = exchange.symbols\n",
    "\n",
    "# Filter to include only DeFi symbols available on the exchange\n",
    "available_defi_symbols = [symbol for symbol in defi_symbols if symbol in all_symbols]\n",
    "print(\"Available DeFi Symbols:\", available_defi_symbols)"
   ]
  },
  {
   "cell_type": "code",
   "execution_count": 59,
   "metadata": {
    "id": "FXpPRMClxzwf"
   },
   "outputs": [
    {
     "data": {
      "text/html": [
       "<div>\n",
       "<style scoped>\n",
       "    .dataframe tbody tr th:only-of-type {\n",
       "        vertical-align: middle;\n",
       "    }\n",
       "\n",
       "    .dataframe tbody tr th {\n",
       "        vertical-align: top;\n",
       "    }\n",
       "\n",
       "    .dataframe thead th {\n",
       "        text-align: right;\n",
       "    }\n",
       "</style>\n",
       "<table border=\"1\" class=\"dataframe\">\n",
       "  <thead>\n",
       "    <tr style=\"text-align: right;\">\n",
       "      <th></th>\n",
       "      <th>timestamp</th>\n",
       "      <th>open</th>\n",
       "      <th>high</th>\n",
       "      <th>low</th>\n",
       "      <th>close</th>\n",
       "      <th>volume</th>\n",
       "      <th>symbol</th>\n",
       "    </tr>\n",
       "  </thead>\n",
       "  <tbody>\n",
       "    <tr>\n",
       "      <th>0</th>\n",
       "      <td>2024-03-10</td>\n",
       "      <td>0.6199</td>\n",
       "      <td>0.6277</td>\n",
       "      <td>0.5966</td>\n",
       "      <td>0.6081</td>\n",
       "      <td>1.214860e+08</td>\n",
       "      <td>XRP/USDT</td>\n",
       "    </tr>\n",
       "    <tr>\n",
       "      <th>1</th>\n",
       "      <td>2024-03-11</td>\n",
       "      <td>0.6081</td>\n",
       "      <td>0.7441</td>\n",
       "      <td>0.5812</td>\n",
       "      <td>0.7228</td>\n",
       "      <td>8.034530e+08</td>\n",
       "      <td>XRP/USDT</td>\n",
       "    </tr>\n",
       "    <tr>\n",
       "      <th>2</th>\n",
       "      <td>2024-03-12</td>\n",
       "      <td>0.7228</td>\n",
       "      <td>0.7329</td>\n",
       "      <td>0.6578</td>\n",
       "      <td>0.6880</td>\n",
       "      <td>4.895242e+08</td>\n",
       "      <td>XRP/USDT</td>\n",
       "    </tr>\n",
       "    <tr>\n",
       "      <th>3</th>\n",
       "      <td>2024-03-13</td>\n",
       "      <td>0.6880</td>\n",
       "      <td>0.7025</td>\n",
       "      <td>0.6684</td>\n",
       "      <td>0.6891</td>\n",
       "      <td>2.394229e+08</td>\n",
       "      <td>XRP/USDT</td>\n",
       "    </tr>\n",
       "    <tr>\n",
       "      <th>4</th>\n",
       "      <td>2024-03-14</td>\n",
       "      <td>0.6891</td>\n",
       "      <td>0.7075</td>\n",
       "      <td>0.6379</td>\n",
       "      <td>0.6691</td>\n",
       "      <td>4.721125e+08</td>\n",
       "      <td>XRP/USDT</td>\n",
       "    </tr>\n",
       "  </tbody>\n",
       "</table>\n",
       "</div>"
      ],
      "text/plain": [
       "   timestamp    open    high     low   close        volume    symbol\n",
       "0 2024-03-10  0.6199  0.6277  0.5966  0.6081  1.214860e+08  XRP/USDT\n",
       "1 2024-03-11  0.6081  0.7441  0.5812  0.7228  8.034530e+08  XRP/USDT\n",
       "2 2024-03-12  0.7228  0.7329  0.6578  0.6880  4.895242e+08  XRP/USDT\n",
       "3 2024-03-13  0.6880  0.7025  0.6684  0.6891  2.394229e+08  XRP/USDT\n",
       "4 2024-03-14  0.6891  0.7075  0.6379  0.6691  4.721125e+08  XRP/USDT"
      ]
     },
     "execution_count": 59,
     "metadata": {},
     "output_type": "execute_result"
    }
   ],
   "source": [
    "# Fetch ohlcv from Bybit\n",
    "import numpy as np\n",
    "import pandas as pd\n",
    "import datetime as dt\n",
    "import pytz\n",
    "import plotly.express as px\n",
    "import plotly.graph_objects as go\n",
    "\n",
    "symbols = available_defi_symbols\n",
    "timeframe = '1d'\n",
    "limit = 252\n",
    "\n",
    "# Create an empty list to store DataFrames for each symbol\n",
    "data_frames = []\n",
    "\n",
    "for symbol in symbols:\n",
    "    try:\n",
    "        ohlcv_data = exchange.fetch_ohlcv(symbol, timeframe, limit=limit)\n",
    "        df = pd.DataFrame(ohlcv_data, columns=['timestamp', 'open', 'high', 'low', 'close', 'volume'])\n",
    "        df['symbol'] = symbol\n",
    "\n",
    "        # Convert timestamp to datetime format for readability\n",
    "        df['timestamp'] = pd.to_datetime(df['timestamp'], unit='ms')\n",
    "\n",
    "        data_frames.append(df)\n",
    "    except Exception as e:\n",
    "        print(f\"Could not fetch data for {symbol}: {e}\")\n",
    "\n",
    "# Concatenate all DataFrames into a single DataFrame\n",
    "all_data = pd.concat(data_frames, ignore_index=True)\n",
    "all_data.head()"
   ]
  },
  {
   "cell_type": "code",
   "execution_count": 60,
   "metadata": {},
   "outputs": [
    {
     "name": "stdout",
     "output_type": "stream",
     "text": [
      "2024-03-10 00:00:00 2024-11-16 00:00:00\n"
     ]
    }
   ],
   "source": [
    "# Check min max date\n",
    "print(all_data['timestamp'].min(), all_data['timestamp'].max())"
   ]
  },
  {
   "cell_type": "code",
   "execution_count": 61,
   "metadata": {},
   "outputs": [
    {
     "name": "stdout",
     "output_type": "stream",
     "text": [
      "Filtered data range: 2024-03-10 00:00:00 - 2024-11-16 00:00:00\n",
      "Duplicate entries:\n",
      "<class 'pandas.core.frame.DataFrame'>\n",
      "Index: 0 entries\n",
      "Data columns (total 7 columns):\n",
      " #   Column     Non-Null Count  Dtype         \n",
      "---  ------     --------------  -----         \n",
      " 0   timestamp  0 non-null      datetime64[ns]\n",
      " 1   open       0 non-null      float64       \n",
      " 2   high       0 non-null      float64       \n",
      " 3   low        0 non-null      float64       \n",
      " 4   close      0 non-null      float64       \n",
      " 5   volume     0 non-null      float64       \n",
      " 6   symbol     0 non-null      object        \n",
      "dtypes: datetime64[ns](1), float64(5), object(1)\n",
      "memory usage: 0.0+ bytes\n"
     ]
    }
   ],
   "source": [
    "# Filter dublicates and unnecesary timestamps\n",
    "# Ensure that 'timestamp' is in datetime format\n",
    "all_data['timestamp'] = pd.to_datetime(all_data['timestamp'])\n",
    "\n",
    "# Find the latest date in the data\n",
    "latest_date = all_data['timestamp'].max()\n",
    "\n",
    "# Calculate the cutoff date for 252 days before the latest date\n",
    "cutoff_date = latest_date - pd.Timedelta(days=252)\n",
    "\n",
    "# Filter the data to include only rows within the last 252 days\n",
    "filtered_data = all_data[all_data['timestamp'] >= cutoff_date]\n",
    "\n",
    "# Check the new date range to confirm\n",
    "print(\"Filtered data range:\", filtered_data['timestamp'].min(), \"-\", filtered_data['timestamp'].max())\n",
    "\n",
    "# Identify duplicate entries based on 'timestamp' and 'symbol'\n",
    "duplicates = filtered_data[filtered_data.duplicated(subset=['timestamp', 'symbol'], keep=False)]\n",
    "print(\"Duplicate entries:\")\n",
    "duplicates.info()\n",
    "\n",
    "# Remove duplicate entries, keeping only the first occurrence\n",
    "filtered_data = filtered_data.drop_duplicates(subset=['timestamp', 'symbol'], keep='first')\n"
   ]
  },
  {
   "cell_type": "code",
   "execution_count": 62,
   "metadata": {},
   "outputs": [
    {
     "data": {
      "text/html": [
       "<div>\n",
       "<style scoped>\n",
       "    .dataframe tbody tr th:only-of-type {\n",
       "        vertical-align: middle;\n",
       "    }\n",
       "\n",
       "    .dataframe tbody tr th {\n",
       "        vertical-align: top;\n",
       "    }\n",
       "\n",
       "    .dataframe thead th {\n",
       "        text-align: right;\n",
       "    }\n",
       "</style>\n",
       "<table border=\"1\" class=\"dataframe\">\n",
       "  <thead>\n",
       "    <tr style=\"text-align: right;\">\n",
       "      <th></th>\n",
       "      <th>timestamp</th>\n",
       "      <th>close</th>\n",
       "      <th>symbol</th>\n",
       "    </tr>\n",
       "  </thead>\n",
       "  <tbody>\n",
       "    <tr>\n",
       "      <th>0</th>\n",
       "      <td>2024-03-10</td>\n",
       "      <td>0.6081</td>\n",
       "      <td>XRP/USDT</td>\n",
       "    </tr>\n",
       "    <tr>\n",
       "      <th>1</th>\n",
       "      <td>2024-03-11</td>\n",
       "      <td>0.7228</td>\n",
       "      <td>XRP/USDT</td>\n",
       "    </tr>\n",
       "    <tr>\n",
       "      <th>2</th>\n",
       "      <td>2024-03-12</td>\n",
       "      <td>0.6880</td>\n",
       "      <td>XRP/USDT</td>\n",
       "    </tr>\n",
       "    <tr>\n",
       "      <th>3</th>\n",
       "      <td>2024-03-13</td>\n",
       "      <td>0.6891</td>\n",
       "      <td>XRP/USDT</td>\n",
       "    </tr>\n",
       "    <tr>\n",
       "      <th>4</th>\n",
       "      <td>2024-03-14</td>\n",
       "      <td>0.6691</td>\n",
       "      <td>XRP/USDT</td>\n",
       "    </tr>\n",
       "  </tbody>\n",
       "</table>\n",
       "</div>"
      ],
      "text/plain": [
       "   timestamp   close    symbol\n",
       "0 2024-03-10  0.6081  XRP/USDT\n",
       "1 2024-03-11  0.7228  XRP/USDT\n",
       "2 2024-03-12  0.6880  XRP/USDT\n",
       "3 2024-03-13  0.6891  XRP/USDT\n",
       "4 2024-03-14  0.6691  XRP/USDT"
      ]
     },
     "execution_count": 62,
     "metadata": {},
     "output_type": "execute_result"
    }
   ],
   "source": [
    "# get closed price data\n",
    "df = filtered_data[['timestamp', 'close', 'symbol']]\n",
    "df.head()"
   ]
  },
  {
   "cell_type": "code",
   "execution_count": 63,
   "metadata": {},
   "outputs": [
    {
     "name": "stdout",
     "output_type": "stream",
     "text": [
      "symbol      1INCH/USDT  AAVE/USDT  AR/USDT  BB/USDT  DCR/USDT  FIL/USDT  \\\n",
      "timestamp                                                                 \n",
      "2024-03-10      0.6425   126.8450  41.2125      NaN   27.3457    10.681   \n",
      "2024-03-11      0.6616   136.5453  39.6196      NaN   28.9360    11.164   \n",
      "2024-03-12      0.6582   135.3236  37.9058      NaN   30.3560    10.907   \n",
      "2024-03-13      0.6837   142.6650  37.7186      NaN   31.0513    10.631   \n",
      "2024-03-14      0.6567   139.4301  38.7300      NaN   29.7629    10.505   \n",
      "\n",
      "symbol      FLIP/USDT  FORT/USDT  ICP/USDT  PSP/USDT  ...  SUSHI/USDT  \\\n",
      "timestamp                                             ...               \n",
      "2024-03-10     8.8851     0.2509   14.1426  0.057288  ...       2.007   \n",
      "2024-03-11     8.0133     0.3156   15.0341  0.059862  ...       2.077   \n",
      "2024-03-12     7.9010     0.2892   14.7186  0.056332  ...       2.059   \n",
      "2024-03-13     7.6185     0.2688   14.4990  0.056570  ...       2.067   \n",
      "2024-03-14     7.4630     0.2635   13.9243  0.053569  ...       2.035   \n",
      "\n",
      "symbol      THETA/USDT  TIA/USDT  UMA/USDT  UNI/USDT  WLD/USDT  XRP/USDT  \\\n",
      "timestamp                                                                  \n",
      "2024-03-10      3.2265   16.0387    4.7343   14.2262    9.5492    0.6081   \n",
      "2024-03-11      3.4644   16.5083    4.6940   14.4431    9.8345    0.7228   \n",
      "2024-03-12      3.4247   17.9442    5.0180   14.0795   10.1482    0.6880   \n",
      "2024-03-13      3.3686   17.2492    4.8791   14.2278    9.5479    0.6891   \n",
      "2024-03-14      3.3561   16.5128    4.6681   13.9401   10.7739    0.6691   \n",
      "\n",
      "symbol      YFI/USDT  ZK/USDT  ZRX/USDT  \n",
      "timestamp                                \n",
      "2024-03-10   9980.63      NaN    0.7995  \n",
      "2024-03-11  10428.24      NaN    0.8263  \n",
      "2024-03-12  10259.87      NaN    0.9428  \n",
      "2024-03-13  10319.40      NaN    1.0967  \n",
      "2024-03-14   9986.57      NaN    1.3388  \n",
      "\n",
      "[5 rows x 23 columns]\n",
      "symbol      1INCH/USDT  AAVE/USDT  AR/USDT  BB/USDT  DCR/USDT  FIL/USDT  \\\n",
      "timestamp                                                                 \n",
      "2024-11-12      0.3042   179.2779    18.55   0.3424   13.3775     4.225   \n",
      "2024-11-13      0.2895   173.2462    17.28   0.3205   12.5572     4.075   \n",
      "2024-11-14      0.2743   158.2062    16.30   0.3055   12.4529     3.856   \n",
      "2024-11-15      0.2879   164.4002    17.68   0.3198   13.2000     4.201   \n",
      "2024-11-16      0.3037   173.1783    18.31   0.3226   13.6598     4.411   \n",
      "\n",
      "symbol      FLIP/USDT  FORT/USDT  ICP/USDT  PSP/USDT  ...  SUSHI/USDT  \\\n",
      "timestamp                                             ...               \n",
      "2024-11-12     1.4902     0.1000    8.8269  0.019592  ...       0.790   \n",
      "2024-11-13     1.4090     0.0958    8.5152  0.018437  ...       0.760   \n",
      "2024-11-14     1.3239     0.0916    7.9844  0.017716  ...       0.714   \n",
      "2024-11-15     1.4070     0.0917    8.6852  0.017429  ...       0.755   \n",
      "2024-11-16     1.3923     0.0948    9.3099  0.018612  ...       0.783   \n",
      "\n",
      "symbol      THETA/USDT  TIA/USDT  UMA/USDT  UNI/USDT  WLD/USDT  XRP/USDT  \\\n",
      "timestamp                                                                  \n",
      "2024-11-12      1.4435    5.4757    2.6019    8.9475    2.4544    0.7041   \n",
      "2024-11-13      1.4050    5.0355    2.4191    8.6308    2.3017    0.6899   \n",
      "2024-11-14      1.2959    4.7324    2.3590    8.1786    2.1825    0.7735   \n",
      "2024-11-15      1.3658    4.9374    2.4633    8.5712    2.2998    0.8919   \n",
      "2024-11-16      1.4712    5.1822    2.4967    9.0753    2.3437    1.0444   \n",
      "\n",
      "symbol      YFI/USDT  ZK/USDT  ZRX/USDT  \n",
      "timestamp                                \n",
      "2024-11-12   6372.84   0.1565    0.3802  \n",
      "2024-11-13   6311.35   0.1450    0.3601  \n",
      "2024-11-14   6093.97   0.1362    0.3427  \n",
      "2024-11-15   6265.11   0.1442    0.3590  \n",
      "2024-11-16   6396.40   0.1473    0.3797  \n",
      "\n",
      "[5 rows x 23 columns]\n"
     ]
    }
   ],
   "source": [
    "# pivot by timestamp and symbol\n",
    "df_pivoted = df.pivot(index='timestamp', columns='symbol', values='close')\n",
    "\n",
    "print(df_pivoted.head())\n",
    "print(df_pivoted.tail())"
   ]
  },
  {
   "cell_type": "code",
   "execution_count": 64,
   "metadata": {},
   "outputs": [
    {
     "data": {
      "text/html": [
       "<div>\n",
       "<style scoped>\n",
       "    .dataframe tbody tr th:only-of-type {\n",
       "        vertical-align: middle;\n",
       "    }\n",
       "\n",
       "    .dataframe tbody tr th {\n",
       "        vertical-align: top;\n",
       "    }\n",
       "\n",
       "    .dataframe thead th {\n",
       "        text-align: right;\n",
       "    }\n",
       "</style>\n",
       "<table border=\"1\" class=\"dataframe\">\n",
       "  <thead>\n",
       "    <tr style=\"text-align: right;\">\n",
       "      <th>symbol</th>\n",
       "      <th>1INCH/USDT</th>\n",
       "      <th>AAVE/USDT</th>\n",
       "      <th>AR/USDT</th>\n",
       "      <th>BB/USDT</th>\n",
       "      <th>DCR/USDT</th>\n",
       "      <th>FIL/USDT</th>\n",
       "      <th>FLIP/USDT</th>\n",
       "      <th>FORT/USDT</th>\n",
       "      <th>ICP/USDT</th>\n",
       "      <th>PSP/USDT</th>\n",
       "      <th>...</th>\n",
       "      <th>SUSHI/USDT</th>\n",
       "      <th>THETA/USDT</th>\n",
       "      <th>TIA/USDT</th>\n",
       "      <th>UMA/USDT</th>\n",
       "      <th>UNI/USDT</th>\n",
       "      <th>WLD/USDT</th>\n",
       "      <th>XRP/USDT</th>\n",
       "      <th>YFI/USDT</th>\n",
       "      <th>ZK/USDT</th>\n",
       "      <th>ZRX/USDT</th>\n",
       "    </tr>\n",
       "    <tr>\n",
       "      <th>timestamp</th>\n",
       "      <th></th>\n",
       "      <th></th>\n",
       "      <th></th>\n",
       "      <th></th>\n",
       "      <th></th>\n",
       "      <th></th>\n",
       "      <th></th>\n",
       "      <th></th>\n",
       "      <th></th>\n",
       "      <th></th>\n",
       "      <th></th>\n",
       "      <th></th>\n",
       "      <th></th>\n",
       "      <th></th>\n",
       "      <th></th>\n",
       "      <th></th>\n",
       "      <th></th>\n",
       "      <th></th>\n",
       "      <th></th>\n",
       "      <th></th>\n",
       "      <th></th>\n",
       "    </tr>\n",
       "  </thead>\n",
       "  <tbody>\n",
       "    <tr>\n",
       "      <th>2024-05-31 00:00:00+00:00</th>\n",
       "      <td>0.225856</td>\n",
       "      <td>0.244599</td>\n",
       "      <td>0.498428</td>\n",
       "      <td>0.348602</td>\n",
       "      <td>0.063583</td>\n",
       "      <td>0.019015</td>\n",
       "      <td>0.005342</td>\n",
       "      <td>0.039916</td>\n",
       "      <td>-0.079709</td>\n",
       "      <td>-0.294226</td>\n",
       "      <td>...</td>\n",
       "      <td>0.219307</td>\n",
       "      <td>0.057924</td>\n",
       "      <td>0.112506</td>\n",
       "      <td>0.332190</td>\n",
       "      <td>0.414731</td>\n",
       "      <td>0.064337</td>\n",
       "      <td>0.033546</td>\n",
       "      <td>0.044917</td>\n",
       "      <td>0.000000</td>\n",
       "      <td>0.123163</td>\n",
       "    </tr>\n",
       "    <tr>\n",
       "      <th>2024-06-30 00:00:00+00:00</th>\n",
       "      <td>-0.173077</td>\n",
       "      <td>-0.060403</td>\n",
       "      <td>-0.385295</td>\n",
       "      <td>-0.226649</td>\n",
       "      <td>-0.255435</td>\n",
       "      <td>-0.218696</td>\n",
       "      <td>-0.497666</td>\n",
       "      <td>-0.286465</td>\n",
       "      <td>-0.310355</td>\n",
       "      <td>-0.151511</td>\n",
       "      <td>...</td>\n",
       "      <td>-0.278830</td>\n",
       "      <td>-0.267852</td>\n",
       "      <td>-0.411932</td>\n",
       "      <td>-0.296722</td>\n",
       "      <td>-0.066272</td>\n",
       "      <td>-0.489087</td>\n",
       "      <td>-0.080178</td>\n",
       "      <td>-0.086524</td>\n",
       "      <td>-0.164074</td>\n",
       "      <td>-0.291458</td>\n",
       "    </tr>\n",
       "    <tr>\n",
       "      <th>2024-07-31 00:00:00+00:00</th>\n",
       "      <td>-0.148537</td>\n",
       "      <td>0.102874</td>\n",
       "      <td>0.045649</td>\n",
       "      <td>-0.172508</td>\n",
       "      <td>-0.188693</td>\n",
       "      <td>-0.060714</td>\n",
       "      <td>0.070565</td>\n",
       "      <td>-0.120612</td>\n",
       "      <td>0.095162</td>\n",
       "      <td>0.024389</td>\n",
       "      <td>...</td>\n",
       "      <td>-0.202864</td>\n",
       "      <td>-0.125152</td>\n",
       "      <td>-0.150371</td>\n",
       "      <td>0.027442</td>\n",
       "      <td>-0.228691</td>\n",
       "      <td>-0.147670</td>\n",
       "      <td>0.308339</td>\n",
       "      <td>-0.123103</td>\n",
       "      <td>-0.175973</td>\n",
       "      <td>-0.005973</td>\n",
       "    </tr>\n",
       "    <tr>\n",
       "      <th>2024-08-31 00:00:00+00:00</th>\n",
       "      <td>-0.297504</td>\n",
       "      <td>0.206741</td>\n",
       "      <td>-0.257002</td>\n",
       "      <td>-0.312835</td>\n",
       "      <td>-0.145906</td>\n",
       "      <td>-0.151616</td>\n",
       "      <td>-0.244390</td>\n",
       "      <td>-0.208628</td>\n",
       "      <td>-0.155476</td>\n",
       "      <td>-0.218522</td>\n",
       "      <td>...</td>\n",
       "      <td>-0.164671</td>\n",
       "      <td>-0.121301</td>\n",
       "      <td>-0.147958</td>\n",
       "      <td>-0.092740</td>\n",
       "      <td>-0.171003</td>\n",
       "      <td>-0.292019</td>\n",
       "      <td>-0.091026</td>\n",
       "      <td>-0.071080</td>\n",
       "      <td>-0.287474</td>\n",
       "      <td>-0.207594</td>\n",
       "    </tr>\n",
       "    <tr>\n",
       "      <th>2024-09-30 00:00:00+00:00</th>\n",
       "      <td>0.163043</td>\n",
       "      <td>0.208091</td>\n",
       "      <td>0.056939</td>\n",
       "      <td>0.273301</td>\n",
       "      <td>0.137567</td>\n",
       "      <td>0.068067</td>\n",
       "      <td>0.179322</td>\n",
       "      <td>0.001627</td>\n",
       "      <td>0.189378</td>\n",
       "      <td>0.025433</td>\n",
       "      <td>...</td>\n",
       "      <td>0.437276</td>\n",
       "      <td>0.166806</td>\n",
       "      <td>0.232226</td>\n",
       "      <td>0.161539</td>\n",
       "      <td>0.243344</td>\n",
       "      <td>0.243642</td>\n",
       "      <td>0.079830</td>\n",
       "      <td>0.027264</td>\n",
       "      <td>0.312200</td>\n",
       "      <td>0.153051</td>\n",
       "    </tr>\n",
       "    <tr>\n",
       "      <th>2024-10-31 00:00:00+00:00</th>\n",
       "      <td>-0.115025</td>\n",
       "      <td>-0.084801</td>\n",
       "      <td>-0.327150</td>\n",
       "      <td>-0.204141</td>\n",
       "      <td>-0.016376</td>\n",
       "      <td>-0.073171</td>\n",
       "      <td>-0.053219</td>\n",
       "      <td>-0.238830</td>\n",
       "      <td>-0.125936</td>\n",
       "      <td>-0.103527</td>\n",
       "      <td>...</td>\n",
       "      <td>-0.147132</td>\n",
       "      <td>-0.194113</td>\n",
       "      <td>-0.119698</td>\n",
       "      <td>-0.044002</td>\n",
       "      <td>0.030327</td>\n",
       "      <td>0.037445</td>\n",
       "      <td>-0.166503</td>\n",
       "      <td>-0.116040</td>\n",
       "      <td>-0.048316</td>\n",
       "      <td>-0.050523</td>\n",
       "    </tr>\n",
       "    <tr>\n",
       "      <th>2024-11-30 00:00:00+00:00</th>\n",
       "      <td>0.233550</td>\n",
       "      <td>0.207139</td>\n",
       "      <td>0.190507</td>\n",
       "      <td>0.182118</td>\n",
       "      <td>0.144545</td>\n",
       "      <td>0.248161</td>\n",
       "      <td>0.164617</td>\n",
       "      <td>0.011740</td>\n",
       "      <td>0.184647</td>\n",
       "      <td>0.358639</td>\n",
       "      <td>...</td>\n",
       "      <td>0.144737</td>\n",
       "      <td>0.304255</td>\n",
       "      <td>0.064413</td>\n",
       "      <td>-0.007631</td>\n",
       "      <td>0.191453</td>\n",
       "      <td>0.218900</td>\n",
       "      <td>1.049451</td>\n",
       "      <td>0.354340</td>\n",
       "      <td>0.133077</td>\n",
       "      <td>0.195529</td>\n",
       "    </tr>\n",
       "  </tbody>\n",
       "</table>\n",
       "<p>7 rows × 23 columns</p>\n",
       "</div>"
      ],
      "text/plain": [
       "symbol                     1INCH/USDT  AAVE/USDT   AR/USDT   BB/USDT  \\\n",
       "timestamp                                                              \n",
       "2024-05-31 00:00:00+00:00    0.225856   0.244599  0.498428  0.348602   \n",
       "2024-06-30 00:00:00+00:00   -0.173077  -0.060403 -0.385295 -0.226649   \n",
       "2024-07-31 00:00:00+00:00   -0.148537   0.102874  0.045649 -0.172508   \n",
       "2024-08-31 00:00:00+00:00   -0.297504   0.206741 -0.257002 -0.312835   \n",
       "2024-09-30 00:00:00+00:00    0.163043   0.208091  0.056939  0.273301   \n",
       "2024-10-31 00:00:00+00:00   -0.115025  -0.084801 -0.327150 -0.204141   \n",
       "2024-11-30 00:00:00+00:00    0.233550   0.207139  0.190507  0.182118   \n",
       "\n",
       "symbol                     DCR/USDT  FIL/USDT  FLIP/USDT  FORT/USDT  ICP/USDT  \\\n",
       "timestamp                                                                       \n",
       "2024-05-31 00:00:00+00:00  0.063583  0.019015   0.005342   0.039916 -0.079709   \n",
       "2024-06-30 00:00:00+00:00 -0.255435 -0.218696  -0.497666  -0.286465 -0.310355   \n",
       "2024-07-31 00:00:00+00:00 -0.188693 -0.060714   0.070565  -0.120612  0.095162   \n",
       "2024-08-31 00:00:00+00:00 -0.145906 -0.151616  -0.244390  -0.208628 -0.155476   \n",
       "2024-09-30 00:00:00+00:00  0.137567  0.068067   0.179322   0.001627  0.189378   \n",
       "2024-10-31 00:00:00+00:00 -0.016376 -0.073171  -0.053219  -0.238830 -0.125936   \n",
       "2024-11-30 00:00:00+00:00  0.144545  0.248161   0.164617   0.011740  0.184647   \n",
       "\n",
       "symbol                     PSP/USDT  ...  SUSHI/USDT  THETA/USDT  TIA/USDT  \\\n",
       "timestamp                            ...                                     \n",
       "2024-05-31 00:00:00+00:00 -0.294226  ...    0.219307    0.057924  0.112506   \n",
       "2024-06-30 00:00:00+00:00 -0.151511  ...   -0.278830   -0.267852 -0.411932   \n",
       "2024-07-31 00:00:00+00:00  0.024389  ...   -0.202864   -0.125152 -0.150371   \n",
       "2024-08-31 00:00:00+00:00 -0.218522  ...   -0.164671   -0.121301 -0.147958   \n",
       "2024-09-30 00:00:00+00:00  0.025433  ...    0.437276    0.166806  0.232226   \n",
       "2024-10-31 00:00:00+00:00 -0.103527  ...   -0.147132   -0.194113 -0.119698   \n",
       "2024-11-30 00:00:00+00:00  0.358639  ...    0.144737    0.304255  0.064413   \n",
       "\n",
       "symbol                     UMA/USDT  UNI/USDT  WLD/USDT  XRP/USDT  YFI/USDT  \\\n",
       "timestamp                                                                     \n",
       "2024-05-31 00:00:00+00:00  0.332190  0.414731  0.064337  0.033546  0.044917   \n",
       "2024-06-30 00:00:00+00:00 -0.296722 -0.066272 -0.489087 -0.080178 -0.086524   \n",
       "2024-07-31 00:00:00+00:00  0.027442 -0.228691 -0.147670  0.308339 -0.123103   \n",
       "2024-08-31 00:00:00+00:00 -0.092740 -0.171003 -0.292019 -0.091026 -0.071080   \n",
       "2024-09-30 00:00:00+00:00  0.161539  0.243344  0.243642  0.079830  0.027264   \n",
       "2024-10-31 00:00:00+00:00 -0.044002  0.030327  0.037445 -0.166503 -0.116040   \n",
       "2024-11-30 00:00:00+00:00 -0.007631  0.191453  0.218900  1.049451  0.354340   \n",
       "\n",
       "symbol                      ZK/USDT  ZRX/USDT  \n",
       "timestamp                                      \n",
       "2024-05-31 00:00:00+00:00  0.000000  0.123163  \n",
       "2024-06-30 00:00:00+00:00 -0.164074 -0.291458  \n",
       "2024-07-31 00:00:00+00:00 -0.175973 -0.005973  \n",
       "2024-08-31 00:00:00+00:00 -0.287474 -0.207594  \n",
       "2024-09-30 00:00:00+00:00  0.312200  0.153051  \n",
       "2024-10-31 00:00:00+00:00 -0.048316 -0.050523  \n",
       "2024-11-30 00:00:00+00:00  0.133077  0.195529  \n",
       "\n",
       "[7 rows x 23 columns]"
      ]
     },
     "execution_count": 64,
     "metadata": {},
     "output_type": "execute_result"
    }
   ],
   "source": [
    "# Calculate monthly returns\n",
    "returns_df = df_pivoted.pct_change().resample(\"ME\").agg(lambda x: (x+1).prod()-1)\n",
    "# Convert the index of past_cum_return_df to timezone-aware UTC\n",
    "returns_df.index = returns_df.index.tz_localize('UTC')\n",
    "returns_df.tail(7)"
   ]
  },
  {
   "cell_type": "code",
   "execution_count": 65,
   "metadata": {},
   "outputs": [
    {
     "data": {
      "application/vnd.plotly.v1+json": {
       "config": {
        "plotlyServerURL": "https://plot.ly"
       },
       "data": [
        {
         "hovertemplate": "symbol=1INCH/USDT<br>timestamp=%{x}<br>value=%{y}<extra></extra>",
         "legendgroup": "1INCH/USDT",
         "line": {
          "color": "#636efa",
          "dash": "solid"
         },
         "marker": {
          "symbol": "circle"
         },
         "mode": "lines",
         "name": "1INCH/USDT",
         "orientation": "v",
         "showlegend": true,
         "type": "scatter",
         "x": [
          "2024-03-31T00:00:00+00:00",
          "2024-04-30T00:00:00+00:00",
          "2024-05-31T00:00:00+00:00",
          "2024-06-30T00:00:00+00:00",
          "2024-07-31T00:00:00+00:00",
          "2024-08-31T00:00:00+00:00",
          "2024-09-30T00:00:00+00:00",
          "2024-10-31T00:00:00+00:00",
          "2024-11-30T00:00:00+00:00"
         ],
         "xaxis": "x",
         "y": [
          -0.038754863813229345,
          -0.3612370466321243,
          0.2258555133079836,
          -0.1730769230769229,
          -0.1485371342835713,
          -0.2975036710719531,
          0.1630434782608703,
          -0.11502516175413435,
          0.23354995938261602
         ],
         "yaxis": "y"
        },
        {
         "hovertemplate": "symbol=AAVE/USDT<br>timestamp=%{x}<br>value=%{y}<extra></extra>",
         "legendgroup": "AAVE/USDT",
         "line": {
          "color": "#EF553B",
          "dash": "solid"
         },
         "marker": {
          "symbol": "circle"
         },
         "mode": "lines",
         "name": "AAVE/USDT",
         "orientation": "v",
         "showlegend": true,
         "type": "scatter",
         "x": [
          "2024-03-31T00:00:00+00:00",
          "2024-04-30T00:00:00+00:00",
          "2024-05-31T00:00:00+00:00",
          "2024-06-30T00:00:00+00:00",
          "2024-07-31T00:00:00+00:00",
          "2024-08-31T00:00:00+00:00",
          "2024-09-30T00:00:00+00:00",
          "2024-10-31T00:00:00+00:00",
          "2024-11-30T00:00:00+00:00"
         ],
         "xaxis": "x",
         "y": [
          0.01213212976467326,
          -0.35061950914405937,
          0.24459877653832196,
          -0.060403499540295,
          0.10287441560865962,
          0.206741173855584,
          0.20809146538834988,
          -0.08480064712573143,
          0.20713876446552315
         ],
         "yaxis": "y"
        },
        {
         "hovertemplate": "symbol=AR/USDT<br>timestamp=%{x}<br>value=%{y}<extra></extra>",
         "legendgroup": "AR/USDT",
         "line": {
          "color": "#00cc96",
          "dash": "solid"
         },
         "marker": {
          "symbol": "circle"
         },
         "mode": "lines",
         "name": "AR/USDT",
         "orientation": "v",
         "showlegend": true,
         "type": "scatter",
         "x": [
          "2024-03-31T00:00:00+00:00",
          "2024-04-30T00:00:00+00:00",
          "2024-05-31T00:00:00+00:00",
          "2024-06-30T00:00:00+00:00",
          "2024-07-31T00:00:00+00:00",
          "2024-08-31T00:00:00+00:00",
          "2024-09-30T00:00:00+00:00",
          "2024-10-31T00:00:00+00:00",
          "2024-11-30T00:00:00+00:00"
         ],
         "xaxis": "x",
         "y": [
          -0.05983864118895954,
          -0.2200256023785433,
          0.49842825566158866,
          -0.38529468270460165,
          0.045648698651051145,
          -0.2570017040457344,
          0.056939139763069635,
          -0.327150231866305,
          0.19050715214564362
         ],
         "yaxis": "y"
        },
        {
         "hovertemplate": "symbol=BB/USDT<br>timestamp=%{x}<br>value=%{y}<extra></extra>",
         "legendgroup": "BB/USDT",
         "line": {
          "color": "#ab63fa",
          "dash": "solid"
         },
         "marker": {
          "symbol": "circle"
         },
         "mode": "lines",
         "name": "BB/USDT",
         "orientation": "v",
         "showlegend": true,
         "type": "scatter",
         "x": [
          "2024-03-31T00:00:00+00:00",
          "2024-04-30T00:00:00+00:00",
          "2024-05-31T00:00:00+00:00",
          "2024-06-30T00:00:00+00:00",
          "2024-07-31T00:00:00+00:00",
          "2024-08-31T00:00:00+00:00",
          "2024-09-30T00:00:00+00:00",
          "2024-10-31T00:00:00+00:00",
          "2024-11-30T00:00:00+00:00"
         ],
         "xaxis": "x",
         "y": [
          0,
          0,
          0.34860162959700514,
          -0.22664924885695592,
          -0.17250844594594572,
          -0.31283490686399595,
          0.27330115113256603,
          -0.20414114902303881,
          0.18211799193843858
         ],
         "yaxis": "y"
        },
        {
         "hovertemplate": "symbol=DCR/USDT<br>timestamp=%{x}<br>value=%{y}<extra></extra>",
         "legendgroup": "DCR/USDT",
         "line": {
          "color": "#FFA15A",
          "dash": "solid"
         },
         "marker": {
          "symbol": "circle"
         },
         "mode": "lines",
         "name": "DCR/USDT",
         "orientation": "v",
         "showlegend": true,
         "type": "scatter",
         "x": [
          "2024-03-31T00:00:00+00:00",
          "2024-04-30T00:00:00+00:00",
          "2024-05-31T00:00:00+00:00",
          "2024-06-30T00:00:00+00:00",
          "2024-07-31T00:00:00+00:00",
          "2024-08-31T00:00:00+00:00",
          "2024-09-30T00:00:00+00:00",
          "2024-10-31T00:00:00+00:00",
          "2024-11-30T00:00:00+00:00"
         ],
         "xaxis": "x",
         "y": [
          0.042229674135238815,
          -0.31799442115050613,
          0.06358327974276534,
          -0.25543451972099407,
          -0.18869334164896379,
          -0.1459057350138534,
          0.13756668323004684,
          -0.01637628364679322,
          0.14454489848927943
         ],
         "yaxis": "y"
        },
        {
         "hovertemplate": "symbol=FIL/USDT<br>timestamp=%{x}<br>value=%{y}<extra></extra>",
         "legendgroup": "FIL/USDT",
         "line": {
          "color": "#19d3f3",
          "dash": "solid"
         },
         "marker": {
          "symbol": "circle"
         },
         "mode": "lines",
         "name": "FIL/USDT",
         "orientation": "v",
         "showlegend": true,
         "type": "scatter",
         "x": [
          "2024-03-31T00:00:00+00:00",
          "2024-04-30T00:00:00+00:00",
          "2024-05-31T00:00:00+00:00",
          "2024-06-30T00:00:00+00:00",
          "2024-07-31T00:00:00+00:00",
          "2024-08-31T00:00:00+00:00",
          "2024-09-30T00:00:00+00:00",
          "2024-10-31T00:00:00+00:00",
          "2024-11-30T00:00:00+00:00"
         ],
         "xaxis": "x",
         "y": [
          -0.067315794401273,
          -0.43515358361774725,
          0.019015461169361814,
          -0.21869550052319442,
          -0.060714285714285166,
          -0.15161596958174917,
          0.06806722689075562,
          -0.07317073170731714,
          0.24816072439162418
         ],
         "yaxis": "y"
        },
        {
         "hovertemplate": "symbol=FLIP/USDT<br>timestamp=%{x}<br>value=%{y}<extra></extra>",
         "legendgroup": "FLIP/USDT",
         "line": {
          "color": "#FF6692",
          "dash": "solid"
         },
         "marker": {
          "symbol": "circle"
         },
         "mode": "lines",
         "name": "FLIP/USDT",
         "orientation": "v",
         "showlegend": true,
         "type": "scatter",
         "x": [
          "2024-03-31T00:00:00+00:00",
          "2024-04-30T00:00:00+00:00",
          "2024-05-31T00:00:00+00:00",
          "2024-06-30T00:00:00+00:00",
          "2024-07-31T00:00:00+00:00",
          "2024-08-31T00:00:00+00:00",
          "2024-09-30T00:00:00+00:00",
          "2024-10-31T00:00:00+00:00",
          "2024-11-30T00:00:00+00:00"
         ],
         "xaxis": "x",
         "y": [
          -0.3924660386489741,
          -0.5144683216005925,
          0.005341676523331174,
          -0.4976659455766824,
          0.07056512541553284,
          -0.24438955539872986,
          0.17932193891846482,
          -0.05321929199334774,
          0.16461731493099108
         ],
         "yaxis": "y"
        },
        {
         "hovertemplate": "symbol=FORT/USDT<br>timestamp=%{x}<br>value=%{y}<extra></extra>",
         "legendgroup": "FORT/USDT",
         "line": {
          "color": "#B6E880",
          "dash": "solid"
         },
         "marker": {
          "symbol": "circle"
         },
         "mode": "lines",
         "name": "FORT/USDT",
         "orientation": "v",
         "showlegend": true,
         "type": "scatter",
         "x": [
          "2024-03-31T00:00:00+00:00",
          "2024-04-30T00:00:00+00:00",
          "2024-05-31T00:00:00+00:00",
          "2024-06-30T00:00:00+00:00",
          "2024-07-31T00:00:00+00:00",
          "2024-08-31T00:00:00+00:00",
          "2024-09-30T00:00:00+00:00",
          "2024-10-31T00:00:00+00:00",
          "2024-11-30T00:00:00+00:00"
         ],
         "xaxis": "x",
         "y": [
          -0.07612594659226801,
          0.02674719585849883,
          0.03991596638655537,
          -0.2864646464646463,
          -0.12061155152887859,
          -0.2086284610431427,
          0.0016273393002443903,
          -0.23883021933387494,
          0.011739594450373536
         ],
         "yaxis": "y"
        },
        {
         "hovertemplate": "symbol=ICP/USDT<br>timestamp=%{x}<br>value=%{y}<extra></extra>",
         "legendgroup": "ICP/USDT",
         "line": {
          "color": "#FF97FF",
          "dash": "solid"
         },
         "marker": {
          "symbol": "circle"
         },
         "mode": "lines",
         "name": "ICP/USDT",
         "orientation": "v",
         "showlegend": true,
         "type": "scatter",
         "x": [
          "2024-03-31T00:00:00+00:00",
          "2024-04-30T00:00:00+00:00",
          "2024-05-31T00:00:00+00:00",
          "2024-06-30T00:00:00+00:00",
          "2024-07-31T00:00:00+00:00",
          "2024-08-31T00:00:00+00:00",
          "2024-09-30T00:00:00+00:00",
          "2024-10-31T00:00:00+00:00",
          "2024-11-30T00:00:00+00:00"
         ],
         "xaxis": "x",
         "y": [
          0.3277756565270875,
          -0.31419944403616973,
          -0.07970896327874444,
          -0.3103547200378006,
          0.09516235593510602,
          -0.1554763607114127,
          0.1893776043389115,
          -0.12593564747361286,
          0.18464651091769735
         ],
         "yaxis": "y"
        },
        {
         "hovertemplate": "symbol=PSP/USDT<br>timestamp=%{x}<br>value=%{y}<extra></extra>",
         "legendgroup": "PSP/USDT",
         "line": {
          "color": "#FECB52",
          "dash": "solid"
         },
         "marker": {
          "symbol": "circle"
         },
         "mode": "lines",
         "name": "PSP/USDT",
         "orientation": "v",
         "showlegend": true,
         "type": "scatter",
         "x": [
          "2024-03-31T00:00:00+00:00",
          "2024-04-30T00:00:00+00:00",
          "2024-05-31T00:00:00+00:00",
          "2024-06-30T00:00:00+00:00",
          "2024-07-31T00:00:00+00:00",
          "2024-08-31T00:00:00+00:00",
          "2024-09-30T00:00:00+00:00",
          "2024-10-31T00:00:00+00:00",
          "2024-11-30T00:00:00+00:00"
         ],
         "xaxis": "x",
         "y": [
          -0.2072161709258482,
          -0.3155646564061918,
          -0.2942255106964772,
          -0.15151100779433946,
          0.024388933655653977,
          -0.2185222088205987,
          0.02543282780834777,
          -0.10352725606962854,
          0.3586393167384485
         ],
         "yaxis": "y"
        },
        {
         "hovertemplate": "symbol=ROSE/USDT<br>timestamp=%{x}<br>value=%{y}<extra></extra>",
         "legendgroup": "ROSE/USDT",
         "line": {
          "color": "#636efa",
          "dash": "solid"
         },
         "marker": {
          "symbol": "circle"
         },
         "mode": "lines",
         "name": "ROSE/USDT",
         "orientation": "v",
         "showlegend": true,
         "type": "scatter",
         "x": [
          "2024-03-31T00:00:00+00:00",
          "2024-04-30T00:00:00+00:00",
          "2024-05-31T00:00:00+00:00",
          "2024-06-30T00:00:00+00:00",
          "2024-07-31T00:00:00+00:00",
          "2024-08-31T00:00:00+00:00",
          "2024-09-30T00:00:00+00:00",
          "2024-10-31T00:00:00+00:00",
          "2024-11-30T00:00:00+00:00"
         ],
         "xaxis": "x",
         "y": [
          -0.2201689246641344,
          -0.3453514574398484,
          0.13479902287363976,
          -0.025733855185910093,
          -0.1850959124234205,
          -0.31192999753512496,
          0.3790077019523552,
          -0.15625405896869726,
          0.28386699507389124
         ],
         "yaxis": "y"
        },
        {
         "hovertemplate": "symbol=SAFE/USDT<br>timestamp=%{x}<br>value=%{y}<extra></extra>",
         "legendgroup": "SAFE/USDT",
         "line": {
          "color": "#EF553B",
          "dash": "solid"
         },
         "marker": {
          "symbol": "circle"
         },
         "mode": "lines",
         "name": "SAFE/USDT",
         "orientation": "v",
         "showlegend": true,
         "type": "scatter",
         "x": [
          "2024-03-31T00:00:00+00:00",
          "2024-04-30T00:00:00+00:00",
          "2024-05-31T00:00:00+00:00",
          "2024-06-30T00:00:00+00:00",
          "2024-07-31T00:00:00+00:00",
          "2024-08-31T00:00:00+00:00",
          "2024-09-30T00:00:00+00:00",
          "2024-10-31T00:00:00+00:00",
          "2024-11-30T00:00:00+00:00"
         ],
         "xaxis": "x",
         "y": [
          0,
          -0.24540448962304107,
          0.19830489447687483,
          -0.3213733664340249,
          -0.28306184428492565,
          -0.2410705689804562,
          0.14245845490295506,
          0.2470575172107481,
          -0.042560769299261225
         ],
         "yaxis": "y"
        },
        {
         "hovertemplate": "symbol=STX/USDT<br>timestamp=%{x}<br>value=%{y}<extra></extra>",
         "legendgroup": "STX/USDT",
         "line": {
          "color": "#00cc96",
          "dash": "solid"
         },
         "marker": {
          "symbol": "circle"
         },
         "mode": "lines",
         "name": "STX/USDT",
         "orientation": "v",
         "showlegend": true,
         "type": "scatter",
         "x": [
          "2024-03-31T00:00:00+00:00",
          "2024-04-30T00:00:00+00:00",
          "2024-05-31T00:00:00+00:00",
          "2024-06-30T00:00:00+00:00",
          "2024-07-31T00:00:00+00:00",
          "2024-08-31T00:00:00+00:00",
          "2024-09-30T00:00:00+00:00",
          "2024-10-31T00:00:00+00:00",
          "2024-11-30T00:00:00+00:00"
         ],
         "xaxis": "x",
         "y": [
          0.23577425451988065,
          -0.4091370502819587,
          -0.15269879785874418,
          -0.05826542713952354,
          0.0037083894331213507,
          -0.12115570306040424,
          0.21018835898076982,
          -0.10799967381554221,
          0.18470370979832862
         ],
         "yaxis": "y"
        },
        {
         "hovertemplate": "symbol=SUSHI/USDT<br>timestamp=%{x}<br>value=%{y}<extra></extra>",
         "legendgroup": "SUSHI/USDT",
         "line": {
          "color": "#ab63fa",
          "dash": "solid"
         },
         "marker": {
          "symbol": "circle"
         },
         "mode": "lines",
         "name": "SUSHI/USDT",
         "orientation": "v",
         "showlegend": true,
         "type": "scatter",
         "x": [
          "2024-03-31T00:00:00+00:00",
          "2024-04-30T00:00:00+00:00",
          "2024-05-31T00:00:00+00:00",
          "2024-06-30T00:00:00+00:00",
          "2024-07-31T00:00:00+00:00",
          "2024-08-31T00:00:00+00:00",
          "2024-09-30T00:00:00+00:00",
          "2024-10-31T00:00:00+00:00",
          "2024-11-30T00:00:00+00:00"
         ],
         "xaxis": "x",
         "y": [
          -0.058295964125560595,
          -0.4957671957671955,
          0.2193074501573975,
          -0.27882960413080904,
          -0.2028639618138428,
          -0.16467065868263464,
          0.4372759856630821,
          -0.1471321695760598,
          0.1447368421052626
         ],
         "yaxis": "y"
        },
        {
         "hovertemplate": "symbol=THETA/USDT<br>timestamp=%{x}<br>value=%{y}<extra></extra>",
         "legendgroup": "THETA/USDT",
         "line": {
          "color": "#FFA15A",
          "dash": "solid"
         },
         "marker": {
          "symbol": "circle"
         },
         "mode": "lines",
         "name": "THETA/USDT",
         "orientation": "v",
         "showlegend": true,
         "type": "scatter",
         "x": [
          "2024-03-31T00:00:00+00:00",
          "2024-04-30T00:00:00+00:00",
          "2024-05-31T00:00:00+00:00",
          "2024-06-30T00:00:00+00:00",
          "2024-07-31T00:00:00+00:00",
          "2024-08-31T00:00:00+00:00",
          "2024-09-30T00:00:00+00:00",
          "2024-10-31T00:00:00+00:00",
          "2024-11-30T00:00:00+00:00"
         ],
         "xaxis": "x",
         "y": [
          -0.04515729118239575,
          -0.3460464814333938,
          0.05792425671315815,
          -0.26785211598010716,
          -0.12515219480935613,
          -0.1213009082918255,
          0.1668056018672892,
          -0.19411302421947563,
          0.30425531914893633
         ],
         "yaxis": "y"
        },
        {
         "hovertemplate": "symbol=TIA/USDT<br>timestamp=%{x}<br>value=%{y}<extra></extra>",
         "legendgroup": "TIA/USDT",
         "line": {
          "color": "#19d3f3",
          "dash": "solid"
         },
         "marker": {
          "symbol": "circle"
         },
         "mode": "lines",
         "name": "TIA/USDT",
         "orientation": "v",
         "showlegend": true,
         "type": "scatter",
         "x": [
          "2024-03-31T00:00:00+00:00",
          "2024-04-30T00:00:00+00:00",
          "2024-05-31T00:00:00+00:00",
          "2024-06-30T00:00:00+00:00",
          "2024-07-31T00:00:00+00:00",
          "2024-08-31T00:00:00+00:00",
          "2024-09-30T00:00:00+00:00",
          "2024-10-31T00:00:00+00:00",
          "2024-11-30T00:00:00+00:00"
         ],
         "xaxis": "x",
         "y": [
          -0.10734037047890443,
          -0.33807824210210136,
          0.1125063312510548,
          -0.41193208764108913,
          -0.15037096774193548,
          -0.14795831197676412,
          0.2322260098478257,
          -0.11969768198748787,
          0.06441276753070713
         ],
         "yaxis": "y"
        },
        {
         "hovertemplate": "symbol=UMA/USDT<br>timestamp=%{x}<br>value=%{y}<extra></extra>",
         "legendgroup": "UMA/USDT",
         "line": {
          "color": "#FF6692",
          "dash": "solid"
         },
         "marker": {
          "symbol": "circle"
         },
         "mode": "lines",
         "name": "UMA/USDT",
         "orientation": "v",
         "showlegend": true,
         "type": "scatter",
         "x": [
          "2024-03-31T00:00:00+00:00",
          "2024-04-30T00:00:00+00:00",
          "2024-05-31T00:00:00+00:00",
          "2024-06-30T00:00:00+00:00",
          "2024-07-31T00:00:00+00:00",
          "2024-08-31T00:00:00+00:00",
          "2024-09-30T00:00:00+00:00",
          "2024-10-31T00:00:00+00:00",
          "2024-11-30T00:00:00+00:00"
         ],
         "xaxis": "x",
         "y": [
          -0.06898591132796805,
          -0.41141638496267885,
          0.33218980071695636,
          -0.29672173837562565,
          0.027441783921665408,
          -0.09274015937212199,
          0.16153948007238328,
          -0.04400197590910848,
          -0.007631463889662182
         ],
         "yaxis": "y"
        },
        {
         "hovertemplate": "symbol=UNI/USDT<br>timestamp=%{x}<br>value=%{y}<extra></extra>",
         "legendgroup": "UNI/USDT",
         "line": {
          "color": "#B6E880",
          "dash": "solid"
         },
         "marker": {
          "symbol": "circle"
         },
         "mode": "lines",
         "name": "UNI/USDT",
         "orientation": "v",
         "showlegend": true,
         "type": "scatter",
         "x": [
          "2024-03-31T00:00:00+00:00",
          "2024-04-30T00:00:00+00:00",
          "2024-05-31T00:00:00+00:00",
          "2024-06-30T00:00:00+00:00",
          "2024-07-31T00:00:00+00:00",
          "2024-08-31T00:00:00+00:00",
          "2024-09-30T00:00:00+00:00",
          "2024-10-31T00:00:00+00:00",
          "2024-11-30T00:00:00+00:00"
         ],
         "xaxis": "x",
         "y": [
          -0.08994671802730159,
          -0.4562665101262109,
          0.4147311598835146,
          -0.0662717140275122,
          -0.22869125712442218,
          -0.17100273269756272,
          0.2433441531139109,
          0.030326804458391754,
          0.19145332808192217
         ],
         "yaxis": "y"
        },
        {
         "hovertemplate": "symbol=WLD/USDT<br>timestamp=%{x}<br>value=%{y}<extra></extra>",
         "legendgroup": "WLD/USDT",
         "line": {
          "color": "#FF97FF",
          "dash": "solid"
         },
         "marker": {
          "symbol": "circle"
         },
         "mode": "lines",
         "name": "WLD/USDT",
         "orientation": "v",
         "showlegend": true,
         "type": "scatter",
         "x": [
          "2024-03-31T00:00:00+00:00",
          "2024-04-30T00:00:00+00:00",
          "2024-05-31T00:00:00+00:00",
          "2024-06-30T00:00:00+00:00",
          "2024-07-31T00:00:00+00:00",
          "2024-08-31T00:00:00+00:00",
          "2024-09-30T00:00:00+00:00",
          "2024-10-31T00:00:00+00:00",
          "2024-11-30T00:00:00+00:00"
         ],
         "xaxis": "x",
         "y": [
          -0.13925773886817705,
          -0.4474414190816849,
          0.06433714247968769,
          -0.4890874862947102,
          -0.147669757460421,
          -0.29201900237529665,
          0.24364221968731092,
          0.03744469623394786,
          0.21889952153110048
         ],
         "yaxis": "y"
        },
        {
         "hovertemplate": "symbol=XRP/USDT<br>timestamp=%{x}<br>value=%{y}<extra></extra>",
         "legendgroup": "XRP/USDT",
         "line": {
          "color": "#FECB52",
          "dash": "solid"
         },
         "marker": {
          "symbol": "circle"
         },
         "mode": "lines",
         "name": "XRP/USDT",
         "orientation": "v",
         "showlegend": true,
         "type": "scatter",
         "x": [
          "2024-03-31T00:00:00+00:00",
          "2024-04-30T00:00:00+00:00",
          "2024-05-31T00:00:00+00:00",
          "2024-06-30T00:00:00+00:00",
          "2024-07-31T00:00:00+00:00",
          "2024-08-31T00:00:00+00:00",
          "2024-09-30T00:00:00+00:00",
          "2024-10-31T00:00:00+00:00",
          "2024-11-30T00:00:00+00:00"
         ],
         "xaxis": "x",
         "y": [
          0.03453379378391719,
          -0.2039421395644575,
          0.03354632587859463,
          -0.08017774343122064,
          0.30833858433102335,
          -0.09102584684539994,
          0.07983044860473276,
          -0.16650310762185172,
          1.0494505494505484
         ],
         "yaxis": "y"
        },
        {
         "hovertemplate": "symbol=YFI/USDT<br>timestamp=%{x}<br>value=%{y}<extra></extra>",
         "legendgroup": "YFI/USDT",
         "line": {
          "color": "#636efa",
          "dash": "solid"
         },
         "marker": {
          "symbol": "circle"
         },
         "mode": "lines",
         "name": "YFI/USDT",
         "orientation": "v",
         "showlegend": true,
         "type": "scatter",
         "x": [
          "2024-03-31T00:00:00+00:00",
          "2024-04-30T00:00:00+00:00",
          "2024-05-31T00:00:00+00:00",
          "2024-06-30T00:00:00+00:00",
          "2024-07-31T00:00:00+00:00",
          "2024-08-31T00:00:00+00:00",
          "2024-09-30T00:00:00+00:00",
          "2024-10-31T00:00:00+00:00",
          "2024-11-30T00:00:00+00:00"
         ],
         "xaxis": "x",
         "y": [
          -0.08210704133907432,
          -0.269807829803027,
          0.04491733189822744,
          -0.08652378370413183,
          -0.12310260795479433,
          -0.07107978839305173,
          0.027263568335807786,
          -0.11604041266133636,
          0.35434024506181605
         ],
         "yaxis": "y"
        },
        {
         "hovertemplate": "symbol=ZK/USDT<br>timestamp=%{x}<br>value=%{y}<extra></extra>",
         "legendgroup": "ZK/USDT",
         "line": {
          "color": "#EF553B",
          "dash": "solid"
         },
         "marker": {
          "symbol": "circle"
         },
         "mode": "lines",
         "name": "ZK/USDT",
         "orientation": "v",
         "showlegend": true,
         "type": "scatter",
         "x": [
          "2024-03-31T00:00:00+00:00",
          "2024-04-30T00:00:00+00:00",
          "2024-05-31T00:00:00+00:00",
          "2024-06-30T00:00:00+00:00",
          "2024-07-31T00:00:00+00:00",
          "2024-08-31T00:00:00+00:00",
          "2024-09-30T00:00:00+00:00",
          "2024-10-31T00:00:00+00:00",
          "2024-11-30T00:00:00+00:00"
         ],
         "xaxis": "x",
         "y": [
          0,
          0,
          0,
          -0.16407355021216397,
          -0.17597292724196278,
          -0.2874743326488709,
          0.31219980787704116,
          -0.04831625183016086,
          0.1330769230769231
         ],
         "yaxis": "y"
        },
        {
         "hovertemplate": "symbol=ZRX/USDT<br>timestamp=%{x}<br>value=%{y}<extra></extra>",
         "legendgroup": "ZRX/USDT",
         "line": {
          "color": "#00cc96",
          "dash": "solid"
         },
         "marker": {
          "symbol": "circle"
         },
         "mode": "lines",
         "name": "ZRX/USDT",
         "orientation": "v",
         "showlegend": true,
         "type": "scatter",
         "x": [
          "2024-03-31T00:00:00+00:00",
          "2024-04-30T00:00:00+00:00",
          "2024-05-31T00:00:00+00:00",
          "2024-06-30T00:00:00+00:00",
          "2024-07-31T00:00:00+00:00",
          "2024-08-31T00:00:00+00:00",
          "2024-09-30T00:00:00+00:00",
          "2024-10-31T00:00:00+00:00",
          "2024-11-30T00:00:00+00:00"
         ],
         "xaxis": "x",
         "y": [
          -0.04890556597873719,
          -0.3913729615991587,
          0.12316335350043262,
          -0.29145825317429797,
          -0.005973391257127703,
          -0.207593553673859,
          0.15305067218200663,
          -0.05052316890881903,
          0.19552896725440783
         ],
         "yaxis": "y"
        }
       ],
       "layout": {
        "height": 600,
        "legend": {
         "title": {
          "text": "symbol"
         },
         "tracegroupgap": 0
        },
        "template": {
         "data": {
          "bar": [
           {
            "error_x": {
             "color": "#2a3f5f"
            },
            "error_y": {
             "color": "#2a3f5f"
            },
            "marker": {
             "line": {
              "color": "#E5ECF6",
              "width": 0.5
             },
             "pattern": {
              "fillmode": "overlay",
              "size": 10,
              "solidity": 0.2
             }
            },
            "type": "bar"
           }
          ],
          "barpolar": [
           {
            "marker": {
             "line": {
              "color": "#E5ECF6",
              "width": 0.5
             },
             "pattern": {
              "fillmode": "overlay",
              "size": 10,
              "solidity": 0.2
             }
            },
            "type": "barpolar"
           }
          ],
          "carpet": [
           {
            "aaxis": {
             "endlinecolor": "#2a3f5f",
             "gridcolor": "white",
             "linecolor": "white",
             "minorgridcolor": "white",
             "startlinecolor": "#2a3f5f"
            },
            "baxis": {
             "endlinecolor": "#2a3f5f",
             "gridcolor": "white",
             "linecolor": "white",
             "minorgridcolor": "white",
             "startlinecolor": "#2a3f5f"
            },
            "type": "carpet"
           }
          ],
          "choropleth": [
           {
            "colorbar": {
             "outlinewidth": 0,
             "ticks": ""
            },
            "type": "choropleth"
           }
          ],
          "contour": [
           {
            "colorbar": {
             "outlinewidth": 0,
             "ticks": ""
            },
            "colorscale": [
             [
              0,
              "#0d0887"
             ],
             [
              0.1111111111111111,
              "#46039f"
             ],
             [
              0.2222222222222222,
              "#7201a8"
             ],
             [
              0.3333333333333333,
              "#9c179e"
             ],
             [
              0.4444444444444444,
              "#bd3786"
             ],
             [
              0.5555555555555556,
              "#d8576b"
             ],
             [
              0.6666666666666666,
              "#ed7953"
             ],
             [
              0.7777777777777778,
              "#fb9f3a"
             ],
             [
              0.8888888888888888,
              "#fdca26"
             ],
             [
              1,
              "#f0f921"
             ]
            ],
            "type": "contour"
           }
          ],
          "contourcarpet": [
           {
            "colorbar": {
             "outlinewidth": 0,
             "ticks": ""
            },
            "type": "contourcarpet"
           }
          ],
          "heatmap": [
           {
            "colorbar": {
             "outlinewidth": 0,
             "ticks": ""
            },
            "colorscale": [
             [
              0,
              "#0d0887"
             ],
             [
              0.1111111111111111,
              "#46039f"
             ],
             [
              0.2222222222222222,
              "#7201a8"
             ],
             [
              0.3333333333333333,
              "#9c179e"
             ],
             [
              0.4444444444444444,
              "#bd3786"
             ],
             [
              0.5555555555555556,
              "#d8576b"
             ],
             [
              0.6666666666666666,
              "#ed7953"
             ],
             [
              0.7777777777777778,
              "#fb9f3a"
             ],
             [
              0.8888888888888888,
              "#fdca26"
             ],
             [
              1,
              "#f0f921"
             ]
            ],
            "type": "heatmap"
           }
          ],
          "heatmapgl": [
           {
            "colorbar": {
             "outlinewidth": 0,
             "ticks": ""
            },
            "colorscale": [
             [
              0,
              "#0d0887"
             ],
             [
              0.1111111111111111,
              "#46039f"
             ],
             [
              0.2222222222222222,
              "#7201a8"
             ],
             [
              0.3333333333333333,
              "#9c179e"
             ],
             [
              0.4444444444444444,
              "#bd3786"
             ],
             [
              0.5555555555555556,
              "#d8576b"
             ],
             [
              0.6666666666666666,
              "#ed7953"
             ],
             [
              0.7777777777777778,
              "#fb9f3a"
             ],
             [
              0.8888888888888888,
              "#fdca26"
             ],
             [
              1,
              "#f0f921"
             ]
            ],
            "type": "heatmapgl"
           }
          ],
          "histogram": [
           {
            "marker": {
             "pattern": {
              "fillmode": "overlay",
              "size": 10,
              "solidity": 0.2
             }
            },
            "type": "histogram"
           }
          ],
          "histogram2d": [
           {
            "colorbar": {
             "outlinewidth": 0,
             "ticks": ""
            },
            "colorscale": [
             [
              0,
              "#0d0887"
             ],
             [
              0.1111111111111111,
              "#46039f"
             ],
             [
              0.2222222222222222,
              "#7201a8"
             ],
             [
              0.3333333333333333,
              "#9c179e"
             ],
             [
              0.4444444444444444,
              "#bd3786"
             ],
             [
              0.5555555555555556,
              "#d8576b"
             ],
             [
              0.6666666666666666,
              "#ed7953"
             ],
             [
              0.7777777777777778,
              "#fb9f3a"
             ],
             [
              0.8888888888888888,
              "#fdca26"
             ],
             [
              1,
              "#f0f921"
             ]
            ],
            "type": "histogram2d"
           }
          ],
          "histogram2dcontour": [
           {
            "colorbar": {
             "outlinewidth": 0,
             "ticks": ""
            },
            "colorscale": [
             [
              0,
              "#0d0887"
             ],
             [
              0.1111111111111111,
              "#46039f"
             ],
             [
              0.2222222222222222,
              "#7201a8"
             ],
             [
              0.3333333333333333,
              "#9c179e"
             ],
             [
              0.4444444444444444,
              "#bd3786"
             ],
             [
              0.5555555555555556,
              "#d8576b"
             ],
             [
              0.6666666666666666,
              "#ed7953"
             ],
             [
              0.7777777777777778,
              "#fb9f3a"
             ],
             [
              0.8888888888888888,
              "#fdca26"
             ],
             [
              1,
              "#f0f921"
             ]
            ],
            "type": "histogram2dcontour"
           }
          ],
          "mesh3d": [
           {
            "colorbar": {
             "outlinewidth": 0,
             "ticks": ""
            },
            "type": "mesh3d"
           }
          ],
          "parcoords": [
           {
            "line": {
             "colorbar": {
              "outlinewidth": 0,
              "ticks": ""
             }
            },
            "type": "parcoords"
           }
          ],
          "pie": [
           {
            "automargin": true,
            "type": "pie"
           }
          ],
          "scatter": [
           {
            "fillpattern": {
             "fillmode": "overlay",
             "size": 10,
             "solidity": 0.2
            },
            "type": "scatter"
           }
          ],
          "scatter3d": [
           {
            "line": {
             "colorbar": {
              "outlinewidth": 0,
              "ticks": ""
             }
            },
            "marker": {
             "colorbar": {
              "outlinewidth": 0,
              "ticks": ""
             }
            },
            "type": "scatter3d"
           }
          ],
          "scattercarpet": [
           {
            "marker": {
             "colorbar": {
              "outlinewidth": 0,
              "ticks": ""
             }
            },
            "type": "scattercarpet"
           }
          ],
          "scattergeo": [
           {
            "marker": {
             "colorbar": {
              "outlinewidth": 0,
              "ticks": ""
             }
            },
            "type": "scattergeo"
           }
          ],
          "scattergl": [
           {
            "marker": {
             "colorbar": {
              "outlinewidth": 0,
              "ticks": ""
             }
            },
            "type": "scattergl"
           }
          ],
          "scattermapbox": [
           {
            "marker": {
             "colorbar": {
              "outlinewidth": 0,
              "ticks": ""
             }
            },
            "type": "scattermapbox"
           }
          ],
          "scatterpolar": [
           {
            "marker": {
             "colorbar": {
              "outlinewidth": 0,
              "ticks": ""
             }
            },
            "type": "scatterpolar"
           }
          ],
          "scatterpolargl": [
           {
            "marker": {
             "colorbar": {
              "outlinewidth": 0,
              "ticks": ""
             }
            },
            "type": "scatterpolargl"
           }
          ],
          "scatterternary": [
           {
            "marker": {
             "colorbar": {
              "outlinewidth": 0,
              "ticks": ""
             }
            },
            "type": "scatterternary"
           }
          ],
          "surface": [
           {
            "colorbar": {
             "outlinewidth": 0,
             "ticks": ""
            },
            "colorscale": [
             [
              0,
              "#0d0887"
             ],
             [
              0.1111111111111111,
              "#46039f"
             ],
             [
              0.2222222222222222,
              "#7201a8"
             ],
             [
              0.3333333333333333,
              "#9c179e"
             ],
             [
              0.4444444444444444,
              "#bd3786"
             ],
             [
              0.5555555555555556,
              "#d8576b"
             ],
             [
              0.6666666666666666,
              "#ed7953"
             ],
             [
              0.7777777777777778,
              "#fb9f3a"
             ],
             [
              0.8888888888888888,
              "#fdca26"
             ],
             [
              1,
              "#f0f921"
             ]
            ],
            "type": "surface"
           }
          ],
          "table": [
           {
            "cells": {
             "fill": {
              "color": "#EBF0F8"
             },
             "line": {
              "color": "white"
             }
            },
            "header": {
             "fill": {
              "color": "#C8D4E3"
             },
             "line": {
              "color": "white"
             }
            },
            "type": "table"
           }
          ]
         },
         "layout": {
          "annotationdefaults": {
           "arrowcolor": "#2a3f5f",
           "arrowhead": 0,
           "arrowwidth": 1
          },
          "autotypenumbers": "strict",
          "coloraxis": {
           "colorbar": {
            "outlinewidth": 0,
            "ticks": ""
           }
          },
          "colorscale": {
           "diverging": [
            [
             0,
             "#8e0152"
            ],
            [
             0.1,
             "#c51b7d"
            ],
            [
             0.2,
             "#de77ae"
            ],
            [
             0.3,
             "#f1b6da"
            ],
            [
             0.4,
             "#fde0ef"
            ],
            [
             0.5,
             "#f7f7f7"
            ],
            [
             0.6,
             "#e6f5d0"
            ],
            [
             0.7,
             "#b8e186"
            ],
            [
             0.8,
             "#7fbc41"
            ],
            [
             0.9,
             "#4d9221"
            ],
            [
             1,
             "#276419"
            ]
           ],
           "sequential": [
            [
             0,
             "#0d0887"
            ],
            [
             0.1111111111111111,
             "#46039f"
            ],
            [
             0.2222222222222222,
             "#7201a8"
            ],
            [
             0.3333333333333333,
             "#9c179e"
            ],
            [
             0.4444444444444444,
             "#bd3786"
            ],
            [
             0.5555555555555556,
             "#d8576b"
            ],
            [
             0.6666666666666666,
             "#ed7953"
            ],
            [
             0.7777777777777778,
             "#fb9f3a"
            ],
            [
             0.8888888888888888,
             "#fdca26"
            ],
            [
             1,
             "#f0f921"
            ]
           ],
           "sequentialminus": [
            [
             0,
             "#0d0887"
            ],
            [
             0.1111111111111111,
             "#46039f"
            ],
            [
             0.2222222222222222,
             "#7201a8"
            ],
            [
             0.3333333333333333,
             "#9c179e"
            ],
            [
             0.4444444444444444,
             "#bd3786"
            ],
            [
             0.5555555555555556,
             "#d8576b"
            ],
            [
             0.6666666666666666,
             "#ed7953"
            ],
            [
             0.7777777777777778,
             "#fb9f3a"
            ],
            [
             0.8888888888888888,
             "#fdca26"
            ],
            [
             1,
             "#f0f921"
            ]
           ]
          },
          "colorway": [
           "#636efa",
           "#EF553B",
           "#00cc96",
           "#ab63fa",
           "#FFA15A",
           "#19d3f3",
           "#FF6692",
           "#B6E880",
           "#FF97FF",
           "#FECB52"
          ],
          "font": {
           "color": "#2a3f5f"
          },
          "geo": {
           "bgcolor": "white",
           "lakecolor": "white",
           "landcolor": "#E5ECF6",
           "showlakes": true,
           "showland": true,
           "subunitcolor": "white"
          },
          "hoverlabel": {
           "align": "left"
          },
          "hovermode": "closest",
          "mapbox": {
           "style": "light"
          },
          "paper_bgcolor": "white",
          "plot_bgcolor": "#E5ECF6",
          "polar": {
           "angularaxis": {
            "gridcolor": "white",
            "linecolor": "white",
            "ticks": ""
           },
           "bgcolor": "#E5ECF6",
           "radialaxis": {
            "gridcolor": "white",
            "linecolor": "white",
            "ticks": ""
           }
          },
          "scene": {
           "xaxis": {
            "backgroundcolor": "#E5ECF6",
            "gridcolor": "white",
            "gridwidth": 2,
            "linecolor": "white",
            "showbackground": true,
            "ticks": "",
            "zerolinecolor": "white"
           },
           "yaxis": {
            "backgroundcolor": "#E5ECF6",
            "gridcolor": "white",
            "gridwidth": 2,
            "linecolor": "white",
            "showbackground": true,
            "ticks": "",
            "zerolinecolor": "white"
           },
           "zaxis": {
            "backgroundcolor": "#E5ECF6",
            "gridcolor": "white",
            "gridwidth": 2,
            "linecolor": "white",
            "showbackground": true,
            "ticks": "",
            "zerolinecolor": "white"
           }
          },
          "shapedefaults": {
           "line": {
            "color": "#2a3f5f"
           }
          },
          "ternary": {
           "aaxis": {
            "gridcolor": "white",
            "linecolor": "white",
            "ticks": ""
           },
           "baxis": {
            "gridcolor": "white",
            "linecolor": "white",
            "ticks": ""
           },
           "bgcolor": "#E5ECF6",
           "caxis": {
            "gridcolor": "white",
            "linecolor": "white",
            "ticks": ""
           }
          },
          "title": {
           "x": 0.05
          },
          "xaxis": {
           "automargin": true,
           "gridcolor": "white",
           "linecolor": "white",
           "ticks": "",
           "title": {
            "standoff": 15
           },
           "zerolinecolor": "white",
           "zerolinewidth": 2
          },
          "yaxis": {
           "automargin": true,
           "gridcolor": "white",
           "linecolor": "white",
           "ticks": "",
           "title": {
            "standoff": 15
           },
           "zerolinecolor": "white",
           "zerolinewidth": 2
          }
         }
        },
        "title": {
         "text": "Monthly returns"
        },
        "width": 1200,
        "xaxis": {
         "anchor": "y",
         "domain": [
          0,
          1
         ],
         "title": {
          "text": "Timestamp"
         }
        },
        "yaxis": {
         "anchor": "x",
         "domain": [
          0,
          1
         ],
         "title": {
          "text": "Returns"
         }
        }
       }
      }
     },
     "metadata": {},
     "output_type": "display_data"
    }
   ],
   "source": [
    "# Create a line plot with Plotly\n",
    "fig = px.line(returns_df, x=returns_df.index, y=returns_df.columns, title=\"Monthly returns\")\n",
    "# Adjust the layout for a wider plot\n",
    "fig.update_layout(width=1200, height=600, xaxis_title=\"Timestamp\", yaxis_title=\"Returns\")\n",
    "# Show the interactive plot\n",
    "fig.show()"
   ]
  },
  {
   "cell_type": "code",
   "execution_count": 66,
   "metadata": {},
   "outputs": [
    {
     "data": {
      "text/html": [
       "<div>\n",
       "<style scoped>\n",
       "    .dataframe tbody tr th:only-of-type {\n",
       "        vertical-align: middle;\n",
       "    }\n",
       "\n",
       "    .dataframe tbody tr th {\n",
       "        vertical-align: top;\n",
       "    }\n",
       "\n",
       "    .dataframe thead th {\n",
       "        text-align: right;\n",
       "    }\n",
       "</style>\n",
       "<table border=\"1\" class=\"dataframe\">\n",
       "  <thead>\n",
       "    <tr style=\"text-align: right;\">\n",
       "      <th>symbol</th>\n",
       "      <th>1INCH/USDT</th>\n",
       "      <th>AAVE/USDT</th>\n",
       "      <th>AR/USDT</th>\n",
       "      <th>BB/USDT</th>\n",
       "      <th>DCR/USDT</th>\n",
       "      <th>FIL/USDT</th>\n",
       "      <th>FLIP/USDT</th>\n",
       "      <th>FORT/USDT</th>\n",
       "      <th>ICP/USDT</th>\n",
       "      <th>PSP/USDT</th>\n",
       "      <th>...</th>\n",
       "      <th>SUSHI/USDT</th>\n",
       "      <th>THETA/USDT</th>\n",
       "      <th>TIA/USDT</th>\n",
       "      <th>UMA/USDT</th>\n",
       "      <th>UNI/USDT</th>\n",
       "      <th>WLD/USDT</th>\n",
       "      <th>XRP/USDT</th>\n",
       "      <th>YFI/USDT</th>\n",
       "      <th>ZK/USDT</th>\n",
       "      <th>ZRX/USDT</th>\n",
       "    </tr>\n",
       "    <tr>\n",
       "      <th>timestamp</th>\n",
       "      <th></th>\n",
       "      <th></th>\n",
       "      <th></th>\n",
       "      <th></th>\n",
       "      <th></th>\n",
       "      <th></th>\n",
       "      <th></th>\n",
       "      <th></th>\n",
       "      <th></th>\n",
       "      <th></th>\n",
       "      <th></th>\n",
       "      <th></th>\n",
       "      <th></th>\n",
       "      <th></th>\n",
       "      <th></th>\n",
       "      <th></th>\n",
       "      <th></th>\n",
       "      <th></th>\n",
       "      <th></th>\n",
       "      <th></th>\n",
       "      <th></th>\n",
       "    </tr>\n",
       "  </thead>\n",
       "  <tbody>\n",
       "    <tr>\n",
       "      <th>2024-05-31 00:00:00+00:00</th>\n",
       "      <td>NaN</td>\n",
       "      <td>NaN</td>\n",
       "      <td>NaN</td>\n",
       "      <td>NaN</td>\n",
       "      <td>NaN</td>\n",
       "      <td>NaN</td>\n",
       "      <td>NaN</td>\n",
       "      <td>NaN</td>\n",
       "      <td>NaN</td>\n",
       "      <td>NaN</td>\n",
       "      <td>...</td>\n",
       "      <td>NaN</td>\n",
       "      <td>NaN</td>\n",
       "      <td>NaN</td>\n",
       "      <td>NaN</td>\n",
       "      <td>NaN</td>\n",
       "      <td>NaN</td>\n",
       "      <td>NaN</td>\n",
       "      <td>NaN</td>\n",
       "      <td>NaN</td>\n",
       "      <td>NaN</td>\n",
       "    </tr>\n",
       "    <tr>\n",
       "      <th>2024-06-30 00:00:00+00:00</th>\n",
       "      <td>NaN</td>\n",
       "      <td>NaN</td>\n",
       "      <td>NaN</td>\n",
       "      <td>NaN</td>\n",
       "      <td>NaN</td>\n",
       "      <td>NaN</td>\n",
       "      <td>NaN</td>\n",
       "      <td>NaN</td>\n",
       "      <td>NaN</td>\n",
       "      <td>NaN</td>\n",
       "      <td>...</td>\n",
       "      <td>NaN</td>\n",
       "      <td>NaN</td>\n",
       "      <td>NaN</td>\n",
       "      <td>NaN</td>\n",
       "      <td>NaN</td>\n",
       "      <td>NaN</td>\n",
       "      <td>NaN</td>\n",
       "      <td>NaN</td>\n",
       "      <td>NaN</td>\n",
       "      <td>NaN</td>\n",
       "    </tr>\n",
       "    <tr>\n",
       "      <th>2024-07-31 00:00:00+00:00</th>\n",
       "      <td>NaN</td>\n",
       "      <td>NaN</td>\n",
       "      <td>NaN</td>\n",
       "      <td>NaN</td>\n",
       "      <td>NaN</td>\n",
       "      <td>NaN</td>\n",
       "      <td>NaN</td>\n",
       "      <td>NaN</td>\n",
       "      <td>NaN</td>\n",
       "      <td>NaN</td>\n",
       "      <td>...</td>\n",
       "      <td>NaN</td>\n",
       "      <td>NaN</td>\n",
       "      <td>NaN</td>\n",
       "      <td>NaN</td>\n",
       "      <td>NaN</td>\n",
       "      <td>NaN</td>\n",
       "      <td>NaN</td>\n",
       "      <td>NaN</td>\n",
       "      <td>NaN</td>\n",
       "      <td>NaN</td>\n",
       "    </tr>\n",
       "    <tr>\n",
       "      <th>2024-08-31 00:00:00+00:00</th>\n",
       "      <td>-0.627704</td>\n",
       "      <td>0.022934</td>\n",
       "      <td>-0.475242</td>\n",
       "      <td>-0.406959</td>\n",
       "      <td>-0.609953</td>\n",
       "      <td>-0.665762</td>\n",
       "      <td>-0.879495</td>\n",
       "      <td>-0.510163</td>\n",
       "      <td>-0.465480</td>\n",
       "      <td>-0.739876</td>\n",
       "      <td>...</td>\n",
       "      <td>-0.721973</td>\n",
       "      <td>-0.628204</td>\n",
       "      <td>-0.720158</td>\n",
       "      <td>-0.521429</td>\n",
       "      <td>-0.582046</td>\n",
       "      <td>-0.843935</td>\n",
       "      <td>-0.068903</td>\n",
       "      <td>-0.478883</td>\n",
       "      <td>-0.509194</td>\n",
       "      <td>-0.637148</td>\n",
       "    </tr>\n",
       "    <tr>\n",
       "      <th>2024-09-30 00:00:00+00:00</th>\n",
       "      <td>-0.549547</td>\n",
       "      <td>0.220984</td>\n",
       "      <td>-0.410061</td>\n",
       "      <td>-0.244880</td>\n",
       "      <td>-0.574274</td>\n",
       "      <td>-0.617246</td>\n",
       "      <td>-0.766080</td>\n",
       "      <td>-0.468939</td>\n",
       "      <td>-0.521195</td>\n",
       "      <td>-0.663540</td>\n",
       "      <td>...</td>\n",
       "      <td>-0.575661</td>\n",
       "      <td>-0.545670</td>\n",
       "      <td>-0.613707</td>\n",
       "      <td>-0.402931</td>\n",
       "      <td>-0.428977</td>\n",
       "      <td>-0.774509</td>\n",
       "      <td>-0.028135</td>\n",
       "      <td>-0.416789</td>\n",
       "      <td>-0.355964</td>\n",
       "      <td>-0.560100</td>\n",
       "    </tr>\n",
       "    <tr>\n",
       "      <th>2024-10-31 00:00:00+00:00</th>\n",
       "      <td>-0.375919</td>\n",
       "      <td>0.720784</td>\n",
       "      <td>-0.491086</td>\n",
       "      <td>-0.399031</td>\n",
       "      <td>-0.385996</td>\n",
       "      <td>-0.371957</td>\n",
       "      <td>-0.543859</td>\n",
       "      <td>-0.606303</td>\n",
       "      <td>-0.389755</td>\n",
       "      <td>-0.559305</td>\n",
       "      <td>...</td>\n",
       "      <td>-0.282267</td>\n",
       "      <td>-0.440115</td>\n",
       "      <td>-0.486261</td>\n",
       "      <td>-0.030220</td>\n",
       "      <td>0.082037</td>\n",
       "      <td>-0.576634</td>\n",
       "      <td>0.017572</td>\n",
       "      <td>-0.293974</td>\n",
       "      <td>-0.387082</td>\n",
       "      <td>-0.313742</td>\n",
       "    </tr>\n",
       "    <tr>\n",
       "      <th>2024-11-30 00:00:00+00:00</th>\n",
       "      <td>-0.372002</td>\n",
       "      <td>0.668992</td>\n",
       "      <td>-0.595666</td>\n",
       "      <td>-0.473220</td>\n",
       "      <td>-0.339257</td>\n",
       "      <td>-0.230729</td>\n",
       "      <td>-0.471593</td>\n",
       "      <td>-0.616970</td>\n",
       "      <td>-0.214460</td>\n",
       "      <td>-0.151648</td>\n",
       "      <td>...</td>\n",
       "      <td>-0.326162</td>\n",
       "      <td>-0.309749</td>\n",
       "      <td>-0.508470</td>\n",
       "      <td>-0.277596</td>\n",
       "      <td>-0.088734</td>\n",
       "      <td>-0.515153</td>\n",
       "      <td>1.017774</td>\n",
       "      <td>-0.084904</td>\n",
       "      <td>-0.305516</td>\n",
       "      <td>-0.269527</td>\n",
       "    </tr>\n",
       "  </tbody>\n",
       "</table>\n",
       "<p>7 rows × 23 columns</p>\n",
       "</div>"
      ],
      "text/plain": [
       "symbol                     1INCH/USDT  AAVE/USDT   AR/USDT   BB/USDT  \\\n",
       "timestamp                                                              \n",
       "2024-05-31 00:00:00+00:00         NaN        NaN       NaN       NaN   \n",
       "2024-06-30 00:00:00+00:00         NaN        NaN       NaN       NaN   \n",
       "2024-07-31 00:00:00+00:00         NaN        NaN       NaN       NaN   \n",
       "2024-08-31 00:00:00+00:00   -0.627704   0.022934 -0.475242 -0.406959   \n",
       "2024-09-30 00:00:00+00:00   -0.549547   0.220984 -0.410061 -0.244880   \n",
       "2024-10-31 00:00:00+00:00   -0.375919   0.720784 -0.491086 -0.399031   \n",
       "2024-11-30 00:00:00+00:00   -0.372002   0.668992 -0.595666 -0.473220   \n",
       "\n",
       "symbol                     DCR/USDT  FIL/USDT  FLIP/USDT  FORT/USDT  ICP/USDT  \\\n",
       "timestamp                                                                       \n",
       "2024-05-31 00:00:00+00:00       NaN       NaN        NaN        NaN       NaN   \n",
       "2024-06-30 00:00:00+00:00       NaN       NaN        NaN        NaN       NaN   \n",
       "2024-07-31 00:00:00+00:00       NaN       NaN        NaN        NaN       NaN   \n",
       "2024-08-31 00:00:00+00:00 -0.609953 -0.665762  -0.879495  -0.510163 -0.465480   \n",
       "2024-09-30 00:00:00+00:00 -0.574274 -0.617246  -0.766080  -0.468939 -0.521195   \n",
       "2024-10-31 00:00:00+00:00 -0.385996 -0.371957  -0.543859  -0.606303 -0.389755   \n",
       "2024-11-30 00:00:00+00:00 -0.339257 -0.230729  -0.471593  -0.616970 -0.214460   \n",
       "\n",
       "symbol                     PSP/USDT  ...  SUSHI/USDT  THETA/USDT  TIA/USDT  \\\n",
       "timestamp                            ...                                     \n",
       "2024-05-31 00:00:00+00:00       NaN  ...         NaN         NaN       NaN   \n",
       "2024-06-30 00:00:00+00:00       NaN  ...         NaN         NaN       NaN   \n",
       "2024-07-31 00:00:00+00:00       NaN  ...         NaN         NaN       NaN   \n",
       "2024-08-31 00:00:00+00:00 -0.739876  ...   -0.721973   -0.628204 -0.720158   \n",
       "2024-09-30 00:00:00+00:00 -0.663540  ...   -0.575661   -0.545670 -0.613707   \n",
       "2024-10-31 00:00:00+00:00 -0.559305  ...   -0.282267   -0.440115 -0.486261   \n",
       "2024-11-30 00:00:00+00:00 -0.151648  ...   -0.326162   -0.309749 -0.508470   \n",
       "\n",
       "symbol                     UMA/USDT  UNI/USDT  WLD/USDT  XRP/USDT  YFI/USDT  \\\n",
       "timestamp                                                                     \n",
       "2024-05-31 00:00:00+00:00       NaN       NaN       NaN       NaN       NaN   \n",
       "2024-06-30 00:00:00+00:00       NaN       NaN       NaN       NaN       NaN   \n",
       "2024-07-31 00:00:00+00:00       NaN       NaN       NaN       NaN       NaN   \n",
       "2024-08-31 00:00:00+00:00 -0.521429 -0.582046 -0.843935 -0.068903 -0.478883   \n",
       "2024-09-30 00:00:00+00:00 -0.402931 -0.428977 -0.774509 -0.028135 -0.416789   \n",
       "2024-10-31 00:00:00+00:00 -0.030220  0.082037 -0.576634  0.017572 -0.293974   \n",
       "2024-11-30 00:00:00+00:00 -0.277596 -0.088734 -0.515153  1.017774 -0.084904   \n",
       "\n",
       "symbol                      ZK/USDT  ZRX/USDT  \n",
       "timestamp                                      \n",
       "2024-05-31 00:00:00+00:00       NaN       NaN  \n",
       "2024-06-30 00:00:00+00:00       NaN       NaN  \n",
       "2024-07-31 00:00:00+00:00       NaN       NaN  \n",
       "2024-08-31 00:00:00+00:00 -0.509194 -0.637148  \n",
       "2024-09-30 00:00:00+00:00 -0.355964 -0.560100  \n",
       "2024-10-31 00:00:00+00:00 -0.387082 -0.313742  \n",
       "2024-11-30 00:00:00+00:00 -0.305516 -0.269527  \n",
       "\n",
       "[7 rows x 23 columns]"
      ]
     },
     "execution_count": 66,
     "metadata": {},
     "output_type": "execute_result"
    }
   ],
   "source": [
    "# rolling cumulative for 6 months return\n",
    "past_cum_return_df = (returns_df + 1).rolling(6).apply(np.prod) - 1\n",
    "\n",
    "past_cum_return_df.tail(7)"
   ]
  },
  {
   "cell_type": "code",
   "execution_count": 67,
   "metadata": {},
   "outputs": [
    {
     "data": {
      "application/vnd.plotly.v1+json": {
       "config": {
        "plotlyServerURL": "https://plot.ly"
       },
       "data": [
        {
         "hovertemplate": "symbol=1INCH/USDT<br>timestamp=%{x}<br>value=%{y}<extra></extra>",
         "legendgroup": "1INCH/USDT",
         "line": {
          "color": "#636efa",
          "dash": "solid"
         },
         "marker": {
          "symbol": "circle"
         },
         "mode": "lines",
         "name": "1INCH/USDT",
         "orientation": "v",
         "showlegend": true,
         "type": "scatter",
         "x": [
          "2024-03-31T00:00:00+00:00",
          "2024-04-30T00:00:00+00:00",
          "2024-05-31T00:00:00+00:00",
          "2024-06-30T00:00:00+00:00",
          "2024-07-31T00:00:00+00:00",
          "2024-08-31T00:00:00+00:00",
          "2024-09-30T00:00:00+00:00",
          "2024-10-31T00:00:00+00:00",
          "2024-11-30T00:00:00+00:00"
         ],
         "xaxis": "x",
         "y": [
          null,
          null,
          null,
          null,
          null,
          -0.6277042801556425,
          -0.5495466321243525,
          -0.3759188846641328,
          -0.372001654259719
         ],
         "yaxis": "y"
        },
        {
         "hovertemplate": "symbol=AAVE/USDT<br>timestamp=%{x}<br>value=%{y}<extra></extra>",
         "legendgroup": "AAVE/USDT",
         "line": {
          "color": "#EF553B",
          "dash": "solid"
         },
         "marker": {
          "symbol": "circle"
         },
         "mode": "lines",
         "name": "AAVE/USDT",
         "orientation": "v",
         "showlegend": true,
         "type": "scatter",
         "x": [
          "2024-03-31T00:00:00+00:00",
          "2024-04-30T00:00:00+00:00",
          "2024-05-31T00:00:00+00:00",
          "2024-06-30T00:00:00+00:00",
          "2024-07-31T00:00:00+00:00",
          "2024-08-31T00:00:00+00:00",
          "2024-09-30T00:00:00+00:00",
          "2024-10-31T00:00:00+00:00",
          "2024-11-30T00:00:00+00:00"
         ],
         "xaxis": "x",
         "y": [
          null,
          null,
          null,
          null,
          null,
          0.022933501517599097,
          0.22098409535774954,
          0.7207844548398699,
          0.6689921763416742
         ],
         "yaxis": "y"
        },
        {
         "hovertemplate": "symbol=AR/USDT<br>timestamp=%{x}<br>value=%{y}<extra></extra>",
         "legendgroup": "AR/USDT",
         "line": {
          "color": "#00cc96",
          "dash": "solid"
         },
         "marker": {
          "symbol": "circle"
         },
         "mode": "lines",
         "name": "AR/USDT",
         "orientation": "v",
         "showlegend": true,
         "type": "scatter",
         "x": [
          "2024-03-31T00:00:00+00:00",
          "2024-04-30T00:00:00+00:00",
          "2024-05-31T00:00:00+00:00",
          "2024-06-30T00:00:00+00:00",
          "2024-07-31T00:00:00+00:00",
          "2024-08-31T00:00:00+00:00",
          "2024-09-30T00:00:00+00:00",
          "2024-10-31T00:00:00+00:00",
          "2024-11-30T00:00:00+00:00"
         ],
         "xaxis": "x",
         "y": [
          null,
          null,
          null,
          null,
          null,
          -0.47524173491052457,
          -0.4100613218260274,
          -0.49108572789962024,
          -0.5956656059605647
         ],
         "yaxis": "y"
        },
        {
         "hovertemplate": "symbol=BB/USDT<br>timestamp=%{x}<br>value=%{y}<extra></extra>",
         "legendgroup": "BB/USDT",
         "line": {
          "color": "#ab63fa",
          "dash": "solid"
         },
         "marker": {
          "symbol": "circle"
         },
         "mode": "lines",
         "name": "BB/USDT",
         "orientation": "v",
         "showlegend": true,
         "type": "scatter",
         "x": [
          "2024-03-31T00:00:00+00:00",
          "2024-04-30T00:00:00+00:00",
          "2024-05-31T00:00:00+00:00",
          "2024-06-30T00:00:00+00:00",
          "2024-07-31T00:00:00+00:00",
          "2024-08-31T00:00:00+00:00",
          "2024-09-30T00:00:00+00:00",
          "2024-10-31T00:00:00+00:00",
          "2024-11-30T00:00:00+00:00"
         ],
         "xaxis": "x",
         "y": [
          null,
          null,
          null,
          null,
          null,
          -0.40695881964325,
          -0.24487998238273445,
          -0.39903105042942033,
          -0.4732201175702153
         ],
         "yaxis": "y"
        },
        {
         "hovertemplate": "symbol=DCR/USDT<br>timestamp=%{x}<br>value=%{y}<extra></extra>",
         "legendgroup": "DCR/USDT",
         "line": {
          "color": "#FFA15A",
          "dash": "solid"
         },
         "marker": {
          "symbol": "circle"
         },
         "mode": "lines",
         "name": "DCR/USDT",
         "orientation": "v",
         "showlegend": true,
         "type": "scatter",
         "x": [
          "2024-03-31T00:00:00+00:00",
          "2024-04-30T00:00:00+00:00",
          "2024-05-31T00:00:00+00:00",
          "2024-06-30T00:00:00+00:00",
          "2024-07-31T00:00:00+00:00",
          "2024-08-31T00:00:00+00:00",
          "2024-09-30T00:00:00+00:00",
          "2024-10-31T00:00:00+00:00",
          "2024-11-30T00:00:00+00:00"
         ],
         "xaxis": "x",
         "y": [
          null,
          null,
          null,
          null,
          null,
          -0.6099533016159764,
          -0.574274135541482,
          -0.3859961414791,
          -0.33925720974779205
         ],
         "yaxis": "y"
        },
        {
         "hovertemplate": "symbol=FIL/USDT<br>timestamp=%{x}<br>value=%{y}<extra></extra>",
         "legendgroup": "FIL/USDT",
         "line": {
          "color": "#19d3f3",
          "dash": "solid"
         },
         "marker": {
          "symbol": "circle"
         },
         "mode": "lines",
         "name": "FIL/USDT",
         "orientation": "v",
         "showlegend": true,
         "type": "scatter",
         "x": [
          "2024-03-31T00:00:00+00:00",
          "2024-04-30T00:00:00+00:00",
          "2024-05-31T00:00:00+00:00",
          "2024-06-30T00:00:00+00:00",
          "2024-07-31T00:00:00+00:00",
          "2024-08-31T00:00:00+00:00",
          "2024-09-30T00:00:00+00:00",
          "2024-10-31T00:00:00+00:00",
          "2024-11-30T00:00:00+00:00"
         ],
         "xaxis": "x",
         "y": [
          null,
          null,
          null,
          null,
          null,
          -0.6657616328059166,
          -0.6172455330254967,
          -0.3719566376399501,
          -0.23072898500174366
         ],
         "yaxis": "y"
        },
        {
         "hovertemplate": "symbol=FLIP/USDT<br>timestamp=%{x}<br>value=%{y}<extra></extra>",
         "legendgroup": "FLIP/USDT",
         "line": {
          "color": "#FF6692",
          "dash": "solid"
         },
         "marker": {
          "symbol": "circle"
         },
         "mode": "lines",
         "name": "FLIP/USDT",
         "orientation": "v",
         "showlegend": true,
         "type": "scatter",
         "x": [
          "2024-03-31T00:00:00+00:00",
          "2024-04-30T00:00:00+00:00",
          "2024-05-31T00:00:00+00:00",
          "2024-06-30T00:00:00+00:00",
          "2024-07-31T00:00:00+00:00",
          "2024-08-31T00:00:00+00:00",
          "2024-09-30T00:00:00+00:00",
          "2024-10-31T00:00:00+00:00",
          "2024-11-30T00:00:00+00:00"
         ],
         "xaxis": "x",
         "y": [
          null,
          null,
          null,
          null,
          null,
          -0.8794948846946012,
          -0.7660800296406077,
          -0.5438589797397848,
          -0.47159284982352323
         ],
         "yaxis": "y"
        },
        {
         "hovertemplate": "symbol=FORT/USDT<br>timestamp=%{x}<br>value=%{y}<extra></extra>",
         "legendgroup": "FORT/USDT",
         "line": {
          "color": "#B6E880",
          "dash": "solid"
         },
         "marker": {
          "symbol": "circle"
         },
         "mode": "lines",
         "name": "FORT/USDT",
         "orientation": "v",
         "showlegend": true,
         "type": "scatter",
         "x": [
          "2024-03-31T00:00:00+00:00",
          "2024-04-30T00:00:00+00:00",
          "2024-05-31T00:00:00+00:00",
          "2024-06-30T00:00:00+00:00",
          "2024-07-31T00:00:00+00:00",
          "2024-08-31T00:00:00+00:00",
          "2024-09-30T00:00:00+00:00",
          "2024-10-31T00:00:00+00:00",
          "2024-11-30T00:00:00+00:00"
         ],
         "xaxis": "x",
         "y": [
          null,
          null,
          null,
          null,
          null,
          -0.5101634117178155,
          -0.4689387402933557,
          -0.606302521008403,
          -0.616969696969697
         ],
         "yaxis": "y"
        },
        {
         "hovertemplate": "symbol=ICP/USDT<br>timestamp=%{x}<br>value=%{y}<extra></extra>",
         "legendgroup": "ICP/USDT",
         "line": {
          "color": "#FF97FF",
          "dash": "solid"
         },
         "marker": {
          "symbol": "circle"
         },
         "mode": "lines",
         "name": "ICP/USDT",
         "orientation": "v",
         "showlegend": true,
         "type": "scatter",
         "x": [
          "2024-03-31T00:00:00+00:00",
          "2024-04-30T00:00:00+00:00",
          "2024-05-31T00:00:00+00:00",
          "2024-06-30T00:00:00+00:00",
          "2024-07-31T00:00:00+00:00",
          "2024-08-31T00:00:00+00:00",
          "2024-09-30T00:00:00+00:00",
          "2024-10-31T00:00:00+00:00",
          "2024-11-30T00:00:00+00:00"
         ],
         "xaxis": "x",
         "y": [
          null,
          null,
          null,
          null,
          null,
          -0.46548018044772566,
          -0.5211947897029534,
          -0.3897546998392619,
          -0.2144604947855141
         ],
         "yaxis": "y"
        },
        {
         "hovertemplate": "symbol=PSP/USDT<br>timestamp=%{x}<br>value=%{y}<extra></extra>",
         "legendgroup": "PSP/USDT",
         "line": {
          "color": "#FECB52",
          "dash": "solid"
         },
         "marker": {
          "symbol": "circle"
         },
         "mode": "lines",
         "name": "PSP/USDT",
         "orientation": "v",
         "showlegend": true,
         "type": "scatter",
         "x": [
          "2024-03-31T00:00:00+00:00",
          "2024-04-30T00:00:00+00:00",
          "2024-05-31T00:00:00+00:00",
          "2024-06-30T00:00:00+00:00",
          "2024-07-31T00:00:00+00:00",
          "2024-08-31T00:00:00+00:00",
          "2024-09-30T00:00:00+00:00",
          "2024-10-31T00:00:00+00:00",
          "2024-11-30T00:00:00+00:00"
         ],
         "xaxis": "x",
         "y": [
          null,
          null,
          null,
          null,
          null,
          -0.7398757156821674,
          -0.6635400841094747,
          -0.5593051310921666,
          -0.15164775058115687
         ],
         "yaxis": "y"
        },
        {
         "hovertemplate": "symbol=ROSE/USDT<br>timestamp=%{x}<br>value=%{y}<extra></extra>",
         "legendgroup": "ROSE/USDT",
         "line": {
          "color": "#636efa",
          "dash": "solid"
         },
         "marker": {
          "symbol": "circle"
         },
         "mode": "lines",
         "name": "ROSE/USDT",
         "orientation": "v",
         "showlegend": true,
         "type": "scatter",
         "x": [
          "2024-03-31T00:00:00+00:00",
          "2024-04-30T00:00:00+00:00",
          "2024-05-31T00:00:00+00:00",
          "2024-06-30T00:00:00+00:00",
          "2024-07-31T00:00:00+00:00",
          "2024-08-31T00:00:00+00:00",
          "2024-09-30T00:00:00+00:00",
          "2024-10-31T00:00:00+00:00",
          "2024-11-30T00:00:00+00:00"
         ],
         "xaxis": "x",
         "y": [
          null,
          null,
          null,
          null,
          null,
          -0.6835213423275324,
          -0.44035763611252454,
          -0.2787030868310021,
          -0.18395303326810253
         ],
         "yaxis": "y"
        },
        {
         "hovertemplate": "symbol=SAFE/USDT<br>timestamp=%{x}<br>value=%{y}<extra></extra>",
         "legendgroup": "SAFE/USDT",
         "line": {
          "color": "#EF553B",
          "dash": "solid"
         },
         "marker": {
          "symbol": "circle"
         },
         "mode": "lines",
         "name": "SAFE/USDT",
         "orientation": "v",
         "showlegend": true,
         "type": "scatter",
         "x": [
          "2024-03-31T00:00:00+00:00",
          "2024-04-30T00:00:00+00:00",
          "2024-05-31T00:00:00+00:00",
          "2024-06-30T00:00:00+00:00",
          "2024-07-31T00:00:00+00:00",
          "2024-08-31T00:00:00+00:00",
          "2024-09-30T00:00:00+00:00",
          "2024-10-31T00:00:00+00:00",
          "2024-11-30T00:00:00+00:00"
         ],
         "xaxis": "x",
         "y": [
          null,
          null,
          null,
          null,
          null,
          -0.6661160525201186,
          -0.6185514612452352,
          -0.3696115850920524,
          -0.4963230127874847
         ],
         "yaxis": "y"
        },
        {
         "hovertemplate": "symbol=STX/USDT<br>timestamp=%{x}<br>value=%{y}<extra></extra>",
         "legendgroup": "STX/USDT",
         "line": {
          "color": "#00cc96",
          "dash": "solid"
         },
         "marker": {
          "symbol": "circle"
         },
         "mode": "lines",
         "name": "STX/USDT",
         "orientation": "v",
         "showlegend": true,
         "type": "scatter",
         "x": [
          "2024-03-31T00:00:00+00:00",
          "2024-04-30T00:00:00+00:00",
          "2024-05-31T00:00:00+00:00",
          "2024-06-30T00:00:00+00:00",
          "2024-07-31T00:00:00+00:00",
          "2024-08-31T00:00:00+00:00",
          "2024-09-30T00:00:00+00:00",
          "2024-10-31T00:00:00+00:00",
          "2024-11-30T00:00:00+00:00"
         ],
         "xaxis": "x",
         "y": [
          null,
          null,
          null,
          null,
          null,
          -0.4860608150830603,
          -0.49670158887377935,
          -0.24019208327930774,
          0.06236985784787996
         ],
         "yaxis": "y"
        },
        {
         "hovertemplate": "symbol=SUSHI/USDT<br>timestamp=%{x}<br>value=%{y}<extra></extra>",
         "legendgroup": "SUSHI/USDT",
         "line": {
          "color": "#ab63fa",
          "dash": "solid"
         },
         "marker": {
          "symbol": "circle"
         },
         "mode": "lines",
         "name": "SUSHI/USDT",
         "orientation": "v",
         "showlegend": true,
         "type": "scatter",
         "x": [
          "2024-03-31T00:00:00+00:00",
          "2024-04-30T00:00:00+00:00",
          "2024-05-31T00:00:00+00:00",
          "2024-06-30T00:00:00+00:00",
          "2024-07-31T00:00:00+00:00",
          "2024-08-31T00:00:00+00:00",
          "2024-09-30T00:00:00+00:00",
          "2024-10-31T00:00:00+00:00",
          "2024-11-30T00:00:00+00:00"
         ],
         "xaxis": "x",
         "y": [
          null,
          null,
          null,
          null,
          null,
          -0.7219730941704037,
          -0.5756613756613758,
          -0.2822665267576081,
          -0.32616179001721235
         ],
         "yaxis": "y"
        },
        {
         "hovertemplate": "symbol=THETA/USDT<br>timestamp=%{x}<br>value=%{y}<extra></extra>",
         "legendgroup": "THETA/USDT",
         "line": {
          "color": "#FFA15A",
          "dash": "solid"
         },
         "marker": {
          "symbol": "circle"
         },
         "mode": "lines",
         "name": "THETA/USDT",
         "orientation": "v",
         "showlegend": true,
         "type": "scatter",
         "x": [
          "2024-03-31T00:00:00+00:00",
          "2024-04-30T00:00:00+00:00",
          "2024-05-31T00:00:00+00:00",
          "2024-06-30T00:00:00+00:00",
          "2024-07-31T00:00:00+00:00",
          "2024-08-31T00:00:00+00:00",
          "2024-09-30T00:00:00+00:00",
          "2024-10-31T00:00:00+00:00",
          "2024-11-30T00:00:00+00:00"
         ],
         "xaxis": "x",
         "y": [
          null,
          null,
          null,
          null,
          null,
          -0.6282039361537272,
          -0.5456699558556222,
          -0.44011515362088693,
          -0.3097494604485318
         ],
         "yaxis": "y"
        },
        {
         "hovertemplate": "symbol=TIA/USDT<br>timestamp=%{x}<br>value=%{y}<extra></extra>",
         "legendgroup": "TIA/USDT",
         "line": {
          "color": "#19d3f3",
          "dash": "solid"
         },
         "marker": {
          "symbol": "circle"
         },
         "mode": "lines",
         "name": "TIA/USDT",
         "orientation": "v",
         "showlegend": true,
         "type": "scatter",
         "x": [
          "2024-03-31T00:00:00+00:00",
          "2024-04-30T00:00:00+00:00",
          "2024-05-31T00:00:00+00:00",
          "2024-06-30T00:00:00+00:00",
          "2024-07-31T00:00:00+00:00",
          "2024-08-31T00:00:00+00:00",
          "2024-09-30T00:00:00+00:00",
          "2024-10-31T00:00:00+00:00",
          "2024-11-30T00:00:00+00:00"
         ],
         "xaxis": "x",
         "y": [
          null,
          null,
          null,
          null,
          null,
          -0.7201581175531684,
          -0.6137066864099578,
          -0.48626118521019845,
          -0.5084700749312345
         ],
         "yaxis": "y"
        },
        {
         "hovertemplate": "symbol=UMA/USDT<br>timestamp=%{x}<br>value=%{y}<extra></extra>",
         "legendgroup": "UMA/USDT",
         "line": {
          "color": "#FF6692",
          "dash": "solid"
         },
         "marker": {
          "symbol": "circle"
         },
         "mode": "lines",
         "name": "UMA/USDT",
         "orientation": "v",
         "showlegend": true,
         "type": "scatter",
         "x": [
          "2024-03-31T00:00:00+00:00",
          "2024-04-30T00:00:00+00:00",
          "2024-05-31T00:00:00+00:00",
          "2024-06-30T00:00:00+00:00",
          "2024-07-31T00:00:00+00:00",
          "2024-08-31T00:00:00+00:00",
          "2024-09-30T00:00:00+00:00",
          "2024-10-31T00:00:00+00:00",
          "2024-11-30T00:00:00+00:00"
         ],
         "xaxis": "x",
         "y": [
          null,
          null,
          null,
          null,
          null,
          -0.5214287223031915,
          -0.40293123397690433,
          -0.030220097906950683,
          -0.27759613437111297
         ],
         "yaxis": "y"
        },
        {
         "hovertemplate": "symbol=UNI/USDT<br>timestamp=%{x}<br>value=%{y}<extra></extra>",
         "legendgroup": "UNI/USDT",
         "line": {
          "color": "#B6E880",
          "dash": "solid"
         },
         "marker": {
          "symbol": "circle"
         },
         "mode": "lines",
         "name": "UNI/USDT",
         "orientation": "v",
         "showlegend": true,
         "type": "scatter",
         "x": [
          "2024-03-31T00:00:00+00:00",
          "2024-04-30T00:00:00+00:00",
          "2024-05-31T00:00:00+00:00",
          "2024-06-30T00:00:00+00:00",
          "2024-07-31T00:00:00+00:00",
          "2024-08-31T00:00:00+00:00",
          "2024-09-30T00:00:00+00:00",
          "2024-10-31T00:00:00+00:00",
          "2024-11-30T00:00:00+00:00"
         ],
         "xaxis": "x",
         "y": [
          null,
          null,
          null,
          null,
          null,
          -0.582045802814525,
          -0.4289774921601033,
          0.08203707649691117,
          -0.08873380861532199
         ],
         "yaxis": "y"
        },
        {
         "hovertemplate": "symbol=WLD/USDT<br>timestamp=%{x}<br>value=%{y}<extra></extra>",
         "legendgroup": "WLD/USDT",
         "line": {
          "color": "#FF97FF",
          "dash": "solid"
         },
         "marker": {
          "symbol": "circle"
         },
         "mode": "lines",
         "name": "WLD/USDT",
         "orientation": "v",
         "showlegend": true,
         "type": "scatter",
         "x": [
          "2024-03-31T00:00:00+00:00",
          "2024-04-30T00:00:00+00:00",
          "2024-05-31T00:00:00+00:00",
          "2024-06-30T00:00:00+00:00",
          "2024-07-31T00:00:00+00:00",
          "2024-08-31T00:00:00+00:00",
          "2024-09-30T00:00:00+00:00",
          "2024-10-31T00:00:00+00:00",
          "2024-11-30T00:00:00+00:00"
         ],
         "xaxis": "x",
         "y": [
          null,
          null,
          null,
          null,
          null,
          -0.8439345704352198,
          -0.7745090882546174,
          -0.5766342999317443,
          -0.5151533958087677
         ],
         "yaxis": "y"
        },
        {
         "hovertemplate": "symbol=XRP/USDT<br>timestamp=%{x}<br>value=%{y}<extra></extra>",
         "legendgroup": "XRP/USDT",
         "line": {
          "color": "#FECB52",
          "dash": "solid"
         },
         "marker": {
          "symbol": "circle"
         },
         "mode": "lines",
         "name": "XRP/USDT",
         "orientation": "v",
         "showlegend": true,
         "type": "scatter",
         "x": [
          "2024-03-31T00:00:00+00:00",
          "2024-04-30T00:00:00+00:00",
          "2024-05-31T00:00:00+00:00",
          "2024-06-30T00:00:00+00:00",
          "2024-07-31T00:00:00+00:00",
          "2024-08-31T00:00:00+00:00",
          "2024-09-30T00:00:00+00:00",
          "2024-10-31T00:00:00+00:00",
          "2024-11-30T00:00:00+00:00"
         ],
         "xaxis": "x",
         "y": [
          null,
          null,
          null,
          null,
          null,
          -0.06890314093076655,
          -0.028135431568907188,
          0.01757188498402673,
          1.017774343122102
         ],
         "yaxis": "y"
        },
        {
         "hovertemplate": "symbol=YFI/USDT<br>timestamp=%{x}<br>value=%{y}<extra></extra>",
         "legendgroup": "YFI/USDT",
         "line": {
          "color": "#636efa",
          "dash": "solid"
         },
         "marker": {
          "symbol": "circle"
         },
         "mode": "lines",
         "name": "YFI/USDT",
         "orientation": "v",
         "showlegend": true,
         "type": "scatter",
         "x": [
          "2024-03-31T00:00:00+00:00",
          "2024-04-30T00:00:00+00:00",
          "2024-05-31T00:00:00+00:00",
          "2024-06-30T00:00:00+00:00",
          "2024-07-31T00:00:00+00:00",
          "2024-08-31T00:00:00+00:00",
          "2024-09-30T00:00:00+00:00",
          "2024-10-31T00:00:00+00:00",
          "2024-11-30T00:00:00+00:00"
         ],
         "xaxis": "x",
         "y": [
          null,
          null,
          null,
          null,
          null,
          -0.47888259558765334,
          -0.41678937687953965,
          -0.2939740484946326,
          -0.08490429721868875
         ],
         "yaxis": "y"
        },
        {
         "hovertemplate": "symbol=ZK/USDT<br>timestamp=%{x}<br>value=%{y}<extra></extra>",
         "legendgroup": "ZK/USDT",
         "line": {
          "color": "#EF553B",
          "dash": "solid"
         },
         "marker": {
          "symbol": "circle"
         },
         "mode": "lines",
         "name": "ZK/USDT",
         "orientation": "v",
         "showlegend": true,
         "type": "scatter",
         "x": [
          "2024-03-31T00:00:00+00:00",
          "2024-04-30T00:00:00+00:00",
          "2024-05-31T00:00:00+00:00",
          "2024-06-30T00:00:00+00:00",
          "2024-07-31T00:00:00+00:00",
          "2024-08-31T00:00:00+00:00",
          "2024-09-30T00:00:00+00:00",
          "2024-10-31T00:00:00+00:00",
          "2024-11-30T00:00:00+00:00"
         ],
         "xaxis": "x",
         "y": [
          null,
          null,
          null,
          null,
          null,
          -0.5091937765205092,
          -0.3559641678453561,
          -0.3870815652993871,
          -0.3055162659123055
         ],
         "yaxis": "y"
        },
        {
         "hovertemplate": "symbol=ZRX/USDT<br>timestamp=%{x}<br>value=%{y}<extra></extra>",
         "legendgroup": "ZRX/USDT",
         "line": {
          "color": "#00cc96",
          "dash": "solid"
         },
         "marker": {
          "symbol": "circle"
         },
         "mode": "lines",
         "name": "ZRX/USDT",
         "orientation": "v",
         "showlegend": true,
         "type": "scatter",
         "x": [
          "2024-03-31T00:00:00+00:00",
          "2024-04-30T00:00:00+00:00",
          "2024-05-31T00:00:00+00:00",
          "2024-06-30T00:00:00+00:00",
          "2024-07-31T00:00:00+00:00",
          "2024-08-31T00:00:00+00:00",
          "2024-09-30T00:00:00+00:00",
          "2024-10-31T00:00:00+00:00",
          "2024-11-30T00:00:00+00:00"
         ],
         "xaxis": "x",
         "y": [
          null,
          null,
          null,
          null,
          null,
          -0.6371482176360226,
          -0.5600999473961072,
          -0.31374243733794227,
          -0.2695267410542511
         ],
         "yaxis": "y"
        }
       ],
       "layout": {
        "height": 600,
        "legend": {
         "title": {
          "text": "symbol"
         },
         "tracegroupgap": 0
        },
        "template": {
         "data": {
          "bar": [
           {
            "error_x": {
             "color": "#2a3f5f"
            },
            "error_y": {
             "color": "#2a3f5f"
            },
            "marker": {
             "line": {
              "color": "#E5ECF6",
              "width": 0.5
             },
             "pattern": {
              "fillmode": "overlay",
              "size": 10,
              "solidity": 0.2
             }
            },
            "type": "bar"
           }
          ],
          "barpolar": [
           {
            "marker": {
             "line": {
              "color": "#E5ECF6",
              "width": 0.5
             },
             "pattern": {
              "fillmode": "overlay",
              "size": 10,
              "solidity": 0.2
             }
            },
            "type": "barpolar"
           }
          ],
          "carpet": [
           {
            "aaxis": {
             "endlinecolor": "#2a3f5f",
             "gridcolor": "white",
             "linecolor": "white",
             "minorgridcolor": "white",
             "startlinecolor": "#2a3f5f"
            },
            "baxis": {
             "endlinecolor": "#2a3f5f",
             "gridcolor": "white",
             "linecolor": "white",
             "minorgridcolor": "white",
             "startlinecolor": "#2a3f5f"
            },
            "type": "carpet"
           }
          ],
          "choropleth": [
           {
            "colorbar": {
             "outlinewidth": 0,
             "ticks": ""
            },
            "type": "choropleth"
           }
          ],
          "contour": [
           {
            "colorbar": {
             "outlinewidth": 0,
             "ticks": ""
            },
            "colorscale": [
             [
              0,
              "#0d0887"
             ],
             [
              0.1111111111111111,
              "#46039f"
             ],
             [
              0.2222222222222222,
              "#7201a8"
             ],
             [
              0.3333333333333333,
              "#9c179e"
             ],
             [
              0.4444444444444444,
              "#bd3786"
             ],
             [
              0.5555555555555556,
              "#d8576b"
             ],
             [
              0.6666666666666666,
              "#ed7953"
             ],
             [
              0.7777777777777778,
              "#fb9f3a"
             ],
             [
              0.8888888888888888,
              "#fdca26"
             ],
             [
              1,
              "#f0f921"
             ]
            ],
            "type": "contour"
           }
          ],
          "contourcarpet": [
           {
            "colorbar": {
             "outlinewidth": 0,
             "ticks": ""
            },
            "type": "contourcarpet"
           }
          ],
          "heatmap": [
           {
            "colorbar": {
             "outlinewidth": 0,
             "ticks": ""
            },
            "colorscale": [
             [
              0,
              "#0d0887"
             ],
             [
              0.1111111111111111,
              "#46039f"
             ],
             [
              0.2222222222222222,
              "#7201a8"
             ],
             [
              0.3333333333333333,
              "#9c179e"
             ],
             [
              0.4444444444444444,
              "#bd3786"
             ],
             [
              0.5555555555555556,
              "#d8576b"
             ],
             [
              0.6666666666666666,
              "#ed7953"
             ],
             [
              0.7777777777777778,
              "#fb9f3a"
             ],
             [
              0.8888888888888888,
              "#fdca26"
             ],
             [
              1,
              "#f0f921"
             ]
            ],
            "type": "heatmap"
           }
          ],
          "heatmapgl": [
           {
            "colorbar": {
             "outlinewidth": 0,
             "ticks": ""
            },
            "colorscale": [
             [
              0,
              "#0d0887"
             ],
             [
              0.1111111111111111,
              "#46039f"
             ],
             [
              0.2222222222222222,
              "#7201a8"
             ],
             [
              0.3333333333333333,
              "#9c179e"
             ],
             [
              0.4444444444444444,
              "#bd3786"
             ],
             [
              0.5555555555555556,
              "#d8576b"
             ],
             [
              0.6666666666666666,
              "#ed7953"
             ],
             [
              0.7777777777777778,
              "#fb9f3a"
             ],
             [
              0.8888888888888888,
              "#fdca26"
             ],
             [
              1,
              "#f0f921"
             ]
            ],
            "type": "heatmapgl"
           }
          ],
          "histogram": [
           {
            "marker": {
             "pattern": {
              "fillmode": "overlay",
              "size": 10,
              "solidity": 0.2
             }
            },
            "type": "histogram"
           }
          ],
          "histogram2d": [
           {
            "colorbar": {
             "outlinewidth": 0,
             "ticks": ""
            },
            "colorscale": [
             [
              0,
              "#0d0887"
             ],
             [
              0.1111111111111111,
              "#46039f"
             ],
             [
              0.2222222222222222,
              "#7201a8"
             ],
             [
              0.3333333333333333,
              "#9c179e"
             ],
             [
              0.4444444444444444,
              "#bd3786"
             ],
             [
              0.5555555555555556,
              "#d8576b"
             ],
             [
              0.6666666666666666,
              "#ed7953"
             ],
             [
              0.7777777777777778,
              "#fb9f3a"
             ],
             [
              0.8888888888888888,
              "#fdca26"
             ],
             [
              1,
              "#f0f921"
             ]
            ],
            "type": "histogram2d"
           }
          ],
          "histogram2dcontour": [
           {
            "colorbar": {
             "outlinewidth": 0,
             "ticks": ""
            },
            "colorscale": [
             [
              0,
              "#0d0887"
             ],
             [
              0.1111111111111111,
              "#46039f"
             ],
             [
              0.2222222222222222,
              "#7201a8"
             ],
             [
              0.3333333333333333,
              "#9c179e"
             ],
             [
              0.4444444444444444,
              "#bd3786"
             ],
             [
              0.5555555555555556,
              "#d8576b"
             ],
             [
              0.6666666666666666,
              "#ed7953"
             ],
             [
              0.7777777777777778,
              "#fb9f3a"
             ],
             [
              0.8888888888888888,
              "#fdca26"
             ],
             [
              1,
              "#f0f921"
             ]
            ],
            "type": "histogram2dcontour"
           }
          ],
          "mesh3d": [
           {
            "colorbar": {
             "outlinewidth": 0,
             "ticks": ""
            },
            "type": "mesh3d"
           }
          ],
          "parcoords": [
           {
            "line": {
             "colorbar": {
              "outlinewidth": 0,
              "ticks": ""
             }
            },
            "type": "parcoords"
           }
          ],
          "pie": [
           {
            "automargin": true,
            "type": "pie"
           }
          ],
          "scatter": [
           {
            "fillpattern": {
             "fillmode": "overlay",
             "size": 10,
             "solidity": 0.2
            },
            "type": "scatter"
           }
          ],
          "scatter3d": [
           {
            "line": {
             "colorbar": {
              "outlinewidth": 0,
              "ticks": ""
             }
            },
            "marker": {
             "colorbar": {
              "outlinewidth": 0,
              "ticks": ""
             }
            },
            "type": "scatter3d"
           }
          ],
          "scattercarpet": [
           {
            "marker": {
             "colorbar": {
              "outlinewidth": 0,
              "ticks": ""
             }
            },
            "type": "scattercarpet"
           }
          ],
          "scattergeo": [
           {
            "marker": {
             "colorbar": {
              "outlinewidth": 0,
              "ticks": ""
             }
            },
            "type": "scattergeo"
           }
          ],
          "scattergl": [
           {
            "marker": {
             "colorbar": {
              "outlinewidth": 0,
              "ticks": ""
             }
            },
            "type": "scattergl"
           }
          ],
          "scattermapbox": [
           {
            "marker": {
             "colorbar": {
              "outlinewidth": 0,
              "ticks": ""
             }
            },
            "type": "scattermapbox"
           }
          ],
          "scatterpolar": [
           {
            "marker": {
             "colorbar": {
              "outlinewidth": 0,
              "ticks": ""
             }
            },
            "type": "scatterpolar"
           }
          ],
          "scatterpolargl": [
           {
            "marker": {
             "colorbar": {
              "outlinewidth": 0,
              "ticks": ""
             }
            },
            "type": "scatterpolargl"
           }
          ],
          "scatterternary": [
           {
            "marker": {
             "colorbar": {
              "outlinewidth": 0,
              "ticks": ""
             }
            },
            "type": "scatterternary"
           }
          ],
          "surface": [
           {
            "colorbar": {
             "outlinewidth": 0,
             "ticks": ""
            },
            "colorscale": [
             [
              0,
              "#0d0887"
             ],
             [
              0.1111111111111111,
              "#46039f"
             ],
             [
              0.2222222222222222,
              "#7201a8"
             ],
             [
              0.3333333333333333,
              "#9c179e"
             ],
             [
              0.4444444444444444,
              "#bd3786"
             ],
             [
              0.5555555555555556,
              "#d8576b"
             ],
             [
              0.6666666666666666,
              "#ed7953"
             ],
             [
              0.7777777777777778,
              "#fb9f3a"
             ],
             [
              0.8888888888888888,
              "#fdca26"
             ],
             [
              1,
              "#f0f921"
             ]
            ],
            "type": "surface"
           }
          ],
          "table": [
           {
            "cells": {
             "fill": {
              "color": "#EBF0F8"
             },
             "line": {
              "color": "white"
             }
            },
            "header": {
             "fill": {
              "color": "#C8D4E3"
             },
             "line": {
              "color": "white"
             }
            },
            "type": "table"
           }
          ]
         },
         "layout": {
          "annotationdefaults": {
           "arrowcolor": "#2a3f5f",
           "arrowhead": 0,
           "arrowwidth": 1
          },
          "autotypenumbers": "strict",
          "coloraxis": {
           "colorbar": {
            "outlinewidth": 0,
            "ticks": ""
           }
          },
          "colorscale": {
           "diverging": [
            [
             0,
             "#8e0152"
            ],
            [
             0.1,
             "#c51b7d"
            ],
            [
             0.2,
             "#de77ae"
            ],
            [
             0.3,
             "#f1b6da"
            ],
            [
             0.4,
             "#fde0ef"
            ],
            [
             0.5,
             "#f7f7f7"
            ],
            [
             0.6,
             "#e6f5d0"
            ],
            [
             0.7,
             "#b8e186"
            ],
            [
             0.8,
             "#7fbc41"
            ],
            [
             0.9,
             "#4d9221"
            ],
            [
             1,
             "#276419"
            ]
           ],
           "sequential": [
            [
             0,
             "#0d0887"
            ],
            [
             0.1111111111111111,
             "#46039f"
            ],
            [
             0.2222222222222222,
             "#7201a8"
            ],
            [
             0.3333333333333333,
             "#9c179e"
            ],
            [
             0.4444444444444444,
             "#bd3786"
            ],
            [
             0.5555555555555556,
             "#d8576b"
            ],
            [
             0.6666666666666666,
             "#ed7953"
            ],
            [
             0.7777777777777778,
             "#fb9f3a"
            ],
            [
             0.8888888888888888,
             "#fdca26"
            ],
            [
             1,
             "#f0f921"
            ]
           ],
           "sequentialminus": [
            [
             0,
             "#0d0887"
            ],
            [
             0.1111111111111111,
             "#46039f"
            ],
            [
             0.2222222222222222,
             "#7201a8"
            ],
            [
             0.3333333333333333,
             "#9c179e"
            ],
            [
             0.4444444444444444,
             "#bd3786"
            ],
            [
             0.5555555555555556,
             "#d8576b"
            ],
            [
             0.6666666666666666,
             "#ed7953"
            ],
            [
             0.7777777777777778,
             "#fb9f3a"
            ],
            [
             0.8888888888888888,
             "#fdca26"
            ],
            [
             1,
             "#f0f921"
            ]
           ]
          },
          "colorway": [
           "#636efa",
           "#EF553B",
           "#00cc96",
           "#ab63fa",
           "#FFA15A",
           "#19d3f3",
           "#FF6692",
           "#B6E880",
           "#FF97FF",
           "#FECB52"
          ],
          "font": {
           "color": "#2a3f5f"
          },
          "geo": {
           "bgcolor": "white",
           "lakecolor": "white",
           "landcolor": "#E5ECF6",
           "showlakes": true,
           "showland": true,
           "subunitcolor": "white"
          },
          "hoverlabel": {
           "align": "left"
          },
          "hovermode": "closest",
          "mapbox": {
           "style": "light"
          },
          "paper_bgcolor": "white",
          "plot_bgcolor": "#E5ECF6",
          "polar": {
           "angularaxis": {
            "gridcolor": "white",
            "linecolor": "white",
            "ticks": ""
           },
           "bgcolor": "#E5ECF6",
           "radialaxis": {
            "gridcolor": "white",
            "linecolor": "white",
            "ticks": ""
           }
          },
          "scene": {
           "xaxis": {
            "backgroundcolor": "#E5ECF6",
            "gridcolor": "white",
            "gridwidth": 2,
            "linecolor": "white",
            "showbackground": true,
            "ticks": "",
            "zerolinecolor": "white"
           },
           "yaxis": {
            "backgroundcolor": "#E5ECF6",
            "gridcolor": "white",
            "gridwidth": 2,
            "linecolor": "white",
            "showbackground": true,
            "ticks": "",
            "zerolinecolor": "white"
           },
           "zaxis": {
            "backgroundcolor": "#E5ECF6",
            "gridcolor": "white",
            "gridwidth": 2,
            "linecolor": "white",
            "showbackground": true,
            "ticks": "",
            "zerolinecolor": "white"
           }
          },
          "shapedefaults": {
           "line": {
            "color": "#2a3f5f"
           }
          },
          "ternary": {
           "aaxis": {
            "gridcolor": "white",
            "linecolor": "white",
            "ticks": ""
           },
           "baxis": {
            "gridcolor": "white",
            "linecolor": "white",
            "ticks": ""
           },
           "bgcolor": "#E5ECF6",
           "caxis": {
            "gridcolor": "white",
            "linecolor": "white",
            "ticks": ""
           }
          },
          "title": {
           "x": 0.05
          },
          "xaxis": {
           "automargin": true,
           "gridcolor": "white",
           "linecolor": "white",
           "ticks": "",
           "title": {
            "standoff": 15
           },
           "zerolinecolor": "white",
           "zerolinewidth": 2
          },
          "yaxis": {
           "automargin": true,
           "gridcolor": "white",
           "linecolor": "white",
           "ticks": "",
           "title": {
            "standoff": 15
           },
           "zerolinecolor": "white",
           "zerolinewidth": 2
          }
         }
        },
        "title": {
         "text": "Rolling cumulative for 6 months return"
        },
        "width": 1200,
        "xaxis": {
         "anchor": "y",
         "domain": [
          0,
          1
         ],
         "title": {
          "text": "Timestamp"
         }
        },
        "yaxis": {
         "anchor": "x",
         "domain": [
          0,
          1
         ],
         "title": {
          "text": "Cumulative Returns"
         }
        }
       }
      }
     },
     "metadata": {},
     "output_type": "display_data"
    }
   ],
   "source": [
    "# Show cumulative return from past 6 months\n",
    "fig = px.line(past_cum_return_df, x=past_cum_return_df.index, y=past_cum_return_df.columns, title=\"Rolling cumulative for 6 months return\")\n",
    "fig.update_layout(width=1200, height=600, xaxis_title=\"Timestamp\", yaxis_title=\"Cumulative Returns\")\n",
    "fig.show()"
   ]
  },
  {
   "cell_type": "code",
   "execution_count": 68,
   "metadata": {},
   "outputs": [
    {
     "data": {
      "text/html": [
       "<div>\n",
       "<style scoped>\n",
       "    .dataframe tbody tr th:only-of-type {\n",
       "        vertical-align: middle;\n",
       "    }\n",
       "\n",
       "    .dataframe tbody tr th {\n",
       "        vertical-align: top;\n",
       "    }\n",
       "\n",
       "    .dataframe thead th {\n",
       "        text-align: right;\n",
       "    }\n",
       "</style>\n",
       "<table border=\"1\" class=\"dataframe\">\n",
       "  <thead>\n",
       "    <tr style=\"text-align: right;\">\n",
       "      <th></th>\n",
       "      <th>Symbol</th>\n",
       "      <th>Return</th>\n",
       "    </tr>\n",
       "  </thead>\n",
       "  <tbody>\n",
       "    <tr>\n",
       "      <th>0</th>\n",
       "      <td>1INCH/USDT</td>\n",
       "      <td>-0.549547</td>\n",
       "    </tr>\n",
       "    <tr>\n",
       "      <th>1</th>\n",
       "      <td>AAVE/USDT</td>\n",
       "      <td>0.220984</td>\n",
       "    </tr>\n",
       "    <tr>\n",
       "      <th>2</th>\n",
       "      <td>AR/USDT</td>\n",
       "      <td>-0.410061</td>\n",
       "    </tr>\n",
       "    <tr>\n",
       "      <th>3</th>\n",
       "      <td>BB/USDT</td>\n",
       "      <td>-0.244880</td>\n",
       "    </tr>\n",
       "    <tr>\n",
       "      <th>4</th>\n",
       "      <td>DCR/USDT</td>\n",
       "      <td>-0.574274</td>\n",
       "    </tr>\n",
       "  </tbody>\n",
       "</table>\n",
       "</div>"
      ],
      "text/plain": [
       "       Symbol    Return\n",
       "0  1INCH/USDT -0.549547\n",
       "1   AAVE/USDT  0.220984\n",
       "2     AR/USDT -0.410061\n",
       "3     BB/USDT -0.244880\n",
       "4    DCR/USDT -0.574274"
      ]
     },
     "execution_count": 68,
     "metadata": {},
     "output_type": "execute_result"
    }
   ],
   "source": [
    "# Define formation and measurement period\n",
    "# Define the dates with timezone information\n",
    "end_of_measurement_period = dt.datetime(2024, 9, 30, tzinfo=pytz.UTC)\n",
    "formation_period = dt.datetime(2024, 10, 31, tzinfo=pytz.UTC)\n",
    "\n",
    "end_of_measurement_period_return_df = past_cum_return_df.loc[end_of_measurement_period]\n",
    "# Transpose the DataFrame so that tickers become rows and returns become a single column\n",
    "end_of_measurement_period_return_df = end_of_measurement_period_return_df.T\n",
    "end_of_measurement_period_return_df = end_of_measurement_period_return_df.reset_index()\n",
    "# Rename columns for clarity\n",
    "end_of_measurement_period_return_df.columns = ['Symbol', 'Return']\n",
    "end_of_measurement_period_return_df.head()"
   ]
  },
  {
   "cell_type": "code",
   "execution_count": 69,
   "metadata": {},
   "outputs": [
    {
     "data": {
      "text/plain": [
       "Symbol    AAVE/USDT\n",
       "Return     0.220984\n",
       "Name: 1, dtype: object"
      ]
     },
     "execution_count": 69,
     "metadata": {},
     "output_type": "execute_result"
    }
   ],
   "source": [
    "# highest momentum in the positive direction\n",
    "end_of_measurement_period_return_df.loc[end_of_measurement_period_return_df.iloc[:,1].idxmax()]"
   ]
  },
  {
   "cell_type": "code",
   "execution_count": 70,
   "metadata": {},
   "outputs": [
    {
     "data": {
      "text/plain": [
       "Symbol    WLD/USDT\n",
       "Return   -0.774509\n",
       "Name: 18, dtype: object"
      ]
     },
     "execution_count": 70,
     "metadata": {},
     "output_type": "execute_result"
    }
   ],
   "source": [
    "# highest momentum in the negative direction\n",
    "end_of_measurement_period_return_df.loc[end_of_measurement_period_return_df.iloc[:,1].idxmin()]"
   ]
  },
  {
   "cell_type": "code",
   "execution_count": 71,
   "metadata": {},
   "outputs": [
    {
     "data": {
      "text/html": [
       "<div>\n",
       "<style scoped>\n",
       "    .dataframe tbody tr th:only-of-type {\n",
       "        vertical-align: middle;\n",
       "    }\n",
       "\n",
       "    .dataframe tbody tr th {\n",
       "        vertical-align: top;\n",
       "    }\n",
       "\n",
       "    .dataframe thead th {\n",
       "        text-align: right;\n",
       "    }\n",
       "</style>\n",
       "<table border=\"1\" class=\"dataframe\">\n",
       "  <thead>\n",
       "    <tr style=\"text-align: right;\">\n",
       "      <th></th>\n",
       "      <th>Symbol</th>\n",
       "      <th>Return</th>\n",
       "      <th>rank</th>\n",
       "    </tr>\n",
       "  </thead>\n",
       "  <tbody>\n",
       "    <tr>\n",
       "      <th>0</th>\n",
       "      <td>1INCH/USDT</td>\n",
       "      <td>-0.549547</td>\n",
       "      <td>4</td>\n",
       "    </tr>\n",
       "    <tr>\n",
       "      <th>1</th>\n",
       "      <td>AAVE/USDT</td>\n",
       "      <td>0.220984</td>\n",
       "      <td>10</td>\n",
       "    </tr>\n",
       "    <tr>\n",
       "      <th>2</th>\n",
       "      <td>AR/USDT</td>\n",
       "      <td>-0.410061</td>\n",
       "      <td>8</td>\n",
       "    </tr>\n",
       "    <tr>\n",
       "      <th>3</th>\n",
       "      <td>BB/USDT</td>\n",
       "      <td>-0.244880</td>\n",
       "      <td>9</td>\n",
       "    </tr>\n",
       "    <tr>\n",
       "      <th>4</th>\n",
       "      <td>DCR/USDT</td>\n",
       "      <td>-0.574274</td>\n",
       "      <td>3</td>\n",
       "    </tr>\n",
       "    <tr>\n",
       "      <th>5</th>\n",
       "      <td>FIL/USDT</td>\n",
       "      <td>-0.617246</td>\n",
       "      <td>1</td>\n",
       "    </tr>\n",
       "    <tr>\n",
       "      <th>6</th>\n",
       "      <td>FLIP/USDT</td>\n",
       "      <td>-0.766080</td>\n",
       "      <td>0</td>\n",
       "    </tr>\n",
       "  </tbody>\n",
       "</table>\n",
       "</div>"
      ],
      "text/plain": [
       "       Symbol    Return  rank\n",
       "0  1INCH/USDT -0.549547     4\n",
       "1   AAVE/USDT  0.220984    10\n",
       "2     AR/USDT -0.410061     8\n",
       "3     BB/USDT -0.244880     9\n",
       "4    DCR/USDT -0.574274     3\n",
       "5    FIL/USDT -0.617246     1\n",
       "6   FLIP/USDT -0.766080     0"
      ]
     },
     "execution_count": 71,
     "metadata": {},
     "output_type": "execute_result"
    }
   ],
   "source": [
    "# rank symbols with quantiles\n",
    "end_of_measurement_period_return_df['rank'] = pd.qcut(end_of_measurement_period_return_df.iloc[:,1], 11, labels=False)\n",
    "end_of_measurement_period_return_df.head(7)"
   ]
  },
  {
   "cell_type": "code",
   "execution_count": 72,
   "metadata": {},
   "outputs": [
    {
     "data": {
      "application/vnd.plotly.v1+json": {
       "config": {
        "plotlyServerURL": "https://plot.ly"
       },
       "data": [
        {
         "alignmentgroup": "True",
         "hovertemplate": "Symbol=%{x}<br>Return=%{y}<br>Rank=%{marker.color}<extra></extra>",
         "legendgroup": "",
         "marker": {
          "color": [
           4,
           10,
           8,
           9,
           3,
           1,
           0,
           6,
           5,
           0,
           6,
           1,
           5,
           2,
           4,
           2,
           8,
           7,
           0,
           10,
           7,
           9,
           3
          ],
          "coloraxis": "coloraxis",
          "pattern": {
           "shape": ""
          }
         },
         "name": "",
         "offsetgroup": "",
         "orientation": "v",
         "showlegend": false,
         "textposition": "auto",
         "type": "bar",
         "x": [
          "1INCH/USDT",
          "AAVE/USDT",
          "AR/USDT",
          "BB/USDT",
          "DCR/USDT",
          "FIL/USDT",
          "FLIP/USDT",
          "FORT/USDT",
          "ICP/USDT",
          "PSP/USDT",
          "ROSE/USDT",
          "SAFE/USDT",
          "STX/USDT",
          "SUSHI/USDT",
          "THETA/USDT",
          "TIA/USDT",
          "UMA/USDT",
          "UNI/USDT",
          "WLD/USDT",
          "XRP/USDT",
          "YFI/USDT",
          "ZK/USDT",
          "ZRX/USDT"
         ],
         "xaxis": "x",
         "y": [
          -0.5495466321243525,
          0.22098409535774954,
          -0.4100613218260274,
          -0.24487998238273445,
          -0.574274135541482,
          -0.6172455330254967,
          -0.7660800296406077,
          -0.4689387402933557,
          -0.5211947897029534,
          -0.6635400841094747,
          -0.44035763611252454,
          -0.6185514612452352,
          -0.49670158887377935,
          -0.5756613756613758,
          -0.5456699558556222,
          -0.6137066864099578,
          -0.40293123397690433,
          -0.4289774921601033,
          -0.7745090882546174,
          -0.028135431568907188,
          -0.41678937687953965,
          -0.3559641678453561,
          -0.5600999473961072
         ],
         "yaxis": "y"
        }
       ],
       "layout": {
        "barmode": "relative",
        "coloraxis": {
         "colorbar": {
          "title": {
           "text": "Rank"
          }
         },
         "colorscale": [
          [
           0,
           "#0d0887"
          ],
          [
           0.1111111111111111,
           "#46039f"
          ],
          [
           0.2222222222222222,
           "#7201a8"
          ],
          [
           0.3333333333333333,
           "#9c179e"
          ],
          [
           0.4444444444444444,
           "#bd3786"
          ],
          [
           0.5555555555555556,
           "#d8576b"
          ],
          [
           0.6666666666666666,
           "#ed7953"
          ],
          [
           0.7777777777777778,
           "#fb9f3a"
          ],
          [
           0.8888888888888888,
           "#fdca26"
          ],
          [
           1,
           "#f0f921"
          ]
         ]
        },
        "height": 600,
        "legend": {
         "tracegroupgap": 0
        },
        "template": {
         "data": {
          "bar": [
           {
            "error_x": {
             "color": "#2a3f5f"
            },
            "error_y": {
             "color": "#2a3f5f"
            },
            "marker": {
             "line": {
              "color": "#E5ECF6",
              "width": 0.5
             },
             "pattern": {
              "fillmode": "overlay",
              "size": 10,
              "solidity": 0.2
             }
            },
            "type": "bar"
           }
          ],
          "barpolar": [
           {
            "marker": {
             "line": {
              "color": "#E5ECF6",
              "width": 0.5
             },
             "pattern": {
              "fillmode": "overlay",
              "size": 10,
              "solidity": 0.2
             }
            },
            "type": "barpolar"
           }
          ],
          "carpet": [
           {
            "aaxis": {
             "endlinecolor": "#2a3f5f",
             "gridcolor": "white",
             "linecolor": "white",
             "minorgridcolor": "white",
             "startlinecolor": "#2a3f5f"
            },
            "baxis": {
             "endlinecolor": "#2a3f5f",
             "gridcolor": "white",
             "linecolor": "white",
             "minorgridcolor": "white",
             "startlinecolor": "#2a3f5f"
            },
            "type": "carpet"
           }
          ],
          "choropleth": [
           {
            "colorbar": {
             "outlinewidth": 0,
             "ticks": ""
            },
            "type": "choropleth"
           }
          ],
          "contour": [
           {
            "colorbar": {
             "outlinewidth": 0,
             "ticks": ""
            },
            "colorscale": [
             [
              0,
              "#0d0887"
             ],
             [
              0.1111111111111111,
              "#46039f"
             ],
             [
              0.2222222222222222,
              "#7201a8"
             ],
             [
              0.3333333333333333,
              "#9c179e"
             ],
             [
              0.4444444444444444,
              "#bd3786"
             ],
             [
              0.5555555555555556,
              "#d8576b"
             ],
             [
              0.6666666666666666,
              "#ed7953"
             ],
             [
              0.7777777777777778,
              "#fb9f3a"
             ],
             [
              0.8888888888888888,
              "#fdca26"
             ],
             [
              1,
              "#f0f921"
             ]
            ],
            "type": "contour"
           }
          ],
          "contourcarpet": [
           {
            "colorbar": {
             "outlinewidth": 0,
             "ticks": ""
            },
            "type": "contourcarpet"
           }
          ],
          "heatmap": [
           {
            "colorbar": {
             "outlinewidth": 0,
             "ticks": ""
            },
            "colorscale": [
             [
              0,
              "#0d0887"
             ],
             [
              0.1111111111111111,
              "#46039f"
             ],
             [
              0.2222222222222222,
              "#7201a8"
             ],
             [
              0.3333333333333333,
              "#9c179e"
             ],
             [
              0.4444444444444444,
              "#bd3786"
             ],
             [
              0.5555555555555556,
              "#d8576b"
             ],
             [
              0.6666666666666666,
              "#ed7953"
             ],
             [
              0.7777777777777778,
              "#fb9f3a"
             ],
             [
              0.8888888888888888,
              "#fdca26"
             ],
             [
              1,
              "#f0f921"
             ]
            ],
            "type": "heatmap"
           }
          ],
          "heatmapgl": [
           {
            "colorbar": {
             "outlinewidth": 0,
             "ticks": ""
            },
            "colorscale": [
             [
              0,
              "#0d0887"
             ],
             [
              0.1111111111111111,
              "#46039f"
             ],
             [
              0.2222222222222222,
              "#7201a8"
             ],
             [
              0.3333333333333333,
              "#9c179e"
             ],
             [
              0.4444444444444444,
              "#bd3786"
             ],
             [
              0.5555555555555556,
              "#d8576b"
             ],
             [
              0.6666666666666666,
              "#ed7953"
             ],
             [
              0.7777777777777778,
              "#fb9f3a"
             ],
             [
              0.8888888888888888,
              "#fdca26"
             ],
             [
              1,
              "#f0f921"
             ]
            ],
            "type": "heatmapgl"
           }
          ],
          "histogram": [
           {
            "marker": {
             "pattern": {
              "fillmode": "overlay",
              "size": 10,
              "solidity": 0.2
             }
            },
            "type": "histogram"
           }
          ],
          "histogram2d": [
           {
            "colorbar": {
             "outlinewidth": 0,
             "ticks": ""
            },
            "colorscale": [
             [
              0,
              "#0d0887"
             ],
             [
              0.1111111111111111,
              "#46039f"
             ],
             [
              0.2222222222222222,
              "#7201a8"
             ],
             [
              0.3333333333333333,
              "#9c179e"
             ],
             [
              0.4444444444444444,
              "#bd3786"
             ],
             [
              0.5555555555555556,
              "#d8576b"
             ],
             [
              0.6666666666666666,
              "#ed7953"
             ],
             [
              0.7777777777777778,
              "#fb9f3a"
             ],
             [
              0.8888888888888888,
              "#fdca26"
             ],
             [
              1,
              "#f0f921"
             ]
            ],
            "type": "histogram2d"
           }
          ],
          "histogram2dcontour": [
           {
            "colorbar": {
             "outlinewidth": 0,
             "ticks": ""
            },
            "colorscale": [
             [
              0,
              "#0d0887"
             ],
             [
              0.1111111111111111,
              "#46039f"
             ],
             [
              0.2222222222222222,
              "#7201a8"
             ],
             [
              0.3333333333333333,
              "#9c179e"
             ],
             [
              0.4444444444444444,
              "#bd3786"
             ],
             [
              0.5555555555555556,
              "#d8576b"
             ],
             [
              0.6666666666666666,
              "#ed7953"
             ],
             [
              0.7777777777777778,
              "#fb9f3a"
             ],
             [
              0.8888888888888888,
              "#fdca26"
             ],
             [
              1,
              "#f0f921"
             ]
            ],
            "type": "histogram2dcontour"
           }
          ],
          "mesh3d": [
           {
            "colorbar": {
             "outlinewidth": 0,
             "ticks": ""
            },
            "type": "mesh3d"
           }
          ],
          "parcoords": [
           {
            "line": {
             "colorbar": {
              "outlinewidth": 0,
              "ticks": ""
             }
            },
            "type": "parcoords"
           }
          ],
          "pie": [
           {
            "automargin": true,
            "type": "pie"
           }
          ],
          "scatter": [
           {
            "fillpattern": {
             "fillmode": "overlay",
             "size": 10,
             "solidity": 0.2
            },
            "type": "scatter"
           }
          ],
          "scatter3d": [
           {
            "line": {
             "colorbar": {
              "outlinewidth": 0,
              "ticks": ""
             }
            },
            "marker": {
             "colorbar": {
              "outlinewidth": 0,
              "ticks": ""
             }
            },
            "type": "scatter3d"
           }
          ],
          "scattercarpet": [
           {
            "marker": {
             "colorbar": {
              "outlinewidth": 0,
              "ticks": ""
             }
            },
            "type": "scattercarpet"
           }
          ],
          "scattergeo": [
           {
            "marker": {
             "colorbar": {
              "outlinewidth": 0,
              "ticks": ""
             }
            },
            "type": "scattergeo"
           }
          ],
          "scattergl": [
           {
            "marker": {
             "colorbar": {
              "outlinewidth": 0,
              "ticks": ""
             }
            },
            "type": "scattergl"
           }
          ],
          "scattermapbox": [
           {
            "marker": {
             "colorbar": {
              "outlinewidth": 0,
              "ticks": ""
             }
            },
            "type": "scattermapbox"
           }
          ],
          "scatterpolar": [
           {
            "marker": {
             "colorbar": {
              "outlinewidth": 0,
              "ticks": ""
             }
            },
            "type": "scatterpolar"
           }
          ],
          "scatterpolargl": [
           {
            "marker": {
             "colorbar": {
              "outlinewidth": 0,
              "ticks": ""
             }
            },
            "type": "scatterpolargl"
           }
          ],
          "scatterternary": [
           {
            "marker": {
             "colorbar": {
              "outlinewidth": 0,
              "ticks": ""
             }
            },
            "type": "scatterternary"
           }
          ],
          "surface": [
           {
            "colorbar": {
             "outlinewidth": 0,
             "ticks": ""
            },
            "colorscale": [
             [
              0,
              "#0d0887"
             ],
             [
              0.1111111111111111,
              "#46039f"
             ],
             [
              0.2222222222222222,
              "#7201a8"
             ],
             [
              0.3333333333333333,
              "#9c179e"
             ],
             [
              0.4444444444444444,
              "#bd3786"
             ],
             [
              0.5555555555555556,
              "#d8576b"
             ],
             [
              0.6666666666666666,
              "#ed7953"
             ],
             [
              0.7777777777777778,
              "#fb9f3a"
             ],
             [
              0.8888888888888888,
              "#fdca26"
             ],
             [
              1,
              "#f0f921"
             ]
            ],
            "type": "surface"
           }
          ],
          "table": [
           {
            "cells": {
             "fill": {
              "color": "#EBF0F8"
             },
             "line": {
              "color": "white"
             }
            },
            "header": {
             "fill": {
              "color": "#C8D4E3"
             },
             "line": {
              "color": "white"
             }
            },
            "type": "table"
           }
          ]
         },
         "layout": {
          "annotationdefaults": {
           "arrowcolor": "#2a3f5f",
           "arrowhead": 0,
           "arrowwidth": 1
          },
          "autotypenumbers": "strict",
          "coloraxis": {
           "colorbar": {
            "outlinewidth": 0,
            "ticks": ""
           }
          },
          "colorscale": {
           "diverging": [
            [
             0,
             "#8e0152"
            ],
            [
             0.1,
             "#c51b7d"
            ],
            [
             0.2,
             "#de77ae"
            ],
            [
             0.3,
             "#f1b6da"
            ],
            [
             0.4,
             "#fde0ef"
            ],
            [
             0.5,
             "#f7f7f7"
            ],
            [
             0.6,
             "#e6f5d0"
            ],
            [
             0.7,
             "#b8e186"
            ],
            [
             0.8,
             "#7fbc41"
            ],
            [
             0.9,
             "#4d9221"
            ],
            [
             1,
             "#276419"
            ]
           ],
           "sequential": [
            [
             0,
             "#0d0887"
            ],
            [
             0.1111111111111111,
             "#46039f"
            ],
            [
             0.2222222222222222,
             "#7201a8"
            ],
            [
             0.3333333333333333,
             "#9c179e"
            ],
            [
             0.4444444444444444,
             "#bd3786"
            ],
            [
             0.5555555555555556,
             "#d8576b"
            ],
            [
             0.6666666666666666,
             "#ed7953"
            ],
            [
             0.7777777777777778,
             "#fb9f3a"
            ],
            [
             0.8888888888888888,
             "#fdca26"
            ],
            [
             1,
             "#f0f921"
            ]
           ],
           "sequentialminus": [
            [
             0,
             "#0d0887"
            ],
            [
             0.1111111111111111,
             "#46039f"
            ],
            [
             0.2222222222222222,
             "#7201a8"
            ],
            [
             0.3333333333333333,
             "#9c179e"
            ],
            [
             0.4444444444444444,
             "#bd3786"
            ],
            [
             0.5555555555555556,
             "#d8576b"
            ],
            [
             0.6666666666666666,
             "#ed7953"
            ],
            [
             0.7777777777777778,
             "#fb9f3a"
            ],
            [
             0.8888888888888888,
             "#fdca26"
            ],
            [
             1,
             "#f0f921"
            ]
           ]
          },
          "colorway": [
           "#636efa",
           "#EF553B",
           "#00cc96",
           "#ab63fa",
           "#FFA15A",
           "#19d3f3",
           "#FF6692",
           "#B6E880",
           "#FF97FF",
           "#FECB52"
          ],
          "font": {
           "color": "#2a3f5f"
          },
          "geo": {
           "bgcolor": "white",
           "lakecolor": "white",
           "landcolor": "#E5ECF6",
           "showlakes": true,
           "showland": true,
           "subunitcolor": "white"
          },
          "hoverlabel": {
           "align": "left"
          },
          "hovermode": "closest",
          "mapbox": {
           "style": "light"
          },
          "paper_bgcolor": "white",
          "plot_bgcolor": "#E5ECF6",
          "polar": {
           "angularaxis": {
            "gridcolor": "white",
            "linecolor": "white",
            "ticks": ""
           },
           "bgcolor": "#E5ECF6",
           "radialaxis": {
            "gridcolor": "white",
            "linecolor": "white",
            "ticks": ""
           }
          },
          "scene": {
           "xaxis": {
            "backgroundcolor": "#E5ECF6",
            "gridcolor": "white",
            "gridwidth": 2,
            "linecolor": "white",
            "showbackground": true,
            "ticks": "",
            "zerolinecolor": "white"
           },
           "yaxis": {
            "backgroundcolor": "#E5ECF6",
            "gridcolor": "white",
            "gridwidth": 2,
            "linecolor": "white",
            "showbackground": true,
            "ticks": "",
            "zerolinecolor": "white"
           },
           "zaxis": {
            "backgroundcolor": "#E5ECF6",
            "gridcolor": "white",
            "gridwidth": 2,
            "linecolor": "white",
            "showbackground": true,
            "ticks": "",
            "zerolinecolor": "white"
           }
          },
          "shapedefaults": {
           "line": {
            "color": "#2a3f5f"
           }
          },
          "ternary": {
           "aaxis": {
            "gridcolor": "white",
            "linecolor": "white",
            "ticks": ""
           },
           "baxis": {
            "gridcolor": "white",
            "linecolor": "white",
            "ticks": ""
           },
           "bgcolor": "#E5ECF6",
           "caxis": {
            "gridcolor": "white",
            "linecolor": "white",
            "ticks": ""
           }
          },
          "title": {
           "x": 0.05
          },
          "xaxis": {
           "automargin": true,
           "gridcolor": "white",
           "linecolor": "white",
           "ticks": "",
           "title": {
            "standoff": 15
           },
           "zerolinecolor": "white",
           "zerolinewidth": 2
          },
          "yaxis": {
           "automargin": true,
           "gridcolor": "white",
           "linecolor": "white",
           "ticks": "",
           "title": {
            "standoff": 15
           },
           "zerolinecolor": "white",
           "zerolinewidth": 2
          }
         }
        },
        "title": {
         "text": "Asset Returns and Ranks"
        },
        "width": 1000,
        "xaxis": {
         "anchor": "y",
         "domain": [
          0,
          1
         ],
         "title": {
          "text": "Symbol"
         }
        },
        "yaxis": {
         "anchor": "x",
         "domain": [
          0,
          1
         ],
         "title": {
          "text": "Return"
         }
        }
       }
      }
     },
     "metadata": {},
     "output_type": "display_data"
    }
   ],
   "source": [
    "# Create a bar plot to visualize ranks\n",
    "fig = px.bar(\n",
    "    end_of_measurement_period_return_df, \n",
    "    x='Symbol', \n",
    "    y='Return', \n",
    "    color='rank',  # Color by rank to visually distinguish groups\n",
    "    title=\"Asset Returns and Ranks\",\n",
    "    labels={'rank': 'Rank'},\n",
    ")\n",
    "\n",
    "# Customize layout for readability\n",
    "fig.update_layout(\n",
    "    xaxis_title=\"Symbol\",\n",
    "    yaxis_title=\"Return\",\n",
    "    coloraxis_colorbar=dict(title=\"Rank\"),\n",
    "    width=1000,\n",
    "    height=600\n",
    ")\n",
    "\n",
    "fig.show()\n"
   ]
  },
  {
   "cell_type": "code",
   "execution_count": 73,
   "metadata": {},
   "outputs": [
    {
     "data": {
      "text/plain": [
       "array(['AAVE/USDT', 'XRP/USDT'], dtype=object)"
      ]
     },
     "execution_count": 73,
     "metadata": {},
     "output_type": "execute_result"
    }
   ],
   "source": [
    "# select highest rank\n",
    "long_stocks = end_of_measurement_period_return_df.loc[end_of_measurement_period_return_df[\"rank\"]==10,\"Symbol\"].values\n",
    "long_stocks"
   ]
  },
  {
   "cell_type": "code",
   "execution_count": 74,
   "metadata": {},
   "outputs": [
    {
     "data": {
      "text/plain": [
       "array(['FLIP/USDT', 'PSP/USDT', 'WLD/USDT'], dtype=object)"
      ]
     },
     "execution_count": 74,
     "metadata": {},
     "output_type": "execute_result"
    }
   ],
   "source": [
    "# select lowest rank\n",
    "short_stocks = end_of_measurement_period_return_df.loc[end_of_measurement_period_return_df[\"rank\"]==0,\"Symbol\"].values\n",
    "short_stocks"
   ]
  },
  {
   "cell_type": "code",
   "execution_count": 75,
   "metadata": {},
   "outputs": [
    {
     "data": {
      "text/plain": [
       "symbol\n",
       "AAVE/USDT    0.207139\n",
       "XRP/USDT     1.049451\n",
       "Name: 2024-11-30 00:00:00+00:00, dtype: float64"
      ]
     },
     "execution_count": 75,
     "metadata": {},
     "output_type": "execute_result"
    }
   ],
   "source": [
    "# long strategy return\n",
    "from dateutil.relativedelta import relativedelta\n",
    "\n",
    "long_return_df = returns_df.loc[formation_period + relativedelta(months=1), \\\n",
    "                                   returns_df.columns.isin(long_stocks)]\n",
    "long_return_df"
   ]
  },
  {
   "cell_type": "code",
   "execution_count": 76,
   "metadata": {},
   "outputs": [
    {
     "data": {
      "text/plain": [
       "symbol\n",
       "FLIP/USDT    0.164617\n",
       "PSP/USDT     0.358639\n",
       "WLD/USDT     0.218900\n",
       "Name: 2024-11-30 00:00:00+00:00, dtype: float64"
      ]
     },
     "execution_count": 76,
     "metadata": {},
     "output_type": "execute_result"
    }
   ],
   "source": [
    "# short strategy return\n",
    "short_return_df = returns_df.loc[formation_period + relativedelta(months=1), \\\n",
    "                                   returns_df.columns.isin(short_stocks)]\n",
    "short_return_df"
   ]
  },
  {
   "cell_type": "code",
   "execution_count": 78,
   "metadata": {},
   "outputs": [],
   "source": [
    "# Define Strategy tester class\n",
    "class strategyTester:\n",
    "    \"\"\"Calculate metrics based on cumulative return\"\"\"\n",
    "\n",
    "    def __init__(self, df: pd.Series, period: str, riskfree_rate: float = 0.03, initial_wealth: int = 1000):\n",
    "        self.annualized_return_value = self.annualized_return(df, period)\n",
    "        self.annualized_volatility_value = self.annualized_volatility(df, period)\n",
    "        self.sharpe_ratio_value = self.sharpe_ratio(df, riskfree_rate)\n",
    "        self.max_drawdown_value = self.max_drawdown(df, initial_wealth)\n",
    "        \n",
    "    # annualized return\n",
    "    @staticmethod\n",
    "    def annualized_return(df: pd.Series, period: str):\n",
    "        if period == 'daily':\n",
    "            factor = 252\n",
    "        elif period == 'weekly':\n",
    "            factor = 52\n",
    "        elif period == 'monthly':\n",
    "            factor = 12\n",
    "        else:\n",
    "            raise ValueError(\"Invalid period. Use 'daily', 'weekly', or 'monthly'.\")\n",
    "        \n",
    "        annualized_return = (1 + df) ** (factor / len(df)) - 1\n",
    "        print(f\"Annualized return: {annualized_return}\")\n",
    "        return annualized_return\n",
    "\n",
    "    # annualized volatility\n",
    "    @staticmethod\n",
    "    def annualized_volatility(df: pd.Series, period: str):\n",
    "        if period == 'daily':\n",
    "            factor = 252\n",
    "        elif period == 'weekly':\n",
    "            factor = 52\n",
    "        elif period == 'monthly':\n",
    "            factor = 12\n",
    "        else:\n",
    "            raise ValueError(\"Invalid period. Use 'daily', 'weekly', or 'monthly'.\")\n",
    "        \n",
    "        volatility = df.std() * (factor ** 0.5)\n",
    "        print(f\"Annualized volatility: {volatility}\")\n",
    "        return volatility\n",
    "\n",
    "    # Sharpe ratio\n",
    "    @staticmethod\n",
    "    def sharpe_ratio(df: pd.Series, riskfree_rate: float = 0.03):\n",
    "        excess_return = df.mean() - riskfree_rate\n",
    "        volatility = df.std()\n",
    "        sharpe_ratio = excess_return / volatility if volatility != 0 else np.nan\n",
    "        print(f\"Sharpe ratio: {sharpe_ratio}\")\n",
    "        return sharpe_ratio\n",
    "\n",
    "    # Drawdown calculation\n",
    "    @staticmethod\n",
    "    def drawdown(return_series: pd.Series, initial_wealth: float = 100):\n",
    "        prior_peaks_series = return_series.cummax()\n",
    "        drawdown_series = (return_series - prior_peaks_series) / prior_peaks_series\n",
    "        return pd.DataFrame({\n",
    "            \"Wealth Index\": return_series,\n",
    "            \"Prior Peaks\": prior_peaks_series,\n",
    "            \"Drawdown\": drawdown_series\n",
    "        })\n",
    "    \n",
    "    # Max drawdown\n",
    "    @staticmethod\n",
    "    def max_drawdown(df: pd.Series, initial_wealth):\n",
    "        drawdown_df = strategyTester.drawdown(df, initial_wealth)\n",
    "        max_drawdown = drawdown_df[\"Drawdown\"].min()\n",
    "        print(f\"Max drawdown: {max_drawdown} with initial wealth: {initial_wealth}\")\n",
    "        return max_drawdown\n"
   ]
  },
  {
   "cell_type": "code",
   "execution_count": 79,
   "metadata": {},
   "outputs": [
    {
     "name": "stdout",
     "output_type": "stream",
     "text": [
      "Annualized return: symbol\n",
      "AAVE/USDT     2.094163\n",
      "XRP/USDT     73.101101\n",
      "Name: 2024-11-30 00:00:00+00:00, dtype: float64\n",
      "Annualized volatility: 2.063234077546209\n",
      "Sharpe ratio: 1.0045168941574942\n",
      "Max drawdown: 0.0 with initial wealth: 1000\n"
     ]
    }
   ],
   "source": [
    "# long momentum strategy test\n",
    "long_momentum_strategy_test = strategyTester(long_return_df, 'monthly', 0.03, 1000)"
   ]
  },
  {
   "cell_type": "code",
   "execution_count": 80,
   "metadata": {},
   "outputs": [
    {
     "name": "stdout",
     "output_type": "stream",
     "text": [
      "Annualized return: symbol\n",
      "FLIP/USDT    0.839641\n",
      "PSP/USDT     2.407350\n",
      "WLD/USDT     1.207352\n",
      "Name: 2024-11-30 00:00:00+00:00, dtype: float64\n",
      "Annualized volatility: 0.34675151190251946\n",
      "Sharpe ratio: 2.1717138508676643\n",
      "Max drawdown: -0.38963880613585555 with initial wealth: 1000\n"
     ]
    }
   ],
   "source": [
    "# short momentum strategy test\n",
    "short_momentum_strategy_test = strategyTester(short_return_df, 'monthly', 0.03, 1000)"
   ]
  },
  {
   "cell_type": "code",
   "execution_count": 77,
   "metadata": {},
   "outputs": [
    {
     "data": {
      "application/vnd.plotly.v1+json": {
       "config": {
        "plotlyServerURL": "https://plot.ly"
       },
       "data": [
        {
         "marker": {
          "color": "blue"
         },
         "name": "Long",
         "type": "bar",
         "x": [
          "AAVE/USDT",
          "XRP/USDT"
         ],
         "y": [
          0.20713876446552315,
          1.0494505494505484
         ]
        },
        {
         "marker": {
          "color": "red"
         },
         "name": "Short",
         "type": "bar",
         "x": [
          "FLIP/USDT",
          "PSP/USDT",
          "WLD/USDT"
         ],
         "y": [
          0.16461731493099108,
          0.3586393167384485,
          0.21889952153110048
         ]
        }
       ],
       "layout": {
        "height": 500,
        "legend": {
         "title": {
          "text": "Strategies"
         }
        },
        "template": {
         "data": {
          "bar": [
           {
            "error_x": {
             "color": "#2a3f5f"
            },
            "error_y": {
             "color": "#2a3f5f"
            },
            "marker": {
             "line": {
              "color": "#E5ECF6",
              "width": 0.5
             },
             "pattern": {
              "fillmode": "overlay",
              "size": 10,
              "solidity": 0.2
             }
            },
            "type": "bar"
           }
          ],
          "barpolar": [
           {
            "marker": {
             "line": {
              "color": "#E5ECF6",
              "width": 0.5
             },
             "pattern": {
              "fillmode": "overlay",
              "size": 10,
              "solidity": 0.2
             }
            },
            "type": "barpolar"
           }
          ],
          "carpet": [
           {
            "aaxis": {
             "endlinecolor": "#2a3f5f",
             "gridcolor": "white",
             "linecolor": "white",
             "minorgridcolor": "white",
             "startlinecolor": "#2a3f5f"
            },
            "baxis": {
             "endlinecolor": "#2a3f5f",
             "gridcolor": "white",
             "linecolor": "white",
             "minorgridcolor": "white",
             "startlinecolor": "#2a3f5f"
            },
            "type": "carpet"
           }
          ],
          "choropleth": [
           {
            "colorbar": {
             "outlinewidth": 0,
             "ticks": ""
            },
            "type": "choropleth"
           }
          ],
          "contour": [
           {
            "colorbar": {
             "outlinewidth": 0,
             "ticks": ""
            },
            "colorscale": [
             [
              0,
              "#0d0887"
             ],
             [
              0.1111111111111111,
              "#46039f"
             ],
             [
              0.2222222222222222,
              "#7201a8"
             ],
             [
              0.3333333333333333,
              "#9c179e"
             ],
             [
              0.4444444444444444,
              "#bd3786"
             ],
             [
              0.5555555555555556,
              "#d8576b"
             ],
             [
              0.6666666666666666,
              "#ed7953"
             ],
             [
              0.7777777777777778,
              "#fb9f3a"
             ],
             [
              0.8888888888888888,
              "#fdca26"
             ],
             [
              1,
              "#f0f921"
             ]
            ],
            "type": "contour"
           }
          ],
          "contourcarpet": [
           {
            "colorbar": {
             "outlinewidth": 0,
             "ticks": ""
            },
            "type": "contourcarpet"
           }
          ],
          "heatmap": [
           {
            "colorbar": {
             "outlinewidth": 0,
             "ticks": ""
            },
            "colorscale": [
             [
              0,
              "#0d0887"
             ],
             [
              0.1111111111111111,
              "#46039f"
             ],
             [
              0.2222222222222222,
              "#7201a8"
             ],
             [
              0.3333333333333333,
              "#9c179e"
             ],
             [
              0.4444444444444444,
              "#bd3786"
             ],
             [
              0.5555555555555556,
              "#d8576b"
             ],
             [
              0.6666666666666666,
              "#ed7953"
             ],
             [
              0.7777777777777778,
              "#fb9f3a"
             ],
             [
              0.8888888888888888,
              "#fdca26"
             ],
             [
              1,
              "#f0f921"
             ]
            ],
            "type": "heatmap"
           }
          ],
          "heatmapgl": [
           {
            "colorbar": {
             "outlinewidth": 0,
             "ticks": ""
            },
            "colorscale": [
             [
              0,
              "#0d0887"
             ],
             [
              0.1111111111111111,
              "#46039f"
             ],
             [
              0.2222222222222222,
              "#7201a8"
             ],
             [
              0.3333333333333333,
              "#9c179e"
             ],
             [
              0.4444444444444444,
              "#bd3786"
             ],
             [
              0.5555555555555556,
              "#d8576b"
             ],
             [
              0.6666666666666666,
              "#ed7953"
             ],
             [
              0.7777777777777778,
              "#fb9f3a"
             ],
             [
              0.8888888888888888,
              "#fdca26"
             ],
             [
              1,
              "#f0f921"
             ]
            ],
            "type": "heatmapgl"
           }
          ],
          "histogram": [
           {
            "marker": {
             "pattern": {
              "fillmode": "overlay",
              "size": 10,
              "solidity": 0.2
             }
            },
            "type": "histogram"
           }
          ],
          "histogram2d": [
           {
            "colorbar": {
             "outlinewidth": 0,
             "ticks": ""
            },
            "colorscale": [
             [
              0,
              "#0d0887"
             ],
             [
              0.1111111111111111,
              "#46039f"
             ],
             [
              0.2222222222222222,
              "#7201a8"
             ],
             [
              0.3333333333333333,
              "#9c179e"
             ],
             [
              0.4444444444444444,
              "#bd3786"
             ],
             [
              0.5555555555555556,
              "#d8576b"
             ],
             [
              0.6666666666666666,
              "#ed7953"
             ],
             [
              0.7777777777777778,
              "#fb9f3a"
             ],
             [
              0.8888888888888888,
              "#fdca26"
             ],
             [
              1,
              "#f0f921"
             ]
            ],
            "type": "histogram2d"
           }
          ],
          "histogram2dcontour": [
           {
            "colorbar": {
             "outlinewidth": 0,
             "ticks": ""
            },
            "colorscale": [
             [
              0,
              "#0d0887"
             ],
             [
              0.1111111111111111,
              "#46039f"
             ],
             [
              0.2222222222222222,
              "#7201a8"
             ],
             [
              0.3333333333333333,
              "#9c179e"
             ],
             [
              0.4444444444444444,
              "#bd3786"
             ],
             [
              0.5555555555555556,
              "#d8576b"
             ],
             [
              0.6666666666666666,
              "#ed7953"
             ],
             [
              0.7777777777777778,
              "#fb9f3a"
             ],
             [
              0.8888888888888888,
              "#fdca26"
             ],
             [
              1,
              "#f0f921"
             ]
            ],
            "type": "histogram2dcontour"
           }
          ],
          "mesh3d": [
           {
            "colorbar": {
             "outlinewidth": 0,
             "ticks": ""
            },
            "type": "mesh3d"
           }
          ],
          "parcoords": [
           {
            "line": {
             "colorbar": {
              "outlinewidth": 0,
              "ticks": ""
             }
            },
            "type": "parcoords"
           }
          ],
          "pie": [
           {
            "automargin": true,
            "type": "pie"
           }
          ],
          "scatter": [
           {
            "fillpattern": {
             "fillmode": "overlay",
             "size": 10,
             "solidity": 0.2
            },
            "type": "scatter"
           }
          ],
          "scatter3d": [
           {
            "line": {
             "colorbar": {
              "outlinewidth": 0,
              "ticks": ""
             }
            },
            "marker": {
             "colorbar": {
              "outlinewidth": 0,
              "ticks": ""
             }
            },
            "type": "scatter3d"
           }
          ],
          "scattercarpet": [
           {
            "marker": {
             "colorbar": {
              "outlinewidth": 0,
              "ticks": ""
             }
            },
            "type": "scattercarpet"
           }
          ],
          "scattergeo": [
           {
            "marker": {
             "colorbar": {
              "outlinewidth": 0,
              "ticks": ""
             }
            },
            "type": "scattergeo"
           }
          ],
          "scattergl": [
           {
            "marker": {
             "colorbar": {
              "outlinewidth": 0,
              "ticks": ""
             }
            },
            "type": "scattergl"
           }
          ],
          "scattermapbox": [
           {
            "marker": {
             "colorbar": {
              "outlinewidth": 0,
              "ticks": ""
             }
            },
            "type": "scattermapbox"
           }
          ],
          "scatterpolar": [
           {
            "marker": {
             "colorbar": {
              "outlinewidth": 0,
              "ticks": ""
             }
            },
            "type": "scatterpolar"
           }
          ],
          "scatterpolargl": [
           {
            "marker": {
             "colorbar": {
              "outlinewidth": 0,
              "ticks": ""
             }
            },
            "type": "scatterpolargl"
           }
          ],
          "scatterternary": [
           {
            "marker": {
             "colorbar": {
              "outlinewidth": 0,
              "ticks": ""
             }
            },
            "type": "scatterternary"
           }
          ],
          "surface": [
           {
            "colorbar": {
             "outlinewidth": 0,
             "ticks": ""
            },
            "colorscale": [
             [
              0,
              "#0d0887"
             ],
             [
              0.1111111111111111,
              "#46039f"
             ],
             [
              0.2222222222222222,
              "#7201a8"
             ],
             [
              0.3333333333333333,
              "#9c179e"
             ],
             [
              0.4444444444444444,
              "#bd3786"
             ],
             [
              0.5555555555555556,
              "#d8576b"
             ],
             [
              0.6666666666666666,
              "#ed7953"
             ],
             [
              0.7777777777777778,
              "#fb9f3a"
             ],
             [
              0.8888888888888888,
              "#fdca26"
             ],
             [
              1,
              "#f0f921"
             ]
            ],
            "type": "surface"
           }
          ],
          "table": [
           {
            "cells": {
             "fill": {
              "color": "#EBF0F8"
             },
             "line": {
              "color": "white"
             }
            },
            "header": {
             "fill": {
              "color": "#C8D4E3"
             },
             "line": {
              "color": "white"
             }
            },
            "type": "table"
           }
          ]
         },
         "layout": {
          "annotationdefaults": {
           "arrowcolor": "#2a3f5f",
           "arrowhead": 0,
           "arrowwidth": 1
          },
          "autotypenumbers": "strict",
          "coloraxis": {
           "colorbar": {
            "outlinewidth": 0,
            "ticks": ""
           }
          },
          "colorscale": {
           "diverging": [
            [
             0,
             "#8e0152"
            ],
            [
             0.1,
             "#c51b7d"
            ],
            [
             0.2,
             "#de77ae"
            ],
            [
             0.3,
             "#f1b6da"
            ],
            [
             0.4,
             "#fde0ef"
            ],
            [
             0.5,
             "#f7f7f7"
            ],
            [
             0.6,
             "#e6f5d0"
            ],
            [
             0.7,
             "#b8e186"
            ],
            [
             0.8,
             "#7fbc41"
            ],
            [
             0.9,
             "#4d9221"
            ],
            [
             1,
             "#276419"
            ]
           ],
           "sequential": [
            [
             0,
             "#0d0887"
            ],
            [
             0.1111111111111111,
             "#46039f"
            ],
            [
             0.2222222222222222,
             "#7201a8"
            ],
            [
             0.3333333333333333,
             "#9c179e"
            ],
            [
             0.4444444444444444,
             "#bd3786"
            ],
            [
             0.5555555555555556,
             "#d8576b"
            ],
            [
             0.6666666666666666,
             "#ed7953"
            ],
            [
             0.7777777777777778,
             "#fb9f3a"
            ],
            [
             0.8888888888888888,
             "#fdca26"
            ],
            [
             1,
             "#f0f921"
            ]
           ],
           "sequentialminus": [
            [
             0,
             "#0d0887"
            ],
            [
             0.1111111111111111,
             "#46039f"
            ],
            [
             0.2222222222222222,
             "#7201a8"
            ],
            [
             0.3333333333333333,
             "#9c179e"
            ],
            [
             0.4444444444444444,
             "#bd3786"
            ],
            [
             0.5555555555555556,
             "#d8576b"
            ],
            [
             0.6666666666666666,
             "#ed7953"
            ],
            [
             0.7777777777777778,
             "#fb9f3a"
            ],
            [
             0.8888888888888888,
             "#fdca26"
            ],
            [
             1,
             "#f0f921"
            ]
           ]
          },
          "colorway": [
           "#636efa",
           "#EF553B",
           "#00cc96",
           "#ab63fa",
           "#FFA15A",
           "#19d3f3",
           "#FF6692",
           "#B6E880",
           "#FF97FF",
           "#FECB52"
          ],
          "font": {
           "color": "#2a3f5f"
          },
          "geo": {
           "bgcolor": "white",
           "lakecolor": "white",
           "landcolor": "#E5ECF6",
           "showlakes": true,
           "showland": true,
           "subunitcolor": "white"
          },
          "hoverlabel": {
           "align": "left"
          },
          "hovermode": "closest",
          "mapbox": {
           "style": "light"
          },
          "paper_bgcolor": "white",
          "plot_bgcolor": "#E5ECF6",
          "polar": {
           "angularaxis": {
            "gridcolor": "white",
            "linecolor": "white",
            "ticks": ""
           },
           "bgcolor": "#E5ECF6",
           "radialaxis": {
            "gridcolor": "white",
            "linecolor": "white",
            "ticks": ""
           }
          },
          "scene": {
           "xaxis": {
            "backgroundcolor": "#E5ECF6",
            "gridcolor": "white",
            "gridwidth": 2,
            "linecolor": "white",
            "showbackground": true,
            "ticks": "",
            "zerolinecolor": "white"
           },
           "yaxis": {
            "backgroundcolor": "#E5ECF6",
            "gridcolor": "white",
            "gridwidth": 2,
            "linecolor": "white",
            "showbackground": true,
            "ticks": "",
            "zerolinecolor": "white"
           },
           "zaxis": {
            "backgroundcolor": "#E5ECF6",
            "gridcolor": "white",
            "gridwidth": 2,
            "linecolor": "white",
            "showbackground": true,
            "ticks": "",
            "zerolinecolor": "white"
           }
          },
          "shapedefaults": {
           "line": {
            "color": "#2a3f5f"
           }
          },
          "ternary": {
           "aaxis": {
            "gridcolor": "white",
            "linecolor": "white",
            "ticks": ""
           },
           "baxis": {
            "gridcolor": "white",
            "linecolor": "white",
            "ticks": ""
           },
           "bgcolor": "#E5ECF6",
           "caxis": {
            "gridcolor": "white",
            "linecolor": "white",
            "ticks": ""
           }
          },
          "title": {
           "x": 0.05
          },
          "xaxis": {
           "automargin": true,
           "gridcolor": "white",
           "linecolor": "white",
           "ticks": "",
           "title": {
            "standoff": 15
           },
           "zerolinecolor": "white",
           "zerolinewidth": 2
          },
          "yaxis": {
           "automargin": true,
           "gridcolor": "white",
           "linecolor": "white",
           "ticks": "",
           "title": {
            "standoff": 15
           },
           "zerolinecolor": "white",
           "zerolinewidth": 2
          }
         }
        },
        "title": {
         "text": "Comparison of monthly Long and Short momentum strategies"
        },
        "width": 1400,
        "xaxis": {
         "title": {
          "text": "Symbol"
         }
        },
        "yaxis": {
         "title": {
          "text": "Cumulative Returns"
         }
        }
       }
      }
     },
     "metadata": {},
     "output_type": "display_data"
    }
   ],
   "source": [
    "# Comparison of monthly Long and Short momentum strategies\n",
    "# Initialize an empty figure\n",
    "fig = go.Figure()\n",
    "\n",
    "# Add the first strategy (e.g., long strategy)\n",
    "fig.add_trace(go.Bar(x=long_return_df.index, y=long_return_df.values, marker_color='blue', name=\"Long\"))\n",
    "\n",
    "# Add the second strategy (e.g., short strategy)\n",
    "fig.add_trace(go.Bar(x=short_return_df.index, y=short_return_df.values, marker_color='red', name=\"Short\"))\n",
    "\n",
    "# Update layout for title and axis labels\n",
    "fig.update_layout(\n",
    "    title=\"Comparison of monthly Long and Short momentum strategies\",\n",
    "    width=1400,\n",
    "    height=500,\n",
    "    xaxis_title=\"Symbol\",\n",
    "    yaxis_title=\"Cumulative Returns\",\n",
    "    legend_title=\"Strategies\",\n",
    ")\n",
    "\n",
    "# Show the plot\n",
    "fig.show()"
   ]
  },
  {
   "cell_type": "code",
   "execution_count": 81,
   "metadata": {},
   "outputs": [
    {
     "data": {
      "application/vnd.plotly.v1+json": {
       "config": {
        "plotlyServerURL": "https://plot.ly"
       },
       "data": [
        {
         "marker": {
          "color": "blue"
         },
         "name": "Long",
         "type": "bar",
         "x": [
          "Annualized Return (Long)",
          "Max Drawdown (Long)"
         ],
         "y": [
          37.59763214818039,
          0
         ]
        },
        {
         "marker": {
          "color": "red"
         },
         "name": "Short",
         "type": "bar",
         "x": [
          "Annualized Return (Short)",
          "Max Drawdown (Short)"
         ],
         "y": [
          1.4847808121558732,
          -0.38963880613585555
         ]
        }
       ],
       "layout": {
        "barmode": "group",
        "height": 400,
        "template": {
         "data": {
          "bar": [
           {
            "error_x": {
             "color": "#2a3f5f"
            },
            "error_y": {
             "color": "#2a3f5f"
            },
            "marker": {
             "line": {
              "color": "#E5ECF6",
              "width": 0.5
             },
             "pattern": {
              "fillmode": "overlay",
              "size": 10,
              "solidity": 0.2
             }
            },
            "type": "bar"
           }
          ],
          "barpolar": [
           {
            "marker": {
             "line": {
              "color": "#E5ECF6",
              "width": 0.5
             },
             "pattern": {
              "fillmode": "overlay",
              "size": 10,
              "solidity": 0.2
             }
            },
            "type": "barpolar"
           }
          ],
          "carpet": [
           {
            "aaxis": {
             "endlinecolor": "#2a3f5f",
             "gridcolor": "white",
             "linecolor": "white",
             "minorgridcolor": "white",
             "startlinecolor": "#2a3f5f"
            },
            "baxis": {
             "endlinecolor": "#2a3f5f",
             "gridcolor": "white",
             "linecolor": "white",
             "minorgridcolor": "white",
             "startlinecolor": "#2a3f5f"
            },
            "type": "carpet"
           }
          ],
          "choropleth": [
           {
            "colorbar": {
             "outlinewidth": 0,
             "ticks": ""
            },
            "type": "choropleth"
           }
          ],
          "contour": [
           {
            "colorbar": {
             "outlinewidth": 0,
             "ticks": ""
            },
            "colorscale": [
             [
              0,
              "#0d0887"
             ],
             [
              0.1111111111111111,
              "#46039f"
             ],
             [
              0.2222222222222222,
              "#7201a8"
             ],
             [
              0.3333333333333333,
              "#9c179e"
             ],
             [
              0.4444444444444444,
              "#bd3786"
             ],
             [
              0.5555555555555556,
              "#d8576b"
             ],
             [
              0.6666666666666666,
              "#ed7953"
             ],
             [
              0.7777777777777778,
              "#fb9f3a"
             ],
             [
              0.8888888888888888,
              "#fdca26"
             ],
             [
              1,
              "#f0f921"
             ]
            ],
            "type": "contour"
           }
          ],
          "contourcarpet": [
           {
            "colorbar": {
             "outlinewidth": 0,
             "ticks": ""
            },
            "type": "contourcarpet"
           }
          ],
          "heatmap": [
           {
            "colorbar": {
             "outlinewidth": 0,
             "ticks": ""
            },
            "colorscale": [
             [
              0,
              "#0d0887"
             ],
             [
              0.1111111111111111,
              "#46039f"
             ],
             [
              0.2222222222222222,
              "#7201a8"
             ],
             [
              0.3333333333333333,
              "#9c179e"
             ],
             [
              0.4444444444444444,
              "#bd3786"
             ],
             [
              0.5555555555555556,
              "#d8576b"
             ],
             [
              0.6666666666666666,
              "#ed7953"
             ],
             [
              0.7777777777777778,
              "#fb9f3a"
             ],
             [
              0.8888888888888888,
              "#fdca26"
             ],
             [
              1,
              "#f0f921"
             ]
            ],
            "type": "heatmap"
           }
          ],
          "heatmapgl": [
           {
            "colorbar": {
             "outlinewidth": 0,
             "ticks": ""
            },
            "colorscale": [
             [
              0,
              "#0d0887"
             ],
             [
              0.1111111111111111,
              "#46039f"
             ],
             [
              0.2222222222222222,
              "#7201a8"
             ],
             [
              0.3333333333333333,
              "#9c179e"
             ],
             [
              0.4444444444444444,
              "#bd3786"
             ],
             [
              0.5555555555555556,
              "#d8576b"
             ],
             [
              0.6666666666666666,
              "#ed7953"
             ],
             [
              0.7777777777777778,
              "#fb9f3a"
             ],
             [
              0.8888888888888888,
              "#fdca26"
             ],
             [
              1,
              "#f0f921"
             ]
            ],
            "type": "heatmapgl"
           }
          ],
          "histogram": [
           {
            "marker": {
             "pattern": {
              "fillmode": "overlay",
              "size": 10,
              "solidity": 0.2
             }
            },
            "type": "histogram"
           }
          ],
          "histogram2d": [
           {
            "colorbar": {
             "outlinewidth": 0,
             "ticks": ""
            },
            "colorscale": [
             [
              0,
              "#0d0887"
             ],
             [
              0.1111111111111111,
              "#46039f"
             ],
             [
              0.2222222222222222,
              "#7201a8"
             ],
             [
              0.3333333333333333,
              "#9c179e"
             ],
             [
              0.4444444444444444,
              "#bd3786"
             ],
             [
              0.5555555555555556,
              "#d8576b"
             ],
             [
              0.6666666666666666,
              "#ed7953"
             ],
             [
              0.7777777777777778,
              "#fb9f3a"
             ],
             [
              0.8888888888888888,
              "#fdca26"
             ],
             [
              1,
              "#f0f921"
             ]
            ],
            "type": "histogram2d"
           }
          ],
          "histogram2dcontour": [
           {
            "colorbar": {
             "outlinewidth": 0,
             "ticks": ""
            },
            "colorscale": [
             [
              0,
              "#0d0887"
             ],
             [
              0.1111111111111111,
              "#46039f"
             ],
             [
              0.2222222222222222,
              "#7201a8"
             ],
             [
              0.3333333333333333,
              "#9c179e"
             ],
             [
              0.4444444444444444,
              "#bd3786"
             ],
             [
              0.5555555555555556,
              "#d8576b"
             ],
             [
              0.6666666666666666,
              "#ed7953"
             ],
             [
              0.7777777777777778,
              "#fb9f3a"
             ],
             [
              0.8888888888888888,
              "#fdca26"
             ],
             [
              1,
              "#f0f921"
             ]
            ],
            "type": "histogram2dcontour"
           }
          ],
          "mesh3d": [
           {
            "colorbar": {
             "outlinewidth": 0,
             "ticks": ""
            },
            "type": "mesh3d"
           }
          ],
          "parcoords": [
           {
            "line": {
             "colorbar": {
              "outlinewidth": 0,
              "ticks": ""
             }
            },
            "type": "parcoords"
           }
          ],
          "pie": [
           {
            "automargin": true,
            "type": "pie"
           }
          ],
          "scatter": [
           {
            "fillpattern": {
             "fillmode": "overlay",
             "size": 10,
             "solidity": 0.2
            },
            "type": "scatter"
           }
          ],
          "scatter3d": [
           {
            "line": {
             "colorbar": {
              "outlinewidth": 0,
              "ticks": ""
             }
            },
            "marker": {
             "colorbar": {
              "outlinewidth": 0,
              "ticks": ""
             }
            },
            "type": "scatter3d"
           }
          ],
          "scattercarpet": [
           {
            "marker": {
             "colorbar": {
              "outlinewidth": 0,
              "ticks": ""
             }
            },
            "type": "scattercarpet"
           }
          ],
          "scattergeo": [
           {
            "marker": {
             "colorbar": {
              "outlinewidth": 0,
              "ticks": ""
             }
            },
            "type": "scattergeo"
           }
          ],
          "scattergl": [
           {
            "marker": {
             "colorbar": {
              "outlinewidth": 0,
              "ticks": ""
             }
            },
            "type": "scattergl"
           }
          ],
          "scattermapbox": [
           {
            "marker": {
             "colorbar": {
              "outlinewidth": 0,
              "ticks": ""
             }
            },
            "type": "scattermapbox"
           }
          ],
          "scatterpolar": [
           {
            "marker": {
             "colorbar": {
              "outlinewidth": 0,
              "ticks": ""
             }
            },
            "type": "scatterpolar"
           }
          ],
          "scatterpolargl": [
           {
            "marker": {
             "colorbar": {
              "outlinewidth": 0,
              "ticks": ""
             }
            },
            "type": "scatterpolargl"
           }
          ],
          "scatterternary": [
           {
            "marker": {
             "colorbar": {
              "outlinewidth": 0,
              "ticks": ""
             }
            },
            "type": "scatterternary"
           }
          ],
          "surface": [
           {
            "colorbar": {
             "outlinewidth": 0,
             "ticks": ""
            },
            "colorscale": [
             [
              0,
              "#0d0887"
             ],
             [
              0.1111111111111111,
              "#46039f"
             ],
             [
              0.2222222222222222,
              "#7201a8"
             ],
             [
              0.3333333333333333,
              "#9c179e"
             ],
             [
              0.4444444444444444,
              "#bd3786"
             ],
             [
              0.5555555555555556,
              "#d8576b"
             ],
             [
              0.6666666666666666,
              "#ed7953"
             ],
             [
              0.7777777777777778,
              "#fb9f3a"
             ],
             [
              0.8888888888888888,
              "#fdca26"
             ],
             [
              1,
              "#f0f921"
             ]
            ],
            "type": "surface"
           }
          ],
          "table": [
           {
            "cells": {
             "fill": {
              "color": "#EBF0F8"
             },
             "line": {
              "color": "white"
             }
            },
            "header": {
             "fill": {
              "color": "#C8D4E3"
             },
             "line": {
              "color": "white"
             }
            },
            "type": "table"
           }
          ]
         },
         "layout": {
          "annotationdefaults": {
           "arrowcolor": "#2a3f5f",
           "arrowhead": 0,
           "arrowwidth": 1
          },
          "autotypenumbers": "strict",
          "coloraxis": {
           "colorbar": {
            "outlinewidth": 0,
            "ticks": ""
           }
          },
          "colorscale": {
           "diverging": [
            [
             0,
             "#8e0152"
            ],
            [
             0.1,
             "#c51b7d"
            ],
            [
             0.2,
             "#de77ae"
            ],
            [
             0.3,
             "#f1b6da"
            ],
            [
             0.4,
             "#fde0ef"
            ],
            [
             0.5,
             "#f7f7f7"
            ],
            [
             0.6,
             "#e6f5d0"
            ],
            [
             0.7,
             "#b8e186"
            ],
            [
             0.8,
             "#7fbc41"
            ],
            [
             0.9,
             "#4d9221"
            ],
            [
             1,
             "#276419"
            ]
           ],
           "sequential": [
            [
             0,
             "#0d0887"
            ],
            [
             0.1111111111111111,
             "#46039f"
            ],
            [
             0.2222222222222222,
             "#7201a8"
            ],
            [
             0.3333333333333333,
             "#9c179e"
            ],
            [
             0.4444444444444444,
             "#bd3786"
            ],
            [
             0.5555555555555556,
             "#d8576b"
            ],
            [
             0.6666666666666666,
             "#ed7953"
            ],
            [
             0.7777777777777778,
             "#fb9f3a"
            ],
            [
             0.8888888888888888,
             "#fdca26"
            ],
            [
             1,
             "#f0f921"
            ]
           ],
           "sequentialminus": [
            [
             0,
             "#0d0887"
            ],
            [
             0.1111111111111111,
             "#46039f"
            ],
            [
             0.2222222222222222,
             "#7201a8"
            ],
            [
             0.3333333333333333,
             "#9c179e"
            ],
            [
             0.4444444444444444,
             "#bd3786"
            ],
            [
             0.5555555555555556,
             "#d8576b"
            ],
            [
             0.6666666666666666,
             "#ed7953"
            ],
            [
             0.7777777777777778,
             "#fb9f3a"
            ],
            [
             0.8888888888888888,
             "#fdca26"
            ],
            [
             1,
             "#f0f921"
            ]
           ]
          },
          "colorway": [
           "#636efa",
           "#EF553B",
           "#00cc96",
           "#ab63fa",
           "#FFA15A",
           "#19d3f3",
           "#FF6692",
           "#B6E880",
           "#FF97FF",
           "#FECB52"
          ],
          "font": {
           "color": "#2a3f5f"
          },
          "geo": {
           "bgcolor": "white",
           "lakecolor": "white",
           "landcolor": "#E5ECF6",
           "showlakes": true,
           "showland": true,
           "subunitcolor": "white"
          },
          "hoverlabel": {
           "align": "left"
          },
          "hovermode": "closest",
          "mapbox": {
           "style": "light"
          },
          "paper_bgcolor": "white",
          "plot_bgcolor": "#E5ECF6",
          "polar": {
           "angularaxis": {
            "gridcolor": "white",
            "linecolor": "white",
            "ticks": ""
           },
           "bgcolor": "#E5ECF6",
           "radialaxis": {
            "gridcolor": "white",
            "linecolor": "white",
            "ticks": ""
           }
          },
          "scene": {
           "xaxis": {
            "backgroundcolor": "#E5ECF6",
            "gridcolor": "white",
            "gridwidth": 2,
            "linecolor": "white",
            "showbackground": true,
            "ticks": "",
            "zerolinecolor": "white"
           },
           "yaxis": {
            "backgroundcolor": "#E5ECF6",
            "gridcolor": "white",
            "gridwidth": 2,
            "linecolor": "white",
            "showbackground": true,
            "ticks": "",
            "zerolinecolor": "white"
           },
           "zaxis": {
            "backgroundcolor": "#E5ECF6",
            "gridcolor": "white",
            "gridwidth": 2,
            "linecolor": "white",
            "showbackground": true,
            "ticks": "",
            "zerolinecolor": "white"
           }
          },
          "shapedefaults": {
           "line": {
            "color": "#2a3f5f"
           }
          },
          "ternary": {
           "aaxis": {
            "gridcolor": "white",
            "linecolor": "white",
            "ticks": ""
           },
           "baxis": {
            "gridcolor": "white",
            "linecolor": "white",
            "ticks": ""
           },
           "bgcolor": "#E5ECF6",
           "caxis": {
            "gridcolor": "white",
            "linecolor": "white",
            "ticks": ""
           }
          },
          "title": {
           "x": 0.05
          },
          "xaxis": {
           "automargin": true,
           "gridcolor": "white",
           "linecolor": "white",
           "ticks": "",
           "title": {
            "standoff": 15
           },
           "zerolinecolor": "white",
           "zerolinewidth": 2
          },
          "yaxis": {
           "automargin": true,
           "gridcolor": "white",
           "linecolor": "white",
           "ticks": "",
           "title": {
            "standoff": 15
           },
           "zerolinecolor": "white",
           "zerolinewidth": 2
          }
         }
        },
        "title": {
         "text": "Annualized Return and Max Drawdown from Long and Short Strategies"
        },
        "width": 800,
        "xaxis": {
         "title": {
          "text": "Metrics"
         }
        },
        "yaxis": {
         "title": {
          "text": "Values"
         }
        }
       }
      }
     },
     "metadata": {},
     "output_type": "display_data"
    }
   ],
   "source": [
    "# Annualized Return and Max Drawdown from Long and Short Strategies\n",
    "# Initialize an empty figure\n",
    "fig = go.Figure()\n",
    "\n",
    "# Add traces for Long strategy\n",
    "fig.add_trace(go.Bar(\n",
    "    x=[\"Annualized Return (Long)\", \"Max Drawdown (Long)\"], \n",
    "    y=[long_momentum_strategy_test.annualized_return_value.mean(), long_momentum_strategy_test.max_drawdown_value], \n",
    "    marker_color='blue', \n",
    "    name=\"Long\"\n",
    "))\n",
    "\n",
    "# Add traces for Short strategy\n",
    "fig.add_trace(go.Bar(\n",
    "    x=[\"Annualized Return (Short)\", \"Max Drawdown (Short)\"], \n",
    "    y=[short_momentum_strategy_test.annualized_return_value.mean(), short_momentum_strategy_test.max_drawdown_value], \n",
    "    marker_color='red', \n",
    "    name=\"Short\"\n",
    "))\n",
    "\n",
    "# Update layout\n",
    "fig.update_layout(\n",
    "    title=\"Annualized Return and Max Drawdown from Long and Short Strategies\",\n",
    "    xaxis_title=\"Metrics\",\n",
    "    yaxis_title=\"Values\",\n",
    "    barmode='group',  # Group bars by category\n",
    "    width=800,\n",
    "    height=400\n",
    ")\n",
    "\n",
    "# Show the plot\n",
    "fig.show()\n",
    "\n"
   ]
  },
  {
   "cell_type": "code",
   "execution_count": 82,
   "metadata": {},
   "outputs": [
    {
     "data": {
      "application/vnd.plotly.v1+json": {
       "config": {
        "plotlyServerURL": "https://plot.ly"
       },
       "data": [
        {
         "marker": {
          "color": "blue"
         },
         "name": "Long",
         "type": "bar",
         "x": [
          "Annualized Volatility(long)",
          "Sharpe Ratio(long)"
         ],
         "y": [
          2.063234077546209,
          1.0045168941574942
         ]
        },
        {
         "marker": {
          "color": "red"
         },
         "name": "Short",
         "type": "bar",
         "x": [
          "Annualized Volatility(short)",
          "Sharpe Ratio(short)"
         ],
         "y": [
          0.34675151190251946,
          2.1717138508676643
         ]
        }
       ],
       "layout": {
        "barmode": "group",
        "height": 400,
        "template": {
         "data": {
          "bar": [
           {
            "error_x": {
             "color": "#2a3f5f"
            },
            "error_y": {
             "color": "#2a3f5f"
            },
            "marker": {
             "line": {
              "color": "#E5ECF6",
              "width": 0.5
             },
             "pattern": {
              "fillmode": "overlay",
              "size": 10,
              "solidity": 0.2
             }
            },
            "type": "bar"
           }
          ],
          "barpolar": [
           {
            "marker": {
             "line": {
              "color": "#E5ECF6",
              "width": 0.5
             },
             "pattern": {
              "fillmode": "overlay",
              "size": 10,
              "solidity": 0.2
             }
            },
            "type": "barpolar"
           }
          ],
          "carpet": [
           {
            "aaxis": {
             "endlinecolor": "#2a3f5f",
             "gridcolor": "white",
             "linecolor": "white",
             "minorgridcolor": "white",
             "startlinecolor": "#2a3f5f"
            },
            "baxis": {
             "endlinecolor": "#2a3f5f",
             "gridcolor": "white",
             "linecolor": "white",
             "minorgridcolor": "white",
             "startlinecolor": "#2a3f5f"
            },
            "type": "carpet"
           }
          ],
          "choropleth": [
           {
            "colorbar": {
             "outlinewidth": 0,
             "ticks": ""
            },
            "type": "choropleth"
           }
          ],
          "contour": [
           {
            "colorbar": {
             "outlinewidth": 0,
             "ticks": ""
            },
            "colorscale": [
             [
              0,
              "#0d0887"
             ],
             [
              0.1111111111111111,
              "#46039f"
             ],
             [
              0.2222222222222222,
              "#7201a8"
             ],
             [
              0.3333333333333333,
              "#9c179e"
             ],
             [
              0.4444444444444444,
              "#bd3786"
             ],
             [
              0.5555555555555556,
              "#d8576b"
             ],
             [
              0.6666666666666666,
              "#ed7953"
             ],
             [
              0.7777777777777778,
              "#fb9f3a"
             ],
             [
              0.8888888888888888,
              "#fdca26"
             ],
             [
              1,
              "#f0f921"
             ]
            ],
            "type": "contour"
           }
          ],
          "contourcarpet": [
           {
            "colorbar": {
             "outlinewidth": 0,
             "ticks": ""
            },
            "type": "contourcarpet"
           }
          ],
          "heatmap": [
           {
            "colorbar": {
             "outlinewidth": 0,
             "ticks": ""
            },
            "colorscale": [
             [
              0,
              "#0d0887"
             ],
             [
              0.1111111111111111,
              "#46039f"
             ],
             [
              0.2222222222222222,
              "#7201a8"
             ],
             [
              0.3333333333333333,
              "#9c179e"
             ],
             [
              0.4444444444444444,
              "#bd3786"
             ],
             [
              0.5555555555555556,
              "#d8576b"
             ],
             [
              0.6666666666666666,
              "#ed7953"
             ],
             [
              0.7777777777777778,
              "#fb9f3a"
             ],
             [
              0.8888888888888888,
              "#fdca26"
             ],
             [
              1,
              "#f0f921"
             ]
            ],
            "type": "heatmap"
           }
          ],
          "heatmapgl": [
           {
            "colorbar": {
             "outlinewidth": 0,
             "ticks": ""
            },
            "colorscale": [
             [
              0,
              "#0d0887"
             ],
             [
              0.1111111111111111,
              "#46039f"
             ],
             [
              0.2222222222222222,
              "#7201a8"
             ],
             [
              0.3333333333333333,
              "#9c179e"
             ],
             [
              0.4444444444444444,
              "#bd3786"
             ],
             [
              0.5555555555555556,
              "#d8576b"
             ],
             [
              0.6666666666666666,
              "#ed7953"
             ],
             [
              0.7777777777777778,
              "#fb9f3a"
             ],
             [
              0.8888888888888888,
              "#fdca26"
             ],
             [
              1,
              "#f0f921"
             ]
            ],
            "type": "heatmapgl"
           }
          ],
          "histogram": [
           {
            "marker": {
             "pattern": {
              "fillmode": "overlay",
              "size": 10,
              "solidity": 0.2
             }
            },
            "type": "histogram"
           }
          ],
          "histogram2d": [
           {
            "colorbar": {
             "outlinewidth": 0,
             "ticks": ""
            },
            "colorscale": [
             [
              0,
              "#0d0887"
             ],
             [
              0.1111111111111111,
              "#46039f"
             ],
             [
              0.2222222222222222,
              "#7201a8"
             ],
             [
              0.3333333333333333,
              "#9c179e"
             ],
             [
              0.4444444444444444,
              "#bd3786"
             ],
             [
              0.5555555555555556,
              "#d8576b"
             ],
             [
              0.6666666666666666,
              "#ed7953"
             ],
             [
              0.7777777777777778,
              "#fb9f3a"
             ],
             [
              0.8888888888888888,
              "#fdca26"
             ],
             [
              1,
              "#f0f921"
             ]
            ],
            "type": "histogram2d"
           }
          ],
          "histogram2dcontour": [
           {
            "colorbar": {
             "outlinewidth": 0,
             "ticks": ""
            },
            "colorscale": [
             [
              0,
              "#0d0887"
             ],
             [
              0.1111111111111111,
              "#46039f"
             ],
             [
              0.2222222222222222,
              "#7201a8"
             ],
             [
              0.3333333333333333,
              "#9c179e"
             ],
             [
              0.4444444444444444,
              "#bd3786"
             ],
             [
              0.5555555555555556,
              "#d8576b"
             ],
             [
              0.6666666666666666,
              "#ed7953"
             ],
             [
              0.7777777777777778,
              "#fb9f3a"
             ],
             [
              0.8888888888888888,
              "#fdca26"
             ],
             [
              1,
              "#f0f921"
             ]
            ],
            "type": "histogram2dcontour"
           }
          ],
          "mesh3d": [
           {
            "colorbar": {
             "outlinewidth": 0,
             "ticks": ""
            },
            "type": "mesh3d"
           }
          ],
          "parcoords": [
           {
            "line": {
             "colorbar": {
              "outlinewidth": 0,
              "ticks": ""
             }
            },
            "type": "parcoords"
           }
          ],
          "pie": [
           {
            "automargin": true,
            "type": "pie"
           }
          ],
          "scatter": [
           {
            "fillpattern": {
             "fillmode": "overlay",
             "size": 10,
             "solidity": 0.2
            },
            "type": "scatter"
           }
          ],
          "scatter3d": [
           {
            "line": {
             "colorbar": {
              "outlinewidth": 0,
              "ticks": ""
             }
            },
            "marker": {
             "colorbar": {
              "outlinewidth": 0,
              "ticks": ""
             }
            },
            "type": "scatter3d"
           }
          ],
          "scattercarpet": [
           {
            "marker": {
             "colorbar": {
              "outlinewidth": 0,
              "ticks": ""
             }
            },
            "type": "scattercarpet"
           }
          ],
          "scattergeo": [
           {
            "marker": {
             "colorbar": {
              "outlinewidth": 0,
              "ticks": ""
             }
            },
            "type": "scattergeo"
           }
          ],
          "scattergl": [
           {
            "marker": {
             "colorbar": {
              "outlinewidth": 0,
              "ticks": ""
             }
            },
            "type": "scattergl"
           }
          ],
          "scattermapbox": [
           {
            "marker": {
             "colorbar": {
              "outlinewidth": 0,
              "ticks": ""
             }
            },
            "type": "scattermapbox"
           }
          ],
          "scatterpolar": [
           {
            "marker": {
             "colorbar": {
              "outlinewidth": 0,
              "ticks": ""
             }
            },
            "type": "scatterpolar"
           }
          ],
          "scatterpolargl": [
           {
            "marker": {
             "colorbar": {
              "outlinewidth": 0,
              "ticks": ""
             }
            },
            "type": "scatterpolargl"
           }
          ],
          "scatterternary": [
           {
            "marker": {
             "colorbar": {
              "outlinewidth": 0,
              "ticks": ""
             }
            },
            "type": "scatterternary"
           }
          ],
          "surface": [
           {
            "colorbar": {
             "outlinewidth": 0,
             "ticks": ""
            },
            "colorscale": [
             [
              0,
              "#0d0887"
             ],
             [
              0.1111111111111111,
              "#46039f"
             ],
             [
              0.2222222222222222,
              "#7201a8"
             ],
             [
              0.3333333333333333,
              "#9c179e"
             ],
             [
              0.4444444444444444,
              "#bd3786"
             ],
             [
              0.5555555555555556,
              "#d8576b"
             ],
             [
              0.6666666666666666,
              "#ed7953"
             ],
             [
              0.7777777777777778,
              "#fb9f3a"
             ],
             [
              0.8888888888888888,
              "#fdca26"
             ],
             [
              1,
              "#f0f921"
             ]
            ],
            "type": "surface"
           }
          ],
          "table": [
           {
            "cells": {
             "fill": {
              "color": "#EBF0F8"
             },
             "line": {
              "color": "white"
             }
            },
            "header": {
             "fill": {
              "color": "#C8D4E3"
             },
             "line": {
              "color": "white"
             }
            },
            "type": "table"
           }
          ]
         },
         "layout": {
          "annotationdefaults": {
           "arrowcolor": "#2a3f5f",
           "arrowhead": 0,
           "arrowwidth": 1
          },
          "autotypenumbers": "strict",
          "coloraxis": {
           "colorbar": {
            "outlinewidth": 0,
            "ticks": ""
           }
          },
          "colorscale": {
           "diverging": [
            [
             0,
             "#8e0152"
            ],
            [
             0.1,
             "#c51b7d"
            ],
            [
             0.2,
             "#de77ae"
            ],
            [
             0.3,
             "#f1b6da"
            ],
            [
             0.4,
             "#fde0ef"
            ],
            [
             0.5,
             "#f7f7f7"
            ],
            [
             0.6,
             "#e6f5d0"
            ],
            [
             0.7,
             "#b8e186"
            ],
            [
             0.8,
             "#7fbc41"
            ],
            [
             0.9,
             "#4d9221"
            ],
            [
             1,
             "#276419"
            ]
           ],
           "sequential": [
            [
             0,
             "#0d0887"
            ],
            [
             0.1111111111111111,
             "#46039f"
            ],
            [
             0.2222222222222222,
             "#7201a8"
            ],
            [
             0.3333333333333333,
             "#9c179e"
            ],
            [
             0.4444444444444444,
             "#bd3786"
            ],
            [
             0.5555555555555556,
             "#d8576b"
            ],
            [
             0.6666666666666666,
             "#ed7953"
            ],
            [
             0.7777777777777778,
             "#fb9f3a"
            ],
            [
             0.8888888888888888,
             "#fdca26"
            ],
            [
             1,
             "#f0f921"
            ]
           ],
           "sequentialminus": [
            [
             0,
             "#0d0887"
            ],
            [
             0.1111111111111111,
             "#46039f"
            ],
            [
             0.2222222222222222,
             "#7201a8"
            ],
            [
             0.3333333333333333,
             "#9c179e"
            ],
            [
             0.4444444444444444,
             "#bd3786"
            ],
            [
             0.5555555555555556,
             "#d8576b"
            ],
            [
             0.6666666666666666,
             "#ed7953"
            ],
            [
             0.7777777777777778,
             "#fb9f3a"
            ],
            [
             0.8888888888888888,
             "#fdca26"
            ],
            [
             1,
             "#f0f921"
            ]
           ]
          },
          "colorway": [
           "#636efa",
           "#EF553B",
           "#00cc96",
           "#ab63fa",
           "#FFA15A",
           "#19d3f3",
           "#FF6692",
           "#B6E880",
           "#FF97FF",
           "#FECB52"
          ],
          "font": {
           "color": "#2a3f5f"
          },
          "geo": {
           "bgcolor": "white",
           "lakecolor": "white",
           "landcolor": "#E5ECF6",
           "showlakes": true,
           "showland": true,
           "subunitcolor": "white"
          },
          "hoverlabel": {
           "align": "left"
          },
          "hovermode": "closest",
          "mapbox": {
           "style": "light"
          },
          "paper_bgcolor": "white",
          "plot_bgcolor": "#E5ECF6",
          "polar": {
           "angularaxis": {
            "gridcolor": "white",
            "linecolor": "white",
            "ticks": ""
           },
           "bgcolor": "#E5ECF6",
           "radialaxis": {
            "gridcolor": "white",
            "linecolor": "white",
            "ticks": ""
           }
          },
          "scene": {
           "xaxis": {
            "backgroundcolor": "#E5ECF6",
            "gridcolor": "white",
            "gridwidth": 2,
            "linecolor": "white",
            "showbackground": true,
            "ticks": "",
            "zerolinecolor": "white"
           },
           "yaxis": {
            "backgroundcolor": "#E5ECF6",
            "gridcolor": "white",
            "gridwidth": 2,
            "linecolor": "white",
            "showbackground": true,
            "ticks": "",
            "zerolinecolor": "white"
           },
           "zaxis": {
            "backgroundcolor": "#E5ECF6",
            "gridcolor": "white",
            "gridwidth": 2,
            "linecolor": "white",
            "showbackground": true,
            "ticks": "",
            "zerolinecolor": "white"
           }
          },
          "shapedefaults": {
           "line": {
            "color": "#2a3f5f"
           }
          },
          "ternary": {
           "aaxis": {
            "gridcolor": "white",
            "linecolor": "white",
            "ticks": ""
           },
           "baxis": {
            "gridcolor": "white",
            "linecolor": "white",
            "ticks": ""
           },
           "bgcolor": "#E5ECF6",
           "caxis": {
            "gridcolor": "white",
            "linecolor": "white",
            "ticks": ""
           }
          },
          "title": {
           "x": 0.05
          },
          "xaxis": {
           "automargin": true,
           "gridcolor": "white",
           "linecolor": "white",
           "ticks": "",
           "title": {
            "standoff": 15
           },
           "zerolinecolor": "white",
           "zerolinewidth": 2
          },
          "yaxis": {
           "automargin": true,
           "gridcolor": "white",
           "linecolor": "white",
           "ticks": "",
           "title": {
            "standoff": 15
           },
           "zerolinecolor": "white",
           "zerolinewidth": 2
          }
         }
        },
        "title": {
         "text": "Annualized Volatility and Max Drawdown from Long and Short Strategies"
        },
        "width": 800,
        "xaxis": {
         "title": {
          "text": "Metrics"
         }
        },
        "yaxis": {
         "title": {
          "text": "Metric Value"
         }
        }
       }
      }
     },
     "metadata": {},
     "output_type": "display_data"
    }
   ],
   "source": [
    "# Annualized Volatility and Max Drawdown from Long and Short Strategies\n",
    "# Create a figure\n",
    "fig = go.Figure()\n",
    "\n",
    "# Add bars for the Long Strategy - Volatility and Drawdown\n",
    "fig.add_trace(go.Bar(\n",
    "    x=[\"Annualized Volatility(long)\", \"Sharpe Ratio(long)\"], \n",
    "    y=[long_momentum_strategy_test.annualized_volatility_value, long_momentum_strategy_test.sharpe_ratio_value],\n",
    "    name=\"Long\",\n",
    "    marker_color='blue'\n",
    "))\n",
    "\n",
    "# Add bars for the Short Strategy - Volatility and Drawdown\n",
    "fig.add_trace(go.Bar(\n",
    "    x=[\"Annualized Volatility(short)\", \"Sharpe Ratio(short)\"], \n",
    "    y=[short_momentum_strategy_test.annualized_volatility_value, short_momentum_strategy_test.sharpe_ratio_value],\n",
    "    name=\"Short\",\n",
    "    marker_color='red'\n",
    "))\n",
    "\n",
    "# Update layout for grouped bars\n",
    "fig.update_layout(\n",
    "    title=\"Annualized Volatility and Max Drawdown from Long and Short Strategies\",\n",
    "    xaxis_title=\"Metrics\",\n",
    "    yaxis_title=\"Metric Value\",\n",
    "    barmode='group',  # Group bars side-by-side\n",
    "    width=800,\n",
    "    height=400\n",
    ")\n",
    "\n",
    "# Show the plot\n",
    "fig.show()\n"
   ]
  }
 ],
 "metadata": {
  "colab": {
   "authorship_tag": "ABX9TyPEBcgufjbBSFixya5jCUbT",
   "provenance": []
  },
  "kernelspec": {
   "display_name": "hmm",
   "language": "python",
   "name": "python3"
  },
  "language_info": {
   "codemirror_mode": {
    "name": "ipython",
    "version": 3
   },
   "file_extension": ".py",
   "mimetype": "text/x-python",
   "name": "python",
   "nbconvert_exporter": "python",
   "pygments_lexer": "ipython3",
   "version": "3.9.20"
  }
 },
 "nbformat": 4,
 "nbformat_minor": 0
}
