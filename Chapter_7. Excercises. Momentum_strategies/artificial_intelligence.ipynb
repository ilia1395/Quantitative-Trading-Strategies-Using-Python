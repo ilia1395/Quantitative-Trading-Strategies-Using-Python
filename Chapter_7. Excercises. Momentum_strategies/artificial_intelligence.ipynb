{
 "cells": [
  {
   "cell_type": "markdown",
   "metadata": {},
   "source": [
    "### Artificial intelligence monthly momemtum strategy"
   ]
  },
  {
   "cell_type": "code",
   "execution_count": 1,
   "metadata": {},
   "outputs": [
    {
     "name": "stdout",
     "output_type": "stream",
     "text": [
      "DeFi Symbols: ['NEAR/USDT', 'ICP/USDT', 'TAO/USDT', 'FET/USDT', 'RENDER/USDT', 'GRT/USDT', 'AIOZ/USDT', 'AKT/USDT', 'GRASS/USDT', 'ARKM/USDT', 'VIRTUAL/USDT', 'LPT/USDT', 'GLM/USDT', 'TRAC/USDT', 'IO/USDT', 'NOS/USDT', 'AGI/USDT', 'AGIX/USDT', 'FLUX/USDT', 'QUBIC/USDT', 'ZIG/USDT', 'SPEC/USDT', 'BASEDAI/USDT', 'OCEAN/USDT', 'IQ/USDT', 'CARV/USDT', 'HEART/USDT', 'OLAS/USDT', 'RLC/USDT', '0X0/USDT', 'NMR/USDT', 'PAAL/USDT', 'TOKEN/USDT', 'ORAI/USDT', 'NMT/USDT', 'POND/USDT', 'CGPT/USDT', 'PHB/USDT', 'PHA/USDT', 'LUNA/USDT', 'AITECH/USDT', 'NEURAL/USDT', 'ALI/USDT', 'GPU/USDT', 'TAI/USDT', 'RSS3/USDT', 'DEAI/USDT', 'CUDOS/USDT', 'ARC/USDT', 'AI/USDT', 'CTXC/USDT', 'CXT/USDT', 'PALM/USDT', 'FORT/USDT', 'OCTA/USDT', 'LMWR/USDT', 'NUM/USDT', 'AGRS/USDT', 'BOTTO/USDT', 'CLORE/USDT', 'LNQ/USDT', 'LAI/USDT', 'ALEPH/USDT', 'VAI/USDT', 'JKL/USDT', 'NAVI/USDT', 'HGPT/USDT', 'TRIAS/USDT', 'COMAI/USDT', 'DCD/USDT', 'GLQ/USDT', 'GTAI/USDT', 'SPECTRE/USDT', 'AIT/USDT', 'NAI/USDT', 'XMW/USDT', 'TIG/USDT', 'MOR/USDT', 'OORT/USDT', 'KEY/USDT', 'DNX/USDT', 'ENQAI/USDT', 'GSWIFT/USDT', 'SDAO/USDT', 'TRVL/USDT', 'BERRY/USDT', 'TWIN/USDT', 'SOUL/USDT', 'LMR/USDT', 'DCK/USDT', 'WMM/USDT', 'CERE/USDT', 'KIZUNA/USDT', 'OFN/USDT', 'SNS/USDT', 'BCUT/USDT', 'CSIX/USDT', 'ASTO/USDT', 'AGX/USDT', 'SNSY/USDT', 'BAD/USDT', 'APES/USDT', 'LTAI/USDT', 'VXV/USDT', 'OPTI/USDT', 'FAKEAI/USDT', 'CAI/USDT', 'ISP/USDT', 'TADA/USDT', 'UFI/USDT', 'MAN/USDT', 'AGENT/USDT', 'DBC/USDT', 'NRN/USDT', 'NOTAI/USDT', 'ROKO/USDT', 'OBI/USDT', 'HMND/USDT', 'SERV/USDT', 'AIUS/USDT', 'LUSH/USDT', 'PRE/USDT', 'VMINT/USDT', 'IMGNAI/USDT', 'MARSH/USDT', 'BOOT/USDT', 'EMC/USDT', 'GURU/USDT', 'VIS/USDT', 'MOZ/USDT', 'RING/USDT', 'SAI/USDT', 'SKAI/USDT', 'CHAPZ/USDT', 'SNIFT/USDT', 'HERA/USDT', 'VIA/USDT', 'CHRP/USDT', 'EAI/USDT', 'FROK/USDT', 'CQT/USDT', 'XALPHA/USDT', 'LKI/USDT', 'RAIN/USDT', 'SOLARIS/USDT', 'AIRI/USDT', 'NEURA/USDT', 'OCADA/USDT', 'MDAI/USDT', 'ARKI/USDT', 'VDA/USDT', 'MIND/USDT', 'QKNTL/USDT', 'AIKEK/USDT', 'KWAI/USDT', 'AIN/USDT', 'EYE/USDT', 'GMAC/USDT', 'TUA/USDT', 'MOOV/USDT', 'YAI/USDT', 'DOAI/USDT', 'GNY/USDT', 'MONAI/USDT', '2DAI/USDT', 'BCUBE/USDT', 'CDT/USDT', 'LILAI/USDT', 'MOCK/USDT', 'OCH/USDT', 'JIM/USDT', 'QUAD/USDT', 'NEURONI/USDT', 'NFAI/USDT', 'AIPG/USDT', 'EVEAI/USDT', 'MEMEAI/USDT', 'FILTER/USDT', 'BRG/USDT', 'AIMBOT/USDT', 'CND/USDT', 'AIEPK/USDT', 'SMARTCREDIT/USDT', 'ASCN/USDT', 'LIZA/USDT', 'DATA/USDT', 'VPS/USDT', '$VAULT/USDT', 'ROSX/USDT', 'ALLIN/USDT', 'AIMX/USDT', 'VRSW/USDT', 'VRX/USDT', 'INX/USDT', 'GAI/USDT', 'HEM/USDT', 'BIRD/USDT', 'MIRX/USDT', '$NODE/USDT', 'TSAI/USDT', 'PAINT/USDT', 'DOPE/USDT', 'ARBOT/USDT', 'OJA/USDT', 'BS/USDT', 'TAOTOOLS/USDT', 'STELAI/USDT', 'NWT/USDT', 'BBL/USDT', '$INSORA/USDT', 'ETHFAI/USDT', 'VIDAI/USDT', 'IAI/USDT', 'ARCX/USDT', 'AGC/USDT', 'ROSNET/USDT', 'TOR/USDT', 'AVTM/USDT', 'QAI/USDT', 'PAI/USDT', 'WAI/USDT', 'KOL/USDT', 'ZGEN/USDT', 'ADVT/USDT', 'GMRX/USDT', 'CAFE/USDT', 'BAI/USDT', 'O/USDT', 'TRACE/USDT', 'OTACON/USDT', 'TRU/USDT', 'OLM/USDT', 'BGPT/USDT', 'BOOST/USDT', 'BUBSY/USDT', 'CNDL/USDT', 'NERF/USDT', 'CDX/USDT', 'CREATE/USDT', 'CAI/USDT', 'DHUB/USDT', 'VUZZ/USDT', 'HYPC/USDT', 'GPTV/USDT', 'GPT/USDT', 'AISHARE/USDT', 'OPZ/USDT', 'IMON/USDT', 'VANA/USDT']\n"
     ]
    }
   ],
   "source": [
    "# get category symbols\n",
    "category = \"artificial-intelligence\"\n",
    "import requests\n",
    "url = \"https://api.coingecko.com/api/v3/coins/markets\"\n",
    "params = {\n",
    "    \"vs_currency\": \"usd\",\n",
    "    \"category\": category,\n",
    "    \"order\": \"market_cap_desc\",\n",
    "    \"per_page\": 300,\n",
    "    \"page\": 1\n",
    "}\n",
    "\n",
    "response = requests.get(url, params=params)\n",
    "data = response.json()\n",
    "\n",
    "# Extract the symbols\n",
    "defi_symbols = [coin['symbol'].upper() + '/USDT' for coin in data]\n",
    "print(\"DeFi Symbols:\", defi_symbols)"
   ]
  },
  {
   "cell_type": "code",
   "execution_count": 2,
   "metadata": {},
   "outputs": [
    {
     "name": "stdout",
     "output_type": "stream",
     "text": [
      "Available DeFi Symbols: ['NEAR/USDT', 'ICP/USDT', 'FET/USDT', 'RENDER/USDT', 'GRT/USDT', 'AIOZ/USDT', 'GRASS/USDT', 'ARKM/USDT', 'IO/USDT', 'AGI/USDT', 'ZIG/USDT', 'SPEC/USDT', 'CARV/USDT', 'TOKEN/USDT', 'CGPT/USDT', 'LUNA/USDT', 'TAI/USDT', 'RSS3/USDT', 'FORT/USDT', 'LMWR/USDT', 'LAI/USDT', 'GTAI/USDT', 'GSWIFT/USDT', 'TRVL/USDT', 'BCUT/USDT', 'NRN/USDT', 'CHRP/USDT', 'RAIN/USDT', 'BBL/USDT', 'GMRX/USDT']\n"
     ]
    }
   ],
   "source": [
    "# Fetch aviable symbols from Bybit\n",
    "import ccxt\n",
    "\n",
    "exchange = ccxt.bybit()\n",
    "exchange.load_markets()\n",
    "all_symbols = exchange.symbols\n",
    "\n",
    "# Filter to include only DeFi symbols available on the exchange\n",
    "available_defi_symbols = [symbol for symbol in defi_symbols if symbol in all_symbols]\n",
    "print(\"Available DeFi Symbols:\", available_defi_symbols)"
   ]
  },
  {
   "cell_type": "code",
   "execution_count": 3,
   "metadata": {
    "id": "FXpPRMClxzwf"
   },
   "outputs": [
    {
     "data": {
      "text/html": [
       "<div>\n",
       "<style scoped>\n",
       "    .dataframe tbody tr th:only-of-type {\n",
       "        vertical-align: middle;\n",
       "    }\n",
       "\n",
       "    .dataframe tbody tr th {\n",
       "        vertical-align: top;\n",
       "    }\n",
       "\n",
       "    .dataframe thead th {\n",
       "        text-align: right;\n",
       "    }\n",
       "</style>\n",
       "<table border=\"1\" class=\"dataframe\">\n",
       "  <thead>\n",
       "    <tr style=\"text-align: right;\">\n",
       "      <th></th>\n",
       "      <th>timestamp</th>\n",
       "      <th>open</th>\n",
       "      <th>high</th>\n",
       "      <th>low</th>\n",
       "      <th>close</th>\n",
       "      <th>volume</th>\n",
       "      <th>symbol</th>\n",
       "    </tr>\n",
       "  </thead>\n",
       "  <tbody>\n",
       "    <tr>\n",
       "      <th>0</th>\n",
       "      <td>2024-03-10</td>\n",
       "      <td>6.1886</td>\n",
       "      <td>6.3000</td>\n",
       "      <td>5.7510</td>\n",
       "      <td>5.9470</td>\n",
       "      <td>4467334.11</td>\n",
       "      <td>NEAR/USDT</td>\n",
       "    </tr>\n",
       "    <tr>\n",
       "      <th>1</th>\n",
       "      <td>2024-03-11</td>\n",
       "      <td>5.9470</td>\n",
       "      <td>7.3200</td>\n",
       "      <td>5.5810</td>\n",
       "      <td>6.6823</td>\n",
       "      <td>9343963.47</td>\n",
       "      <td>NEAR/USDT</td>\n",
       "    </tr>\n",
       "    <tr>\n",
       "      <th>2</th>\n",
       "      <td>2024-03-12</td>\n",
       "      <td>6.6823</td>\n",
       "      <td>8.0900</td>\n",
       "      <td>6.6346</td>\n",
       "      <td>8.0733</td>\n",
       "      <td>8284221.42</td>\n",
       "      <td>NEAR/USDT</td>\n",
       "    </tr>\n",
       "    <tr>\n",
       "      <th>3</th>\n",
       "      <td>2024-03-13</td>\n",
       "      <td>8.0733</td>\n",
       "      <td>8.5337</td>\n",
       "      <td>7.6011</td>\n",
       "      <td>7.7623</td>\n",
       "      <td>7786205.32</td>\n",
       "      <td>NEAR/USDT</td>\n",
       "    </tr>\n",
       "    <tr>\n",
       "      <th>4</th>\n",
       "      <td>2024-03-14</td>\n",
       "      <td>7.7623</td>\n",
       "      <td>8.9146</td>\n",
       "      <td>7.6028</td>\n",
       "      <td>8.8575</td>\n",
       "      <td>11999055.01</td>\n",
       "      <td>NEAR/USDT</td>\n",
       "    </tr>\n",
       "  </tbody>\n",
       "</table>\n",
       "</div>"
      ],
      "text/plain": [
       "   timestamp    open    high     low   close       volume     symbol\n",
       "0 2024-03-10  6.1886  6.3000  5.7510  5.9470   4467334.11  NEAR/USDT\n",
       "1 2024-03-11  5.9470  7.3200  5.5810  6.6823   9343963.47  NEAR/USDT\n",
       "2 2024-03-12  6.6823  8.0900  6.6346  8.0733   8284221.42  NEAR/USDT\n",
       "3 2024-03-13  8.0733  8.5337  7.6011  7.7623   7786205.32  NEAR/USDT\n",
       "4 2024-03-14  7.7623  8.9146  7.6028  8.8575  11999055.01  NEAR/USDT"
      ]
     },
     "execution_count": 3,
     "metadata": {},
     "output_type": "execute_result"
    }
   ],
   "source": [
    "# Fetch ohlcv from Bybit\n",
    "import numpy as np\n",
    "import pandas as pd\n",
    "import datetime as dt\n",
    "import pytz\n",
    "import plotly.express as px\n",
    "import plotly.graph_objects as go\n",
    "\n",
    "symbols = available_defi_symbols\n",
    "timeframe = '1d'\n",
    "limit = 252\n",
    "\n",
    "# Create an empty list to store DataFrames for each symbol\n",
    "data_frames = []\n",
    "\n",
    "for symbol in symbols:\n",
    "    try:\n",
    "        ohlcv_data = exchange.fetch_ohlcv(symbol, timeframe, limit=limit)\n",
    "        df = pd.DataFrame(ohlcv_data, columns=['timestamp', 'open', 'high', 'low', 'close', 'volume'])\n",
    "        df['symbol'] = symbol\n",
    "\n",
    "        # Convert timestamp to datetime format for readability\n",
    "        df['timestamp'] = pd.to_datetime(df['timestamp'], unit='ms')\n",
    "\n",
    "        data_frames.append(df)\n",
    "    except Exception as e:\n",
    "        print(f\"Could not fetch data for {symbol}: {e}\")\n",
    "\n",
    "# Concatenate all DataFrames into a single DataFrame\n",
    "all_data = pd.concat(data_frames, ignore_index=True)\n",
    "all_data.head()"
   ]
  },
  {
   "cell_type": "code",
   "execution_count": 4,
   "metadata": {},
   "outputs": [
    {
     "name": "stdout",
     "output_type": "stream",
     "text": [
      "2024-03-10 00:00:00 2024-11-16 00:00:00\n"
     ]
    }
   ],
   "source": [
    "# Check min max date\n",
    "print(all_data['timestamp'].min(), all_data['timestamp'].max())"
   ]
  },
  {
   "cell_type": "code",
   "execution_count": 6,
   "metadata": {},
   "outputs": [
    {
     "name": "stdout",
     "output_type": "stream",
     "text": [
      "Filtered data range: 2024-03-10 00:00:00 - 2024-11-16 00:00:00\n",
      "Duplicate entries:\n",
      "<class 'pandas.core.frame.DataFrame'>\n",
      "Index: 0 entries\n",
      "Data columns (total 7 columns):\n",
      " #   Column     Non-Null Count  Dtype         \n",
      "---  ------     --------------  -----         \n",
      " 0   timestamp  0 non-null      datetime64[ns]\n",
      " 1   open       0 non-null      float64       \n",
      " 2   high       0 non-null      float64       \n",
      " 3   low        0 non-null      float64       \n",
      " 4   close      0 non-null      float64       \n",
      " 5   volume     0 non-null      float64       \n",
      " 6   symbol     0 non-null      object        \n",
      "dtypes: datetime64[ns](1), float64(5), object(1)\n",
      "memory usage: 0.0+ bytes\n"
     ]
    }
   ],
   "source": [
    "# Filter dublicates and unnecesary timestamps\n",
    "# Ensure that 'timestamp' is in datetime format\n",
    "all_data['timestamp'] = pd.to_datetime(all_data['timestamp'])\n",
    "\n",
    "# Find the latest date in the data\n",
    "latest_date = all_data['timestamp'].max()\n",
    "\n",
    "# Calculate the cutoff date for 252 days before the latest date\n",
    "cutoff_date = latest_date - pd.Timedelta(days=252)\n",
    "\n",
    "# Filter the data to include only rows within the last 252 days\n",
    "filtered_data = all_data[all_data['timestamp'] >= cutoff_date]\n",
    "\n",
    "# Check the new date range to confirm\n",
    "print(\"Filtered data range:\", filtered_data['timestamp'].min(), \"-\", filtered_data['timestamp'].max())\n",
    "\n",
    "# Identify duplicate entries based on 'timestamp' and 'symbol'\n",
    "duplicates = filtered_data[filtered_data.duplicated(subset=['timestamp', 'symbol'], keep=False)]\n",
    "print(\"Duplicate entries:\")\n",
    "duplicates.info()\n",
    "\n",
    "# Remove duplicate entries, keeping only the first occurrence\n",
    "filtered_data = filtered_data.drop_duplicates(subset=['timestamp', 'symbol'], keep='first')\n"
   ]
  },
  {
   "cell_type": "code",
   "execution_count": 7,
   "metadata": {},
   "outputs": [
    {
     "data": {
      "text/html": [
       "<div>\n",
       "<style scoped>\n",
       "    .dataframe tbody tr th:only-of-type {\n",
       "        vertical-align: middle;\n",
       "    }\n",
       "\n",
       "    .dataframe tbody tr th {\n",
       "        vertical-align: top;\n",
       "    }\n",
       "\n",
       "    .dataframe thead th {\n",
       "        text-align: right;\n",
       "    }\n",
       "</style>\n",
       "<table border=\"1\" class=\"dataframe\">\n",
       "  <thead>\n",
       "    <tr style=\"text-align: right;\">\n",
       "      <th></th>\n",
       "      <th>timestamp</th>\n",
       "      <th>close</th>\n",
       "      <th>symbol</th>\n",
       "    </tr>\n",
       "  </thead>\n",
       "  <tbody>\n",
       "    <tr>\n",
       "      <th>0</th>\n",
       "      <td>2024-03-10</td>\n",
       "      <td>5.9470</td>\n",
       "      <td>NEAR/USDT</td>\n",
       "    </tr>\n",
       "    <tr>\n",
       "      <th>1</th>\n",
       "      <td>2024-03-11</td>\n",
       "      <td>6.6823</td>\n",
       "      <td>NEAR/USDT</td>\n",
       "    </tr>\n",
       "    <tr>\n",
       "      <th>2</th>\n",
       "      <td>2024-03-12</td>\n",
       "      <td>8.0733</td>\n",
       "      <td>NEAR/USDT</td>\n",
       "    </tr>\n",
       "    <tr>\n",
       "      <th>3</th>\n",
       "      <td>2024-03-13</td>\n",
       "      <td>7.7623</td>\n",
       "      <td>NEAR/USDT</td>\n",
       "    </tr>\n",
       "    <tr>\n",
       "      <th>4</th>\n",
       "      <td>2024-03-14</td>\n",
       "      <td>8.8575</td>\n",
       "      <td>NEAR/USDT</td>\n",
       "    </tr>\n",
       "  </tbody>\n",
       "</table>\n",
       "</div>"
      ],
      "text/plain": [
       "   timestamp   close     symbol\n",
       "0 2024-03-10  5.9470  NEAR/USDT\n",
       "1 2024-03-11  6.6823  NEAR/USDT\n",
       "2 2024-03-12  8.0733  NEAR/USDT\n",
       "3 2024-03-13  7.7623  NEAR/USDT\n",
       "4 2024-03-14  8.8575  NEAR/USDT"
      ]
     },
     "execution_count": 7,
     "metadata": {},
     "output_type": "execute_result"
    }
   ],
   "source": [
    "# get closed price data\n",
    "df = filtered_data[['timestamp', 'close', 'symbol']]\n",
    "df.head()"
   ]
  },
  {
   "cell_type": "code",
   "execution_count": 8,
   "metadata": {},
   "outputs": [
    {
     "name": "stdout",
     "output_type": "stream",
     "text": [
      "symbol      AGI/USDT  AIOZ/USDT  ARKM/USDT  BBL/USDT  BCUT/USDT  CARV/USDT  \\\n",
      "timestamp                                                                    \n",
      "2024-03-10   0.57286     0.7638    3.20786   0.23474    0.30094        NaN   \n",
      "2024-03-11   0.58374     0.7038    3.06223   0.23186    0.29308        NaN   \n",
      "2024-03-12   0.60618     0.6872    3.14473   0.20845    0.33999        NaN   \n",
      "2024-03-13   0.54650     0.7981    3.01128   0.20824    0.44520        NaN   \n",
      "2024-03-14   0.58526     0.7602    3.21886   0.20226    0.45555        NaN   \n",
      "\n",
      "symbol      CGPT/USDT  CHRP/USDT  FET/USDT  FORT/USDT  ...  NEAR/USDT  \\\n",
      "timestamp                                              ...              \n",
      "2024-03-10   0.450675   0.023804    2.7658     0.2509  ...     5.9470   \n",
      "2024-03-11   0.520328   0.024898    2.7019     0.3156  ...     6.6823   \n",
      "2024-03-12   0.500831   0.022632    2.6754     0.2892  ...     8.0733   \n",
      "2024-03-13   0.485226   0.023238    2.6544     0.2688  ...     7.7623   \n",
      "2024-03-14   0.474736   0.021419    2.8536     0.2635  ...     8.8575   \n",
      "\n",
      "symbol      NRN/USDT  RAIN/USDT  RENDER/USDT  RSS3/USDT  SPEC/USDT  TAI/USDT  \\\n",
      "timestamp                                                                      \n",
      "2024-03-10       NaN   0.003334          NaN    0.47150        NaN       NaN   \n",
      "2024-03-11       NaN   0.002885          NaN    0.47403        NaN       NaN   \n",
      "2024-03-12       NaN   0.002627          NaN    0.43548        NaN       NaN   \n",
      "2024-03-13       NaN   0.002606          NaN    0.41728        NaN       NaN   \n",
      "2024-03-14       NaN   0.002528          NaN    0.48758        NaN       NaN   \n",
      "\n",
      "symbol      TOKEN/USDT  TRVL/USDT  ZIG/USDT  \n",
      "timestamp                                    \n",
      "2024-03-10     0.08244   0.082086   0.10797  \n",
      "2024-03-11     0.08042   0.079348   0.11984  \n",
      "2024-03-12     0.07833   0.086400   0.12668  \n",
      "2024-03-13     0.07941   0.086322   0.12015  \n",
      "2024-03-14     0.07683   0.095236   0.11798  \n",
      "\n",
      "[5 rows x 30 columns]\n",
      "symbol      AGI/USDT  AIOZ/USDT  ARKM/USDT  BBL/USDT  BCUT/USDT  CARV/USDT  \\\n",
      "timestamp                                                                    \n",
      "2024-11-12   0.21033     0.7119    2.18720   0.00553    0.05194     0.9240   \n",
      "2024-11-13   0.19010     0.6980    2.06212   0.00499    0.04223     0.8666   \n",
      "2024-11-14   0.17279     0.6687    1.95346   0.00524    0.03689     0.8117   \n",
      "2024-11-15   0.18377     0.7574    2.06557   0.00501    0.03609     0.8561   \n",
      "2024-11-16   0.18107     0.7676    2.04814   0.00504    0.03882     0.8693   \n",
      "\n",
      "symbol      CGPT/USDT  CHRP/USDT  FET/USDT  FORT/USDT  ...  NEAR/USDT  \\\n",
      "timestamp                                              ...              \n",
      "2024-11-12    0.13733   0.005280    1.3779     0.1000  ...     5.3392   \n",
      "2024-11-13    0.12680   0.004934    1.2662     0.0958  ...     5.1703   \n",
      "2024-11-14    0.11642   0.004863    1.2301     0.0916  ...     5.4178   \n",
      "2024-11-15    0.12060   0.004786    1.2834     0.0917  ...     5.5574   \n",
      "2024-11-16    0.12045   0.004916    1.2731     0.0957  ...     5.7905   \n",
      "\n",
      "symbol      NRN/USDT  RAIN/USDT  RENDER/USDT  RSS3/USDT  SPEC/USDT  TAI/USDT  \\\n",
      "timestamp                                                                      \n",
      "2024-11-12   0.05184   0.000490        7.201    0.11634    11.7631   0.14615   \n",
      "2024-11-13   0.05501   0.000473        6.997    0.10821    11.3955   0.15745   \n",
      "2024-11-14   0.06867   0.000483        6.571    0.10298    10.3000   0.17145   \n",
      "2024-11-15   0.06961   0.000462        6.918    0.10864    11.3871   0.16721   \n",
      "2024-11-16   0.06675   0.000447        6.817    0.10817    11.9039   0.16971   \n",
      "\n",
      "symbol      TOKEN/USDT  TRVL/USDT  ZIG/USDT  \n",
      "timestamp                                    \n",
      "2024-11-12     0.05665   0.066201   0.12984  \n",
      "2024-11-13     0.05351   0.063456   0.14470  \n",
      "2024-11-14     0.05393   0.056135   0.13471  \n",
      "2024-11-15     0.05777   0.056525   0.13287  \n",
      "2024-11-16     0.05734   0.056798   0.13315  \n",
      "\n",
      "[5 rows x 30 columns]\n"
     ]
    }
   ],
   "source": [
    "# pivot by timestamp and symbol\n",
    "df_pivoted = df.pivot(index='timestamp', columns='symbol', values='close')\n",
    "\n",
    "print(df_pivoted.head())\n",
    "print(df_pivoted.tail())"
   ]
  },
  {
   "cell_type": "code",
   "execution_count": 9,
   "metadata": {},
   "outputs": [
    {
     "data": {
      "text/html": [
       "<div>\n",
       "<style scoped>\n",
       "    .dataframe tbody tr th:only-of-type {\n",
       "        vertical-align: middle;\n",
       "    }\n",
       "\n",
       "    .dataframe tbody tr th {\n",
       "        vertical-align: top;\n",
       "    }\n",
       "\n",
       "    .dataframe thead th {\n",
       "        text-align: right;\n",
       "    }\n",
       "</style>\n",
       "<table border=\"1\" class=\"dataframe\">\n",
       "  <thead>\n",
       "    <tr style=\"text-align: right;\">\n",
       "      <th>symbol</th>\n",
       "      <th>AGI/USDT</th>\n",
       "      <th>AIOZ/USDT</th>\n",
       "      <th>ARKM/USDT</th>\n",
       "      <th>BBL/USDT</th>\n",
       "      <th>BCUT/USDT</th>\n",
       "      <th>CARV/USDT</th>\n",
       "      <th>CGPT/USDT</th>\n",
       "      <th>CHRP/USDT</th>\n",
       "      <th>FET/USDT</th>\n",
       "      <th>FORT/USDT</th>\n",
       "      <th>...</th>\n",
       "      <th>NEAR/USDT</th>\n",
       "      <th>NRN/USDT</th>\n",
       "      <th>RAIN/USDT</th>\n",
       "      <th>RENDER/USDT</th>\n",
       "      <th>RSS3/USDT</th>\n",
       "      <th>SPEC/USDT</th>\n",
       "      <th>TAI/USDT</th>\n",
       "      <th>TOKEN/USDT</th>\n",
       "      <th>TRVL/USDT</th>\n",
       "      <th>ZIG/USDT</th>\n",
       "    </tr>\n",
       "    <tr>\n",
       "      <th>timestamp</th>\n",
       "      <th></th>\n",
       "      <th></th>\n",
       "      <th></th>\n",
       "      <th></th>\n",
       "      <th></th>\n",
       "      <th></th>\n",
       "      <th></th>\n",
       "      <th></th>\n",
       "      <th></th>\n",
       "      <th></th>\n",
       "      <th></th>\n",
       "      <th></th>\n",
       "      <th></th>\n",
       "      <th></th>\n",
       "      <th></th>\n",
       "      <th></th>\n",
       "      <th></th>\n",
       "      <th></th>\n",
       "      <th></th>\n",
       "      <th></th>\n",
       "      <th></th>\n",
       "    </tr>\n",
       "  </thead>\n",
       "  <tbody>\n",
       "    <tr>\n",
       "      <th>2024-05-31 00:00:00+00:00</th>\n",
       "      <td>0.246173</td>\n",
       "      <td>0.240603</td>\n",
       "      <td>0.359682</td>\n",
       "      <td>0.042531</td>\n",
       "      <td>-0.123564</td>\n",
       "      <td>0.000000</td>\n",
       "      <td>0.012890</td>\n",
       "      <td>-0.006673</td>\n",
       "      <td>0.056962</td>\n",
       "      <td>0.039916</td>\n",
       "      <td>...</td>\n",
       "      <td>0.170824</td>\n",
       "      <td>0.000000</td>\n",
       "      <td>0.248423</td>\n",
       "      <td>0.000000</td>\n",
       "      <td>-0.085877</td>\n",
       "      <td>1.051827</td>\n",
       "      <td>1.056748</td>\n",
       "      <td>0.403442</td>\n",
       "      <td>-0.169724</td>\n",
       "      <td>0.026327</td>\n",
       "    </tr>\n",
       "    <tr>\n",
       "      <th>2024-06-30 00:00:00+00:00</th>\n",
       "      <td>-0.262044</td>\n",
       "      <td>-0.256674</td>\n",
       "      <td>-0.312170</td>\n",
       "      <td>-0.188505</td>\n",
       "      <td>-0.479228</td>\n",
       "      <td>0.000000</td>\n",
       "      <td>-0.237071</td>\n",
       "      <td>-0.475746</td>\n",
       "      <td>-0.330511</td>\n",
       "      <td>-0.286465</td>\n",
       "      <td>...</td>\n",
       "      <td>-0.268194</td>\n",
       "      <td>0.083333</td>\n",
       "      <td>-0.741746</td>\n",
       "      <td>0.000000</td>\n",
       "      <td>-0.311087</td>\n",
       "      <td>-0.518847</td>\n",
       "      <td>0.446516</td>\n",
       "      <td>-0.386592</td>\n",
       "      <td>-0.190083</td>\n",
       "      <td>0.291421</td>\n",
       "    </tr>\n",
       "    <tr>\n",
       "      <th>2024-07-31 00:00:00+00:00</th>\n",
       "      <td>-0.247678</td>\n",
       "      <td>0.017777</td>\n",
       "      <td>-0.293644</td>\n",
       "      <td>-0.577514</td>\n",
       "      <td>-0.235030</td>\n",
       "      <td>0.000000</td>\n",
       "      <td>-0.128386</td>\n",
       "      <td>-0.098067</td>\n",
       "      <td>-0.192859</td>\n",
       "      <td>-0.120612</td>\n",
       "      <td>...</td>\n",
       "      <td>-0.058934</td>\n",
       "      <td>-0.379077</td>\n",
       "      <td>-0.140754</td>\n",
       "      <td>0.000000</td>\n",
       "      <td>-0.296483</td>\n",
       "      <td>0.246266</td>\n",
       "      <td>-0.288292</td>\n",
       "      <td>-0.281781</td>\n",
       "      <td>-0.184366</td>\n",
       "      <td>0.065858</td>\n",
       "    </tr>\n",
       "    <tr>\n",
       "      <th>2024-08-31 00:00:00+00:00</th>\n",
       "      <td>-0.270114</td>\n",
       "      <td>-0.293225</td>\n",
       "      <td>-0.177279</td>\n",
       "      <td>-0.284291</td>\n",
       "      <td>-0.476288</td>\n",
       "      <td>0.000000</td>\n",
       "      <td>-0.163851</td>\n",
       "      <td>-0.406984</td>\n",
       "      <td>-0.021383</td>\n",
       "      <td>-0.208628</td>\n",
       "      <td>...</td>\n",
       "      <td>-0.192103</td>\n",
       "      <td>-0.323092</td>\n",
       "      <td>0.202535</td>\n",
       "      <td>-0.128631</td>\n",
       "      <td>-0.263879</td>\n",
       "      <td>-0.179538</td>\n",
       "      <td>-0.004909</td>\n",
       "      <td>-0.170667</td>\n",
       "      <td>-0.251468</td>\n",
       "      <td>-0.278775</td>\n",
       "    </tr>\n",
       "    <tr>\n",
       "      <th>2024-09-30 00:00:00+00:00</th>\n",
       "      <td>0.407746</td>\n",
       "      <td>0.243884</td>\n",
       "      <td>0.413307</td>\n",
       "      <td>-0.241605</td>\n",
       "      <td>0.425511</td>\n",
       "      <td>0.000000</td>\n",
       "      <td>0.416928</td>\n",
       "      <td>0.119188</td>\n",
       "      <td>0.347311</td>\n",
       "      <td>0.001627</td>\n",
       "      <td>...</td>\n",
       "      <td>0.310809</td>\n",
       "      <td>0.761713</td>\n",
       "      <td>0.166862</td>\n",
       "      <td>0.289116</td>\n",
       "      <td>0.265542</td>\n",
       "      <td>0.285676</td>\n",
       "      <td>0.246927</td>\n",
       "      <td>0.133441</td>\n",
       "      <td>0.412389</td>\n",
       "      <td>0.117441</td>\n",
       "    </tr>\n",
       "    <tr>\n",
       "      <th>2024-10-31 00:00:00+00:00</th>\n",
       "      <td>-0.026236</td>\n",
       "      <td>-0.133855</td>\n",
       "      <td>0.105066</td>\n",
       "      <td>-0.475162</td>\n",
       "      <td>-0.288251</td>\n",
       "      <td>0.315214</td>\n",
       "      <td>-0.274536</td>\n",
       "      <td>-0.161103</td>\n",
       "      <td>-0.148588</td>\n",
       "      <td>-0.238830</td>\n",
       "      <td>...</td>\n",
       "      <td>-0.233064</td>\n",
       "      <td>0.002909</td>\n",
       "      <td>-0.135140</td>\n",
       "      <td>-0.258420</td>\n",
       "      <td>-0.186690</td>\n",
       "      <td>0.220705</td>\n",
       "      <td>-0.106895</td>\n",
       "      <td>-0.293617</td>\n",
       "      <td>0.216177</td>\n",
       "      <td>-0.084249</td>\n",
       "    </tr>\n",
       "    <tr>\n",
       "      <th>2024-11-30 00:00:00+00:00</th>\n",
       "      <td>0.079340</td>\n",
       "      <td>0.778499</td>\n",
       "      <td>0.258033</td>\n",
       "      <td>0.037037</td>\n",
       "      <td>0.862764</td>\n",
       "      <td>0.166532</td>\n",
       "      <td>-0.005203</td>\n",
       "      <td>0.063149</td>\n",
       "      <td>-0.018200</td>\n",
       "      <td>0.021345</td>\n",
       "      <td>...</td>\n",
       "      <td>0.428307</td>\n",
       "      <td>0.382846</td>\n",
       "      <td>-0.135564</td>\n",
       "      <td>0.426748</td>\n",
       "      <td>-0.026285</td>\n",
       "      <td>0.204117</td>\n",
       "      <td>0.232551</td>\n",
       "      <td>0.439257</td>\n",
       "      <td>0.456845</td>\n",
       "      <td>0.377936</td>\n",
       "    </tr>\n",
       "  </tbody>\n",
       "</table>\n",
       "<p>7 rows × 30 columns</p>\n",
       "</div>"
      ],
      "text/plain": [
       "symbol                     AGI/USDT  AIOZ/USDT  ARKM/USDT  BBL/USDT  \\\n",
       "timestamp                                                             \n",
       "2024-05-31 00:00:00+00:00  0.246173   0.240603   0.359682  0.042531   \n",
       "2024-06-30 00:00:00+00:00 -0.262044  -0.256674  -0.312170 -0.188505   \n",
       "2024-07-31 00:00:00+00:00 -0.247678   0.017777  -0.293644 -0.577514   \n",
       "2024-08-31 00:00:00+00:00 -0.270114  -0.293225  -0.177279 -0.284291   \n",
       "2024-09-30 00:00:00+00:00  0.407746   0.243884   0.413307 -0.241605   \n",
       "2024-10-31 00:00:00+00:00 -0.026236  -0.133855   0.105066 -0.475162   \n",
       "2024-11-30 00:00:00+00:00  0.079340   0.778499   0.258033  0.037037   \n",
       "\n",
       "symbol                     BCUT/USDT  CARV/USDT  CGPT/USDT  CHRP/USDT  \\\n",
       "timestamp                                                               \n",
       "2024-05-31 00:00:00+00:00  -0.123564   0.000000   0.012890  -0.006673   \n",
       "2024-06-30 00:00:00+00:00  -0.479228   0.000000  -0.237071  -0.475746   \n",
       "2024-07-31 00:00:00+00:00  -0.235030   0.000000  -0.128386  -0.098067   \n",
       "2024-08-31 00:00:00+00:00  -0.476288   0.000000  -0.163851  -0.406984   \n",
       "2024-09-30 00:00:00+00:00   0.425511   0.000000   0.416928   0.119188   \n",
       "2024-10-31 00:00:00+00:00  -0.288251   0.315214  -0.274536  -0.161103   \n",
       "2024-11-30 00:00:00+00:00   0.862764   0.166532  -0.005203   0.063149   \n",
       "\n",
       "symbol                     FET/USDT  FORT/USDT  ...  NEAR/USDT  NRN/USDT  \\\n",
       "timestamp                                       ...                        \n",
       "2024-05-31 00:00:00+00:00  0.056962   0.039916  ...   0.170824  0.000000   \n",
       "2024-06-30 00:00:00+00:00 -0.330511  -0.286465  ...  -0.268194  0.083333   \n",
       "2024-07-31 00:00:00+00:00 -0.192859  -0.120612  ...  -0.058934 -0.379077   \n",
       "2024-08-31 00:00:00+00:00 -0.021383  -0.208628  ...  -0.192103 -0.323092   \n",
       "2024-09-30 00:00:00+00:00  0.347311   0.001627  ...   0.310809  0.761713   \n",
       "2024-10-31 00:00:00+00:00 -0.148588  -0.238830  ...  -0.233064  0.002909   \n",
       "2024-11-30 00:00:00+00:00 -0.018200   0.021345  ...   0.428307  0.382846   \n",
       "\n",
       "symbol                     RAIN/USDT  RENDER/USDT  RSS3/USDT  SPEC/USDT  \\\n",
       "timestamp                                                                 \n",
       "2024-05-31 00:00:00+00:00   0.248423     0.000000  -0.085877   1.051827   \n",
       "2024-06-30 00:00:00+00:00  -0.741746     0.000000  -0.311087  -0.518847   \n",
       "2024-07-31 00:00:00+00:00  -0.140754     0.000000  -0.296483   0.246266   \n",
       "2024-08-31 00:00:00+00:00   0.202535    -0.128631  -0.263879  -0.179538   \n",
       "2024-09-30 00:00:00+00:00   0.166862     0.289116   0.265542   0.285676   \n",
       "2024-10-31 00:00:00+00:00  -0.135140    -0.258420  -0.186690   0.220705   \n",
       "2024-11-30 00:00:00+00:00  -0.135564     0.426748  -0.026285   0.204117   \n",
       "\n",
       "symbol                     TAI/USDT  TOKEN/USDT  TRVL/USDT  ZIG/USDT  \n",
       "timestamp                                                             \n",
       "2024-05-31 00:00:00+00:00  1.056748    0.403442  -0.169724  0.026327  \n",
       "2024-06-30 00:00:00+00:00  0.446516   -0.386592  -0.190083  0.291421  \n",
       "2024-07-31 00:00:00+00:00 -0.288292   -0.281781  -0.184366  0.065858  \n",
       "2024-08-31 00:00:00+00:00 -0.004909   -0.170667  -0.251468 -0.278775  \n",
       "2024-09-30 00:00:00+00:00  0.246927    0.133441   0.412389  0.117441  \n",
       "2024-10-31 00:00:00+00:00 -0.106895   -0.293617   0.216177 -0.084249  \n",
       "2024-11-30 00:00:00+00:00  0.232551    0.439257   0.456845  0.377936  \n",
       "\n",
       "[7 rows x 30 columns]"
      ]
     },
     "execution_count": 9,
     "metadata": {},
     "output_type": "execute_result"
    }
   ],
   "source": [
    "# Calculate monthly returns\n",
    "returns_df = df_pivoted.pct_change().resample(\"ME\").agg(lambda x: (x+1).prod()-1)\n",
    "# Convert the index of past_cum_return_df to timezone-aware UTC\n",
    "returns_df.index = returns_df.index.tz_localize('UTC')\n",
    "returns_df.tail(7)"
   ]
  },
  {
   "cell_type": "code",
   "execution_count": 10,
   "metadata": {},
   "outputs": [
    {
     "data": {
      "application/vnd.plotly.v1+json": {
       "config": {
        "plotlyServerURL": "https://plot.ly"
       },
       "data": [
        {
         "hovertemplate": "symbol=AGI/USDT<br>timestamp=%{x}<br>value=%{y}<extra></extra>",
         "legendgroup": "AGI/USDT",
         "line": {
          "color": "#636efa",
          "dash": "solid"
         },
         "marker": {
          "symbol": "circle"
         },
         "mode": "lines",
         "name": "AGI/USDT",
         "orientation": "v",
         "showlegend": true,
         "type": "scatter",
         "x": [
          "2024-03-31T00:00:00+00:00",
          "2024-04-30T00:00:00+00:00",
          "2024-05-31T00:00:00+00:00",
          "2024-06-30T00:00:00+00:00",
          "2024-07-31T00:00:00+00:00",
          "2024-08-31T00:00:00+00:00",
          "2024-09-30T00:00:00+00:00",
          "2024-10-31T00:00:00+00:00",
          "2024-11-30T00:00:00+00:00"
         ],
         "xaxis": "x",
         "y": [
          -0.22042034703068836,
          -0.4573322286661141,
          0.24617289044769985,
          -0.2620443031687698,
          -0.24767801857585192,
          -0.2701139142362976,
          0.4077463637849319,
          -0.026236359414905874,
          0.07933953266571314
         ],
         "yaxis": "y"
        },
        {
         "hovertemplate": "symbol=AIOZ/USDT<br>timestamp=%{x}<br>value=%{y}<extra></extra>",
         "legendgroup": "AIOZ/USDT",
         "line": {
          "color": "#EF553B",
          "dash": "solid"
         },
         "marker": {
          "symbol": "circle"
         },
         "mode": "lines",
         "name": "AIOZ/USDT",
         "orientation": "v",
         "showlegend": true,
         "type": "scatter",
         "x": [
          "2024-03-31T00:00:00+00:00",
          "2024-04-30T00:00:00+00:00",
          "2024-05-31T00:00:00+00:00",
          "2024-06-30T00:00:00+00:00",
          "2024-07-31T00:00:00+00:00",
          "2024-08-31T00:00:00+00:00",
          "2024-09-30T00:00:00+00:00",
          "2024-10-31T00:00:00+00:00",
          "2024-11-30T00:00:00+00:00"
         ],
         "xaxis": "x",
         "y": [
          0.23186698088504798,
          -0.3581677117653307,
          0.2406027487994704,
          -0.25667378537106245,
          0.01777697970910408,
          -0.2932251235003527,
          0.24388417373939086,
          -0.13385510736504114,
          0.7784986098239108
         ],
         "yaxis": "y"
        },
        {
         "hovertemplate": "symbol=ARKM/USDT<br>timestamp=%{x}<br>value=%{y}<extra></extra>",
         "legendgroup": "ARKM/USDT",
         "line": {
          "color": "#00cc96",
          "dash": "solid"
         },
         "marker": {
          "symbol": "circle"
         },
         "mode": "lines",
         "name": "ARKM/USDT",
         "orientation": "v",
         "showlegend": true,
         "type": "scatter",
         "x": [
          "2024-03-31T00:00:00+00:00",
          "2024-04-30T00:00:00+00:00",
          "2024-05-31T00:00:00+00:00",
          "2024-06-30T00:00:00+00:00",
          "2024-07-31T00:00:00+00:00",
          "2024-08-31T00:00:00+00:00",
          "2024-09-30T00:00:00+00:00",
          "2024-10-31T00:00:00+00:00",
          "2024-11-30T00:00:00+00:00"
         ],
         "xaxis": "x",
         "y": [
          -0.18527616541869074,
          -0.26612384829655,
          0.3596819603753916,
          -0.31217046861998476,
          -0.29364411267888313,
          -0.17727932819800496,
          0.4133074960188796,
          0.10506631551796719,
          0.2580326157059054
         ],
         "yaxis": "y"
        },
        {
         "hovertemplate": "symbol=BBL/USDT<br>timestamp=%{x}<br>value=%{y}<extra></extra>",
         "legendgroup": "BBL/USDT",
         "line": {
          "color": "#ab63fa",
          "dash": "solid"
         },
         "marker": {
          "symbol": "circle"
         },
         "mode": "lines",
         "name": "BBL/USDT",
         "orientation": "v",
         "showlegend": true,
         "type": "scatter",
         "x": [
          "2024-03-31T00:00:00+00:00",
          "2024-04-30T00:00:00+00:00",
          "2024-05-31T00:00:00+00:00",
          "2024-06-30T00:00:00+00:00",
          "2024-07-31T00:00:00+00:00",
          "2024-08-31T00:00:00+00:00",
          "2024-09-30T00:00:00+00:00",
          "2024-10-31T00:00:00+00:00",
          "2024-11-30T00:00:00+00:00"
         ],
         "xaxis": "x",
         "y": [
          -0.20516315924001016,
          -0.7441848000857543,
          0.04253090299601925,
          -0.1885048231511257,
          -0.5775136206042593,
          -0.28429073856975395,
          -0.24160524160524222,
          -0.47516198704103707,
          0.03703703703703676
         ],
         "yaxis": "y"
        },
        {
         "hovertemplate": "symbol=BCUT/USDT<br>timestamp=%{x}<br>value=%{y}<extra></extra>",
         "legendgroup": "BCUT/USDT",
         "line": {
          "color": "#FFA15A",
          "dash": "solid"
         },
         "marker": {
          "symbol": "circle"
         },
         "mode": "lines",
         "name": "BCUT/USDT",
         "orientation": "v",
         "showlegend": true,
         "type": "scatter",
         "x": [
          "2024-03-31T00:00:00+00:00",
          "2024-04-30T00:00:00+00:00",
          "2024-05-31T00:00:00+00:00",
          "2024-06-30T00:00:00+00:00",
          "2024-07-31T00:00:00+00:00",
          "2024-08-31T00:00:00+00:00",
          "2024-09-30T00:00:00+00:00",
          "2024-10-31T00:00:00+00:00",
          "2024-11-30T00:00:00+00:00"
         ],
         "xaxis": "x",
         "y": [
          -0.0765601116501623,
          -0.5957898524649154,
          -0.12356449746283249,
          -0.47922803453529716,
          -0.23503023210454443,
          -0.47628760836308015,
          0.42551119766309675,
          -0.28825136612021884,
          0.862763915547025
         ],
         "yaxis": "y"
        },
        {
         "hovertemplate": "symbol=CARV/USDT<br>timestamp=%{x}<br>value=%{y}<extra></extra>",
         "legendgroup": "CARV/USDT",
         "line": {
          "color": "#19d3f3",
          "dash": "solid"
         },
         "marker": {
          "symbol": "circle"
         },
         "mode": "lines",
         "name": "CARV/USDT",
         "orientation": "v",
         "showlegend": true,
         "type": "scatter",
         "x": [
          "2024-03-31T00:00:00+00:00",
          "2024-04-30T00:00:00+00:00",
          "2024-05-31T00:00:00+00:00",
          "2024-06-30T00:00:00+00:00",
          "2024-07-31T00:00:00+00:00",
          "2024-08-31T00:00:00+00:00",
          "2024-09-30T00:00:00+00:00",
          "2024-10-31T00:00:00+00:00",
          "2024-11-30T00:00:00+00:00"
         ],
         "xaxis": "x",
         "y": [
          0,
          0,
          0,
          0,
          0,
          0,
          0,
          0.31521355453582767,
          0.16653247450348907
         ],
         "yaxis": "y"
        },
        {
         "hovertemplate": "symbol=CGPT/USDT<br>timestamp=%{x}<br>value=%{y}<extra></extra>",
         "legendgroup": "CGPT/USDT",
         "line": {
          "color": "#FF6692",
          "dash": "solid"
         },
         "marker": {
          "symbol": "circle"
         },
         "mode": "lines",
         "name": "CGPT/USDT",
         "orientation": "v",
         "showlegend": true,
         "type": "scatter",
         "x": [
          "2024-03-31T00:00:00+00:00",
          "2024-04-30T00:00:00+00:00",
          "2024-05-31T00:00:00+00:00",
          "2024-06-30T00:00:00+00:00",
          "2024-07-31T00:00:00+00:00",
          "2024-08-31T00:00:00+00:00",
          "2024-09-30T00:00:00+00:00",
          "2024-10-31T00:00:00+00:00",
          "2024-11-30T00:00:00+00:00"
         ],
         "xaxis": "x",
         "y": [
          -0.16718034060021103,
          -0.44276385377173755,
          0.012890393405627254,
          -0.23707067464738218,
          -0.12838598705621806,
          -0.16385087171332802,
          0.41692843195517426,
          -0.27453565008987413,
          -0.005203171456887756
         ],
         "yaxis": "y"
        },
        {
         "hovertemplate": "symbol=CHRP/USDT<br>timestamp=%{x}<br>value=%{y}<extra></extra>",
         "legendgroup": "CHRP/USDT",
         "line": {
          "color": "#B6E880",
          "dash": "solid"
         },
         "marker": {
          "symbol": "circle"
         },
         "mode": "lines",
         "name": "CHRP/USDT",
         "orientation": "v",
         "showlegend": true,
         "type": "scatter",
         "x": [
          "2024-03-31T00:00:00+00:00",
          "2024-04-30T00:00:00+00:00",
          "2024-05-31T00:00:00+00:00",
          "2024-06-30T00:00:00+00:00",
          "2024-07-31T00:00:00+00:00",
          "2024-08-31T00:00:00+00:00",
          "2024-09-30T00:00:00+00:00",
          "2024-10-31T00:00:00+00:00",
          "2024-11-30T00:00:00+00:00"
         ],
         "xaxis": "x",
         "y": [
          0.22315577213913662,
          -0.3927050419013599,
          -0.006673453229272708,
          -0.4757458437713503,
          -0.09806689834926141,
          -0.4069837447320893,
          0.11918781725888339,
          -0.16110304789550145,
          0.06314878892733566
         ],
         "yaxis": "y"
        },
        {
         "hovertemplate": "symbol=FET/USDT<br>timestamp=%{x}<br>value=%{y}<extra></extra>",
         "legendgroup": "FET/USDT",
         "line": {
          "color": "#FF97FF",
          "dash": "solid"
         },
         "marker": {
          "symbol": "circle"
         },
         "mode": "lines",
         "name": "FET/USDT",
         "orientation": "v",
         "showlegend": true,
         "type": "scatter",
         "x": [
          "2024-03-31T00:00:00+00:00",
          "2024-04-30T00:00:00+00:00",
          "2024-05-31T00:00:00+00:00",
          "2024-06-30T00:00:00+00:00",
          "2024-07-31T00:00:00+00:00",
          "2024-08-31T00:00:00+00:00",
          "2024-09-30T00:00:00+00:00",
          "2024-10-31T00:00:00+00:00",
          "2024-11-30T00:00:00+00:00"
         ],
         "xaxis": "x",
         "y": [
          0.10261045628751186,
          -0.33683105981112293,
          0.05696202531645622,
          -0.33051085329341323,
          -0.19285864020683408,
          -0.02138343000605969,
          0.34731068648266117,
          -0.14858831254103777,
          -0.018200046271303894
         ],
         "yaxis": "y"
        },
        {
         "hovertemplate": "symbol=FORT/USDT<br>timestamp=%{x}<br>value=%{y}<extra></extra>",
         "legendgroup": "FORT/USDT",
         "line": {
          "color": "#FECB52",
          "dash": "solid"
         },
         "marker": {
          "symbol": "circle"
         },
         "mode": "lines",
         "name": "FORT/USDT",
         "orientation": "v",
         "showlegend": true,
         "type": "scatter",
         "x": [
          "2024-03-31T00:00:00+00:00",
          "2024-04-30T00:00:00+00:00",
          "2024-05-31T00:00:00+00:00",
          "2024-06-30T00:00:00+00:00",
          "2024-07-31T00:00:00+00:00",
          "2024-08-31T00:00:00+00:00",
          "2024-09-30T00:00:00+00:00",
          "2024-10-31T00:00:00+00:00",
          "2024-11-30T00:00:00+00:00"
         ],
         "xaxis": "x",
         "y": [
          -0.07612594659226801,
          0.02674719585849883,
          0.03991596638655537,
          -0.2864646464646463,
          -0.12061155152887859,
          -0.2086284610431427,
          0.0016273393002443903,
          -0.23883021933387494,
          0.021344717182497197
         ],
         "yaxis": "y"
        },
        {
         "hovertemplate": "symbol=GMRX/USDT<br>timestamp=%{x}<br>value=%{y}<extra></extra>",
         "legendgroup": "GMRX/USDT",
         "line": {
          "color": "#636efa",
          "dash": "solid"
         },
         "marker": {
          "symbol": "circle"
         },
         "mode": "lines",
         "name": "GMRX/USDT",
         "orientation": "v",
         "showlegend": true,
         "type": "scatter",
         "x": [
          "2024-03-31T00:00:00+00:00",
          "2024-04-30T00:00:00+00:00",
          "2024-05-31T00:00:00+00:00",
          "2024-06-30T00:00:00+00:00",
          "2024-07-31T00:00:00+00:00",
          "2024-08-31T00:00:00+00:00",
          "2024-09-30T00:00:00+00:00",
          "2024-10-31T00:00:00+00:00",
          "2024-11-30T00:00:00+00:00"
         ],
         "xaxis": "x",
         "y": [
          -0.19178454842219794,
          -0.6424324021092784,
          -0.3057734546595543,
          -0.5419209039548021,
          -0.2131228416378882,
          -0.18683385579937317,
          -0.3076329992289898,
          -0.41425389755011144,
          0.7775665399239544
         ],
         "yaxis": "y"
        },
        {
         "hovertemplate": "symbol=GRASS/USDT<br>timestamp=%{x}<br>value=%{y}<extra></extra>",
         "legendgroup": "GRASS/USDT",
         "line": {
          "color": "#EF553B",
          "dash": "solid"
         },
         "marker": {
          "symbol": "circle"
         },
         "mode": "lines",
         "name": "GRASS/USDT",
         "orientation": "v",
         "showlegend": true,
         "type": "scatter",
         "x": [
          "2024-03-31T00:00:00+00:00",
          "2024-04-30T00:00:00+00:00",
          "2024-05-31T00:00:00+00:00",
          "2024-06-30T00:00:00+00:00",
          "2024-07-31T00:00:00+00:00",
          "2024-08-31T00:00:00+00:00",
          "2024-09-30T00:00:00+00:00",
          "2024-10-31T00:00:00+00:00",
          "2024-11-30T00:00:00+00:00"
         ],
         "xaxis": "x",
         "y": [
          0,
          0,
          0,
          0,
          0,
          0,
          0,
          0.20149837862014985,
          1.3181014425314097
         ],
         "yaxis": "y"
        },
        {
         "hovertemplate": "symbol=GRT/USDT<br>timestamp=%{x}<br>value=%{y}<extra></extra>",
         "legendgroup": "GRT/USDT",
         "line": {
          "color": "#00cc96",
          "dash": "solid"
         },
         "marker": {
          "symbol": "circle"
         },
         "mode": "lines",
         "name": "GRT/USDT",
         "orientation": "v",
         "showlegend": true,
         "type": "scatter",
         "x": [
          "2024-03-31T00:00:00+00:00",
          "2024-04-30T00:00:00+00:00",
          "2024-05-31T00:00:00+00:00",
          "2024-06-30T00:00:00+00:00",
          "2024-07-31T00:00:00+00:00",
          "2024-08-31T00:00:00+00:00",
          "2024-09-30T00:00:00+00:00",
          "2024-10-31T00:00:00+00:00",
          "2024-11-30T00:00:00+00:00"
         ],
         "xaxis": "x",
         "y": [
          -0.10095735422106178,
          -0.39825240739797185,
          0.26205495110283183,
          -0.2933816376505316,
          -0.14602421077616923,
          -0.18983823447662462,
          0.2041306436119117,
          -0.1616046498375977,
          0.372935499218378
         ],
         "yaxis": "y"
        },
        {
         "hovertemplate": "symbol=GSWIFT/USDT<br>timestamp=%{x}<br>value=%{y}<extra></extra>",
         "legendgroup": "GSWIFT/USDT",
         "line": {
          "color": "#ab63fa",
          "dash": "solid"
         },
         "marker": {
          "symbol": "circle"
         },
         "mode": "lines",
         "name": "GSWIFT/USDT",
         "orientation": "v",
         "showlegend": true,
         "type": "scatter",
         "x": [
          "2024-03-31T00:00:00+00:00",
          "2024-04-30T00:00:00+00:00",
          "2024-05-31T00:00:00+00:00",
          "2024-06-30T00:00:00+00:00",
          "2024-07-31T00:00:00+00:00",
          "2024-08-31T00:00:00+00:00",
          "2024-09-30T00:00:00+00:00",
          "2024-10-31T00:00:00+00:00",
          "2024-11-30T00:00:00+00:00"
         ],
         "xaxis": "x",
         "y": [
          -0.14203653927494497,
          -0.5386205690113072,
          -0.28653660554253413,
          -0.36813372626696883,
          -0.2809083263246427,
          -0.025518341307815495,
          -0.10551009274413525,
          -0.36716272261527183,
          -0.08288357748650776
         ],
         "yaxis": "y"
        },
        {
         "hovertemplate": "symbol=GTAI/USDT<br>timestamp=%{x}<br>value=%{y}<extra></extra>",
         "legendgroup": "GTAI/USDT",
         "line": {
          "color": "#FFA15A",
          "dash": "solid"
         },
         "marker": {
          "symbol": "circle"
         },
         "mode": "lines",
         "name": "GTAI/USDT",
         "orientation": "v",
         "showlegend": true,
         "type": "scatter",
         "x": [
          "2024-03-31T00:00:00+00:00",
          "2024-04-30T00:00:00+00:00",
          "2024-05-31T00:00:00+00:00",
          "2024-06-30T00:00:00+00:00",
          "2024-07-31T00:00:00+00:00",
          "2024-08-31T00:00:00+00:00",
          "2024-09-30T00:00:00+00:00",
          "2024-10-31T00:00:00+00:00",
          "2024-11-30T00:00:00+00:00"
         ],
         "xaxis": "x",
         "y": [
          -0.2372419488026425,
          -0.5065226805239796,
          -0.26709811879559076,
          -0.48903689291326813,
          -0.03529584065612179,
          -0.4341885532108697,
          1.1384491548162057,
          -0.21919698870765358,
          0.001285553591515498
         ],
         "yaxis": "y"
        },
        {
         "hovertemplate": "symbol=ICP/USDT<br>timestamp=%{x}<br>value=%{y}<extra></extra>",
         "legendgroup": "ICP/USDT",
         "line": {
          "color": "#19d3f3",
          "dash": "solid"
         },
         "marker": {
          "symbol": "circle"
         },
         "mode": "lines",
         "name": "ICP/USDT",
         "orientation": "v",
         "showlegend": true,
         "type": "scatter",
         "x": [
          "2024-03-31T00:00:00+00:00",
          "2024-04-30T00:00:00+00:00",
          "2024-05-31T00:00:00+00:00",
          "2024-06-30T00:00:00+00:00",
          "2024-07-31T00:00:00+00:00",
          "2024-08-31T00:00:00+00:00",
          "2024-09-30T00:00:00+00:00",
          "2024-10-31T00:00:00+00:00",
          "2024-11-30T00:00:00+00:00"
         ],
         "xaxis": "x",
         "y": [
          0.3277756565270875,
          -0.31419944403616973,
          -0.07970896327874444,
          -0.3103547200378006,
          0.09516235593510602,
          -0.1554763607114127,
          0.1893776043389115,
          -0.12593564747361286,
          0.16270931948898038
         ],
         "yaxis": "y"
        },
        {
         "hovertemplate": "symbol=IO/USDT<br>timestamp=%{x}<br>value=%{y}<extra></extra>",
         "legendgroup": "IO/USDT",
         "line": {
          "color": "#FF6692",
          "dash": "solid"
         },
         "marker": {
          "symbol": "circle"
         },
         "mode": "lines",
         "name": "IO/USDT",
         "orientation": "v",
         "showlegend": true,
         "type": "scatter",
         "x": [
          "2024-03-31T00:00:00+00:00",
          "2024-04-30T00:00:00+00:00",
          "2024-05-31T00:00:00+00:00",
          "2024-06-30T00:00:00+00:00",
          "2024-07-31T00:00:00+00:00",
          "2024-08-31T00:00:00+00:00",
          "2024-09-30T00:00:00+00:00",
          "2024-10-31T00:00:00+00:00",
          "2024-11-30T00:00:00+00:00"
         ],
         "xaxis": "x",
         "y": [
          0,
          0,
          0,
          -0.19343363937893587,
          -0.2775195184456758,
          -0.39212208702825346,
          0.3382412810422035,
          -0.16975105207118557,
          0.38711450381679424
         ],
         "yaxis": "y"
        },
        {
         "hovertemplate": "symbol=LAI/USDT<br>timestamp=%{x}<br>value=%{y}<extra></extra>",
         "legendgroup": "LAI/USDT",
         "line": {
          "color": "#B6E880",
          "dash": "solid"
         },
         "marker": {
          "symbol": "circle"
         },
         "mode": "lines",
         "name": "LAI/USDT",
         "orientation": "v",
         "showlegend": true,
         "type": "scatter",
         "x": [
          "2024-03-31T00:00:00+00:00",
          "2024-04-30T00:00:00+00:00",
          "2024-05-31T00:00:00+00:00",
          "2024-06-30T00:00:00+00:00",
          "2024-07-31T00:00:00+00:00",
          "2024-08-31T00:00:00+00:00",
          "2024-09-30T00:00:00+00:00",
          "2024-10-31T00:00:00+00:00",
          "2024-11-30T00:00:00+00:00"
         ],
         "xaxis": "x",
         "y": [
          0,
          -0.12055214723926355,
          0.07359609347750307,
          -0.47985705003248846,
          -0.09931292941911352,
          -0.2281553398058257,
          0.6846361185983831,
          -0.3258666666666665,
          0.08781645569620289
         ],
         "yaxis": "y"
        },
        {
         "hovertemplate": "symbol=LMWR/USDT<br>timestamp=%{x}<br>value=%{y}<extra></extra>",
         "legendgroup": "LMWR/USDT",
         "line": {
          "color": "#FF97FF",
          "dash": "solid"
         },
         "marker": {
          "symbol": "circle"
         },
         "mode": "lines",
         "name": "LMWR/USDT",
         "orientation": "v",
         "showlegend": true,
         "type": "scatter",
         "x": [
          "2024-03-31T00:00:00+00:00",
          "2024-04-30T00:00:00+00:00",
          "2024-05-31T00:00:00+00:00",
          "2024-06-30T00:00:00+00:00",
          "2024-07-31T00:00:00+00:00",
          "2024-08-31T00:00:00+00:00",
          "2024-09-30T00:00:00+00:00",
          "2024-10-31T00:00:00+00:00",
          "2024-11-30T00:00:00+00:00"
         ],
         "xaxis": "x",
         "y": [
          0.8414668547249653,
          -0.195925245098039,
          -0.4875214326538386,
          -0.34460966542750937,
          -0.32076006806579693,
          -0.14822546972860107,
          -0.1471078431372551,
          -0.3196160698890743,
          0.08835952018922133
         ],
         "yaxis": "y"
        },
        {
         "hovertemplate": "symbol=LUNA/USDT<br>timestamp=%{x}<br>value=%{y}<extra></extra>",
         "legendgroup": "LUNA/USDT",
         "line": {
          "color": "#FECB52",
          "dash": "solid"
         },
         "marker": {
          "symbol": "circle"
         },
         "mode": "lines",
         "name": "LUNA/USDT",
         "orientation": "v",
         "showlegend": true,
         "type": "scatter",
         "x": [
          "2024-03-31T00:00:00+00:00",
          "2024-04-30T00:00:00+00:00",
          "2024-05-31T00:00:00+00:00",
          "2024-06-30T00:00:00+00:00",
          "2024-07-31T00:00:00+00:00",
          "2024-08-31T00:00:00+00:00",
          "2024-09-30T00:00:00+00:00",
          "2024-10-31T00:00:00+00:00",
          "2024-11-30T00:00:00+00:00"
         ],
         "xaxis": "x",
         "y": [
          0.06789041601328316,
          -0.519478275891855,
          0.19827431242135463,
          -0.35418541854185404,
          -0.11219512195121928,
          -0.09236002093144924,
          0.16719515710579436,
          -0.1612743887379603,
          0.3501177856301534
         ],
         "yaxis": "y"
        },
        {
         "hovertemplate": "symbol=NEAR/USDT<br>timestamp=%{x}<br>value=%{y}<extra></extra>",
         "legendgroup": "NEAR/USDT",
         "line": {
          "color": "#636efa",
          "dash": "solid"
         },
         "marker": {
          "symbol": "circle"
         },
         "mode": "lines",
         "name": "NEAR/USDT",
         "orientation": "v",
         "showlegend": true,
         "type": "scatter",
         "x": [
          "2024-03-31T00:00:00+00:00",
          "2024-04-30T00:00:00+00:00",
          "2024-05-31T00:00:00+00:00",
          "2024-06-30T00:00:00+00:00",
          "2024-07-31T00:00:00+00:00",
          "2024-08-31T00:00:00+00:00",
          "2024-09-30T00:00:00+00:00",
          "2024-10-31T00:00:00+00:00",
          "2024-11-30T00:00:00+00:00"
         ],
         "xaxis": "x",
         "y": [
          0.22633260467462502,
          -0.15115864527629252,
          0.1708235066067909,
          -0.2681944233661241,
          -0.058934429320161574,
          -0.1921027325907525,
          0.31080913531876897,
          -0.23306407370272963,
          0.42830714585234686
         ],
         "yaxis": "y"
        },
        {
         "hovertemplate": "symbol=NRN/USDT<br>timestamp=%{x}<br>value=%{y}<extra></extra>",
         "legendgroup": "NRN/USDT",
         "line": {
          "color": "#EF553B",
          "dash": "solid"
         },
         "marker": {
          "symbol": "circle"
         },
         "mode": "lines",
         "name": "NRN/USDT",
         "orientation": "v",
         "showlegend": true,
         "type": "scatter",
         "x": [
          "2024-03-31T00:00:00+00:00",
          "2024-04-30T00:00:00+00:00",
          "2024-05-31T00:00:00+00:00",
          "2024-06-30T00:00:00+00:00",
          "2024-07-31T00:00:00+00:00",
          "2024-08-31T00:00:00+00:00",
          "2024-09-30T00:00:00+00:00",
          "2024-10-31T00:00:00+00:00",
          "2024-11-30T00:00:00+00:00"
         ],
         "xaxis": "x",
         "y": [
          0,
          0,
          0,
          0.08333333333333326,
          -0.379076923076923,
          -0.3230921704658076,
          0.7617130307467059,
          0.0029087886972787302,
          0.3828464885021754
         ],
         "yaxis": "y"
        },
        {
         "hovertemplate": "symbol=RAIN/USDT<br>timestamp=%{x}<br>value=%{y}<extra></extra>",
         "legendgroup": "RAIN/USDT",
         "line": {
          "color": "#00cc96",
          "dash": "solid"
         },
         "marker": {
          "symbol": "circle"
         },
         "mode": "lines",
         "name": "RAIN/USDT",
         "orientation": "v",
         "showlegend": true,
         "type": "scatter",
         "x": [
          "2024-03-31T00:00:00+00:00",
          "2024-04-30T00:00:00+00:00",
          "2024-05-31T00:00:00+00:00",
          "2024-06-30T00:00:00+00:00",
          "2024-07-31T00:00:00+00:00",
          "2024-08-31T00:00:00+00:00",
          "2024-09-30T00:00:00+00:00",
          "2024-10-31T00:00:00+00:00",
          "2024-11-30T00:00:00+00:00"
         ],
         "xaxis": "x",
         "y": [
          -0.28684984102225697,
          -0.35305993690851745,
          0.24842337949418036,
          -0.7417456514946357,
          -0.14075418431135311,
          0.2025346162872561,
          0.16686182669789207,
          -0.13513965546077922,
          -0.1355637207503384
         ],
         "yaxis": "y"
        },
        {
         "hovertemplate": "symbol=RENDER/USDT<br>timestamp=%{x}<br>value=%{y}<extra></extra>",
         "legendgroup": "RENDER/USDT",
         "line": {
          "color": "#ab63fa",
          "dash": "solid"
         },
         "marker": {
          "symbol": "circle"
         },
         "mode": "lines",
         "name": "RENDER/USDT",
         "orientation": "v",
         "showlegend": true,
         "type": "scatter",
         "x": [
          "2024-03-31T00:00:00+00:00",
          "2024-04-30T00:00:00+00:00",
          "2024-05-31T00:00:00+00:00",
          "2024-06-30T00:00:00+00:00",
          "2024-07-31T00:00:00+00:00",
          "2024-08-31T00:00:00+00:00",
          "2024-09-30T00:00:00+00:00",
          "2024-10-31T00:00:00+00:00",
          "2024-11-30T00:00:00+00:00"
         ],
         "xaxis": "x",
         "y": [
          0,
          0,
          0,
          0,
          0,
          -0.1286307053941903,
          0.2891156462585036,
          -0.2584199906875676,
          0.4267475931352036
         ],
         "yaxis": "y"
        },
        {
         "hovertemplate": "symbol=RSS3/USDT<br>timestamp=%{x}<br>value=%{y}<extra></extra>",
         "legendgroup": "RSS3/USDT",
         "line": {
          "color": "#FFA15A",
          "dash": "solid"
         },
         "marker": {
          "symbol": "circle"
         },
         "mode": "lines",
         "name": "RSS3/USDT",
         "orientation": "v",
         "showlegend": true,
         "type": "scatter",
         "x": [
          "2024-03-31T00:00:00+00:00",
          "2024-04-30T00:00:00+00:00",
          "2024-05-31T00:00:00+00:00",
          "2024-06-30T00:00:00+00:00",
          "2024-07-31T00:00:00+00:00",
          "2024-08-31T00:00:00+00:00",
          "2024-09-30T00:00:00+00:00",
          "2024-10-31T00:00:00+00:00",
          "2024-11-30T00:00:00+00:00"
         ],
         "xaxis": "x",
         "y": [
          0.21747613997879034,
          -0.4234896522890388,
          -0.08587659394452185,
          -0.3110868702895674,
          -0.2964828942948996,
          -0.263879416177875,
          0.26554248123783863,
          -0.18669009444322404,
          -0.026284994148887963
         ],
         "yaxis": "y"
        },
        {
         "hovertemplate": "symbol=SPEC/USDT<br>timestamp=%{x}<br>value=%{y}<extra></extra>",
         "legendgroup": "SPEC/USDT",
         "line": {
          "color": "#19d3f3",
          "dash": "solid"
         },
         "marker": {
          "symbol": "circle"
         },
         "mode": "lines",
         "name": "SPEC/USDT",
         "orientation": "v",
         "showlegend": true,
         "type": "scatter",
         "x": [
          "2024-03-31T00:00:00+00:00",
          "2024-04-30T00:00:00+00:00",
          "2024-05-31T00:00:00+00:00",
          "2024-06-30T00:00:00+00:00",
          "2024-07-31T00:00:00+00:00",
          "2024-08-31T00:00:00+00:00",
          "2024-09-30T00:00:00+00:00",
          "2024-10-31T00:00:00+00:00",
          "2024-11-30T00:00:00+00:00"
         ],
         "xaxis": "x",
         "y": [
          0,
          0,
          1.051826923076924,
          -0.5188465563834606,
          0.24626647620284325,
          -0.1795376098990561,
          0.28567573145369995,
          0.2207048131775875,
          0.2041169330366177
         ],
         "yaxis": "y"
        },
        {
         "hovertemplate": "symbol=TAI/USDT<br>timestamp=%{x}<br>value=%{y}<extra></extra>",
         "legendgroup": "TAI/USDT",
         "line": {
          "color": "#FF6692",
          "dash": "solid"
         },
         "marker": {
          "symbol": "circle"
         },
         "mode": "lines",
         "name": "TAI/USDT",
         "orientation": "v",
         "showlegend": true,
         "type": "scatter",
         "x": [
          "2024-03-31T00:00:00+00:00",
          "2024-04-30T00:00:00+00:00",
          "2024-05-31T00:00:00+00:00",
          "2024-06-30T00:00:00+00:00",
          "2024-07-31T00:00:00+00:00",
          "2024-08-31T00:00:00+00:00",
          "2024-09-30T00:00:00+00:00",
          "2024-10-31T00:00:00+00:00",
          "2024-11-30T00:00:00+00:00"
         ],
         "xaxis": "x",
         "y": [
          0,
          0,
          1.0567484662576687,
          0.4465158670975229,
          -0.28829190056134735,
          -0.004909456740442408,
          0.24692656098350008,
          -0.10689498605435555,
          0.23255138354274085
         ],
         "yaxis": "y"
        },
        {
         "hovertemplate": "symbol=TOKEN/USDT<br>timestamp=%{x}<br>value=%{y}<extra></extra>",
         "legendgroup": "TOKEN/USDT",
         "line": {
          "color": "#B6E880",
          "dash": "solid"
         },
         "marker": {
          "symbol": "circle"
         },
         "mode": "lines",
         "name": "TOKEN/USDT",
         "orientation": "v",
         "showlegend": true,
         "type": "scatter",
         "x": [
          "2024-03-31T00:00:00+00:00",
          "2024-04-30T00:00:00+00:00",
          "2024-05-31T00:00:00+00:00",
          "2024-06-30T00:00:00+00:00",
          "2024-07-31T00:00:00+00:00",
          "2024-08-31T00:00:00+00:00",
          "2024-09-30T00:00:00+00:00",
          "2024-10-31T00:00:00+00:00",
          "2024-11-30T00:00:00+00:00"
         ],
         "xaxis": "x",
         "y": [
          1.1899563318777289,
          -0.4625013847346847,
          0.4034418796372632,
          -0.3865922608121004,
          -0.2817811826669858,
          -0.17066666666666674,
          0.13344051446945282,
          -0.29361702127659517,
          0.43925702811244993
         ],
         "yaxis": "y"
        },
        {
         "hovertemplate": "symbol=TRVL/USDT<br>timestamp=%{x}<br>value=%{y}<extra></extra>",
         "legendgroup": "TRVL/USDT",
         "line": {
          "color": "#FF97FF",
          "dash": "solid"
         },
         "marker": {
          "symbol": "circle"
         },
         "mode": "lines",
         "name": "TRVL/USDT",
         "orientation": "v",
         "showlegend": true,
         "type": "scatter",
         "x": [
          "2024-03-31T00:00:00+00:00",
          "2024-04-30T00:00:00+00:00",
          "2024-05-31T00:00:00+00:00",
          "2024-06-30T00:00:00+00:00",
          "2024-07-31T00:00:00+00:00",
          "2024-08-31T00:00:00+00:00",
          "2024-09-30T00:00:00+00:00",
          "2024-10-31T00:00:00+00:00",
          "2024-11-30T00:00:00+00:00"
         ],
         "xaxis": "x",
         "y": [
          0.1115537363253174,
          -0.39410146531788726,
          -0.16972360900079542,
          -0.19008300472756567,
          -0.1843662578007318,
          -0.25146758129410984,
          0.41238930255099815,
          0.21617743394578426,
          0.4568445892220492
         ],
         "yaxis": "y"
        },
        {
         "hovertemplate": "symbol=ZIG/USDT<br>timestamp=%{x}<br>value=%{y}<extra></extra>",
         "legendgroup": "ZIG/USDT",
         "line": {
          "color": "#FECB52",
          "dash": "solid"
         },
         "marker": {
          "symbol": "circle"
         },
         "mode": "lines",
         "name": "ZIG/USDT",
         "orientation": "v",
         "showlegend": true,
         "type": "scatter",
         "x": [
          "2024-03-31T00:00:00+00:00",
          "2024-04-30T00:00:00+00:00",
          "2024-05-31T00:00:00+00:00",
          "2024-06-30T00:00:00+00:00",
          "2024-07-31T00:00:00+00:00",
          "2024-08-31T00:00:00+00:00",
          "2024-09-30T00:00:00+00:00",
          "2024-10-31T00:00:00+00:00",
          "2024-11-30T00:00:00+00:00"
         ],
         "xaxis": "x",
         "y": [
          -0.07779938871908854,
          -0.06919754946268952,
          0.026327147173068388,
          0.2914213624894866,
          0.06585802670139973,
          -0.2787749178950587,
          0.11744149105157331,
          -0.08424943138741503,
          0.3779364586567322
         ],
         "yaxis": "y"
        }
       ],
       "layout": {
        "height": 600,
        "legend": {
         "title": {
          "text": "symbol"
         },
         "tracegroupgap": 0
        },
        "template": {
         "data": {
          "bar": [
           {
            "error_x": {
             "color": "#2a3f5f"
            },
            "error_y": {
             "color": "#2a3f5f"
            },
            "marker": {
             "line": {
              "color": "#E5ECF6",
              "width": 0.5
             },
             "pattern": {
              "fillmode": "overlay",
              "size": 10,
              "solidity": 0.2
             }
            },
            "type": "bar"
           }
          ],
          "barpolar": [
           {
            "marker": {
             "line": {
              "color": "#E5ECF6",
              "width": 0.5
             },
             "pattern": {
              "fillmode": "overlay",
              "size": 10,
              "solidity": 0.2
             }
            },
            "type": "barpolar"
           }
          ],
          "carpet": [
           {
            "aaxis": {
             "endlinecolor": "#2a3f5f",
             "gridcolor": "white",
             "linecolor": "white",
             "minorgridcolor": "white",
             "startlinecolor": "#2a3f5f"
            },
            "baxis": {
             "endlinecolor": "#2a3f5f",
             "gridcolor": "white",
             "linecolor": "white",
             "minorgridcolor": "white",
             "startlinecolor": "#2a3f5f"
            },
            "type": "carpet"
           }
          ],
          "choropleth": [
           {
            "colorbar": {
             "outlinewidth": 0,
             "ticks": ""
            },
            "type": "choropleth"
           }
          ],
          "contour": [
           {
            "colorbar": {
             "outlinewidth": 0,
             "ticks": ""
            },
            "colorscale": [
             [
              0,
              "#0d0887"
             ],
             [
              0.1111111111111111,
              "#46039f"
             ],
             [
              0.2222222222222222,
              "#7201a8"
             ],
             [
              0.3333333333333333,
              "#9c179e"
             ],
             [
              0.4444444444444444,
              "#bd3786"
             ],
             [
              0.5555555555555556,
              "#d8576b"
             ],
             [
              0.6666666666666666,
              "#ed7953"
             ],
             [
              0.7777777777777778,
              "#fb9f3a"
             ],
             [
              0.8888888888888888,
              "#fdca26"
             ],
             [
              1,
              "#f0f921"
             ]
            ],
            "type": "contour"
           }
          ],
          "contourcarpet": [
           {
            "colorbar": {
             "outlinewidth": 0,
             "ticks": ""
            },
            "type": "contourcarpet"
           }
          ],
          "heatmap": [
           {
            "colorbar": {
             "outlinewidth": 0,
             "ticks": ""
            },
            "colorscale": [
             [
              0,
              "#0d0887"
             ],
             [
              0.1111111111111111,
              "#46039f"
             ],
             [
              0.2222222222222222,
              "#7201a8"
             ],
             [
              0.3333333333333333,
              "#9c179e"
             ],
             [
              0.4444444444444444,
              "#bd3786"
             ],
             [
              0.5555555555555556,
              "#d8576b"
             ],
             [
              0.6666666666666666,
              "#ed7953"
             ],
             [
              0.7777777777777778,
              "#fb9f3a"
             ],
             [
              0.8888888888888888,
              "#fdca26"
             ],
             [
              1,
              "#f0f921"
             ]
            ],
            "type": "heatmap"
           }
          ],
          "heatmapgl": [
           {
            "colorbar": {
             "outlinewidth": 0,
             "ticks": ""
            },
            "colorscale": [
             [
              0,
              "#0d0887"
             ],
             [
              0.1111111111111111,
              "#46039f"
             ],
             [
              0.2222222222222222,
              "#7201a8"
             ],
             [
              0.3333333333333333,
              "#9c179e"
             ],
             [
              0.4444444444444444,
              "#bd3786"
             ],
             [
              0.5555555555555556,
              "#d8576b"
             ],
             [
              0.6666666666666666,
              "#ed7953"
             ],
             [
              0.7777777777777778,
              "#fb9f3a"
             ],
             [
              0.8888888888888888,
              "#fdca26"
             ],
             [
              1,
              "#f0f921"
             ]
            ],
            "type": "heatmapgl"
           }
          ],
          "histogram": [
           {
            "marker": {
             "pattern": {
              "fillmode": "overlay",
              "size": 10,
              "solidity": 0.2
             }
            },
            "type": "histogram"
           }
          ],
          "histogram2d": [
           {
            "colorbar": {
             "outlinewidth": 0,
             "ticks": ""
            },
            "colorscale": [
             [
              0,
              "#0d0887"
             ],
             [
              0.1111111111111111,
              "#46039f"
             ],
             [
              0.2222222222222222,
              "#7201a8"
             ],
             [
              0.3333333333333333,
              "#9c179e"
             ],
             [
              0.4444444444444444,
              "#bd3786"
             ],
             [
              0.5555555555555556,
              "#d8576b"
             ],
             [
              0.6666666666666666,
              "#ed7953"
             ],
             [
              0.7777777777777778,
              "#fb9f3a"
             ],
             [
              0.8888888888888888,
              "#fdca26"
             ],
             [
              1,
              "#f0f921"
             ]
            ],
            "type": "histogram2d"
           }
          ],
          "histogram2dcontour": [
           {
            "colorbar": {
             "outlinewidth": 0,
             "ticks": ""
            },
            "colorscale": [
             [
              0,
              "#0d0887"
             ],
             [
              0.1111111111111111,
              "#46039f"
             ],
             [
              0.2222222222222222,
              "#7201a8"
             ],
             [
              0.3333333333333333,
              "#9c179e"
             ],
             [
              0.4444444444444444,
              "#bd3786"
             ],
             [
              0.5555555555555556,
              "#d8576b"
             ],
             [
              0.6666666666666666,
              "#ed7953"
             ],
             [
              0.7777777777777778,
              "#fb9f3a"
             ],
             [
              0.8888888888888888,
              "#fdca26"
             ],
             [
              1,
              "#f0f921"
             ]
            ],
            "type": "histogram2dcontour"
           }
          ],
          "mesh3d": [
           {
            "colorbar": {
             "outlinewidth": 0,
             "ticks": ""
            },
            "type": "mesh3d"
           }
          ],
          "parcoords": [
           {
            "line": {
             "colorbar": {
              "outlinewidth": 0,
              "ticks": ""
             }
            },
            "type": "parcoords"
           }
          ],
          "pie": [
           {
            "automargin": true,
            "type": "pie"
           }
          ],
          "scatter": [
           {
            "fillpattern": {
             "fillmode": "overlay",
             "size": 10,
             "solidity": 0.2
            },
            "type": "scatter"
           }
          ],
          "scatter3d": [
           {
            "line": {
             "colorbar": {
              "outlinewidth": 0,
              "ticks": ""
             }
            },
            "marker": {
             "colorbar": {
              "outlinewidth": 0,
              "ticks": ""
             }
            },
            "type": "scatter3d"
           }
          ],
          "scattercarpet": [
           {
            "marker": {
             "colorbar": {
              "outlinewidth": 0,
              "ticks": ""
             }
            },
            "type": "scattercarpet"
           }
          ],
          "scattergeo": [
           {
            "marker": {
             "colorbar": {
              "outlinewidth": 0,
              "ticks": ""
             }
            },
            "type": "scattergeo"
           }
          ],
          "scattergl": [
           {
            "marker": {
             "colorbar": {
              "outlinewidth": 0,
              "ticks": ""
             }
            },
            "type": "scattergl"
           }
          ],
          "scattermapbox": [
           {
            "marker": {
             "colorbar": {
              "outlinewidth": 0,
              "ticks": ""
             }
            },
            "type": "scattermapbox"
           }
          ],
          "scatterpolar": [
           {
            "marker": {
             "colorbar": {
              "outlinewidth": 0,
              "ticks": ""
             }
            },
            "type": "scatterpolar"
           }
          ],
          "scatterpolargl": [
           {
            "marker": {
             "colorbar": {
              "outlinewidth": 0,
              "ticks": ""
             }
            },
            "type": "scatterpolargl"
           }
          ],
          "scatterternary": [
           {
            "marker": {
             "colorbar": {
              "outlinewidth": 0,
              "ticks": ""
             }
            },
            "type": "scatterternary"
           }
          ],
          "surface": [
           {
            "colorbar": {
             "outlinewidth": 0,
             "ticks": ""
            },
            "colorscale": [
             [
              0,
              "#0d0887"
             ],
             [
              0.1111111111111111,
              "#46039f"
             ],
             [
              0.2222222222222222,
              "#7201a8"
             ],
             [
              0.3333333333333333,
              "#9c179e"
             ],
             [
              0.4444444444444444,
              "#bd3786"
             ],
             [
              0.5555555555555556,
              "#d8576b"
             ],
             [
              0.6666666666666666,
              "#ed7953"
             ],
             [
              0.7777777777777778,
              "#fb9f3a"
             ],
             [
              0.8888888888888888,
              "#fdca26"
             ],
             [
              1,
              "#f0f921"
             ]
            ],
            "type": "surface"
           }
          ],
          "table": [
           {
            "cells": {
             "fill": {
              "color": "#EBF0F8"
             },
             "line": {
              "color": "white"
             }
            },
            "header": {
             "fill": {
              "color": "#C8D4E3"
             },
             "line": {
              "color": "white"
             }
            },
            "type": "table"
           }
          ]
         },
         "layout": {
          "annotationdefaults": {
           "arrowcolor": "#2a3f5f",
           "arrowhead": 0,
           "arrowwidth": 1
          },
          "autotypenumbers": "strict",
          "coloraxis": {
           "colorbar": {
            "outlinewidth": 0,
            "ticks": ""
           }
          },
          "colorscale": {
           "diverging": [
            [
             0,
             "#8e0152"
            ],
            [
             0.1,
             "#c51b7d"
            ],
            [
             0.2,
             "#de77ae"
            ],
            [
             0.3,
             "#f1b6da"
            ],
            [
             0.4,
             "#fde0ef"
            ],
            [
             0.5,
             "#f7f7f7"
            ],
            [
             0.6,
             "#e6f5d0"
            ],
            [
             0.7,
             "#b8e186"
            ],
            [
             0.8,
             "#7fbc41"
            ],
            [
             0.9,
             "#4d9221"
            ],
            [
             1,
             "#276419"
            ]
           ],
           "sequential": [
            [
             0,
             "#0d0887"
            ],
            [
             0.1111111111111111,
             "#46039f"
            ],
            [
             0.2222222222222222,
             "#7201a8"
            ],
            [
             0.3333333333333333,
             "#9c179e"
            ],
            [
             0.4444444444444444,
             "#bd3786"
            ],
            [
             0.5555555555555556,
             "#d8576b"
            ],
            [
             0.6666666666666666,
             "#ed7953"
            ],
            [
             0.7777777777777778,
             "#fb9f3a"
            ],
            [
             0.8888888888888888,
             "#fdca26"
            ],
            [
             1,
             "#f0f921"
            ]
           ],
           "sequentialminus": [
            [
             0,
             "#0d0887"
            ],
            [
             0.1111111111111111,
             "#46039f"
            ],
            [
             0.2222222222222222,
             "#7201a8"
            ],
            [
             0.3333333333333333,
             "#9c179e"
            ],
            [
             0.4444444444444444,
             "#bd3786"
            ],
            [
             0.5555555555555556,
             "#d8576b"
            ],
            [
             0.6666666666666666,
             "#ed7953"
            ],
            [
             0.7777777777777778,
             "#fb9f3a"
            ],
            [
             0.8888888888888888,
             "#fdca26"
            ],
            [
             1,
             "#f0f921"
            ]
           ]
          },
          "colorway": [
           "#636efa",
           "#EF553B",
           "#00cc96",
           "#ab63fa",
           "#FFA15A",
           "#19d3f3",
           "#FF6692",
           "#B6E880",
           "#FF97FF",
           "#FECB52"
          ],
          "font": {
           "color": "#2a3f5f"
          },
          "geo": {
           "bgcolor": "white",
           "lakecolor": "white",
           "landcolor": "#E5ECF6",
           "showlakes": true,
           "showland": true,
           "subunitcolor": "white"
          },
          "hoverlabel": {
           "align": "left"
          },
          "hovermode": "closest",
          "mapbox": {
           "style": "light"
          },
          "paper_bgcolor": "white",
          "plot_bgcolor": "#E5ECF6",
          "polar": {
           "angularaxis": {
            "gridcolor": "white",
            "linecolor": "white",
            "ticks": ""
           },
           "bgcolor": "#E5ECF6",
           "radialaxis": {
            "gridcolor": "white",
            "linecolor": "white",
            "ticks": ""
           }
          },
          "scene": {
           "xaxis": {
            "backgroundcolor": "#E5ECF6",
            "gridcolor": "white",
            "gridwidth": 2,
            "linecolor": "white",
            "showbackground": true,
            "ticks": "",
            "zerolinecolor": "white"
           },
           "yaxis": {
            "backgroundcolor": "#E5ECF6",
            "gridcolor": "white",
            "gridwidth": 2,
            "linecolor": "white",
            "showbackground": true,
            "ticks": "",
            "zerolinecolor": "white"
           },
           "zaxis": {
            "backgroundcolor": "#E5ECF6",
            "gridcolor": "white",
            "gridwidth": 2,
            "linecolor": "white",
            "showbackground": true,
            "ticks": "",
            "zerolinecolor": "white"
           }
          },
          "shapedefaults": {
           "line": {
            "color": "#2a3f5f"
           }
          },
          "ternary": {
           "aaxis": {
            "gridcolor": "white",
            "linecolor": "white",
            "ticks": ""
           },
           "baxis": {
            "gridcolor": "white",
            "linecolor": "white",
            "ticks": ""
           },
           "bgcolor": "#E5ECF6",
           "caxis": {
            "gridcolor": "white",
            "linecolor": "white",
            "ticks": ""
           }
          },
          "title": {
           "x": 0.05
          },
          "xaxis": {
           "automargin": true,
           "gridcolor": "white",
           "linecolor": "white",
           "ticks": "",
           "title": {
            "standoff": 15
           },
           "zerolinecolor": "white",
           "zerolinewidth": 2
          },
          "yaxis": {
           "automargin": true,
           "gridcolor": "white",
           "linecolor": "white",
           "ticks": "",
           "title": {
            "standoff": 15
           },
           "zerolinecolor": "white",
           "zerolinewidth": 2
          }
         }
        },
        "title": {
         "text": "Monthly returns"
        },
        "width": 1200,
        "xaxis": {
         "anchor": "y",
         "domain": [
          0,
          1
         ],
         "title": {
          "text": "Timestamp"
         }
        },
        "yaxis": {
         "anchor": "x",
         "domain": [
          0,
          1
         ],
         "title": {
          "text": "Returns"
         }
        }
       }
      }
     },
     "metadata": {},
     "output_type": "display_data"
    }
   ],
   "source": [
    "# Create a line plot with Plotly\n",
    "fig = px.line(returns_df, x=returns_df.index, y=returns_df.columns, title=\"Monthly returns\")\n",
    "# Adjust the layout for a wider plot\n",
    "fig.update_layout(width=1200, height=600, xaxis_title=\"Timestamp\", yaxis_title=\"Returns\")\n",
    "# Show the interactive plot\n",
    "fig.show()"
   ]
  },
  {
   "cell_type": "code",
   "execution_count": 11,
   "metadata": {},
   "outputs": [
    {
     "data": {
      "text/html": [
       "<div>\n",
       "<style scoped>\n",
       "    .dataframe tbody tr th:only-of-type {\n",
       "        vertical-align: middle;\n",
       "    }\n",
       "\n",
       "    .dataframe tbody tr th {\n",
       "        vertical-align: top;\n",
       "    }\n",
       "\n",
       "    .dataframe thead th {\n",
       "        text-align: right;\n",
       "    }\n",
       "</style>\n",
       "<table border=\"1\" class=\"dataframe\">\n",
       "  <thead>\n",
       "    <tr style=\"text-align: right;\">\n",
       "      <th>symbol</th>\n",
       "      <th>1INCH/USDT</th>\n",
       "      <th>A8/USDT</th>\n",
       "      <th>ACA/USDT</th>\n",
       "      <th>AEVO/USDT</th>\n",
       "      <th>ANKR/USDT</th>\n",
       "      <th>ARB/USDT</th>\n",
       "      <th>ATOM/USDT</th>\n",
       "      <th>AURORA/USDT</th>\n",
       "      <th>BAT/USDT</th>\n",
       "      <th>DOT/USDT</th>\n",
       "      <th>...</th>\n",
       "      <th>PTU/USDT</th>\n",
       "      <th>ROSE/USDT</th>\n",
       "      <th>SD/USDT</th>\n",
       "      <th>STRK/USDT</th>\n",
       "      <th>SUSHI/USDT</th>\n",
       "      <th>TON/USDT</th>\n",
       "      <th>WAXP/USDT</th>\n",
       "      <th>XRP/USDT</th>\n",
       "      <th>ZENT/USDT</th>\n",
       "      <th>ZRX/USDT</th>\n",
       "    </tr>\n",
       "    <tr>\n",
       "      <th>timestamp</th>\n",
       "      <th></th>\n",
       "      <th></th>\n",
       "      <th></th>\n",
       "      <th></th>\n",
       "      <th></th>\n",
       "      <th></th>\n",
       "      <th></th>\n",
       "      <th></th>\n",
       "      <th></th>\n",
       "      <th></th>\n",
       "      <th></th>\n",
       "      <th></th>\n",
       "      <th></th>\n",
       "      <th></th>\n",
       "      <th></th>\n",
       "      <th></th>\n",
       "      <th></th>\n",
       "      <th></th>\n",
       "      <th></th>\n",
       "      <th></th>\n",
       "      <th></th>\n",
       "    </tr>\n",
       "  </thead>\n",
       "  <tbody>\n",
       "    <tr>\n",
       "      <th>2024-05-31 00:00:00+00:00</th>\n",
       "      <td>NaN</td>\n",
       "      <td>NaN</td>\n",
       "      <td>NaN</td>\n",
       "      <td>NaN</td>\n",
       "      <td>NaN</td>\n",
       "      <td>NaN</td>\n",
       "      <td>NaN</td>\n",
       "      <td>NaN</td>\n",
       "      <td>NaN</td>\n",
       "      <td>NaN</td>\n",
       "      <td>...</td>\n",
       "      <td>NaN</td>\n",
       "      <td>NaN</td>\n",
       "      <td>NaN</td>\n",
       "      <td>NaN</td>\n",
       "      <td>NaN</td>\n",
       "      <td>NaN</td>\n",
       "      <td>NaN</td>\n",
       "      <td>NaN</td>\n",
       "      <td>NaN</td>\n",
       "      <td>NaN</td>\n",
       "    </tr>\n",
       "    <tr>\n",
       "      <th>2024-06-30 00:00:00+00:00</th>\n",
       "      <td>NaN</td>\n",
       "      <td>NaN</td>\n",
       "      <td>NaN</td>\n",
       "      <td>NaN</td>\n",
       "      <td>NaN</td>\n",
       "      <td>NaN</td>\n",
       "      <td>NaN</td>\n",
       "      <td>NaN</td>\n",
       "      <td>NaN</td>\n",
       "      <td>NaN</td>\n",
       "      <td>...</td>\n",
       "      <td>NaN</td>\n",
       "      <td>NaN</td>\n",
       "      <td>NaN</td>\n",
       "      <td>NaN</td>\n",
       "      <td>NaN</td>\n",
       "      <td>NaN</td>\n",
       "      <td>NaN</td>\n",
       "      <td>NaN</td>\n",
       "      <td>NaN</td>\n",
       "      <td>NaN</td>\n",
       "    </tr>\n",
       "    <tr>\n",
       "      <th>2024-07-31 00:00:00+00:00</th>\n",
       "      <td>NaN</td>\n",
       "      <td>NaN</td>\n",
       "      <td>NaN</td>\n",
       "      <td>NaN</td>\n",
       "      <td>NaN</td>\n",
       "      <td>NaN</td>\n",
       "      <td>NaN</td>\n",
       "      <td>NaN</td>\n",
       "      <td>NaN</td>\n",
       "      <td>NaN</td>\n",
       "      <td>...</td>\n",
       "      <td>NaN</td>\n",
       "      <td>NaN</td>\n",
       "      <td>NaN</td>\n",
       "      <td>NaN</td>\n",
       "      <td>NaN</td>\n",
       "      <td>NaN</td>\n",
       "      <td>NaN</td>\n",
       "      <td>NaN</td>\n",
       "      <td>NaN</td>\n",
       "      <td>NaN</td>\n",
       "    </tr>\n",
       "    <tr>\n",
       "      <th>2024-08-31 00:00:00+00:00</th>\n",
       "      <td>-0.627704</td>\n",
       "      <td>-0.616478</td>\n",
       "      <td>-0.561696</td>\n",
       "      <td>-0.902497</td>\n",
       "      <td>-0.525633</td>\n",
       "      <td>-0.751451</td>\n",
       "      <td>-0.653715</td>\n",
       "      <td>-0.519983</td>\n",
       "      <td>-0.542111</td>\n",
       "      <td>-0.585135</td>\n",
       "      <td>...</td>\n",
       "      <td>-0.552767</td>\n",
       "      <td>-0.683521</td>\n",
       "      <td>-0.521819</td>\n",
       "      <td>-0.853317</td>\n",
       "      <td>-0.721973</td>\n",
       "      <td>0.923787</td>\n",
       "      <td>-0.681915</td>\n",
       "      <td>-0.068903</td>\n",
       "      <td>-0.515160</td>\n",
       "      <td>-0.637148</td>\n",
       "    </tr>\n",
       "    <tr>\n",
       "      <th>2024-09-30 00:00:00+00:00</th>\n",
       "      <td>-0.549547</td>\n",
       "      <td>-0.613133</td>\n",
       "      <td>-0.645708</td>\n",
       "      <td>-0.868057</td>\n",
       "      <td>-0.522701</td>\n",
       "      <td>-0.635981</td>\n",
       "      <td>-0.615435</td>\n",
       "      <td>-0.432973</td>\n",
       "      <td>-0.468193</td>\n",
       "      <td>-0.540224</td>\n",
       "      <td>...</td>\n",
       "      <td>-0.494333</td>\n",
       "      <td>-0.440358</td>\n",
       "      <td>-0.562347</td>\n",
       "      <td>-0.798531</td>\n",
       "      <td>-0.575661</td>\n",
       "      <td>0.053136</td>\n",
       "      <td>-0.654491</td>\n",
       "      <td>-0.028135</td>\n",
       "      <td>-0.398015</td>\n",
       "      <td>-0.560100</td>\n",
       "    </tr>\n",
       "    <tr>\n",
       "      <th>2024-10-31 00:00:00+00:00</th>\n",
       "      <td>-0.375919</td>\n",
       "      <td>-0.707235</td>\n",
       "      <td>-0.476592</td>\n",
       "      <td>-0.771851</td>\n",
       "      <td>-0.481096</td>\n",
       "      <td>-0.484848</td>\n",
       "      <td>-0.498093</td>\n",
       "      <td>-0.500833</td>\n",
       "      <td>-0.326333</td>\n",
       "      <td>-0.384041</td>\n",
       "      <td>...</td>\n",
       "      <td>-0.359313</td>\n",
       "      <td>-0.278703</td>\n",
       "      <td>-0.544987</td>\n",
       "      <td>-0.697390</td>\n",
       "      <td>-0.282267</td>\n",
       "      <td>-0.061077</td>\n",
       "      <td>-0.509848</td>\n",
       "      <td>0.017572</td>\n",
       "      <td>-0.550165</td>\n",
       "      <td>-0.313742</td>\n",
       "    </tr>\n",
       "    <tr>\n",
       "      <th>2024-11-30 00:00:00+00:00</th>\n",
       "      <td>-0.362076</td>\n",
       "      <td>-0.670849</td>\n",
       "      <td>-0.396117</td>\n",
       "      <td>-0.591678</td>\n",
       "      <td>-0.253950</td>\n",
       "      <td>-0.418231</td>\n",
       "      <td>-0.330024</td>\n",
       "      <td>-0.426728</td>\n",
       "      <td>-0.155519</td>\n",
       "      <td>-0.225229</td>\n",
       "      <td>...</td>\n",
       "      <td>-0.251653</td>\n",
       "      <td>-0.181507</td>\n",
       "      <td>-0.091658</td>\n",
       "      <td>-0.606797</td>\n",
       "      <td>-0.320138</td>\n",
       "      <td>-0.119063</td>\n",
       "      <td>-0.381202</td>\n",
       "      <td>1.086360</td>\n",
       "      <td>-0.452302</td>\n",
       "      <td>-0.268565</td>\n",
       "    </tr>\n",
       "  </tbody>\n",
       "</table>\n",
       "<p>7 rows × 36 columns</p>\n",
       "</div>"
      ],
      "text/plain": [
       "symbol                     1INCH/USDT   A8/USDT  ACA/USDT  AEVO/USDT  \\\n",
       "timestamp                                                              \n",
       "2024-05-31 00:00:00+00:00         NaN       NaN       NaN        NaN   \n",
       "2024-06-30 00:00:00+00:00         NaN       NaN       NaN        NaN   \n",
       "2024-07-31 00:00:00+00:00         NaN       NaN       NaN        NaN   \n",
       "2024-08-31 00:00:00+00:00   -0.627704 -0.616478 -0.561696  -0.902497   \n",
       "2024-09-30 00:00:00+00:00   -0.549547 -0.613133 -0.645708  -0.868057   \n",
       "2024-10-31 00:00:00+00:00   -0.375919 -0.707235 -0.476592  -0.771851   \n",
       "2024-11-30 00:00:00+00:00   -0.362076 -0.670849 -0.396117  -0.591678   \n",
       "\n",
       "symbol                     ANKR/USDT  ARB/USDT  ATOM/USDT  AURORA/USDT  \\\n",
       "timestamp                                                                \n",
       "2024-05-31 00:00:00+00:00        NaN       NaN        NaN          NaN   \n",
       "2024-06-30 00:00:00+00:00        NaN       NaN        NaN          NaN   \n",
       "2024-07-31 00:00:00+00:00        NaN       NaN        NaN          NaN   \n",
       "2024-08-31 00:00:00+00:00  -0.525633 -0.751451  -0.653715    -0.519983   \n",
       "2024-09-30 00:00:00+00:00  -0.522701 -0.635981  -0.615435    -0.432973   \n",
       "2024-10-31 00:00:00+00:00  -0.481096 -0.484848  -0.498093    -0.500833   \n",
       "2024-11-30 00:00:00+00:00  -0.253950 -0.418231  -0.330024    -0.426728   \n",
       "\n",
       "symbol                     BAT/USDT  DOT/USDT  ...  PTU/USDT  ROSE/USDT  \\\n",
       "timestamp                                      ...                        \n",
       "2024-05-31 00:00:00+00:00       NaN       NaN  ...       NaN        NaN   \n",
       "2024-06-30 00:00:00+00:00       NaN       NaN  ...       NaN        NaN   \n",
       "2024-07-31 00:00:00+00:00       NaN       NaN  ...       NaN        NaN   \n",
       "2024-08-31 00:00:00+00:00 -0.542111 -0.585135  ... -0.552767  -0.683521   \n",
       "2024-09-30 00:00:00+00:00 -0.468193 -0.540224  ... -0.494333  -0.440358   \n",
       "2024-10-31 00:00:00+00:00 -0.326333 -0.384041  ... -0.359313  -0.278703   \n",
       "2024-11-30 00:00:00+00:00 -0.155519 -0.225229  ... -0.251653  -0.181507   \n",
       "\n",
       "symbol                      SD/USDT  STRK/USDT  SUSHI/USDT  TON/USDT  \\\n",
       "timestamp                                                              \n",
       "2024-05-31 00:00:00+00:00       NaN        NaN         NaN       NaN   \n",
       "2024-06-30 00:00:00+00:00       NaN        NaN         NaN       NaN   \n",
       "2024-07-31 00:00:00+00:00       NaN        NaN         NaN       NaN   \n",
       "2024-08-31 00:00:00+00:00 -0.521819  -0.853317   -0.721973  0.923787   \n",
       "2024-09-30 00:00:00+00:00 -0.562347  -0.798531   -0.575661  0.053136   \n",
       "2024-10-31 00:00:00+00:00 -0.544987  -0.697390   -0.282267 -0.061077   \n",
       "2024-11-30 00:00:00+00:00 -0.091658  -0.606797   -0.320138 -0.119063   \n",
       "\n",
       "symbol                     WAXP/USDT  XRP/USDT  ZENT/USDT  ZRX/USDT  \n",
       "timestamp                                                            \n",
       "2024-05-31 00:00:00+00:00        NaN       NaN        NaN       NaN  \n",
       "2024-06-30 00:00:00+00:00        NaN       NaN        NaN       NaN  \n",
       "2024-07-31 00:00:00+00:00        NaN       NaN        NaN       NaN  \n",
       "2024-08-31 00:00:00+00:00  -0.681915 -0.068903  -0.515160 -0.637148  \n",
       "2024-09-30 00:00:00+00:00  -0.654491 -0.028135  -0.398015 -0.560100  \n",
       "2024-10-31 00:00:00+00:00  -0.509848  0.017572  -0.550165 -0.313742  \n",
       "2024-11-30 00:00:00+00:00  -0.381202  1.086360  -0.452302 -0.268565  \n",
       "\n",
       "[7 rows x 36 columns]"
      ]
     },
     "execution_count": 11,
     "metadata": {},
     "output_type": "execute_result"
    }
   ],
   "source": [
    "# rolling cumulative for 6 months return\n",
    "past_cum_return_df = (returns_df + 1).rolling(6).apply(np.prod) - 1\n",
    "\n",
    "past_cum_return_df.tail(7)"
   ]
  },
  {
   "cell_type": "code",
   "execution_count": 12,
   "metadata": {},
   "outputs": [
    {
     "data": {
      "application/vnd.plotly.v1+json": {
       "config": {
        "plotlyServerURL": "https://plot.ly"
       },
       "data": [
        {
         "hovertemplate": "symbol=1INCH/USDT<br>timestamp=%{x}<br>value=%{y}<extra></extra>",
         "legendgroup": "1INCH/USDT",
         "line": {
          "color": "#636efa",
          "dash": "solid"
         },
         "marker": {
          "symbol": "circle"
         },
         "mode": "lines",
         "name": "1INCH/USDT",
         "orientation": "v",
         "showlegend": true,
         "type": "scatter",
         "x": [
          "2024-03-31T00:00:00+00:00",
          "2024-04-30T00:00:00+00:00",
          "2024-05-31T00:00:00+00:00",
          "2024-06-30T00:00:00+00:00",
          "2024-07-31T00:00:00+00:00",
          "2024-08-31T00:00:00+00:00",
          "2024-09-30T00:00:00+00:00",
          "2024-10-31T00:00:00+00:00",
          "2024-11-30T00:00:00+00:00"
         ],
         "xaxis": "x",
         "y": [
          null,
          null,
          null,
          null,
          null,
          -0.6277042801556425,
          -0.5495466321243525,
          -0.3759188846641328,
          -0.362076095947064
         ],
         "yaxis": "y"
        },
        {
         "hovertemplate": "symbol=A8/USDT<br>timestamp=%{x}<br>value=%{y}<extra></extra>",
         "legendgroup": "A8/USDT",
         "line": {
          "color": "#EF553B",
          "dash": "solid"
         },
         "marker": {
          "symbol": "circle"
         },
         "mode": "lines",
         "name": "A8/USDT",
         "orientation": "v",
         "showlegend": true,
         "type": "scatter",
         "x": [
          "2024-03-31T00:00:00+00:00",
          "2024-04-30T00:00:00+00:00",
          "2024-05-31T00:00:00+00:00",
          "2024-06-30T00:00:00+00:00",
          "2024-07-31T00:00:00+00:00",
          "2024-08-31T00:00:00+00:00",
          "2024-09-30T00:00:00+00:00",
          "2024-10-31T00:00:00+00:00",
          "2024-11-30T00:00:00+00:00"
         ],
         "xaxis": "x",
         "y": [
          null,
          null,
          null,
          null,
          null,
          -0.6164784608950227,
          -0.6131325805102463,
          -0.7072354663320783,
          -0.6708490171476367
         ],
         "yaxis": "y"
        },
        {
         "hovertemplate": "symbol=ACA/USDT<br>timestamp=%{x}<br>value=%{y}<extra></extra>",
         "legendgroup": "ACA/USDT",
         "line": {
          "color": "#00cc96",
          "dash": "solid"
         },
         "marker": {
          "symbol": "circle"
         },
         "mode": "lines",
         "name": "ACA/USDT",
         "orientation": "v",
         "showlegend": true,
         "type": "scatter",
         "x": [
          "2024-03-31T00:00:00+00:00",
          "2024-04-30T00:00:00+00:00",
          "2024-05-31T00:00:00+00:00",
          "2024-06-30T00:00:00+00:00",
          "2024-07-31T00:00:00+00:00",
          "2024-08-31T00:00:00+00:00",
          "2024-09-30T00:00:00+00:00",
          "2024-10-31T00:00:00+00:00",
          "2024-11-30T00:00:00+00:00"
         ],
         "xaxis": "x",
         "y": [
          null,
          null,
          null,
          null,
          null,
          -0.5616956850870556,
          -0.6457080371787866,
          -0.4765917602996259,
          -0.3961165048543692
         ],
         "yaxis": "y"
        },
        {
         "hovertemplate": "symbol=AEVO/USDT<br>timestamp=%{x}<br>value=%{y}<extra></extra>",
         "legendgroup": "AEVO/USDT",
         "line": {
          "color": "#ab63fa",
          "dash": "solid"
         },
         "marker": {
          "symbol": "circle"
         },
         "mode": "lines",
         "name": "AEVO/USDT",
         "orientation": "v",
         "showlegend": true,
         "type": "scatter",
         "x": [
          "2024-03-31T00:00:00+00:00",
          "2024-04-30T00:00:00+00:00",
          "2024-05-31T00:00:00+00:00",
          "2024-06-30T00:00:00+00:00",
          "2024-07-31T00:00:00+00:00",
          "2024-08-31T00:00:00+00:00",
          "2024-09-30T00:00:00+00:00",
          "2024-10-31T00:00:00+00:00",
          "2024-11-30T00:00:00+00:00"
         ],
         "xaxis": "x",
         "y": [
          null,
          null,
          null,
          null,
          null,
          -0.9024969915764139,
          -0.8680571909167367,
          -0.7718508997429305,
          -0.5916777926123721
         ],
         "yaxis": "y"
        },
        {
         "hovertemplate": "symbol=ANKR/USDT<br>timestamp=%{x}<br>value=%{y}<extra></extra>",
         "legendgroup": "ANKR/USDT",
         "line": {
          "color": "#FFA15A",
          "dash": "solid"
         },
         "marker": {
          "symbol": "circle"
         },
         "mode": "lines",
         "name": "ANKR/USDT",
         "orientation": "v",
         "showlegend": true,
         "type": "scatter",
         "x": [
          "2024-03-31T00:00:00+00:00",
          "2024-04-30T00:00:00+00:00",
          "2024-05-31T00:00:00+00:00",
          "2024-06-30T00:00:00+00:00",
          "2024-07-31T00:00:00+00:00",
          "2024-08-31T00:00:00+00:00",
          "2024-09-30T00:00:00+00:00",
          "2024-10-31T00:00:00+00:00",
          "2024-11-30T00:00:00+00:00"
         ],
         "xaxis": "x",
         "y": [
          null,
          null,
          null,
          null,
          null,
          -0.5256333532814681,
          -0.5227006198693247,
          -0.4810960067969411,
          -0.25394981412639417
         ],
         "yaxis": "y"
        },
        {
         "hovertemplate": "symbol=ARB/USDT<br>timestamp=%{x}<br>value=%{y}<extra></extra>",
         "legendgroup": "ARB/USDT",
         "line": {
          "color": "#19d3f3",
          "dash": "solid"
         },
         "marker": {
          "symbol": "circle"
         },
         "mode": "lines",
         "name": "ARB/USDT",
         "orientation": "v",
         "showlegend": true,
         "type": "scatter",
         "x": [
          "2024-03-31T00:00:00+00:00",
          "2024-04-30T00:00:00+00:00",
          "2024-05-31T00:00:00+00:00",
          "2024-06-30T00:00:00+00:00",
          "2024-07-31T00:00:00+00:00",
          "2024-08-31T00:00:00+00:00",
          "2024-09-30T00:00:00+00:00",
          "2024-10-31T00:00:00+00:00",
          "2024-11-30T00:00:00+00:00"
         ],
         "xaxis": "x",
         "y": [
          null,
          null,
          null,
          null,
          null,
          -0.7514506769825915,
          -0.6359807460890489,
          -0.4848484848484842,
          -0.41823056300268013
         ],
         "yaxis": "y"
        },
        {
         "hovertemplate": "symbol=ATOM/USDT<br>timestamp=%{x}<br>value=%{y}<extra></extra>",
         "legendgroup": "ATOM/USDT",
         "line": {
          "color": "#FF6692",
          "dash": "solid"
         },
         "marker": {
          "symbol": "circle"
         },
         "mode": "lines",
         "name": "ATOM/USDT",
         "orientation": "v",
         "showlegend": true,
         "type": "scatter",
         "x": [
          "2024-03-31T00:00:00+00:00",
          "2024-04-30T00:00:00+00:00",
          "2024-05-31T00:00:00+00:00",
          "2024-06-30T00:00:00+00:00",
          "2024-07-31T00:00:00+00:00",
          "2024-08-31T00:00:00+00:00",
          "2024-09-30T00:00:00+00:00",
          "2024-10-31T00:00:00+00:00",
          "2024-11-30T00:00:00+00:00"
         ],
         "xaxis": "x",
         "y": [
          null,
          null,
          null,
          null,
          null,
          -0.6537145112205631,
          -0.6154346853260647,
          -0.4980931400416898,
          -0.33002361787246304
         ],
         "yaxis": "y"
        },
        {
         "hovertemplate": "symbol=AURORA/USDT<br>timestamp=%{x}<br>value=%{y}<extra></extra>",
         "legendgroup": "AURORA/USDT",
         "line": {
          "color": "#B6E880",
          "dash": "solid"
         },
         "marker": {
          "symbol": "circle"
         },
         "mode": "lines",
         "name": "AURORA/USDT",
         "orientation": "v",
         "showlegend": true,
         "type": "scatter",
         "x": [
          "2024-03-31T00:00:00+00:00",
          "2024-04-30T00:00:00+00:00",
          "2024-05-31T00:00:00+00:00",
          "2024-06-30T00:00:00+00:00",
          "2024-07-31T00:00:00+00:00",
          "2024-08-31T00:00:00+00:00",
          "2024-09-30T00:00:00+00:00",
          "2024-10-31T00:00:00+00:00",
          "2024-11-30T00:00:00+00:00"
         ],
         "xaxis": "x",
         "y": [
          null,
          null,
          null,
          null,
          null,
          -0.5199833472106581,
          -0.4329725228975856,
          -0.5008326394671112,
          -0.4267277268942551
         ],
         "yaxis": "y"
        },
        {
         "hovertemplate": "symbol=BAT/USDT<br>timestamp=%{x}<br>value=%{y}<extra></extra>",
         "legendgroup": "BAT/USDT",
         "line": {
          "color": "#FF97FF",
          "dash": "solid"
         },
         "marker": {
          "symbol": "circle"
         },
         "mode": "lines",
         "name": "BAT/USDT",
         "orientation": "v",
         "showlegend": true,
         "type": "scatter",
         "x": [
          "2024-03-31T00:00:00+00:00",
          "2024-04-30T00:00:00+00:00",
          "2024-05-31T00:00:00+00:00",
          "2024-06-30T00:00:00+00:00",
          "2024-07-31T00:00:00+00:00",
          "2024-08-31T00:00:00+00:00",
          "2024-09-30T00:00:00+00:00",
          "2024-10-31T00:00:00+00:00",
          "2024-11-30T00:00:00+00:00"
         ],
         "xaxis": "x",
         "y": [
          null,
          null,
          null,
          null,
          null,
          -0.5421111734980355,
          -0.4681926278240197,
          -0.3263334733305343,
          -0.1555190808370953
         ],
         "yaxis": "y"
        },
        {
         "hovertemplate": "symbol=DOT/USDT<br>timestamp=%{x}<br>value=%{y}<extra></extra>",
         "legendgroup": "DOT/USDT",
         "line": {
          "color": "#FECB52",
          "dash": "solid"
         },
         "marker": {
          "symbol": "circle"
         },
         "mode": "lines",
         "name": "DOT/USDT",
         "orientation": "v",
         "showlegend": true,
         "type": "scatter",
         "x": [
          "2024-03-31T00:00:00+00:00",
          "2024-04-30T00:00:00+00:00",
          "2024-05-31T00:00:00+00:00",
          "2024-06-30T00:00:00+00:00",
          "2024-07-31T00:00:00+00:00",
          "2024-08-31T00:00:00+00:00",
          "2024-09-30T00:00:00+00:00",
          "2024-10-31T00:00:00+00:00",
          "2024-11-30T00:00:00+00:00"
         ],
         "xaxis": "x",
         "y": [
          null,
          null,
          null,
          null,
          null,
          -0.5851353984024942,
          -0.54022392701638,
          -0.3840410639290719,
          -0.22522909507445588
         ],
         "yaxis": "y"
        },
        {
         "hovertemplate": "symbol=FIL/USDT<br>timestamp=%{x}<br>value=%{y}<extra></extra>",
         "legendgroup": "FIL/USDT",
         "line": {
          "color": "#636efa",
          "dash": "solid"
         },
         "marker": {
          "symbol": "circle"
         },
         "mode": "lines",
         "name": "FIL/USDT",
         "orientation": "v",
         "showlegend": true,
         "type": "scatter",
         "x": [
          "2024-03-31T00:00:00+00:00",
          "2024-04-30T00:00:00+00:00",
          "2024-05-31T00:00:00+00:00",
          "2024-06-30T00:00:00+00:00",
          "2024-07-31T00:00:00+00:00",
          "2024-08-31T00:00:00+00:00",
          "2024-09-30T00:00:00+00:00",
          "2024-10-31T00:00:00+00:00",
          "2024-11-30T00:00:00+00:00"
         ],
         "xaxis": "x",
         "y": [
          null,
          null,
          null,
          null,
          null,
          -0.6657616328059166,
          -0.6172455330254967,
          -0.3719566376399501,
          -0.23369375653993685
         ],
         "yaxis": "y"
        },
        {
         "hovertemplate": "symbol=FLIP/USDT<br>timestamp=%{x}<br>value=%{y}<extra></extra>",
         "legendgroup": "FLIP/USDT",
         "line": {
          "color": "#EF553B",
          "dash": "solid"
         },
         "marker": {
          "symbol": "circle"
         },
         "mode": "lines",
         "name": "FLIP/USDT",
         "orientation": "v",
         "showlegend": true,
         "type": "scatter",
         "x": [
          "2024-03-31T00:00:00+00:00",
          "2024-04-30T00:00:00+00:00",
          "2024-05-31T00:00:00+00:00",
          "2024-06-30T00:00:00+00:00",
          "2024-07-31T00:00:00+00:00",
          "2024-08-31T00:00:00+00:00",
          "2024-09-30T00:00:00+00:00",
          "2024-10-31T00:00:00+00:00",
          "2024-11-30T00:00:00+00:00"
         ],
         "xaxis": "x",
         "y": [
          null,
          null,
          null,
          null,
          null,
          -0.8794948846946012,
          -0.7660800296406077,
          -0.5438589797397848,
          -0.47808265968347996
         ],
         "yaxis": "y"
        },
        {
         "hovertemplate": "symbol=FTT/USDT<br>timestamp=%{x}<br>value=%{y}<extra></extra>",
         "legendgroup": "FTT/USDT",
         "line": {
          "color": "#00cc96",
          "dash": "solid"
         },
         "marker": {
          "symbol": "circle"
         },
         "mode": "lines",
         "name": "FTT/USDT",
         "orientation": "v",
         "showlegend": true,
         "type": "scatter",
         "x": [
          "2024-03-31T00:00:00+00:00",
          "2024-04-30T00:00:00+00:00",
          "2024-05-31T00:00:00+00:00",
          "2024-06-30T00:00:00+00:00",
          "2024-07-31T00:00:00+00:00",
          "2024-08-31T00:00:00+00:00",
          "2024-09-30T00:00:00+00:00",
          "2024-10-31T00:00:00+00:00",
          "2024-11-30T00:00:00+00:00"
         ],
         "xaxis": "x",
         "y": [
          null,
          null,
          null,
          null,
          null,
          -0.439050888705401,
          -0.04179963379544738,
          0.28618808962264275,
          0.24815786187086375
         ],
         "yaxis": "y"
        },
        {
         "hovertemplate": "symbol=GENE/USDT<br>timestamp=%{x}<br>value=%{y}<extra></extra>",
         "legendgroup": "GENE/USDT",
         "line": {
          "color": "#ab63fa",
          "dash": "solid"
         },
         "marker": {
          "symbol": "circle"
         },
         "mode": "lines",
         "name": "GENE/USDT",
         "orientation": "v",
         "showlegend": true,
         "type": "scatter",
         "x": [
          "2024-03-31T00:00:00+00:00",
          "2024-04-30T00:00:00+00:00",
          "2024-05-31T00:00:00+00:00",
          "2024-06-30T00:00:00+00:00",
          "2024-07-31T00:00:00+00:00",
          "2024-08-31T00:00:00+00:00",
          "2024-09-30T00:00:00+00:00",
          "2024-10-31T00:00:00+00:00",
          "2024-11-30T00:00:00+00:00"
         ],
         "xaxis": "x",
         "y": [
          null,
          null,
          null,
          null,
          null,
          -0.7797074954296161,
          -0.6774632553075668,
          -0.6596906278434942,
          -0.5517941773865944
         ],
         "yaxis": "y"
        },
        {
         "hovertemplate": "symbol=HNT/USDT<br>timestamp=%{x}<br>value=%{y}<extra></extra>",
         "legendgroup": "HNT/USDT",
         "line": {
          "color": "#FFA15A",
          "dash": "solid"
         },
         "marker": {
          "symbol": "circle"
         },
         "mode": "lines",
         "name": "HNT/USDT",
         "orientation": "v",
         "showlegend": true,
         "type": "scatter",
         "x": [
          "2024-03-31T00:00:00+00:00",
          "2024-04-30T00:00:00+00:00",
          "2024-05-31T00:00:00+00:00",
          "2024-06-30T00:00:00+00:00",
          "2024-07-31T00:00:00+00:00",
          "2024-08-31T00:00:00+00:00",
          "2024-09-30T00:00:00+00:00",
          "2024-10-31T00:00:00+00:00",
          "2024-11-30T00:00:00+00:00"
         ],
         "xaxis": "x",
         "y": [
          null,
          null,
          null,
          null,
          null,
          -0.22135864532345606,
          0.2640079158770354,
          0.20096594474339735,
          0.4421860112867375
         ],
         "yaxis": "y"
        },
        {
         "hovertemplate": "symbol=ICX/USDT<br>timestamp=%{x}<br>value=%{y}<extra></extra>",
         "legendgroup": "ICX/USDT",
         "line": {
          "color": "#19d3f3",
          "dash": "solid"
         },
         "marker": {
          "symbol": "circle"
         },
         "mode": "lines",
         "name": "ICX/USDT",
         "orientation": "v",
         "showlegend": true,
         "type": "scatter",
         "x": [
          "2024-03-31T00:00:00+00:00",
          "2024-04-30T00:00:00+00:00",
          "2024-05-31T00:00:00+00:00",
          "2024-06-30T00:00:00+00:00",
          "2024-07-31T00:00:00+00:00",
          "2024-08-31T00:00:00+00:00",
          "2024-09-30T00:00:00+00:00",
          "2024-10-31T00:00:00+00:00",
          "2024-11-30T00:00:00+00:00"
         ],
         "xaxis": "x",
         "y": [
          null,
          null,
          null,
          null,
          null,
          -0.646453415440757,
          -0.5963244438303159,
          -0.41100621690075945,
          -0.2795144434810388
         ],
         "yaxis": "y"
        },
        {
         "hovertemplate": "symbol=INJ/USDT<br>timestamp=%{x}<br>value=%{y}<extra></extra>",
         "legendgroup": "INJ/USDT",
         "line": {
          "color": "#FF6692",
          "dash": "solid"
         },
         "marker": {
          "symbol": "circle"
         },
         "mode": "lines",
         "name": "INJ/USDT",
         "orientation": "v",
         "showlegend": true,
         "type": "scatter",
         "x": [
          "2024-03-31T00:00:00+00:00",
          "2024-04-30T00:00:00+00:00",
          "2024-05-31T00:00:00+00:00",
          "2024-06-30T00:00:00+00:00",
          "2024-07-31T00:00:00+00:00",
          "2024-08-31T00:00:00+00:00",
          "2024-09-30T00:00:00+00:00",
          "2024-10-31T00:00:00+00:00",
          "2024-11-30T00:00:00+00:00"
         ],
         "xaxis": "x",
         "y": [
          null,
          null,
          null,
          null,
          null,
          -0.5696909272183457,
          -0.37832405269591307,
          -0.19776009431181973,
          0.04204019812517701
         ],
         "yaxis": "y"
        },
        {
         "hovertemplate": "symbol=KSM/USDT<br>timestamp=%{x}<br>value=%{y}<extra></extra>",
         "legendgroup": "KSM/USDT",
         "line": {
          "color": "#B6E880",
          "dash": "solid"
         },
         "marker": {
          "symbol": "circle"
         },
         "mode": "lines",
         "name": "KSM/USDT",
         "orientation": "v",
         "showlegend": true,
         "type": "scatter",
         "x": [
          "2024-03-31T00:00:00+00:00",
          "2024-04-30T00:00:00+00:00",
          "2024-05-31T00:00:00+00:00",
          "2024-06-30T00:00:00+00:00",
          "2024-07-31T00:00:00+00:00",
          "2024-08-31T00:00:00+00:00",
          "2024-09-30T00:00:00+00:00",
          "2024-10-31T00:00:00+00:00",
          "2024-11-30T00:00:00+00:00"
         ],
         "xaxis": "x",
         "y": [
          null,
          null,
          null,
          null,
          null,
          -0.6520600625396606,
          -0.5855307710095139,
          -0.4224476951803413,
          -0.3165455800650905
         ],
         "yaxis": "y"
        },
        {
         "hovertemplate": "symbol=LUNA/USDT<br>timestamp=%{x}<br>value=%{y}<extra></extra>",
         "legendgroup": "LUNA/USDT",
         "line": {
          "color": "#FF97FF",
          "dash": "solid"
         },
         "marker": {
          "symbol": "circle"
         },
         "mode": "lines",
         "name": "LUNA/USDT",
         "orientation": "v",
         "showlegend": true,
         "type": "scatter",
         "x": [
          "2024-03-31T00:00:00+00:00",
          "2024-04-30T00:00:00+00:00",
          "2024-05-31T00:00:00+00:00",
          "2024-06-30T00:00:00+00:00",
          "2024-07-31T00:00:00+00:00",
          "2024-08-31T00:00:00+00:00",
          "2024-09-30T00:00:00+00:00",
          "2024-10-31T00:00:00+00:00",
          "2024-11-30T00:00:00+00:00"
         ],
         "xaxis": "x",
         "y": [
          null,
          null,
          null,
          null,
          null,
          -0.6800110690895675,
          -0.650254815582621,
          -0.38953801905446694,
          -0.22862286228622808
         ],
         "yaxis": "y"
        },
        {
         "hovertemplate": "symbol=LUNC/USDT<br>timestamp=%{x}<br>value=%{y}<extra></extra>",
         "legendgroup": "LUNC/USDT",
         "line": {
          "color": "#FECB52",
          "dash": "solid"
         },
         "marker": {
          "symbol": "circle"
         },
         "mode": "lines",
         "name": "LUNC/USDT",
         "orientation": "v",
         "showlegend": true,
         "type": "scatter",
         "x": [
          "2024-03-31T00:00:00+00:00",
          "2024-04-30T00:00:00+00:00",
          "2024-05-31T00:00:00+00:00",
          "2024-06-30T00:00:00+00:00",
          "2024-07-31T00:00:00+00:00",
          "2024-08-31T00:00:00+00:00",
          "2024-09-30T00:00:00+00:00",
          "2024-10-31T00:00:00+00:00",
          "2024-11-30T00:00:00+00:00"
         ],
         "xaxis": "x",
         "y": [
          null,
          null,
          null,
          null,
          null,
          -0.5821341008421281,
          -0.42287585815960227,
          -0.08260738960648939,
          -0.011154910676843599
         ],
         "yaxis": "y"
        },
        {
         "hovertemplate": "symbol=MINA/USDT<br>timestamp=%{x}<br>value=%{y}<extra></extra>",
         "legendgroup": "MINA/USDT",
         "line": {
          "color": "#636efa",
          "dash": "solid"
         },
         "marker": {
          "symbol": "circle"
         },
         "mode": "lines",
         "name": "MINA/USDT",
         "orientation": "v",
         "showlegend": true,
         "type": "scatter",
         "x": [
          "2024-03-31T00:00:00+00:00",
          "2024-04-30T00:00:00+00:00",
          "2024-05-31T00:00:00+00:00",
          "2024-06-30T00:00:00+00:00",
          "2024-07-31T00:00:00+00:00",
          "2024-08-31T00:00:00+00:00",
          "2024-09-30T00:00:00+00:00",
          "2024-10-31T00:00:00+00:00",
          "2024-11-30T00:00:00+00:00"
         ],
         "xaxis": "x",
         "y": [
          null,
          null,
          null,
          null,
          null,
          -0.715608986992511,
          -0.5499596448748991,
          -0.3401711552982635,
          -0.2050169968350719
         ],
         "yaxis": "y"
        },
        {
         "hovertemplate": "symbol=NEAR/USDT<br>timestamp=%{x}<br>value=%{y}<extra></extra>",
         "legendgroup": "NEAR/USDT",
         "line": {
          "color": "#EF553B",
          "dash": "solid"
         },
         "marker": {
          "symbol": "circle"
         },
         "mode": "lines",
         "name": "NEAR/USDT",
         "orientation": "v",
         "showlegend": true,
         "type": "scatter",
         "x": [
          "2024-03-31T00:00:00+00:00",
          "2024-04-30T00:00:00+00:00",
          "2024-05-31T00:00:00+00:00",
          "2024-06-30T00:00:00+00:00",
          "2024-07-31T00:00:00+00:00",
          "2024-08-31T00:00:00+00:00",
          "2024-09-30T00:00:00+00:00",
          "2024-10-31T00:00:00+00:00",
          "2024-11-30T00:00:00+00:00"
         ],
         "xaxis": "x",
         "y": [
          null,
          null,
          null,
          null,
          null,
          -0.32189339162603126,
          -0.27518168106403496,
          -0.34512002067651004,
          -0.16009712890274763
         ],
         "yaxis": "y"
        },
        {
         "hovertemplate": "symbol=OMG/USDT<br>timestamp=%{x}<br>value=%{y}<extra></extra>",
         "legendgroup": "OMG/USDT",
         "line": {
          "color": "#00cc96",
          "dash": "solid"
         },
         "marker": {
          "symbol": "circle"
         },
         "mode": "lines",
         "name": "OMG/USDT",
         "orientation": "v",
         "showlegend": true,
         "type": "scatter",
         "x": [
          "2024-03-31T00:00:00+00:00",
          "2024-04-30T00:00:00+00:00",
          "2024-05-31T00:00:00+00:00",
          "2024-06-30T00:00:00+00:00",
          "2024-07-31T00:00:00+00:00",
          "2024-08-31T00:00:00+00:00",
          "2024-09-30T00:00:00+00:00",
          "2024-10-31T00:00:00+00:00",
          "2024-11-30T00:00:00+00:00"
         ],
         "xaxis": "x",
         "y": [
          null,
          null,
          null,
          null,
          null,
          -0.8188034188034187,
          -0.748882931188561,
          -0.6102819237147594,
          -0.5870653685674547
         ],
         "yaxis": "y"
        },
        {
         "hovertemplate": "symbol=OMNI/USDT<br>timestamp=%{x}<br>value=%{y}<extra></extra>",
         "legendgroup": "OMNI/USDT",
         "line": {
          "color": "#ab63fa",
          "dash": "solid"
         },
         "marker": {
          "symbol": "circle"
         },
         "mode": "lines",
         "name": "OMNI/USDT",
         "orientation": "v",
         "showlegend": true,
         "type": "scatter",
         "x": [
          "2024-03-31T00:00:00+00:00",
          "2024-04-30T00:00:00+00:00",
          "2024-05-31T00:00:00+00:00",
          "2024-06-30T00:00:00+00:00",
          "2024-07-31T00:00:00+00:00",
          "2024-08-31T00:00:00+00:00",
          "2024-09-30T00:00:00+00:00",
          "2024-10-31T00:00:00+00:00",
          "2024-11-30T00:00:00+00:00"
         ],
         "xaxis": "x",
         "y": [
          null,
          null,
          null,
          null,
          null,
          -0.7467289202207168,
          -0.6391385387639097,
          -0.5708696338297946,
          -0.5726311667971807
         ],
         "yaxis": "y"
        },
        {
         "hovertemplate": "symbol=ONDO/USDT<br>timestamp=%{x}<br>value=%{y}<extra></extra>",
         "legendgroup": "ONDO/USDT",
         "line": {
          "color": "#FFA15A",
          "dash": "solid"
         },
         "marker": {
          "symbol": "circle"
         },
         "mode": "lines",
         "name": "ONDO/USDT",
         "orientation": "v",
         "showlegend": true,
         "type": "scatter",
         "x": [
          "2024-03-31T00:00:00+00:00",
          "2024-04-30T00:00:00+00:00",
          "2024-05-31T00:00:00+00:00",
          "2024-06-30T00:00:00+00:00",
          "2024-07-31T00:00:00+00:00",
          "2024-08-31T00:00:00+00:00",
          "2024-09-30T00:00:00+00:00",
          "2024-10-31T00:00:00+00:00",
          "2024-11-30T00:00:00+00:00"
         ],
         "xaxis": "x",
         "y": [
          null,
          null,
          null,
          null,
          null,
          0.05544965051336059,
          -0.23098201936376228,
          -0.07080928734398095,
          -0.2151688830215407
         ],
         "yaxis": "y"
        },
        {
         "hovertemplate": "symbol=ORDER/USDT<br>timestamp=%{x}<br>value=%{y}<extra></extra>",
         "legendgroup": "ORDER/USDT",
         "line": {
          "color": "#19d3f3",
          "dash": "solid"
         },
         "marker": {
          "symbol": "circle"
         },
         "mode": "lines",
         "name": "ORDER/USDT",
         "orientation": "v",
         "showlegend": true,
         "type": "scatter",
         "x": [
          "2024-03-31T00:00:00+00:00",
          "2024-04-30T00:00:00+00:00",
          "2024-05-31T00:00:00+00:00",
          "2024-06-30T00:00:00+00:00",
          "2024-07-31T00:00:00+00:00",
          "2024-08-31T00:00:00+00:00",
          "2024-09-30T00:00:00+00:00",
          "2024-10-31T00:00:00+00:00",
          "2024-11-30T00:00:00+00:00"
         ],
         "xaxis": "x",
         "y": [
          null,
          null,
          null,
          null,
          null,
          -0.11624513618677035,
          -0.31663424124513617,
          -0.45914396887159536,
          -0.23978599221789887
         ],
         "yaxis": "y"
        },
        {
         "hovertemplate": "symbol=PTU/USDT<br>timestamp=%{x}<br>value=%{y}<extra></extra>",
         "legendgroup": "PTU/USDT",
         "line": {
          "color": "#FF6692",
          "dash": "solid"
         },
         "marker": {
          "symbol": "circle"
         },
         "mode": "lines",
         "name": "PTU/USDT",
         "orientation": "v",
         "showlegend": true,
         "type": "scatter",
         "x": [
          "2024-03-31T00:00:00+00:00",
          "2024-04-30T00:00:00+00:00",
          "2024-05-31T00:00:00+00:00",
          "2024-06-30T00:00:00+00:00",
          "2024-07-31T00:00:00+00:00",
          "2024-08-31T00:00:00+00:00",
          "2024-09-30T00:00:00+00:00",
          "2024-10-31T00:00:00+00:00",
          "2024-11-30T00:00:00+00:00"
         ],
         "xaxis": "x",
         "y": [
          null,
          null,
          null,
          null,
          null,
          -0.5527671969527226,
          -0.49433281813498253,
          -0.3593130779392347,
          -0.25165305328665943
         ],
         "yaxis": "y"
        },
        {
         "hovertemplate": "symbol=ROSE/USDT<br>timestamp=%{x}<br>value=%{y}<extra></extra>",
         "legendgroup": "ROSE/USDT",
         "line": {
          "color": "#B6E880",
          "dash": "solid"
         },
         "marker": {
          "symbol": "circle"
         },
         "mode": "lines",
         "name": "ROSE/USDT",
         "orientation": "v",
         "showlegend": true,
         "type": "scatter",
         "x": [
          "2024-03-31T00:00:00+00:00",
          "2024-04-30T00:00:00+00:00",
          "2024-05-31T00:00:00+00:00",
          "2024-06-30T00:00:00+00:00",
          "2024-07-31T00:00:00+00:00",
          "2024-08-31T00:00:00+00:00",
          "2024-09-30T00:00:00+00:00",
          "2024-10-31T00:00:00+00:00",
          "2024-11-30T00:00:00+00:00"
         ],
         "xaxis": "x",
         "y": [
          null,
          null,
          null,
          null,
          null,
          -0.6835213423275324,
          -0.44035763611252454,
          -0.2787030868310021,
          -0.181506849315069
         ],
         "yaxis": "y"
        },
        {
         "hovertemplate": "symbol=SD/USDT<br>timestamp=%{x}<br>value=%{y}<extra></extra>",
         "legendgroup": "SD/USDT",
         "line": {
          "color": "#FF97FF",
          "dash": "solid"
         },
         "marker": {
          "symbol": "circle"
         },
         "mode": "lines",
         "name": "SD/USDT",
         "orientation": "v",
         "showlegend": true,
         "type": "scatter",
         "x": [
          "2024-03-31T00:00:00+00:00",
          "2024-04-30T00:00:00+00:00",
          "2024-05-31T00:00:00+00:00",
          "2024-06-30T00:00:00+00:00",
          "2024-07-31T00:00:00+00:00",
          "2024-08-31T00:00:00+00:00",
          "2024-09-30T00:00:00+00:00",
          "2024-10-31T00:00:00+00:00",
          "2024-11-30T00:00:00+00:00"
         ],
         "xaxis": "x",
         "y": [
          null,
          null,
          null,
          null,
          null,
          -0.521818848551522,
          -0.5623469487706929,
          -0.544987146529563,
          -0.09165808444902157
         ],
         "yaxis": "y"
        },
        {
         "hovertemplate": "symbol=STRK/USDT<br>timestamp=%{x}<br>value=%{y}<extra></extra>",
         "legendgroup": "STRK/USDT",
         "line": {
          "color": "#FECB52",
          "dash": "solid"
         },
         "marker": {
          "symbol": "circle"
         },
         "mode": "lines",
         "name": "STRK/USDT",
         "orientation": "v",
         "showlegend": true,
         "type": "scatter",
         "x": [
          "2024-03-31T00:00:00+00:00",
          "2024-04-30T00:00:00+00:00",
          "2024-05-31T00:00:00+00:00",
          "2024-06-30T00:00:00+00:00",
          "2024-07-31T00:00:00+00:00",
          "2024-08-31T00:00:00+00:00",
          "2024-09-30T00:00:00+00:00",
          "2024-10-31T00:00:00+00:00",
          "2024-11-30T00:00:00+00:00"
         ],
         "xaxis": "x",
         "y": [
          null,
          null,
          null,
          null,
          null,
          -0.853316852080758,
          -0.7985314364387333,
          -0.6973898858075038,
          -0.6067969413763805
         ],
         "yaxis": "y"
        },
        {
         "hovertemplate": "symbol=SUSHI/USDT<br>timestamp=%{x}<br>value=%{y}<extra></extra>",
         "legendgroup": "SUSHI/USDT",
         "line": {
          "color": "#636efa",
          "dash": "solid"
         },
         "marker": {
          "symbol": "circle"
         },
         "mode": "lines",
         "name": "SUSHI/USDT",
         "orientation": "v",
         "showlegend": true,
         "type": "scatter",
         "x": [
          "2024-03-31T00:00:00+00:00",
          "2024-04-30T00:00:00+00:00",
          "2024-05-31T00:00:00+00:00",
          "2024-06-30T00:00:00+00:00",
          "2024-07-31T00:00:00+00:00",
          "2024-08-31T00:00:00+00:00",
          "2024-09-30T00:00:00+00:00",
          "2024-10-31T00:00:00+00:00",
          "2024-11-30T00:00:00+00:00"
         ],
         "xaxis": "x",
         "y": [
          null,
          null,
          null,
          null,
          null,
          -0.7219730941704037,
          -0.5756613756613758,
          -0.2822665267576081,
          -0.32013769363167033
         ],
         "yaxis": "y"
        },
        {
         "hovertemplate": "symbol=TON/USDT<br>timestamp=%{x}<br>value=%{y}<extra></extra>",
         "legendgroup": "TON/USDT",
         "line": {
          "color": "#EF553B",
          "dash": "solid"
         },
         "marker": {
          "symbol": "circle"
         },
         "mode": "lines",
         "name": "TON/USDT",
         "orientation": "v",
         "showlegend": true,
         "type": "scatter",
         "x": [
          "2024-03-31T00:00:00+00:00",
          "2024-04-30T00:00:00+00:00",
          "2024-05-31T00:00:00+00:00",
          "2024-06-30T00:00:00+00:00",
          "2024-07-31T00:00:00+00:00",
          "2024-08-31T00:00:00+00:00",
          "2024-09-30T00:00:00+00:00",
          "2024-10-31T00:00:00+00:00",
          "2024-11-30T00:00:00+00:00"
         ],
         "xaxis": "x",
         "y": [
          null,
          null,
          null,
          null,
          null,
          0.9237865455577652,
          0.05313635441450493,
          -0.061077426728395,
          -0.11906302779663136
         ],
         "yaxis": "y"
        },
        {
         "hovertemplate": "symbol=WAXP/USDT<br>timestamp=%{x}<br>value=%{y}<extra></extra>",
         "legendgroup": "WAXP/USDT",
         "line": {
          "color": "#00cc96",
          "dash": "solid"
         },
         "marker": {
          "symbol": "circle"
         },
         "mode": "lines",
         "name": "WAXP/USDT",
         "orientation": "v",
         "showlegend": true,
         "type": "scatter",
         "x": [
          "2024-03-31T00:00:00+00:00",
          "2024-04-30T00:00:00+00:00",
          "2024-05-31T00:00:00+00:00",
          "2024-06-30T00:00:00+00:00",
          "2024-07-31T00:00:00+00:00",
          "2024-08-31T00:00:00+00:00",
          "2024-09-30T00:00:00+00:00",
          "2024-10-31T00:00:00+00:00",
          "2024-11-30T00:00:00+00:00"
         ],
         "xaxis": "x",
         "y": [
          null,
          null,
          null,
          null,
          null,
          -0.6819153484395037,
          -0.6544910179640715,
          -0.5098475222363401,
          -0.3812018489984589
         ],
         "yaxis": "y"
        },
        {
         "hovertemplate": "symbol=XRP/USDT<br>timestamp=%{x}<br>value=%{y}<extra></extra>",
         "legendgroup": "XRP/USDT",
         "line": {
          "color": "#ab63fa",
          "dash": "solid"
         },
         "marker": {
          "symbol": "circle"
         },
         "mode": "lines",
         "name": "XRP/USDT",
         "orientation": "v",
         "showlegend": true,
         "type": "scatter",
         "x": [
          "2024-03-31T00:00:00+00:00",
          "2024-04-30T00:00:00+00:00",
          "2024-05-31T00:00:00+00:00",
          "2024-06-30T00:00:00+00:00",
          "2024-07-31T00:00:00+00:00",
          "2024-08-31T00:00:00+00:00",
          "2024-09-30T00:00:00+00:00",
          "2024-10-31T00:00:00+00:00",
          "2024-11-30T00:00:00+00:00"
         ],
         "xaxis": "x",
         "y": [
          null,
          null,
          null,
          null,
          null,
          -0.06890314093076655,
          -0.028135431568907188,
          0.01757188498402673,
          1.0863601236476046
         ],
         "yaxis": "y"
        },
        {
         "hovertemplate": "symbol=ZENT/USDT<br>timestamp=%{x}<br>value=%{y}<extra></extra>",
         "legendgroup": "ZENT/USDT",
         "line": {
          "color": "#FFA15A",
          "dash": "solid"
         },
         "marker": {
          "symbol": "circle"
         },
         "mode": "lines",
         "name": "ZENT/USDT",
         "orientation": "v",
         "showlegend": true,
         "type": "scatter",
         "x": [
          "2024-03-31T00:00:00+00:00",
          "2024-04-30T00:00:00+00:00",
          "2024-05-31T00:00:00+00:00",
          "2024-06-30T00:00:00+00:00",
          "2024-07-31T00:00:00+00:00",
          "2024-08-31T00:00:00+00:00",
          "2024-09-30T00:00:00+00:00",
          "2024-10-31T00:00:00+00:00",
          "2024-11-30T00:00:00+00:00"
         ],
         "xaxis": "x",
         "y": [
          null,
          null,
          null,
          null,
          null,
          -0.5151598676956994,
          -0.3980154355016532,
          -0.5501653803748621,
          -0.4523022131773087
         ],
         "yaxis": "y"
        },
        {
         "hovertemplate": "symbol=ZRX/USDT<br>timestamp=%{x}<br>value=%{y}<extra></extra>",
         "legendgroup": "ZRX/USDT",
         "line": {
          "color": "#19d3f3",
          "dash": "solid"
         },
         "marker": {
          "symbol": "circle"
         },
         "mode": "lines",
         "name": "ZRX/USDT",
         "orientation": "v",
         "showlegend": true,
         "type": "scatter",
         "x": [
          "2024-03-31T00:00:00+00:00",
          "2024-04-30T00:00:00+00:00",
          "2024-05-31T00:00:00+00:00",
          "2024-06-30T00:00:00+00:00",
          "2024-07-31T00:00:00+00:00",
          "2024-08-31T00:00:00+00:00",
          "2024-09-30T00:00:00+00:00",
          "2024-10-31T00:00:00+00:00",
          "2024-11-30T00:00:00+00:00"
         ],
         "xaxis": "x",
         "y": [
          null,
          null,
          null,
          null,
          null,
          -0.6371482176360226,
          -0.5600999473961072,
          -0.31374243733794227,
          -0.2685648326279332
         ],
         "yaxis": "y"
        }
       ],
       "layout": {
        "height": 600,
        "legend": {
         "title": {
          "text": "symbol"
         },
         "tracegroupgap": 0
        },
        "template": {
         "data": {
          "bar": [
           {
            "error_x": {
             "color": "#2a3f5f"
            },
            "error_y": {
             "color": "#2a3f5f"
            },
            "marker": {
             "line": {
              "color": "#E5ECF6",
              "width": 0.5
             },
             "pattern": {
              "fillmode": "overlay",
              "size": 10,
              "solidity": 0.2
             }
            },
            "type": "bar"
           }
          ],
          "barpolar": [
           {
            "marker": {
             "line": {
              "color": "#E5ECF6",
              "width": 0.5
             },
             "pattern": {
              "fillmode": "overlay",
              "size": 10,
              "solidity": 0.2
             }
            },
            "type": "barpolar"
           }
          ],
          "carpet": [
           {
            "aaxis": {
             "endlinecolor": "#2a3f5f",
             "gridcolor": "white",
             "linecolor": "white",
             "minorgridcolor": "white",
             "startlinecolor": "#2a3f5f"
            },
            "baxis": {
             "endlinecolor": "#2a3f5f",
             "gridcolor": "white",
             "linecolor": "white",
             "minorgridcolor": "white",
             "startlinecolor": "#2a3f5f"
            },
            "type": "carpet"
           }
          ],
          "choropleth": [
           {
            "colorbar": {
             "outlinewidth": 0,
             "ticks": ""
            },
            "type": "choropleth"
           }
          ],
          "contour": [
           {
            "colorbar": {
             "outlinewidth": 0,
             "ticks": ""
            },
            "colorscale": [
             [
              0,
              "#0d0887"
             ],
             [
              0.1111111111111111,
              "#46039f"
             ],
             [
              0.2222222222222222,
              "#7201a8"
             ],
             [
              0.3333333333333333,
              "#9c179e"
             ],
             [
              0.4444444444444444,
              "#bd3786"
             ],
             [
              0.5555555555555556,
              "#d8576b"
             ],
             [
              0.6666666666666666,
              "#ed7953"
             ],
             [
              0.7777777777777778,
              "#fb9f3a"
             ],
             [
              0.8888888888888888,
              "#fdca26"
             ],
             [
              1,
              "#f0f921"
             ]
            ],
            "type": "contour"
           }
          ],
          "contourcarpet": [
           {
            "colorbar": {
             "outlinewidth": 0,
             "ticks": ""
            },
            "type": "contourcarpet"
           }
          ],
          "heatmap": [
           {
            "colorbar": {
             "outlinewidth": 0,
             "ticks": ""
            },
            "colorscale": [
             [
              0,
              "#0d0887"
             ],
             [
              0.1111111111111111,
              "#46039f"
             ],
             [
              0.2222222222222222,
              "#7201a8"
             ],
             [
              0.3333333333333333,
              "#9c179e"
             ],
             [
              0.4444444444444444,
              "#bd3786"
             ],
             [
              0.5555555555555556,
              "#d8576b"
             ],
             [
              0.6666666666666666,
              "#ed7953"
             ],
             [
              0.7777777777777778,
              "#fb9f3a"
             ],
             [
              0.8888888888888888,
              "#fdca26"
             ],
             [
              1,
              "#f0f921"
             ]
            ],
            "type": "heatmap"
           }
          ],
          "heatmapgl": [
           {
            "colorbar": {
             "outlinewidth": 0,
             "ticks": ""
            },
            "colorscale": [
             [
              0,
              "#0d0887"
             ],
             [
              0.1111111111111111,
              "#46039f"
             ],
             [
              0.2222222222222222,
              "#7201a8"
             ],
             [
              0.3333333333333333,
              "#9c179e"
             ],
             [
              0.4444444444444444,
              "#bd3786"
             ],
             [
              0.5555555555555556,
              "#d8576b"
             ],
             [
              0.6666666666666666,
              "#ed7953"
             ],
             [
              0.7777777777777778,
              "#fb9f3a"
             ],
             [
              0.8888888888888888,
              "#fdca26"
             ],
             [
              1,
              "#f0f921"
             ]
            ],
            "type": "heatmapgl"
           }
          ],
          "histogram": [
           {
            "marker": {
             "pattern": {
              "fillmode": "overlay",
              "size": 10,
              "solidity": 0.2
             }
            },
            "type": "histogram"
           }
          ],
          "histogram2d": [
           {
            "colorbar": {
             "outlinewidth": 0,
             "ticks": ""
            },
            "colorscale": [
             [
              0,
              "#0d0887"
             ],
             [
              0.1111111111111111,
              "#46039f"
             ],
             [
              0.2222222222222222,
              "#7201a8"
             ],
             [
              0.3333333333333333,
              "#9c179e"
             ],
             [
              0.4444444444444444,
              "#bd3786"
             ],
             [
              0.5555555555555556,
              "#d8576b"
             ],
             [
              0.6666666666666666,
              "#ed7953"
             ],
             [
              0.7777777777777778,
              "#fb9f3a"
             ],
             [
              0.8888888888888888,
              "#fdca26"
             ],
             [
              1,
              "#f0f921"
             ]
            ],
            "type": "histogram2d"
           }
          ],
          "histogram2dcontour": [
           {
            "colorbar": {
             "outlinewidth": 0,
             "ticks": ""
            },
            "colorscale": [
             [
              0,
              "#0d0887"
             ],
             [
              0.1111111111111111,
              "#46039f"
             ],
             [
              0.2222222222222222,
              "#7201a8"
             ],
             [
              0.3333333333333333,
              "#9c179e"
             ],
             [
              0.4444444444444444,
              "#bd3786"
             ],
             [
              0.5555555555555556,
              "#d8576b"
             ],
             [
              0.6666666666666666,
              "#ed7953"
             ],
             [
              0.7777777777777778,
              "#fb9f3a"
             ],
             [
              0.8888888888888888,
              "#fdca26"
             ],
             [
              1,
              "#f0f921"
             ]
            ],
            "type": "histogram2dcontour"
           }
          ],
          "mesh3d": [
           {
            "colorbar": {
             "outlinewidth": 0,
             "ticks": ""
            },
            "type": "mesh3d"
           }
          ],
          "parcoords": [
           {
            "line": {
             "colorbar": {
              "outlinewidth": 0,
              "ticks": ""
             }
            },
            "type": "parcoords"
           }
          ],
          "pie": [
           {
            "automargin": true,
            "type": "pie"
           }
          ],
          "scatter": [
           {
            "fillpattern": {
             "fillmode": "overlay",
             "size": 10,
             "solidity": 0.2
            },
            "type": "scatter"
           }
          ],
          "scatter3d": [
           {
            "line": {
             "colorbar": {
              "outlinewidth": 0,
              "ticks": ""
             }
            },
            "marker": {
             "colorbar": {
              "outlinewidth": 0,
              "ticks": ""
             }
            },
            "type": "scatter3d"
           }
          ],
          "scattercarpet": [
           {
            "marker": {
             "colorbar": {
              "outlinewidth": 0,
              "ticks": ""
             }
            },
            "type": "scattercarpet"
           }
          ],
          "scattergeo": [
           {
            "marker": {
             "colorbar": {
              "outlinewidth": 0,
              "ticks": ""
             }
            },
            "type": "scattergeo"
           }
          ],
          "scattergl": [
           {
            "marker": {
             "colorbar": {
              "outlinewidth": 0,
              "ticks": ""
             }
            },
            "type": "scattergl"
           }
          ],
          "scattermapbox": [
           {
            "marker": {
             "colorbar": {
              "outlinewidth": 0,
              "ticks": ""
             }
            },
            "type": "scattermapbox"
           }
          ],
          "scatterpolar": [
           {
            "marker": {
             "colorbar": {
              "outlinewidth": 0,
              "ticks": ""
             }
            },
            "type": "scatterpolar"
           }
          ],
          "scatterpolargl": [
           {
            "marker": {
             "colorbar": {
              "outlinewidth": 0,
              "ticks": ""
             }
            },
            "type": "scatterpolargl"
           }
          ],
          "scatterternary": [
           {
            "marker": {
             "colorbar": {
              "outlinewidth": 0,
              "ticks": ""
             }
            },
            "type": "scatterternary"
           }
          ],
          "surface": [
           {
            "colorbar": {
             "outlinewidth": 0,
             "ticks": ""
            },
            "colorscale": [
             [
              0,
              "#0d0887"
             ],
             [
              0.1111111111111111,
              "#46039f"
             ],
             [
              0.2222222222222222,
              "#7201a8"
             ],
             [
              0.3333333333333333,
              "#9c179e"
             ],
             [
              0.4444444444444444,
              "#bd3786"
             ],
             [
              0.5555555555555556,
              "#d8576b"
             ],
             [
              0.6666666666666666,
              "#ed7953"
             ],
             [
              0.7777777777777778,
              "#fb9f3a"
             ],
             [
              0.8888888888888888,
              "#fdca26"
             ],
             [
              1,
              "#f0f921"
             ]
            ],
            "type": "surface"
           }
          ],
          "table": [
           {
            "cells": {
             "fill": {
              "color": "#EBF0F8"
             },
             "line": {
              "color": "white"
             }
            },
            "header": {
             "fill": {
              "color": "#C8D4E3"
             },
             "line": {
              "color": "white"
             }
            },
            "type": "table"
           }
          ]
         },
         "layout": {
          "annotationdefaults": {
           "arrowcolor": "#2a3f5f",
           "arrowhead": 0,
           "arrowwidth": 1
          },
          "autotypenumbers": "strict",
          "coloraxis": {
           "colorbar": {
            "outlinewidth": 0,
            "ticks": ""
           }
          },
          "colorscale": {
           "diverging": [
            [
             0,
             "#8e0152"
            ],
            [
             0.1,
             "#c51b7d"
            ],
            [
             0.2,
             "#de77ae"
            ],
            [
             0.3,
             "#f1b6da"
            ],
            [
             0.4,
             "#fde0ef"
            ],
            [
             0.5,
             "#f7f7f7"
            ],
            [
             0.6,
             "#e6f5d0"
            ],
            [
             0.7,
             "#b8e186"
            ],
            [
             0.8,
             "#7fbc41"
            ],
            [
             0.9,
             "#4d9221"
            ],
            [
             1,
             "#276419"
            ]
           ],
           "sequential": [
            [
             0,
             "#0d0887"
            ],
            [
             0.1111111111111111,
             "#46039f"
            ],
            [
             0.2222222222222222,
             "#7201a8"
            ],
            [
             0.3333333333333333,
             "#9c179e"
            ],
            [
             0.4444444444444444,
             "#bd3786"
            ],
            [
             0.5555555555555556,
             "#d8576b"
            ],
            [
             0.6666666666666666,
             "#ed7953"
            ],
            [
             0.7777777777777778,
             "#fb9f3a"
            ],
            [
             0.8888888888888888,
             "#fdca26"
            ],
            [
             1,
             "#f0f921"
            ]
           ],
           "sequentialminus": [
            [
             0,
             "#0d0887"
            ],
            [
             0.1111111111111111,
             "#46039f"
            ],
            [
             0.2222222222222222,
             "#7201a8"
            ],
            [
             0.3333333333333333,
             "#9c179e"
            ],
            [
             0.4444444444444444,
             "#bd3786"
            ],
            [
             0.5555555555555556,
             "#d8576b"
            ],
            [
             0.6666666666666666,
             "#ed7953"
            ],
            [
             0.7777777777777778,
             "#fb9f3a"
            ],
            [
             0.8888888888888888,
             "#fdca26"
            ],
            [
             1,
             "#f0f921"
            ]
           ]
          },
          "colorway": [
           "#636efa",
           "#EF553B",
           "#00cc96",
           "#ab63fa",
           "#FFA15A",
           "#19d3f3",
           "#FF6692",
           "#B6E880",
           "#FF97FF",
           "#FECB52"
          ],
          "font": {
           "color": "#2a3f5f"
          },
          "geo": {
           "bgcolor": "white",
           "lakecolor": "white",
           "landcolor": "#E5ECF6",
           "showlakes": true,
           "showland": true,
           "subunitcolor": "white"
          },
          "hoverlabel": {
           "align": "left"
          },
          "hovermode": "closest",
          "mapbox": {
           "style": "light"
          },
          "paper_bgcolor": "white",
          "plot_bgcolor": "#E5ECF6",
          "polar": {
           "angularaxis": {
            "gridcolor": "white",
            "linecolor": "white",
            "ticks": ""
           },
           "bgcolor": "#E5ECF6",
           "radialaxis": {
            "gridcolor": "white",
            "linecolor": "white",
            "ticks": ""
           }
          },
          "scene": {
           "xaxis": {
            "backgroundcolor": "#E5ECF6",
            "gridcolor": "white",
            "gridwidth": 2,
            "linecolor": "white",
            "showbackground": true,
            "ticks": "",
            "zerolinecolor": "white"
           },
           "yaxis": {
            "backgroundcolor": "#E5ECF6",
            "gridcolor": "white",
            "gridwidth": 2,
            "linecolor": "white",
            "showbackground": true,
            "ticks": "",
            "zerolinecolor": "white"
           },
           "zaxis": {
            "backgroundcolor": "#E5ECF6",
            "gridcolor": "white",
            "gridwidth": 2,
            "linecolor": "white",
            "showbackground": true,
            "ticks": "",
            "zerolinecolor": "white"
           }
          },
          "shapedefaults": {
           "line": {
            "color": "#2a3f5f"
           }
          },
          "ternary": {
           "aaxis": {
            "gridcolor": "white",
            "linecolor": "white",
            "ticks": ""
           },
           "baxis": {
            "gridcolor": "white",
            "linecolor": "white",
            "ticks": ""
           },
           "bgcolor": "#E5ECF6",
           "caxis": {
            "gridcolor": "white",
            "linecolor": "white",
            "ticks": ""
           }
          },
          "title": {
           "x": 0.05
          },
          "xaxis": {
           "automargin": true,
           "gridcolor": "white",
           "linecolor": "white",
           "ticks": "",
           "title": {
            "standoff": 15
           },
           "zerolinecolor": "white",
           "zerolinewidth": 2
          },
          "yaxis": {
           "automargin": true,
           "gridcolor": "white",
           "linecolor": "white",
           "ticks": "",
           "title": {
            "standoff": 15
           },
           "zerolinecolor": "white",
           "zerolinewidth": 2
          }
         }
        },
        "title": {
         "text": "Rolling cumulative for 6 months return"
        },
        "width": 1200,
        "xaxis": {
         "anchor": "y",
         "domain": [
          0,
          1
         ],
         "title": {
          "text": "Timestamp"
         }
        },
        "yaxis": {
         "anchor": "x",
         "domain": [
          0,
          1
         ],
         "title": {
          "text": "Cumulative Returns"
         }
        }
       }
      }
     },
     "metadata": {},
     "output_type": "display_data"
    }
   ],
   "source": [
    "# Show cumulative return from past 6 months\n",
    "fig = px.line(past_cum_return_df, x=past_cum_return_df.index, y=past_cum_return_df.columns, title=\"Rolling cumulative for 6 months return\")\n",
    "fig.update_layout(width=1200, height=600, xaxis_title=\"Timestamp\", yaxis_title=\"Cumulative Returns\")\n",
    "fig.show()"
   ]
  },
  {
   "cell_type": "code",
   "execution_count": 13,
   "metadata": {},
   "outputs": [
    {
     "data": {
      "text/html": [
       "<div>\n",
       "<style scoped>\n",
       "    .dataframe tbody tr th:only-of-type {\n",
       "        vertical-align: middle;\n",
       "    }\n",
       "\n",
       "    .dataframe tbody tr th {\n",
       "        vertical-align: top;\n",
       "    }\n",
       "\n",
       "    .dataframe thead th {\n",
       "        text-align: right;\n",
       "    }\n",
       "</style>\n",
       "<table border=\"1\" class=\"dataframe\">\n",
       "  <thead>\n",
       "    <tr style=\"text-align: right;\">\n",
       "      <th></th>\n",
       "      <th>Symbol</th>\n",
       "      <th>Return</th>\n",
       "    </tr>\n",
       "  </thead>\n",
       "  <tbody>\n",
       "    <tr>\n",
       "      <th>0</th>\n",
       "      <td>1INCH/USDT</td>\n",
       "      <td>-0.549547</td>\n",
       "    </tr>\n",
       "    <tr>\n",
       "      <th>1</th>\n",
       "      <td>A8/USDT</td>\n",
       "      <td>-0.613133</td>\n",
       "    </tr>\n",
       "    <tr>\n",
       "      <th>2</th>\n",
       "      <td>ACA/USDT</td>\n",
       "      <td>-0.645708</td>\n",
       "    </tr>\n",
       "    <tr>\n",
       "      <th>3</th>\n",
       "      <td>AEVO/USDT</td>\n",
       "      <td>-0.868057</td>\n",
       "    </tr>\n",
       "    <tr>\n",
       "      <th>4</th>\n",
       "      <td>ANKR/USDT</td>\n",
       "      <td>-0.522701</td>\n",
       "    </tr>\n",
       "  </tbody>\n",
       "</table>\n",
       "</div>"
      ],
      "text/plain": [
       "       Symbol    Return\n",
       "0  1INCH/USDT -0.549547\n",
       "1     A8/USDT -0.613133\n",
       "2    ACA/USDT -0.645708\n",
       "3   AEVO/USDT -0.868057\n",
       "4   ANKR/USDT -0.522701"
      ]
     },
     "execution_count": 13,
     "metadata": {},
     "output_type": "execute_result"
    }
   ],
   "source": [
    "# Define formation and measurement period\n",
    "# Define the dates with timezone information\n",
    "end_of_measurement_period = dt.datetime(2024, 9, 30, tzinfo=pytz.UTC)\n",
    "formation_period = dt.datetime(2024, 10, 31, tzinfo=pytz.UTC)\n",
    "\n",
    "end_of_measurement_period_return_df = past_cum_return_df.loc[end_of_measurement_period]\n",
    "# Transpose the DataFrame so that tickers become rows and returns become a single column\n",
    "end_of_measurement_period_return_df = end_of_measurement_period_return_df.T\n",
    "end_of_measurement_period_return_df = end_of_measurement_period_return_df.reset_index()\n",
    "# Rename columns for clarity\n",
    "end_of_measurement_period_return_df.columns = ['Symbol', 'Return']\n",
    "end_of_measurement_period_return_df.head()"
   ]
  },
  {
   "cell_type": "code",
   "execution_count": 14,
   "metadata": {},
   "outputs": [
    {
     "data": {
      "text/plain": [
       "Symbol    HNT/USDT\n",
       "Return    0.264008\n",
       "Name: 14, dtype: object"
      ]
     },
     "execution_count": 14,
     "metadata": {},
     "output_type": "execute_result"
    }
   ],
   "source": [
    "# highest momentum in the positive direction\n",
    "end_of_measurement_period_return_df.loc[end_of_measurement_period_return_df.iloc[:,1].idxmax()]"
   ]
  },
  {
   "cell_type": "code",
   "execution_count": 15,
   "metadata": {},
   "outputs": [
    {
     "data": {
      "text/plain": [
       "Symbol    AEVO/USDT\n",
       "Return    -0.868057\n",
       "Name: 3, dtype: object"
      ]
     },
     "execution_count": 15,
     "metadata": {},
     "output_type": "execute_result"
    }
   ],
   "source": [
    "# highest momentum in the negative direction\n",
    "end_of_measurement_period_return_df.loc[end_of_measurement_period_return_df.iloc[:,1].idxmin()]"
   ]
  },
  {
   "cell_type": "code",
   "execution_count": 16,
   "metadata": {},
   "outputs": [
    {
     "data": {
      "text/html": [
       "<div>\n",
       "<style scoped>\n",
       "    .dataframe tbody tr th:only-of-type {\n",
       "        vertical-align: middle;\n",
       "    }\n",
       "\n",
       "    .dataframe tbody tr th {\n",
       "        vertical-align: top;\n",
       "    }\n",
       "\n",
       "    .dataframe thead th {\n",
       "        text-align: right;\n",
       "    }\n",
       "</style>\n",
       "<table border=\"1\" class=\"dataframe\">\n",
       "  <thead>\n",
       "    <tr style=\"text-align: right;\">\n",
       "      <th></th>\n",
       "      <th>Symbol</th>\n",
       "      <th>Return</th>\n",
       "      <th>rank</th>\n",
       "    </tr>\n",
       "  </thead>\n",
       "  <tbody>\n",
       "    <tr>\n",
       "      <th>0</th>\n",
       "      <td>1INCH/USDT</td>\n",
       "      <td>-0.549547</td>\n",
       "      <td>5</td>\n",
       "    </tr>\n",
       "    <tr>\n",
       "      <th>1</th>\n",
       "      <td>A8/USDT</td>\n",
       "      <td>-0.613133</td>\n",
       "      <td>3</td>\n",
       "    </tr>\n",
       "    <tr>\n",
       "      <th>2</th>\n",
       "      <td>ACA/USDT</td>\n",
       "      <td>-0.645708</td>\n",
       "      <td>2</td>\n",
       "    </tr>\n",
       "    <tr>\n",
       "      <th>3</th>\n",
       "      <td>AEVO/USDT</td>\n",
       "      <td>-0.868057</td>\n",
       "      <td>0</td>\n",
       "    </tr>\n",
       "    <tr>\n",
       "      <th>4</th>\n",
       "      <td>ANKR/USDT</td>\n",
       "      <td>-0.522701</td>\n",
       "      <td>6</td>\n",
       "    </tr>\n",
       "    <tr>\n",
       "      <th>5</th>\n",
       "      <td>ARB/USDT</td>\n",
       "      <td>-0.635981</td>\n",
       "      <td>2</td>\n",
       "    </tr>\n",
       "    <tr>\n",
       "      <th>6</th>\n",
       "      <td>ATOM/USDT</td>\n",
       "      <td>-0.615435</td>\n",
       "      <td>3</td>\n",
       "    </tr>\n",
       "  </tbody>\n",
       "</table>\n",
       "</div>"
      ],
      "text/plain": [
       "       Symbol    Return  rank\n",
       "0  1INCH/USDT -0.549547     5\n",
       "1     A8/USDT -0.613133     3\n",
       "2    ACA/USDT -0.645708     2\n",
       "3   AEVO/USDT -0.868057     0\n",
       "4   ANKR/USDT -0.522701     6\n",
       "5    ARB/USDT -0.635981     2\n",
       "6   ATOM/USDT -0.615435     3"
      ]
     },
     "execution_count": 16,
     "metadata": {},
     "output_type": "execute_result"
    }
   ],
   "source": [
    "# rank symbols with quantiles\n",
    "end_of_measurement_period_return_df['rank'] = pd.qcut(end_of_measurement_period_return_df.iloc[:,1], 11, labels=False)\n",
    "end_of_measurement_period_return_df.head(7)"
   ]
  },
  {
   "cell_type": "code",
   "execution_count": 17,
   "metadata": {},
   "outputs": [
    {
     "data": {
      "application/vnd.plotly.v1+json": {
       "config": {
        "plotlyServerURL": "https://plot.ly"
       },
       "data": [
        {
         "alignmentgroup": "True",
         "hovertemplate": "Symbol=%{x}<br>Return=%{y}<br>Rank=%{marker.color}<extra></extra>",
         "legendgroup": "",
         "marker": {
          "color": [
           5,
           3,
           2,
           0,
           6,
           2,
           3,
           7,
           7,
           6,
           3,
           0,
           10,
           1,
           10,
           4,
           8,
           4,
           1,
           8,
           5,
           9,
           0,
           2,
           9,
           9,
           6,
           7,
           5,
           0,
           4,
           10,
           1,
           10,
           8,
           5
          ],
          "coloraxis": "coloraxis",
          "pattern": {
           "shape": ""
          }
         },
         "name": "",
         "offsetgroup": "",
         "orientation": "v",
         "showlegend": false,
         "textposition": "auto",
         "type": "bar",
         "x": [
          "1INCH/USDT",
          "A8/USDT",
          "ACA/USDT",
          "AEVO/USDT",
          "ANKR/USDT",
          "ARB/USDT",
          "ATOM/USDT",
          "AURORA/USDT",
          "BAT/USDT",
          "DOT/USDT",
          "FIL/USDT",
          "FLIP/USDT",
          "FTT/USDT",
          "GENE/USDT",
          "HNT/USDT",
          "ICX/USDT",
          "INJ/USDT",
          "KSM/USDT",
          "LUNA/USDT",
          "LUNC/USDT",
          "MINA/USDT",
          "NEAR/USDT",
          "OMG/USDT",
          "OMNI/USDT",
          "ONDO/USDT",
          "ORDER/USDT",
          "PTU/USDT",
          "ROSE/USDT",
          "SD/USDT",
          "STRK/USDT",
          "SUSHI/USDT",
          "TON/USDT",
          "WAXP/USDT",
          "XRP/USDT",
          "ZENT/USDT",
          "ZRX/USDT"
         ],
         "xaxis": "x",
         "y": [
          -0.5495466321243525,
          -0.6131325805102463,
          -0.6457080371787866,
          -0.8680571909167367,
          -0.5227006198693247,
          -0.6359807460890489,
          -0.6154346853260647,
          -0.4329725228975856,
          -0.4681926278240197,
          -0.54022392701638,
          -0.6172455330254967,
          -0.7660800296406077,
          -0.04179963379544738,
          -0.6774632553075668,
          0.2640079158770354,
          -0.5963244438303159,
          -0.37832405269591307,
          -0.5855307710095139,
          -0.650254815582621,
          -0.42287585815960227,
          -0.5499596448748991,
          -0.27518168106403496,
          -0.748882931188561,
          -0.6391385387639097,
          -0.23098201936376228,
          -0.31663424124513617,
          -0.49433281813498253,
          -0.44035763611252454,
          -0.5623469487706929,
          -0.7985314364387333,
          -0.5756613756613758,
          0.05313635441450493,
          -0.6544910179640715,
          -0.028135431568907188,
          -0.3980154355016532,
          -0.5600999473961072
         ],
         "yaxis": "y"
        }
       ],
       "layout": {
        "barmode": "relative",
        "coloraxis": {
         "colorbar": {
          "title": {
           "text": "Rank"
          }
         },
         "colorscale": [
          [
           0,
           "#0d0887"
          ],
          [
           0.1111111111111111,
           "#46039f"
          ],
          [
           0.2222222222222222,
           "#7201a8"
          ],
          [
           0.3333333333333333,
           "#9c179e"
          ],
          [
           0.4444444444444444,
           "#bd3786"
          ],
          [
           0.5555555555555556,
           "#d8576b"
          ],
          [
           0.6666666666666666,
           "#ed7953"
          ],
          [
           0.7777777777777778,
           "#fb9f3a"
          ],
          [
           0.8888888888888888,
           "#fdca26"
          ],
          [
           1,
           "#f0f921"
          ]
         ]
        },
        "height": 600,
        "legend": {
         "tracegroupgap": 0
        },
        "template": {
         "data": {
          "bar": [
           {
            "error_x": {
             "color": "#2a3f5f"
            },
            "error_y": {
             "color": "#2a3f5f"
            },
            "marker": {
             "line": {
              "color": "#E5ECF6",
              "width": 0.5
             },
             "pattern": {
              "fillmode": "overlay",
              "size": 10,
              "solidity": 0.2
             }
            },
            "type": "bar"
           }
          ],
          "barpolar": [
           {
            "marker": {
             "line": {
              "color": "#E5ECF6",
              "width": 0.5
             },
             "pattern": {
              "fillmode": "overlay",
              "size": 10,
              "solidity": 0.2
             }
            },
            "type": "barpolar"
           }
          ],
          "carpet": [
           {
            "aaxis": {
             "endlinecolor": "#2a3f5f",
             "gridcolor": "white",
             "linecolor": "white",
             "minorgridcolor": "white",
             "startlinecolor": "#2a3f5f"
            },
            "baxis": {
             "endlinecolor": "#2a3f5f",
             "gridcolor": "white",
             "linecolor": "white",
             "minorgridcolor": "white",
             "startlinecolor": "#2a3f5f"
            },
            "type": "carpet"
           }
          ],
          "choropleth": [
           {
            "colorbar": {
             "outlinewidth": 0,
             "ticks": ""
            },
            "type": "choropleth"
           }
          ],
          "contour": [
           {
            "colorbar": {
             "outlinewidth": 0,
             "ticks": ""
            },
            "colorscale": [
             [
              0,
              "#0d0887"
             ],
             [
              0.1111111111111111,
              "#46039f"
             ],
             [
              0.2222222222222222,
              "#7201a8"
             ],
             [
              0.3333333333333333,
              "#9c179e"
             ],
             [
              0.4444444444444444,
              "#bd3786"
             ],
             [
              0.5555555555555556,
              "#d8576b"
             ],
             [
              0.6666666666666666,
              "#ed7953"
             ],
             [
              0.7777777777777778,
              "#fb9f3a"
             ],
             [
              0.8888888888888888,
              "#fdca26"
             ],
             [
              1,
              "#f0f921"
             ]
            ],
            "type": "contour"
           }
          ],
          "contourcarpet": [
           {
            "colorbar": {
             "outlinewidth": 0,
             "ticks": ""
            },
            "type": "contourcarpet"
           }
          ],
          "heatmap": [
           {
            "colorbar": {
             "outlinewidth": 0,
             "ticks": ""
            },
            "colorscale": [
             [
              0,
              "#0d0887"
             ],
             [
              0.1111111111111111,
              "#46039f"
             ],
             [
              0.2222222222222222,
              "#7201a8"
             ],
             [
              0.3333333333333333,
              "#9c179e"
             ],
             [
              0.4444444444444444,
              "#bd3786"
             ],
             [
              0.5555555555555556,
              "#d8576b"
             ],
             [
              0.6666666666666666,
              "#ed7953"
             ],
             [
              0.7777777777777778,
              "#fb9f3a"
             ],
             [
              0.8888888888888888,
              "#fdca26"
             ],
             [
              1,
              "#f0f921"
             ]
            ],
            "type": "heatmap"
           }
          ],
          "heatmapgl": [
           {
            "colorbar": {
             "outlinewidth": 0,
             "ticks": ""
            },
            "colorscale": [
             [
              0,
              "#0d0887"
             ],
             [
              0.1111111111111111,
              "#46039f"
             ],
             [
              0.2222222222222222,
              "#7201a8"
             ],
             [
              0.3333333333333333,
              "#9c179e"
             ],
             [
              0.4444444444444444,
              "#bd3786"
             ],
             [
              0.5555555555555556,
              "#d8576b"
             ],
             [
              0.6666666666666666,
              "#ed7953"
             ],
             [
              0.7777777777777778,
              "#fb9f3a"
             ],
             [
              0.8888888888888888,
              "#fdca26"
             ],
             [
              1,
              "#f0f921"
             ]
            ],
            "type": "heatmapgl"
           }
          ],
          "histogram": [
           {
            "marker": {
             "pattern": {
              "fillmode": "overlay",
              "size": 10,
              "solidity": 0.2
             }
            },
            "type": "histogram"
           }
          ],
          "histogram2d": [
           {
            "colorbar": {
             "outlinewidth": 0,
             "ticks": ""
            },
            "colorscale": [
             [
              0,
              "#0d0887"
             ],
             [
              0.1111111111111111,
              "#46039f"
             ],
             [
              0.2222222222222222,
              "#7201a8"
             ],
             [
              0.3333333333333333,
              "#9c179e"
             ],
             [
              0.4444444444444444,
              "#bd3786"
             ],
             [
              0.5555555555555556,
              "#d8576b"
             ],
             [
              0.6666666666666666,
              "#ed7953"
             ],
             [
              0.7777777777777778,
              "#fb9f3a"
             ],
             [
              0.8888888888888888,
              "#fdca26"
             ],
             [
              1,
              "#f0f921"
             ]
            ],
            "type": "histogram2d"
           }
          ],
          "histogram2dcontour": [
           {
            "colorbar": {
             "outlinewidth": 0,
             "ticks": ""
            },
            "colorscale": [
             [
              0,
              "#0d0887"
             ],
             [
              0.1111111111111111,
              "#46039f"
             ],
             [
              0.2222222222222222,
              "#7201a8"
             ],
             [
              0.3333333333333333,
              "#9c179e"
             ],
             [
              0.4444444444444444,
              "#bd3786"
             ],
             [
              0.5555555555555556,
              "#d8576b"
             ],
             [
              0.6666666666666666,
              "#ed7953"
             ],
             [
              0.7777777777777778,
              "#fb9f3a"
             ],
             [
              0.8888888888888888,
              "#fdca26"
             ],
             [
              1,
              "#f0f921"
             ]
            ],
            "type": "histogram2dcontour"
           }
          ],
          "mesh3d": [
           {
            "colorbar": {
             "outlinewidth": 0,
             "ticks": ""
            },
            "type": "mesh3d"
           }
          ],
          "parcoords": [
           {
            "line": {
             "colorbar": {
              "outlinewidth": 0,
              "ticks": ""
             }
            },
            "type": "parcoords"
           }
          ],
          "pie": [
           {
            "automargin": true,
            "type": "pie"
           }
          ],
          "scatter": [
           {
            "fillpattern": {
             "fillmode": "overlay",
             "size": 10,
             "solidity": 0.2
            },
            "type": "scatter"
           }
          ],
          "scatter3d": [
           {
            "line": {
             "colorbar": {
              "outlinewidth": 0,
              "ticks": ""
             }
            },
            "marker": {
             "colorbar": {
              "outlinewidth": 0,
              "ticks": ""
             }
            },
            "type": "scatter3d"
           }
          ],
          "scattercarpet": [
           {
            "marker": {
             "colorbar": {
              "outlinewidth": 0,
              "ticks": ""
             }
            },
            "type": "scattercarpet"
           }
          ],
          "scattergeo": [
           {
            "marker": {
             "colorbar": {
              "outlinewidth": 0,
              "ticks": ""
             }
            },
            "type": "scattergeo"
           }
          ],
          "scattergl": [
           {
            "marker": {
             "colorbar": {
              "outlinewidth": 0,
              "ticks": ""
             }
            },
            "type": "scattergl"
           }
          ],
          "scattermapbox": [
           {
            "marker": {
             "colorbar": {
              "outlinewidth": 0,
              "ticks": ""
             }
            },
            "type": "scattermapbox"
           }
          ],
          "scatterpolar": [
           {
            "marker": {
             "colorbar": {
              "outlinewidth": 0,
              "ticks": ""
             }
            },
            "type": "scatterpolar"
           }
          ],
          "scatterpolargl": [
           {
            "marker": {
             "colorbar": {
              "outlinewidth": 0,
              "ticks": ""
             }
            },
            "type": "scatterpolargl"
           }
          ],
          "scatterternary": [
           {
            "marker": {
             "colorbar": {
              "outlinewidth": 0,
              "ticks": ""
             }
            },
            "type": "scatterternary"
           }
          ],
          "surface": [
           {
            "colorbar": {
             "outlinewidth": 0,
             "ticks": ""
            },
            "colorscale": [
             [
              0,
              "#0d0887"
             ],
             [
              0.1111111111111111,
              "#46039f"
             ],
             [
              0.2222222222222222,
              "#7201a8"
             ],
             [
              0.3333333333333333,
              "#9c179e"
             ],
             [
              0.4444444444444444,
              "#bd3786"
             ],
             [
              0.5555555555555556,
              "#d8576b"
             ],
             [
              0.6666666666666666,
              "#ed7953"
             ],
             [
              0.7777777777777778,
              "#fb9f3a"
             ],
             [
              0.8888888888888888,
              "#fdca26"
             ],
             [
              1,
              "#f0f921"
             ]
            ],
            "type": "surface"
           }
          ],
          "table": [
           {
            "cells": {
             "fill": {
              "color": "#EBF0F8"
             },
             "line": {
              "color": "white"
             }
            },
            "header": {
             "fill": {
              "color": "#C8D4E3"
             },
             "line": {
              "color": "white"
             }
            },
            "type": "table"
           }
          ]
         },
         "layout": {
          "annotationdefaults": {
           "arrowcolor": "#2a3f5f",
           "arrowhead": 0,
           "arrowwidth": 1
          },
          "autotypenumbers": "strict",
          "coloraxis": {
           "colorbar": {
            "outlinewidth": 0,
            "ticks": ""
           }
          },
          "colorscale": {
           "diverging": [
            [
             0,
             "#8e0152"
            ],
            [
             0.1,
             "#c51b7d"
            ],
            [
             0.2,
             "#de77ae"
            ],
            [
             0.3,
             "#f1b6da"
            ],
            [
             0.4,
             "#fde0ef"
            ],
            [
             0.5,
             "#f7f7f7"
            ],
            [
             0.6,
             "#e6f5d0"
            ],
            [
             0.7,
             "#b8e186"
            ],
            [
             0.8,
             "#7fbc41"
            ],
            [
             0.9,
             "#4d9221"
            ],
            [
             1,
             "#276419"
            ]
           ],
           "sequential": [
            [
             0,
             "#0d0887"
            ],
            [
             0.1111111111111111,
             "#46039f"
            ],
            [
             0.2222222222222222,
             "#7201a8"
            ],
            [
             0.3333333333333333,
             "#9c179e"
            ],
            [
             0.4444444444444444,
             "#bd3786"
            ],
            [
             0.5555555555555556,
             "#d8576b"
            ],
            [
             0.6666666666666666,
             "#ed7953"
            ],
            [
             0.7777777777777778,
             "#fb9f3a"
            ],
            [
             0.8888888888888888,
             "#fdca26"
            ],
            [
             1,
             "#f0f921"
            ]
           ],
           "sequentialminus": [
            [
             0,
             "#0d0887"
            ],
            [
             0.1111111111111111,
             "#46039f"
            ],
            [
             0.2222222222222222,
             "#7201a8"
            ],
            [
             0.3333333333333333,
             "#9c179e"
            ],
            [
             0.4444444444444444,
             "#bd3786"
            ],
            [
             0.5555555555555556,
             "#d8576b"
            ],
            [
             0.6666666666666666,
             "#ed7953"
            ],
            [
             0.7777777777777778,
             "#fb9f3a"
            ],
            [
             0.8888888888888888,
             "#fdca26"
            ],
            [
             1,
             "#f0f921"
            ]
           ]
          },
          "colorway": [
           "#636efa",
           "#EF553B",
           "#00cc96",
           "#ab63fa",
           "#FFA15A",
           "#19d3f3",
           "#FF6692",
           "#B6E880",
           "#FF97FF",
           "#FECB52"
          ],
          "font": {
           "color": "#2a3f5f"
          },
          "geo": {
           "bgcolor": "white",
           "lakecolor": "white",
           "landcolor": "#E5ECF6",
           "showlakes": true,
           "showland": true,
           "subunitcolor": "white"
          },
          "hoverlabel": {
           "align": "left"
          },
          "hovermode": "closest",
          "mapbox": {
           "style": "light"
          },
          "paper_bgcolor": "white",
          "plot_bgcolor": "#E5ECF6",
          "polar": {
           "angularaxis": {
            "gridcolor": "white",
            "linecolor": "white",
            "ticks": ""
           },
           "bgcolor": "#E5ECF6",
           "radialaxis": {
            "gridcolor": "white",
            "linecolor": "white",
            "ticks": ""
           }
          },
          "scene": {
           "xaxis": {
            "backgroundcolor": "#E5ECF6",
            "gridcolor": "white",
            "gridwidth": 2,
            "linecolor": "white",
            "showbackground": true,
            "ticks": "",
            "zerolinecolor": "white"
           },
           "yaxis": {
            "backgroundcolor": "#E5ECF6",
            "gridcolor": "white",
            "gridwidth": 2,
            "linecolor": "white",
            "showbackground": true,
            "ticks": "",
            "zerolinecolor": "white"
           },
           "zaxis": {
            "backgroundcolor": "#E5ECF6",
            "gridcolor": "white",
            "gridwidth": 2,
            "linecolor": "white",
            "showbackground": true,
            "ticks": "",
            "zerolinecolor": "white"
           }
          },
          "shapedefaults": {
           "line": {
            "color": "#2a3f5f"
           }
          },
          "ternary": {
           "aaxis": {
            "gridcolor": "white",
            "linecolor": "white",
            "ticks": ""
           },
           "baxis": {
            "gridcolor": "white",
            "linecolor": "white",
            "ticks": ""
           },
           "bgcolor": "#E5ECF6",
           "caxis": {
            "gridcolor": "white",
            "linecolor": "white",
            "ticks": ""
           }
          },
          "title": {
           "x": 0.05
          },
          "xaxis": {
           "automargin": true,
           "gridcolor": "white",
           "linecolor": "white",
           "ticks": "",
           "title": {
            "standoff": 15
           },
           "zerolinecolor": "white",
           "zerolinewidth": 2
          },
          "yaxis": {
           "automargin": true,
           "gridcolor": "white",
           "linecolor": "white",
           "ticks": "",
           "title": {
            "standoff": 15
           },
           "zerolinecolor": "white",
           "zerolinewidth": 2
          }
         }
        },
        "title": {
         "text": "Asset Returns and Ranks"
        },
        "width": 1000,
        "xaxis": {
         "anchor": "y",
         "domain": [
          0,
          1
         ],
         "title": {
          "text": "Symbol"
         }
        },
        "yaxis": {
         "anchor": "x",
         "domain": [
          0,
          1
         ],
         "title": {
          "text": "Return"
         }
        }
       }
      }
     },
     "metadata": {},
     "output_type": "display_data"
    }
   ],
   "source": [
    "# Create a bar plot to visualize ranks\n",
    "fig = px.bar(\n",
    "    end_of_measurement_period_return_df, \n",
    "    x='Symbol', \n",
    "    y='Return', \n",
    "    color='rank',  # Color by rank to visually distinguish groups\n",
    "    title=\"Asset Returns and Ranks\",\n",
    "    labels={'rank': 'Rank'},\n",
    ")\n",
    "\n",
    "# Customize layout for readability\n",
    "fig.update_layout(\n",
    "    xaxis_title=\"Symbol\",\n",
    "    yaxis_title=\"Return\",\n",
    "    coloraxis_colorbar=dict(title=\"Rank\"),\n",
    "    width=1000,\n",
    "    height=600\n",
    ")\n",
    "\n",
    "fig.show()\n"
   ]
  },
  {
   "cell_type": "code",
   "execution_count": 18,
   "metadata": {},
   "outputs": [
    {
     "data": {
      "text/plain": [
       "array(['FTT/USDT', 'HNT/USDT', 'TON/USDT', 'XRP/USDT'], dtype=object)"
      ]
     },
     "execution_count": 18,
     "metadata": {},
     "output_type": "execute_result"
    }
   ],
   "source": [
    "# select highest rank\n",
    "long_stocks = end_of_measurement_period_return_df.loc[end_of_measurement_period_return_df[\"rank\"]==10,\"Symbol\"].values\n",
    "long_stocks"
   ]
  },
  {
   "cell_type": "code",
   "execution_count": 19,
   "metadata": {},
   "outputs": [
    {
     "data": {
      "text/plain": [
       "array(['AEVO/USDT', 'FLIP/USDT', 'OMG/USDT', 'STRK/USDT'], dtype=object)"
      ]
     },
     "execution_count": 19,
     "metadata": {},
     "output_type": "execute_result"
    }
   ],
   "source": [
    "# select lowest rank\n",
    "short_stocks = end_of_measurement_period_return_df.loc[end_of_measurement_period_return_df[\"rank\"]==0,\"Symbol\"].values\n",
    "short_stocks"
   ]
  },
  {
   "cell_type": "code",
   "execution_count": 20,
   "metadata": {},
   "outputs": [
    {
     "data": {
      "text/plain": [
       "symbol\n",
       "FTT/USDT    0.145378\n",
       "HNT/USDT   -0.065342\n",
       "TON/USDT    0.151434\n",
       "XRP/USDT    1.119113\n",
       "Name: 2024-11-30 00:00:00+00:00, dtype: float64"
      ]
     },
     "execution_count": 20,
     "metadata": {},
     "output_type": "execute_result"
    }
   ],
   "source": [
    "# long strategy return\n",
    "from dateutil.relativedelta import relativedelta\n",
    "\n",
    "long_return_df = returns_df.loc[formation_period + relativedelta(months=1), \\\n",
    "                                   returns_df.columns.isin(long_stocks)]\n",
    "long_return_df"
   ]
  },
  {
   "cell_type": "code",
   "execution_count": 21,
   "metadata": {},
   "outputs": [
    {
     "data": {
      "text/plain": [
       "symbol\n",
       "AEVO/USDT    0.148670\n",
       "FLIP/USDT    0.150314\n",
       "OMG/USDT     0.263404\n",
       "STRK/USDT    0.247439\n",
       "Name: 2024-11-30 00:00:00+00:00, dtype: float64"
      ]
     },
     "execution_count": 21,
     "metadata": {},
     "output_type": "execute_result"
    }
   ],
   "source": [
    "# short strategy return\n",
    "short_return_df = returns_df.loc[formation_period + relativedelta(months=1), \\\n",
    "                                   returns_df.columns.isin(short_stocks)]\n",
    "short_return_df"
   ]
  },
  {
   "cell_type": "code",
   "execution_count": 23,
   "metadata": {},
   "outputs": [],
   "source": [
    "# Define Strategy tester class\n",
    "class strategyTester:\n",
    "    \"\"\"Calculate metrics based on cumulative return\"\"\"\n",
    "\n",
    "    def __init__(self, df: pd.Series, period: str, riskfree_rate: float = 0.03, initial_wealth: int = 1000):\n",
    "        self.annualized_return_value = self.annualized_return(df, period)\n",
    "        self.annualized_volatility_value = self.annualized_volatility(df, period)\n",
    "        self.sharpe_ratio_value = self.sharpe_ratio(df, riskfree_rate)\n",
    "        self.max_drawdown_value = self.max_drawdown(df, initial_wealth)\n",
    "        \n",
    "    # annualized return\n",
    "    @staticmethod\n",
    "    def annualized_return(df: pd.Series, period: str):\n",
    "        if period == 'daily':\n",
    "            factor = 252\n",
    "        elif period == 'weekly':\n",
    "            factor = 52\n",
    "        elif period == 'monthly':\n",
    "            factor = 12\n",
    "        else:\n",
    "            raise ValueError(\"Invalid period. Use 'daily', 'weekly', or 'monthly'.\")\n",
    "        \n",
    "        annualized_return = (1 + df) ** (factor / len(df)) - 1\n",
    "        print(f\"Annualized return: {annualized_return}\")\n",
    "        return annualized_return\n",
    "\n",
    "    # annualized volatility\n",
    "    @staticmethod\n",
    "    def annualized_volatility(df: pd.Series, period: str):\n",
    "        if period == 'daily':\n",
    "            factor = 252\n",
    "        elif period == 'weekly':\n",
    "            factor = 52\n",
    "        elif period == 'monthly':\n",
    "            factor = 12\n",
    "        else:\n",
    "            raise ValueError(\"Invalid period. Use 'daily', 'weekly', or 'monthly'.\")\n",
    "        \n",
    "        volatility = df.std() * (factor ** 0.5)\n",
    "        print(f\"Annualized volatility: {volatility}\")\n",
    "        return volatility\n",
    "\n",
    "    # Sharpe ratio\n",
    "    @staticmethod\n",
    "    def sharpe_ratio(df: pd.Series, riskfree_rate: float = 0.03):\n",
    "        excess_return = df.mean() - riskfree_rate\n",
    "        volatility = df.std()\n",
    "        sharpe_ratio = excess_return / volatility if volatility != 0 else np.nan\n",
    "        print(f\"Sharpe ratio: {sharpe_ratio}\")\n",
    "        return sharpe_ratio\n",
    "\n",
    "    # Drawdown calculation\n",
    "    @staticmethod\n",
    "    def drawdown(return_series: pd.Series, initial_wealth: float = 100):\n",
    "        prior_peaks_series = return_series.cummax()\n",
    "        drawdown_series = (return_series - prior_peaks_series) / prior_peaks_series\n",
    "        return pd.DataFrame({\n",
    "            \"Wealth Index\": return_series,\n",
    "            \"Prior Peaks\": prior_peaks_series,\n",
    "            \"Drawdown\": drawdown_series\n",
    "        })\n",
    "    \n",
    "    # Max drawdown\n",
    "    @staticmethod\n",
    "    def max_drawdown(df: pd.Series, initial_wealth):\n",
    "        drawdown_df = strategyTester.drawdown(df, initial_wealth)\n",
    "        max_drawdown = drawdown_df[\"Drawdown\"].min()\n",
    "        print(f\"Max drawdown: {max_drawdown} with initial wealth: {initial_wealth}\")\n",
    "        return max_drawdown\n"
   ]
  },
  {
   "cell_type": "code",
   "execution_count": 24,
   "metadata": {},
   "outputs": [
    {
     "name": "stdout",
     "output_type": "stream",
     "text": [
      "Annualized return: symbol\n",
      "FTT/USDT    0.502613\n",
      "HNT/USDT   -0.183496\n",
      "TON/USDT    0.526571\n",
      "XRP/USDT    8.516174\n",
      "Name: 2024-11-30 00:00:00+00:00, dtype: float64\n",
      "Annualized volatility: 1.8381858323853406\n",
      "Sharpe ratio: 0.5797653710852276\n",
      "Max drawdown: -1.4494611915905513 with initial wealth: 1000\n"
     ]
    }
   ],
   "source": [
    "# long momentum strategy test\n",
    "long_momentum_strategy_test = strategyTester(long_return_df, 'monthly', 0.03, 1000)"
   ]
  },
  {
   "cell_type": "code",
   "execution_count": 25,
   "metadata": {},
   "outputs": [
    {
     "name": "stdout",
     "output_type": "stream",
     "text": [
      "Annualized return: symbol\n",
      "AEVO/USDT    0.515604\n",
      "FLIP/USDT    0.522120\n",
      "OMG/USDT     1.016634\n",
      "STRK/USDT    0.941147\n",
      "Name: 2024-11-30 00:00:00+00:00, dtype: float64\n",
      "Annualized volatility: 0.21307247108208466\n",
      "Sharpe ratio: 2.803777388779988\n",
      "Max drawdown: -0.060609887262734564 with initial wealth: 1000\n"
     ]
    }
   ],
   "source": [
    "# short momentum strategy test\n",
    "short_momentum_strategy_test = strategyTester(short_return_df, 'monthly', 0.03, 1000)"
   ]
  },
  {
   "cell_type": "code",
   "execution_count": 22,
   "metadata": {},
   "outputs": [
    {
     "data": {
      "application/vnd.plotly.v1+json": {
       "config": {
        "plotlyServerURL": "https://plot.ly"
       },
       "data": [
        {
         "marker": {
          "color": "blue"
         },
         "name": "Long",
         "type": "bar",
         "x": [
          "FTT/USDT",
          "HNT/USDT",
          "TON/USDT",
          "XRP/USDT"
         ],
         "y": [
          0.1453784883387772,
          -0.06534198860037987,
          0.15143387662471608,
          1.1191130298273144
         ]
        },
        {
         "marker": {
          "color": "red"
         },
         "name": "Short",
         "type": "bar",
         "x": [
          "AEVO/USDT",
          "FLIP/USDT",
          "OMG/USDT",
          "STRK/USDT"
         ],
         "y": [
          0.14866979655712043,
          0.15031367628607262,
          0.2634042553191487,
          0.24743935309973053
         ]
        }
       ],
       "layout": {
        "height": 500,
        "legend": {
         "title": {
          "text": "Strategies"
         }
        },
        "template": {
         "data": {
          "bar": [
           {
            "error_x": {
             "color": "#2a3f5f"
            },
            "error_y": {
             "color": "#2a3f5f"
            },
            "marker": {
             "line": {
              "color": "#E5ECF6",
              "width": 0.5
             },
             "pattern": {
              "fillmode": "overlay",
              "size": 10,
              "solidity": 0.2
             }
            },
            "type": "bar"
           }
          ],
          "barpolar": [
           {
            "marker": {
             "line": {
              "color": "#E5ECF6",
              "width": 0.5
             },
             "pattern": {
              "fillmode": "overlay",
              "size": 10,
              "solidity": 0.2
             }
            },
            "type": "barpolar"
           }
          ],
          "carpet": [
           {
            "aaxis": {
             "endlinecolor": "#2a3f5f",
             "gridcolor": "white",
             "linecolor": "white",
             "minorgridcolor": "white",
             "startlinecolor": "#2a3f5f"
            },
            "baxis": {
             "endlinecolor": "#2a3f5f",
             "gridcolor": "white",
             "linecolor": "white",
             "minorgridcolor": "white",
             "startlinecolor": "#2a3f5f"
            },
            "type": "carpet"
           }
          ],
          "choropleth": [
           {
            "colorbar": {
             "outlinewidth": 0,
             "ticks": ""
            },
            "type": "choropleth"
           }
          ],
          "contour": [
           {
            "colorbar": {
             "outlinewidth": 0,
             "ticks": ""
            },
            "colorscale": [
             [
              0,
              "#0d0887"
             ],
             [
              0.1111111111111111,
              "#46039f"
             ],
             [
              0.2222222222222222,
              "#7201a8"
             ],
             [
              0.3333333333333333,
              "#9c179e"
             ],
             [
              0.4444444444444444,
              "#bd3786"
             ],
             [
              0.5555555555555556,
              "#d8576b"
             ],
             [
              0.6666666666666666,
              "#ed7953"
             ],
             [
              0.7777777777777778,
              "#fb9f3a"
             ],
             [
              0.8888888888888888,
              "#fdca26"
             ],
             [
              1,
              "#f0f921"
             ]
            ],
            "type": "contour"
           }
          ],
          "contourcarpet": [
           {
            "colorbar": {
             "outlinewidth": 0,
             "ticks": ""
            },
            "type": "contourcarpet"
           }
          ],
          "heatmap": [
           {
            "colorbar": {
             "outlinewidth": 0,
             "ticks": ""
            },
            "colorscale": [
             [
              0,
              "#0d0887"
             ],
             [
              0.1111111111111111,
              "#46039f"
             ],
             [
              0.2222222222222222,
              "#7201a8"
             ],
             [
              0.3333333333333333,
              "#9c179e"
             ],
             [
              0.4444444444444444,
              "#bd3786"
             ],
             [
              0.5555555555555556,
              "#d8576b"
             ],
             [
              0.6666666666666666,
              "#ed7953"
             ],
             [
              0.7777777777777778,
              "#fb9f3a"
             ],
             [
              0.8888888888888888,
              "#fdca26"
             ],
             [
              1,
              "#f0f921"
             ]
            ],
            "type": "heatmap"
           }
          ],
          "heatmapgl": [
           {
            "colorbar": {
             "outlinewidth": 0,
             "ticks": ""
            },
            "colorscale": [
             [
              0,
              "#0d0887"
             ],
             [
              0.1111111111111111,
              "#46039f"
             ],
             [
              0.2222222222222222,
              "#7201a8"
             ],
             [
              0.3333333333333333,
              "#9c179e"
             ],
             [
              0.4444444444444444,
              "#bd3786"
             ],
             [
              0.5555555555555556,
              "#d8576b"
             ],
             [
              0.6666666666666666,
              "#ed7953"
             ],
             [
              0.7777777777777778,
              "#fb9f3a"
             ],
             [
              0.8888888888888888,
              "#fdca26"
             ],
             [
              1,
              "#f0f921"
             ]
            ],
            "type": "heatmapgl"
           }
          ],
          "histogram": [
           {
            "marker": {
             "pattern": {
              "fillmode": "overlay",
              "size": 10,
              "solidity": 0.2
             }
            },
            "type": "histogram"
           }
          ],
          "histogram2d": [
           {
            "colorbar": {
             "outlinewidth": 0,
             "ticks": ""
            },
            "colorscale": [
             [
              0,
              "#0d0887"
             ],
             [
              0.1111111111111111,
              "#46039f"
             ],
             [
              0.2222222222222222,
              "#7201a8"
             ],
             [
              0.3333333333333333,
              "#9c179e"
             ],
             [
              0.4444444444444444,
              "#bd3786"
             ],
             [
              0.5555555555555556,
              "#d8576b"
             ],
             [
              0.6666666666666666,
              "#ed7953"
             ],
             [
              0.7777777777777778,
              "#fb9f3a"
             ],
             [
              0.8888888888888888,
              "#fdca26"
             ],
             [
              1,
              "#f0f921"
             ]
            ],
            "type": "histogram2d"
           }
          ],
          "histogram2dcontour": [
           {
            "colorbar": {
             "outlinewidth": 0,
             "ticks": ""
            },
            "colorscale": [
             [
              0,
              "#0d0887"
             ],
             [
              0.1111111111111111,
              "#46039f"
             ],
             [
              0.2222222222222222,
              "#7201a8"
             ],
             [
              0.3333333333333333,
              "#9c179e"
             ],
             [
              0.4444444444444444,
              "#bd3786"
             ],
             [
              0.5555555555555556,
              "#d8576b"
             ],
             [
              0.6666666666666666,
              "#ed7953"
             ],
             [
              0.7777777777777778,
              "#fb9f3a"
             ],
             [
              0.8888888888888888,
              "#fdca26"
             ],
             [
              1,
              "#f0f921"
             ]
            ],
            "type": "histogram2dcontour"
           }
          ],
          "mesh3d": [
           {
            "colorbar": {
             "outlinewidth": 0,
             "ticks": ""
            },
            "type": "mesh3d"
           }
          ],
          "parcoords": [
           {
            "line": {
             "colorbar": {
              "outlinewidth": 0,
              "ticks": ""
             }
            },
            "type": "parcoords"
           }
          ],
          "pie": [
           {
            "automargin": true,
            "type": "pie"
           }
          ],
          "scatter": [
           {
            "fillpattern": {
             "fillmode": "overlay",
             "size": 10,
             "solidity": 0.2
            },
            "type": "scatter"
           }
          ],
          "scatter3d": [
           {
            "line": {
             "colorbar": {
              "outlinewidth": 0,
              "ticks": ""
             }
            },
            "marker": {
             "colorbar": {
              "outlinewidth": 0,
              "ticks": ""
             }
            },
            "type": "scatter3d"
           }
          ],
          "scattercarpet": [
           {
            "marker": {
             "colorbar": {
              "outlinewidth": 0,
              "ticks": ""
             }
            },
            "type": "scattercarpet"
           }
          ],
          "scattergeo": [
           {
            "marker": {
             "colorbar": {
              "outlinewidth": 0,
              "ticks": ""
             }
            },
            "type": "scattergeo"
           }
          ],
          "scattergl": [
           {
            "marker": {
             "colorbar": {
              "outlinewidth": 0,
              "ticks": ""
             }
            },
            "type": "scattergl"
           }
          ],
          "scattermapbox": [
           {
            "marker": {
             "colorbar": {
              "outlinewidth": 0,
              "ticks": ""
             }
            },
            "type": "scattermapbox"
           }
          ],
          "scatterpolar": [
           {
            "marker": {
             "colorbar": {
              "outlinewidth": 0,
              "ticks": ""
             }
            },
            "type": "scatterpolar"
           }
          ],
          "scatterpolargl": [
           {
            "marker": {
             "colorbar": {
              "outlinewidth": 0,
              "ticks": ""
             }
            },
            "type": "scatterpolargl"
           }
          ],
          "scatterternary": [
           {
            "marker": {
             "colorbar": {
              "outlinewidth": 0,
              "ticks": ""
             }
            },
            "type": "scatterternary"
           }
          ],
          "surface": [
           {
            "colorbar": {
             "outlinewidth": 0,
             "ticks": ""
            },
            "colorscale": [
             [
              0,
              "#0d0887"
             ],
             [
              0.1111111111111111,
              "#46039f"
             ],
             [
              0.2222222222222222,
              "#7201a8"
             ],
             [
              0.3333333333333333,
              "#9c179e"
             ],
             [
              0.4444444444444444,
              "#bd3786"
             ],
             [
              0.5555555555555556,
              "#d8576b"
             ],
             [
              0.6666666666666666,
              "#ed7953"
             ],
             [
              0.7777777777777778,
              "#fb9f3a"
             ],
             [
              0.8888888888888888,
              "#fdca26"
             ],
             [
              1,
              "#f0f921"
             ]
            ],
            "type": "surface"
           }
          ],
          "table": [
           {
            "cells": {
             "fill": {
              "color": "#EBF0F8"
             },
             "line": {
              "color": "white"
             }
            },
            "header": {
             "fill": {
              "color": "#C8D4E3"
             },
             "line": {
              "color": "white"
             }
            },
            "type": "table"
           }
          ]
         },
         "layout": {
          "annotationdefaults": {
           "arrowcolor": "#2a3f5f",
           "arrowhead": 0,
           "arrowwidth": 1
          },
          "autotypenumbers": "strict",
          "coloraxis": {
           "colorbar": {
            "outlinewidth": 0,
            "ticks": ""
           }
          },
          "colorscale": {
           "diverging": [
            [
             0,
             "#8e0152"
            ],
            [
             0.1,
             "#c51b7d"
            ],
            [
             0.2,
             "#de77ae"
            ],
            [
             0.3,
             "#f1b6da"
            ],
            [
             0.4,
             "#fde0ef"
            ],
            [
             0.5,
             "#f7f7f7"
            ],
            [
             0.6,
             "#e6f5d0"
            ],
            [
             0.7,
             "#b8e186"
            ],
            [
             0.8,
             "#7fbc41"
            ],
            [
             0.9,
             "#4d9221"
            ],
            [
             1,
             "#276419"
            ]
           ],
           "sequential": [
            [
             0,
             "#0d0887"
            ],
            [
             0.1111111111111111,
             "#46039f"
            ],
            [
             0.2222222222222222,
             "#7201a8"
            ],
            [
             0.3333333333333333,
             "#9c179e"
            ],
            [
             0.4444444444444444,
             "#bd3786"
            ],
            [
             0.5555555555555556,
             "#d8576b"
            ],
            [
             0.6666666666666666,
             "#ed7953"
            ],
            [
             0.7777777777777778,
             "#fb9f3a"
            ],
            [
             0.8888888888888888,
             "#fdca26"
            ],
            [
             1,
             "#f0f921"
            ]
           ],
           "sequentialminus": [
            [
             0,
             "#0d0887"
            ],
            [
             0.1111111111111111,
             "#46039f"
            ],
            [
             0.2222222222222222,
             "#7201a8"
            ],
            [
             0.3333333333333333,
             "#9c179e"
            ],
            [
             0.4444444444444444,
             "#bd3786"
            ],
            [
             0.5555555555555556,
             "#d8576b"
            ],
            [
             0.6666666666666666,
             "#ed7953"
            ],
            [
             0.7777777777777778,
             "#fb9f3a"
            ],
            [
             0.8888888888888888,
             "#fdca26"
            ],
            [
             1,
             "#f0f921"
            ]
           ]
          },
          "colorway": [
           "#636efa",
           "#EF553B",
           "#00cc96",
           "#ab63fa",
           "#FFA15A",
           "#19d3f3",
           "#FF6692",
           "#B6E880",
           "#FF97FF",
           "#FECB52"
          ],
          "font": {
           "color": "#2a3f5f"
          },
          "geo": {
           "bgcolor": "white",
           "lakecolor": "white",
           "landcolor": "#E5ECF6",
           "showlakes": true,
           "showland": true,
           "subunitcolor": "white"
          },
          "hoverlabel": {
           "align": "left"
          },
          "hovermode": "closest",
          "mapbox": {
           "style": "light"
          },
          "paper_bgcolor": "white",
          "plot_bgcolor": "#E5ECF6",
          "polar": {
           "angularaxis": {
            "gridcolor": "white",
            "linecolor": "white",
            "ticks": ""
           },
           "bgcolor": "#E5ECF6",
           "radialaxis": {
            "gridcolor": "white",
            "linecolor": "white",
            "ticks": ""
           }
          },
          "scene": {
           "xaxis": {
            "backgroundcolor": "#E5ECF6",
            "gridcolor": "white",
            "gridwidth": 2,
            "linecolor": "white",
            "showbackground": true,
            "ticks": "",
            "zerolinecolor": "white"
           },
           "yaxis": {
            "backgroundcolor": "#E5ECF6",
            "gridcolor": "white",
            "gridwidth": 2,
            "linecolor": "white",
            "showbackground": true,
            "ticks": "",
            "zerolinecolor": "white"
           },
           "zaxis": {
            "backgroundcolor": "#E5ECF6",
            "gridcolor": "white",
            "gridwidth": 2,
            "linecolor": "white",
            "showbackground": true,
            "ticks": "",
            "zerolinecolor": "white"
           }
          },
          "shapedefaults": {
           "line": {
            "color": "#2a3f5f"
           }
          },
          "ternary": {
           "aaxis": {
            "gridcolor": "white",
            "linecolor": "white",
            "ticks": ""
           },
           "baxis": {
            "gridcolor": "white",
            "linecolor": "white",
            "ticks": ""
           },
           "bgcolor": "#E5ECF6",
           "caxis": {
            "gridcolor": "white",
            "linecolor": "white",
            "ticks": ""
           }
          },
          "title": {
           "x": 0.05
          },
          "xaxis": {
           "automargin": true,
           "gridcolor": "white",
           "linecolor": "white",
           "ticks": "",
           "title": {
            "standoff": 15
           },
           "zerolinecolor": "white",
           "zerolinewidth": 2
          },
          "yaxis": {
           "automargin": true,
           "gridcolor": "white",
           "linecolor": "white",
           "ticks": "",
           "title": {
            "standoff": 15
           },
           "zerolinecolor": "white",
           "zerolinewidth": 2
          }
         }
        },
        "title": {
         "text": "Comparison of monthly Long and Short momentum strategies"
        },
        "width": 1400,
        "xaxis": {
         "title": {
          "text": "Symbol"
         }
        },
        "yaxis": {
         "title": {
          "text": "Cumulative Returns"
         }
        }
       }
      }
     },
     "metadata": {},
     "output_type": "display_data"
    }
   ],
   "source": [
    "# Comparison of monthly Long and Short momentum strategies\n",
    "# Initialize an empty figure\n",
    "fig = go.Figure()\n",
    "\n",
    "# Add the first strategy (e.g., long strategy)\n",
    "fig.add_trace(go.Bar(x=long_return_df.index, y=long_return_df.values, marker_color='blue', name=\"Long\"))\n",
    "\n",
    "# Add the second strategy (e.g., short strategy)\n",
    "fig.add_trace(go.Bar(x=short_return_df.index, y=short_return_df.values, marker_color='red', name=\"Short\"))\n",
    "\n",
    "# Update layout for title and axis labels\n",
    "fig.update_layout(\n",
    "    title=\"Comparison of monthly Long and Short momentum strategies\",\n",
    "    width=1400,\n",
    "    height=500,\n",
    "    xaxis_title=\"Symbol\",\n",
    "    yaxis_title=\"Cumulative Returns\",\n",
    "    legend_title=\"Strategies\",\n",
    ")\n",
    "\n",
    "# Show the plot\n",
    "fig.show()"
   ]
  },
  {
   "cell_type": "code",
   "execution_count": 26,
   "metadata": {},
   "outputs": [
    {
     "data": {
      "application/vnd.plotly.v1+json": {
       "config": {
        "plotlyServerURL": "https://plot.ly"
       },
       "data": [
        {
         "marker": {
          "color": "blue"
         },
         "name": "Long",
         "type": "bar",
         "x": [
          "Annualized Return (Long)",
          "Max Drawdown (Long)"
         ],
         "y": [
          2.3404653316176742,
          -1.4494611915905513
         ]
        },
        {
         "marker": {
          "color": "red"
         },
         "name": "Short",
         "type": "bar",
         "x": [
          "Annualized Return (Short)",
          "Max Drawdown (Short)"
         ],
         "y": [
          0.7488758856074826,
          -0.060609887262734564
         ]
        }
       ],
       "layout": {
        "barmode": "group",
        "height": 400,
        "template": {
         "data": {
          "bar": [
           {
            "error_x": {
             "color": "#2a3f5f"
            },
            "error_y": {
             "color": "#2a3f5f"
            },
            "marker": {
             "line": {
              "color": "#E5ECF6",
              "width": 0.5
             },
             "pattern": {
              "fillmode": "overlay",
              "size": 10,
              "solidity": 0.2
             }
            },
            "type": "bar"
           }
          ],
          "barpolar": [
           {
            "marker": {
             "line": {
              "color": "#E5ECF6",
              "width": 0.5
             },
             "pattern": {
              "fillmode": "overlay",
              "size": 10,
              "solidity": 0.2
             }
            },
            "type": "barpolar"
           }
          ],
          "carpet": [
           {
            "aaxis": {
             "endlinecolor": "#2a3f5f",
             "gridcolor": "white",
             "linecolor": "white",
             "minorgridcolor": "white",
             "startlinecolor": "#2a3f5f"
            },
            "baxis": {
             "endlinecolor": "#2a3f5f",
             "gridcolor": "white",
             "linecolor": "white",
             "minorgridcolor": "white",
             "startlinecolor": "#2a3f5f"
            },
            "type": "carpet"
           }
          ],
          "choropleth": [
           {
            "colorbar": {
             "outlinewidth": 0,
             "ticks": ""
            },
            "type": "choropleth"
           }
          ],
          "contour": [
           {
            "colorbar": {
             "outlinewidth": 0,
             "ticks": ""
            },
            "colorscale": [
             [
              0,
              "#0d0887"
             ],
             [
              0.1111111111111111,
              "#46039f"
             ],
             [
              0.2222222222222222,
              "#7201a8"
             ],
             [
              0.3333333333333333,
              "#9c179e"
             ],
             [
              0.4444444444444444,
              "#bd3786"
             ],
             [
              0.5555555555555556,
              "#d8576b"
             ],
             [
              0.6666666666666666,
              "#ed7953"
             ],
             [
              0.7777777777777778,
              "#fb9f3a"
             ],
             [
              0.8888888888888888,
              "#fdca26"
             ],
             [
              1,
              "#f0f921"
             ]
            ],
            "type": "contour"
           }
          ],
          "contourcarpet": [
           {
            "colorbar": {
             "outlinewidth": 0,
             "ticks": ""
            },
            "type": "contourcarpet"
           }
          ],
          "heatmap": [
           {
            "colorbar": {
             "outlinewidth": 0,
             "ticks": ""
            },
            "colorscale": [
             [
              0,
              "#0d0887"
             ],
             [
              0.1111111111111111,
              "#46039f"
             ],
             [
              0.2222222222222222,
              "#7201a8"
             ],
             [
              0.3333333333333333,
              "#9c179e"
             ],
             [
              0.4444444444444444,
              "#bd3786"
             ],
             [
              0.5555555555555556,
              "#d8576b"
             ],
             [
              0.6666666666666666,
              "#ed7953"
             ],
             [
              0.7777777777777778,
              "#fb9f3a"
             ],
             [
              0.8888888888888888,
              "#fdca26"
             ],
             [
              1,
              "#f0f921"
             ]
            ],
            "type": "heatmap"
           }
          ],
          "heatmapgl": [
           {
            "colorbar": {
             "outlinewidth": 0,
             "ticks": ""
            },
            "colorscale": [
             [
              0,
              "#0d0887"
             ],
             [
              0.1111111111111111,
              "#46039f"
             ],
             [
              0.2222222222222222,
              "#7201a8"
             ],
             [
              0.3333333333333333,
              "#9c179e"
             ],
             [
              0.4444444444444444,
              "#bd3786"
             ],
             [
              0.5555555555555556,
              "#d8576b"
             ],
             [
              0.6666666666666666,
              "#ed7953"
             ],
             [
              0.7777777777777778,
              "#fb9f3a"
             ],
             [
              0.8888888888888888,
              "#fdca26"
             ],
             [
              1,
              "#f0f921"
             ]
            ],
            "type": "heatmapgl"
           }
          ],
          "histogram": [
           {
            "marker": {
             "pattern": {
              "fillmode": "overlay",
              "size": 10,
              "solidity": 0.2
             }
            },
            "type": "histogram"
           }
          ],
          "histogram2d": [
           {
            "colorbar": {
             "outlinewidth": 0,
             "ticks": ""
            },
            "colorscale": [
             [
              0,
              "#0d0887"
             ],
             [
              0.1111111111111111,
              "#46039f"
             ],
             [
              0.2222222222222222,
              "#7201a8"
             ],
             [
              0.3333333333333333,
              "#9c179e"
             ],
             [
              0.4444444444444444,
              "#bd3786"
             ],
             [
              0.5555555555555556,
              "#d8576b"
             ],
             [
              0.6666666666666666,
              "#ed7953"
             ],
             [
              0.7777777777777778,
              "#fb9f3a"
             ],
             [
              0.8888888888888888,
              "#fdca26"
             ],
             [
              1,
              "#f0f921"
             ]
            ],
            "type": "histogram2d"
           }
          ],
          "histogram2dcontour": [
           {
            "colorbar": {
             "outlinewidth": 0,
             "ticks": ""
            },
            "colorscale": [
             [
              0,
              "#0d0887"
             ],
             [
              0.1111111111111111,
              "#46039f"
             ],
             [
              0.2222222222222222,
              "#7201a8"
             ],
             [
              0.3333333333333333,
              "#9c179e"
             ],
             [
              0.4444444444444444,
              "#bd3786"
             ],
             [
              0.5555555555555556,
              "#d8576b"
             ],
             [
              0.6666666666666666,
              "#ed7953"
             ],
             [
              0.7777777777777778,
              "#fb9f3a"
             ],
             [
              0.8888888888888888,
              "#fdca26"
             ],
             [
              1,
              "#f0f921"
             ]
            ],
            "type": "histogram2dcontour"
           }
          ],
          "mesh3d": [
           {
            "colorbar": {
             "outlinewidth": 0,
             "ticks": ""
            },
            "type": "mesh3d"
           }
          ],
          "parcoords": [
           {
            "line": {
             "colorbar": {
              "outlinewidth": 0,
              "ticks": ""
             }
            },
            "type": "parcoords"
           }
          ],
          "pie": [
           {
            "automargin": true,
            "type": "pie"
           }
          ],
          "scatter": [
           {
            "fillpattern": {
             "fillmode": "overlay",
             "size": 10,
             "solidity": 0.2
            },
            "type": "scatter"
           }
          ],
          "scatter3d": [
           {
            "line": {
             "colorbar": {
              "outlinewidth": 0,
              "ticks": ""
             }
            },
            "marker": {
             "colorbar": {
              "outlinewidth": 0,
              "ticks": ""
             }
            },
            "type": "scatter3d"
           }
          ],
          "scattercarpet": [
           {
            "marker": {
             "colorbar": {
              "outlinewidth": 0,
              "ticks": ""
             }
            },
            "type": "scattercarpet"
           }
          ],
          "scattergeo": [
           {
            "marker": {
             "colorbar": {
              "outlinewidth": 0,
              "ticks": ""
             }
            },
            "type": "scattergeo"
           }
          ],
          "scattergl": [
           {
            "marker": {
             "colorbar": {
              "outlinewidth": 0,
              "ticks": ""
             }
            },
            "type": "scattergl"
           }
          ],
          "scattermapbox": [
           {
            "marker": {
             "colorbar": {
              "outlinewidth": 0,
              "ticks": ""
             }
            },
            "type": "scattermapbox"
           }
          ],
          "scatterpolar": [
           {
            "marker": {
             "colorbar": {
              "outlinewidth": 0,
              "ticks": ""
             }
            },
            "type": "scatterpolar"
           }
          ],
          "scatterpolargl": [
           {
            "marker": {
             "colorbar": {
              "outlinewidth": 0,
              "ticks": ""
             }
            },
            "type": "scatterpolargl"
           }
          ],
          "scatterternary": [
           {
            "marker": {
             "colorbar": {
              "outlinewidth": 0,
              "ticks": ""
             }
            },
            "type": "scatterternary"
           }
          ],
          "surface": [
           {
            "colorbar": {
             "outlinewidth": 0,
             "ticks": ""
            },
            "colorscale": [
             [
              0,
              "#0d0887"
             ],
             [
              0.1111111111111111,
              "#46039f"
             ],
             [
              0.2222222222222222,
              "#7201a8"
             ],
             [
              0.3333333333333333,
              "#9c179e"
             ],
             [
              0.4444444444444444,
              "#bd3786"
             ],
             [
              0.5555555555555556,
              "#d8576b"
             ],
             [
              0.6666666666666666,
              "#ed7953"
             ],
             [
              0.7777777777777778,
              "#fb9f3a"
             ],
             [
              0.8888888888888888,
              "#fdca26"
             ],
             [
              1,
              "#f0f921"
             ]
            ],
            "type": "surface"
           }
          ],
          "table": [
           {
            "cells": {
             "fill": {
              "color": "#EBF0F8"
             },
             "line": {
              "color": "white"
             }
            },
            "header": {
             "fill": {
              "color": "#C8D4E3"
             },
             "line": {
              "color": "white"
             }
            },
            "type": "table"
           }
          ]
         },
         "layout": {
          "annotationdefaults": {
           "arrowcolor": "#2a3f5f",
           "arrowhead": 0,
           "arrowwidth": 1
          },
          "autotypenumbers": "strict",
          "coloraxis": {
           "colorbar": {
            "outlinewidth": 0,
            "ticks": ""
           }
          },
          "colorscale": {
           "diverging": [
            [
             0,
             "#8e0152"
            ],
            [
             0.1,
             "#c51b7d"
            ],
            [
             0.2,
             "#de77ae"
            ],
            [
             0.3,
             "#f1b6da"
            ],
            [
             0.4,
             "#fde0ef"
            ],
            [
             0.5,
             "#f7f7f7"
            ],
            [
             0.6,
             "#e6f5d0"
            ],
            [
             0.7,
             "#b8e186"
            ],
            [
             0.8,
             "#7fbc41"
            ],
            [
             0.9,
             "#4d9221"
            ],
            [
             1,
             "#276419"
            ]
           ],
           "sequential": [
            [
             0,
             "#0d0887"
            ],
            [
             0.1111111111111111,
             "#46039f"
            ],
            [
             0.2222222222222222,
             "#7201a8"
            ],
            [
             0.3333333333333333,
             "#9c179e"
            ],
            [
             0.4444444444444444,
             "#bd3786"
            ],
            [
             0.5555555555555556,
             "#d8576b"
            ],
            [
             0.6666666666666666,
             "#ed7953"
            ],
            [
             0.7777777777777778,
             "#fb9f3a"
            ],
            [
             0.8888888888888888,
             "#fdca26"
            ],
            [
             1,
             "#f0f921"
            ]
           ],
           "sequentialminus": [
            [
             0,
             "#0d0887"
            ],
            [
             0.1111111111111111,
             "#46039f"
            ],
            [
             0.2222222222222222,
             "#7201a8"
            ],
            [
             0.3333333333333333,
             "#9c179e"
            ],
            [
             0.4444444444444444,
             "#bd3786"
            ],
            [
             0.5555555555555556,
             "#d8576b"
            ],
            [
             0.6666666666666666,
             "#ed7953"
            ],
            [
             0.7777777777777778,
             "#fb9f3a"
            ],
            [
             0.8888888888888888,
             "#fdca26"
            ],
            [
             1,
             "#f0f921"
            ]
           ]
          },
          "colorway": [
           "#636efa",
           "#EF553B",
           "#00cc96",
           "#ab63fa",
           "#FFA15A",
           "#19d3f3",
           "#FF6692",
           "#B6E880",
           "#FF97FF",
           "#FECB52"
          ],
          "font": {
           "color": "#2a3f5f"
          },
          "geo": {
           "bgcolor": "white",
           "lakecolor": "white",
           "landcolor": "#E5ECF6",
           "showlakes": true,
           "showland": true,
           "subunitcolor": "white"
          },
          "hoverlabel": {
           "align": "left"
          },
          "hovermode": "closest",
          "mapbox": {
           "style": "light"
          },
          "paper_bgcolor": "white",
          "plot_bgcolor": "#E5ECF6",
          "polar": {
           "angularaxis": {
            "gridcolor": "white",
            "linecolor": "white",
            "ticks": ""
           },
           "bgcolor": "#E5ECF6",
           "radialaxis": {
            "gridcolor": "white",
            "linecolor": "white",
            "ticks": ""
           }
          },
          "scene": {
           "xaxis": {
            "backgroundcolor": "#E5ECF6",
            "gridcolor": "white",
            "gridwidth": 2,
            "linecolor": "white",
            "showbackground": true,
            "ticks": "",
            "zerolinecolor": "white"
           },
           "yaxis": {
            "backgroundcolor": "#E5ECF6",
            "gridcolor": "white",
            "gridwidth": 2,
            "linecolor": "white",
            "showbackground": true,
            "ticks": "",
            "zerolinecolor": "white"
           },
           "zaxis": {
            "backgroundcolor": "#E5ECF6",
            "gridcolor": "white",
            "gridwidth": 2,
            "linecolor": "white",
            "showbackground": true,
            "ticks": "",
            "zerolinecolor": "white"
           }
          },
          "shapedefaults": {
           "line": {
            "color": "#2a3f5f"
           }
          },
          "ternary": {
           "aaxis": {
            "gridcolor": "white",
            "linecolor": "white",
            "ticks": ""
           },
           "baxis": {
            "gridcolor": "white",
            "linecolor": "white",
            "ticks": ""
           },
           "bgcolor": "#E5ECF6",
           "caxis": {
            "gridcolor": "white",
            "linecolor": "white",
            "ticks": ""
           }
          },
          "title": {
           "x": 0.05
          },
          "xaxis": {
           "automargin": true,
           "gridcolor": "white",
           "linecolor": "white",
           "ticks": "",
           "title": {
            "standoff": 15
           },
           "zerolinecolor": "white",
           "zerolinewidth": 2
          },
          "yaxis": {
           "automargin": true,
           "gridcolor": "white",
           "linecolor": "white",
           "ticks": "",
           "title": {
            "standoff": 15
           },
           "zerolinecolor": "white",
           "zerolinewidth": 2
          }
         }
        },
        "title": {
         "text": "Annualized Return and Max Drawdown from Long and Short Strategies"
        },
        "width": 800,
        "xaxis": {
         "title": {
          "text": "Metrics"
         }
        },
        "yaxis": {
         "title": {
          "text": "Values"
         }
        }
       }
      }
     },
     "metadata": {},
     "output_type": "display_data"
    }
   ],
   "source": [
    "# Annualized Return and Max Drawdown from Long and Short Strategies\n",
    "# Initialize an empty figure\n",
    "fig = go.Figure()\n",
    "\n",
    "# Add traces for Long strategy\n",
    "fig.add_trace(go.Bar(\n",
    "    x=[\"Annualized Return (Long)\", \"Max Drawdown (Long)\"], \n",
    "    y=[long_momentum_strategy_test.annualized_return_value.mean(), long_momentum_strategy_test.max_drawdown_value], \n",
    "    marker_color='blue', \n",
    "    name=\"Long\"\n",
    "))\n",
    "\n",
    "# Add traces for Short strategy\n",
    "fig.add_trace(go.Bar(\n",
    "    x=[\"Annualized Return (Short)\", \"Max Drawdown (Short)\"], \n",
    "    y=[short_momentum_strategy_test.annualized_return_value.mean(), short_momentum_strategy_test.max_drawdown_value], \n",
    "    marker_color='red', \n",
    "    name=\"Short\"\n",
    "))\n",
    "\n",
    "# Update layout\n",
    "fig.update_layout(\n",
    "    title=\"Annualized Return and Max Drawdown from Long and Short Strategies\",\n",
    "    xaxis_title=\"Metrics\",\n",
    "    yaxis_title=\"Values\",\n",
    "    barmode='group',  # Group bars by category\n",
    "    width=800,\n",
    "    height=400\n",
    ")\n",
    "\n",
    "# Show the plot\n",
    "fig.show()\n",
    "\n"
   ]
  },
  {
   "cell_type": "code",
   "execution_count": 27,
   "metadata": {},
   "outputs": [
    {
     "data": {
      "application/vnd.plotly.v1+json": {
       "config": {
        "plotlyServerURL": "https://plot.ly"
       },
       "data": [
        {
         "marker": {
          "color": "blue"
         },
         "name": "Long",
         "type": "bar",
         "x": [
          "Annualized Volatility(long)",
          "Sharpe Ratio(long)"
         ],
         "y": [
          1.8381858323853406,
          0.5797653710852276
         ]
        },
        {
         "marker": {
          "color": "red"
         },
         "name": "Short",
         "type": "bar",
         "x": [
          "Annualized Volatility(short)",
          "Sharpe Ratio(short)"
         ],
         "y": [
          0.21307247108208466,
          2.803777388779988
         ]
        }
       ],
       "layout": {
        "barmode": "group",
        "height": 400,
        "template": {
         "data": {
          "bar": [
           {
            "error_x": {
             "color": "#2a3f5f"
            },
            "error_y": {
             "color": "#2a3f5f"
            },
            "marker": {
             "line": {
              "color": "#E5ECF6",
              "width": 0.5
             },
             "pattern": {
              "fillmode": "overlay",
              "size": 10,
              "solidity": 0.2
             }
            },
            "type": "bar"
           }
          ],
          "barpolar": [
           {
            "marker": {
             "line": {
              "color": "#E5ECF6",
              "width": 0.5
             },
             "pattern": {
              "fillmode": "overlay",
              "size": 10,
              "solidity": 0.2
             }
            },
            "type": "barpolar"
           }
          ],
          "carpet": [
           {
            "aaxis": {
             "endlinecolor": "#2a3f5f",
             "gridcolor": "white",
             "linecolor": "white",
             "minorgridcolor": "white",
             "startlinecolor": "#2a3f5f"
            },
            "baxis": {
             "endlinecolor": "#2a3f5f",
             "gridcolor": "white",
             "linecolor": "white",
             "minorgridcolor": "white",
             "startlinecolor": "#2a3f5f"
            },
            "type": "carpet"
           }
          ],
          "choropleth": [
           {
            "colorbar": {
             "outlinewidth": 0,
             "ticks": ""
            },
            "type": "choropleth"
           }
          ],
          "contour": [
           {
            "colorbar": {
             "outlinewidth": 0,
             "ticks": ""
            },
            "colorscale": [
             [
              0,
              "#0d0887"
             ],
             [
              0.1111111111111111,
              "#46039f"
             ],
             [
              0.2222222222222222,
              "#7201a8"
             ],
             [
              0.3333333333333333,
              "#9c179e"
             ],
             [
              0.4444444444444444,
              "#bd3786"
             ],
             [
              0.5555555555555556,
              "#d8576b"
             ],
             [
              0.6666666666666666,
              "#ed7953"
             ],
             [
              0.7777777777777778,
              "#fb9f3a"
             ],
             [
              0.8888888888888888,
              "#fdca26"
             ],
             [
              1,
              "#f0f921"
             ]
            ],
            "type": "contour"
           }
          ],
          "contourcarpet": [
           {
            "colorbar": {
             "outlinewidth": 0,
             "ticks": ""
            },
            "type": "contourcarpet"
           }
          ],
          "heatmap": [
           {
            "colorbar": {
             "outlinewidth": 0,
             "ticks": ""
            },
            "colorscale": [
             [
              0,
              "#0d0887"
             ],
             [
              0.1111111111111111,
              "#46039f"
             ],
             [
              0.2222222222222222,
              "#7201a8"
             ],
             [
              0.3333333333333333,
              "#9c179e"
             ],
             [
              0.4444444444444444,
              "#bd3786"
             ],
             [
              0.5555555555555556,
              "#d8576b"
             ],
             [
              0.6666666666666666,
              "#ed7953"
             ],
             [
              0.7777777777777778,
              "#fb9f3a"
             ],
             [
              0.8888888888888888,
              "#fdca26"
             ],
             [
              1,
              "#f0f921"
             ]
            ],
            "type": "heatmap"
           }
          ],
          "heatmapgl": [
           {
            "colorbar": {
             "outlinewidth": 0,
             "ticks": ""
            },
            "colorscale": [
             [
              0,
              "#0d0887"
             ],
             [
              0.1111111111111111,
              "#46039f"
             ],
             [
              0.2222222222222222,
              "#7201a8"
             ],
             [
              0.3333333333333333,
              "#9c179e"
             ],
             [
              0.4444444444444444,
              "#bd3786"
             ],
             [
              0.5555555555555556,
              "#d8576b"
             ],
             [
              0.6666666666666666,
              "#ed7953"
             ],
             [
              0.7777777777777778,
              "#fb9f3a"
             ],
             [
              0.8888888888888888,
              "#fdca26"
             ],
             [
              1,
              "#f0f921"
             ]
            ],
            "type": "heatmapgl"
           }
          ],
          "histogram": [
           {
            "marker": {
             "pattern": {
              "fillmode": "overlay",
              "size": 10,
              "solidity": 0.2
             }
            },
            "type": "histogram"
           }
          ],
          "histogram2d": [
           {
            "colorbar": {
             "outlinewidth": 0,
             "ticks": ""
            },
            "colorscale": [
             [
              0,
              "#0d0887"
             ],
             [
              0.1111111111111111,
              "#46039f"
             ],
             [
              0.2222222222222222,
              "#7201a8"
             ],
             [
              0.3333333333333333,
              "#9c179e"
             ],
             [
              0.4444444444444444,
              "#bd3786"
             ],
             [
              0.5555555555555556,
              "#d8576b"
             ],
             [
              0.6666666666666666,
              "#ed7953"
             ],
             [
              0.7777777777777778,
              "#fb9f3a"
             ],
             [
              0.8888888888888888,
              "#fdca26"
             ],
             [
              1,
              "#f0f921"
             ]
            ],
            "type": "histogram2d"
           }
          ],
          "histogram2dcontour": [
           {
            "colorbar": {
             "outlinewidth": 0,
             "ticks": ""
            },
            "colorscale": [
             [
              0,
              "#0d0887"
             ],
             [
              0.1111111111111111,
              "#46039f"
             ],
             [
              0.2222222222222222,
              "#7201a8"
             ],
             [
              0.3333333333333333,
              "#9c179e"
             ],
             [
              0.4444444444444444,
              "#bd3786"
             ],
             [
              0.5555555555555556,
              "#d8576b"
             ],
             [
              0.6666666666666666,
              "#ed7953"
             ],
             [
              0.7777777777777778,
              "#fb9f3a"
             ],
             [
              0.8888888888888888,
              "#fdca26"
             ],
             [
              1,
              "#f0f921"
             ]
            ],
            "type": "histogram2dcontour"
           }
          ],
          "mesh3d": [
           {
            "colorbar": {
             "outlinewidth": 0,
             "ticks": ""
            },
            "type": "mesh3d"
           }
          ],
          "parcoords": [
           {
            "line": {
             "colorbar": {
              "outlinewidth": 0,
              "ticks": ""
             }
            },
            "type": "parcoords"
           }
          ],
          "pie": [
           {
            "automargin": true,
            "type": "pie"
           }
          ],
          "scatter": [
           {
            "fillpattern": {
             "fillmode": "overlay",
             "size": 10,
             "solidity": 0.2
            },
            "type": "scatter"
           }
          ],
          "scatter3d": [
           {
            "line": {
             "colorbar": {
              "outlinewidth": 0,
              "ticks": ""
             }
            },
            "marker": {
             "colorbar": {
              "outlinewidth": 0,
              "ticks": ""
             }
            },
            "type": "scatter3d"
           }
          ],
          "scattercarpet": [
           {
            "marker": {
             "colorbar": {
              "outlinewidth": 0,
              "ticks": ""
             }
            },
            "type": "scattercarpet"
           }
          ],
          "scattergeo": [
           {
            "marker": {
             "colorbar": {
              "outlinewidth": 0,
              "ticks": ""
             }
            },
            "type": "scattergeo"
           }
          ],
          "scattergl": [
           {
            "marker": {
             "colorbar": {
              "outlinewidth": 0,
              "ticks": ""
             }
            },
            "type": "scattergl"
           }
          ],
          "scattermapbox": [
           {
            "marker": {
             "colorbar": {
              "outlinewidth": 0,
              "ticks": ""
             }
            },
            "type": "scattermapbox"
           }
          ],
          "scatterpolar": [
           {
            "marker": {
             "colorbar": {
              "outlinewidth": 0,
              "ticks": ""
             }
            },
            "type": "scatterpolar"
           }
          ],
          "scatterpolargl": [
           {
            "marker": {
             "colorbar": {
              "outlinewidth": 0,
              "ticks": ""
             }
            },
            "type": "scatterpolargl"
           }
          ],
          "scatterternary": [
           {
            "marker": {
             "colorbar": {
              "outlinewidth": 0,
              "ticks": ""
             }
            },
            "type": "scatterternary"
           }
          ],
          "surface": [
           {
            "colorbar": {
             "outlinewidth": 0,
             "ticks": ""
            },
            "colorscale": [
             [
              0,
              "#0d0887"
             ],
             [
              0.1111111111111111,
              "#46039f"
             ],
             [
              0.2222222222222222,
              "#7201a8"
             ],
             [
              0.3333333333333333,
              "#9c179e"
             ],
             [
              0.4444444444444444,
              "#bd3786"
             ],
             [
              0.5555555555555556,
              "#d8576b"
             ],
             [
              0.6666666666666666,
              "#ed7953"
             ],
             [
              0.7777777777777778,
              "#fb9f3a"
             ],
             [
              0.8888888888888888,
              "#fdca26"
             ],
             [
              1,
              "#f0f921"
             ]
            ],
            "type": "surface"
           }
          ],
          "table": [
           {
            "cells": {
             "fill": {
              "color": "#EBF0F8"
             },
             "line": {
              "color": "white"
             }
            },
            "header": {
             "fill": {
              "color": "#C8D4E3"
             },
             "line": {
              "color": "white"
             }
            },
            "type": "table"
           }
          ]
         },
         "layout": {
          "annotationdefaults": {
           "arrowcolor": "#2a3f5f",
           "arrowhead": 0,
           "arrowwidth": 1
          },
          "autotypenumbers": "strict",
          "coloraxis": {
           "colorbar": {
            "outlinewidth": 0,
            "ticks": ""
           }
          },
          "colorscale": {
           "diverging": [
            [
             0,
             "#8e0152"
            ],
            [
             0.1,
             "#c51b7d"
            ],
            [
             0.2,
             "#de77ae"
            ],
            [
             0.3,
             "#f1b6da"
            ],
            [
             0.4,
             "#fde0ef"
            ],
            [
             0.5,
             "#f7f7f7"
            ],
            [
             0.6,
             "#e6f5d0"
            ],
            [
             0.7,
             "#b8e186"
            ],
            [
             0.8,
             "#7fbc41"
            ],
            [
             0.9,
             "#4d9221"
            ],
            [
             1,
             "#276419"
            ]
           ],
           "sequential": [
            [
             0,
             "#0d0887"
            ],
            [
             0.1111111111111111,
             "#46039f"
            ],
            [
             0.2222222222222222,
             "#7201a8"
            ],
            [
             0.3333333333333333,
             "#9c179e"
            ],
            [
             0.4444444444444444,
             "#bd3786"
            ],
            [
             0.5555555555555556,
             "#d8576b"
            ],
            [
             0.6666666666666666,
             "#ed7953"
            ],
            [
             0.7777777777777778,
             "#fb9f3a"
            ],
            [
             0.8888888888888888,
             "#fdca26"
            ],
            [
             1,
             "#f0f921"
            ]
           ],
           "sequentialminus": [
            [
             0,
             "#0d0887"
            ],
            [
             0.1111111111111111,
             "#46039f"
            ],
            [
             0.2222222222222222,
             "#7201a8"
            ],
            [
             0.3333333333333333,
             "#9c179e"
            ],
            [
             0.4444444444444444,
             "#bd3786"
            ],
            [
             0.5555555555555556,
             "#d8576b"
            ],
            [
             0.6666666666666666,
             "#ed7953"
            ],
            [
             0.7777777777777778,
             "#fb9f3a"
            ],
            [
             0.8888888888888888,
             "#fdca26"
            ],
            [
             1,
             "#f0f921"
            ]
           ]
          },
          "colorway": [
           "#636efa",
           "#EF553B",
           "#00cc96",
           "#ab63fa",
           "#FFA15A",
           "#19d3f3",
           "#FF6692",
           "#B6E880",
           "#FF97FF",
           "#FECB52"
          ],
          "font": {
           "color": "#2a3f5f"
          },
          "geo": {
           "bgcolor": "white",
           "lakecolor": "white",
           "landcolor": "#E5ECF6",
           "showlakes": true,
           "showland": true,
           "subunitcolor": "white"
          },
          "hoverlabel": {
           "align": "left"
          },
          "hovermode": "closest",
          "mapbox": {
           "style": "light"
          },
          "paper_bgcolor": "white",
          "plot_bgcolor": "#E5ECF6",
          "polar": {
           "angularaxis": {
            "gridcolor": "white",
            "linecolor": "white",
            "ticks": ""
           },
           "bgcolor": "#E5ECF6",
           "radialaxis": {
            "gridcolor": "white",
            "linecolor": "white",
            "ticks": ""
           }
          },
          "scene": {
           "xaxis": {
            "backgroundcolor": "#E5ECF6",
            "gridcolor": "white",
            "gridwidth": 2,
            "linecolor": "white",
            "showbackground": true,
            "ticks": "",
            "zerolinecolor": "white"
           },
           "yaxis": {
            "backgroundcolor": "#E5ECF6",
            "gridcolor": "white",
            "gridwidth": 2,
            "linecolor": "white",
            "showbackground": true,
            "ticks": "",
            "zerolinecolor": "white"
           },
           "zaxis": {
            "backgroundcolor": "#E5ECF6",
            "gridcolor": "white",
            "gridwidth": 2,
            "linecolor": "white",
            "showbackground": true,
            "ticks": "",
            "zerolinecolor": "white"
           }
          },
          "shapedefaults": {
           "line": {
            "color": "#2a3f5f"
           }
          },
          "ternary": {
           "aaxis": {
            "gridcolor": "white",
            "linecolor": "white",
            "ticks": ""
           },
           "baxis": {
            "gridcolor": "white",
            "linecolor": "white",
            "ticks": ""
           },
           "bgcolor": "#E5ECF6",
           "caxis": {
            "gridcolor": "white",
            "linecolor": "white",
            "ticks": ""
           }
          },
          "title": {
           "x": 0.05
          },
          "xaxis": {
           "automargin": true,
           "gridcolor": "white",
           "linecolor": "white",
           "ticks": "",
           "title": {
            "standoff": 15
           },
           "zerolinecolor": "white",
           "zerolinewidth": 2
          },
          "yaxis": {
           "automargin": true,
           "gridcolor": "white",
           "linecolor": "white",
           "ticks": "",
           "title": {
            "standoff": 15
           },
           "zerolinecolor": "white",
           "zerolinewidth": 2
          }
         }
        },
        "title": {
         "text": "Annualized Volatility and Max Drawdown from Long and Short Strategies"
        },
        "width": 800,
        "xaxis": {
         "title": {
          "text": "Metrics"
         }
        },
        "yaxis": {
         "title": {
          "text": "Metric Value"
         }
        }
       }
      }
     },
     "metadata": {},
     "output_type": "display_data"
    }
   ],
   "source": [
    "# Annualized Volatility and Max Drawdown from Long and Short Strategies\n",
    "# Create a figure\n",
    "fig = go.Figure()\n",
    "\n",
    "# Add bars for the Long Strategy - Volatility and Drawdown\n",
    "fig.add_trace(go.Bar(\n",
    "    x=[\"Annualized Volatility(long)\", \"Sharpe Ratio(long)\"], \n",
    "    y=[long_momentum_strategy_test.annualized_volatility_value, long_momentum_strategy_test.sharpe_ratio_value],\n",
    "    name=\"Long\",\n",
    "    marker_color='blue'\n",
    "))\n",
    "\n",
    "# Add bars for the Short Strategy - Volatility and Drawdown\n",
    "fig.add_trace(go.Bar(\n",
    "    x=[\"Annualized Volatility(short)\", \"Sharpe Ratio(short)\"], \n",
    "    y=[short_momentum_strategy_test.annualized_volatility_value, short_momentum_strategy_test.sharpe_ratio_value],\n",
    "    name=\"Short\",\n",
    "    marker_color='red'\n",
    "))\n",
    "\n",
    "# Update layout for grouped bars\n",
    "fig.update_layout(\n",
    "    title=\"Annualized Volatility and Max Drawdown from Long and Short Strategies\",\n",
    "    xaxis_title=\"Metrics\",\n",
    "    yaxis_title=\"Metric Value\",\n",
    "    barmode='group',  # Group bars side-by-side\n",
    "    width=800,\n",
    "    height=400\n",
    ")\n",
    "\n",
    "# Show the plot\n",
    "fig.show()\n"
   ]
  }
 ],
 "metadata": {
  "colab": {
   "authorship_tag": "ABX9TyPEBcgufjbBSFixya5jCUbT",
   "provenance": []
  },
  "kernelspec": {
   "display_name": "hmm",
   "language": "python",
   "name": "python3"
  },
  "language_info": {
   "codemirror_mode": {
    "name": "ipython",
    "version": 3
   },
   "file_extension": ".py",
   "mimetype": "text/x-python",
   "name": "python",
   "nbconvert_exporter": "python",
   "pygments_lexer": "ipython3",
   "version": "3.9.20"
  }
 },
 "nbformat": 4,
 "nbformat_minor": 0
}
