{
 "cells": [
  {
   "cell_type": "markdown",
   "metadata": {},
   "source": [
    "### Pantera-capital-portfolio monthly momemtum strategy"
   ]
  },
  {
   "cell_type": "code",
   "execution_count": 2,
   "metadata": {},
   "outputs": [
    {
     "name": "stdout",
     "output_type": "stream",
     "text": [
      "DeFi Symbols: ['XRP/USDT', 'TON/USDT', 'DOT/USDT', 'NEAR/USDT', 'FIL/USDT', 'ARB/USDT', 'INJ/USDT', 'ATOM/USDT', 'ONDO/USDT', 'HNT/USDT', 'STRK/USDT', 'MINA/USDT', 'LUNC/USDT', 'ZEC/USDT', 'ROSE/USDT', 'LPT/USDT', '1INCH/USDT', 'AMP/USDT', 'LUNA/USDT', 'KSM/USDT', 'AEVO/USDT', 'ZRX/USDT', 'ANKR/USDT', 'BAT/USDT', 'API3/USDT', 'AUDIO/USDT', 'ICX/USDT', 'SUSHI/USDT', 'INST/USDT', 'WAXP/USDT', 'AMPL/USDT', 'BAL/USDT', 'ZENT/USDT', 'CVC/USDT', 'LQTY/USDT', 'POND/USDT', 'AUCTION/USDT', 'OMNI/USDT', 'DODO/USDT', 'KNC/USDT', 'CELR/USDT', 'MAV/USDT', 'AURORA/USDT', 'ACA/USDT', 'OGN/USDT', 'GUSD/USDT', 'STRD/USDT', 'FLIP/USDT', 'XCN/USDT', 'GEOD/USDT', 'DESO/USDT', 'OMG/USDT', 'TT/USDT', 'FOX/USDT', 'FUN/USDT', 'SD/USDT', 'ORDER/USDT', 'KIN/USDT', 'GFT/USDT', 'A8/USDT', 'PTU/USDT', 'MTRG/USDT', 'STRDY/USDT', 'PERC/USDT', 'KAR/USDT', 'HNS/USDT', 'REP/USDT', 'GENE/USDT', 'RPG/USDT', 'ANC/USDT', 'CPH/USDT', 'MIR/USDT', 'FLX/USDT', 'NOTE/USDT', 'LITH/USDT', 'ECO/USDT', 'ENG/USDT', 'VEGA/USDT', 'UNB/USDT', 'PTF/USDT', 'PSY/USDT', 'GEM/USDT', 'AUSD/USDT', 'FTT/USDT', 'USH/USDT', 'BTRST/USDT', 'BIT/USDT', 'VPP/USDT', 'JUMBO/USDT', 'GDT/USDT']\n"
     ]
    }
   ],
   "source": [
    "# get category symbols\n",
    "category = \"pantera-capital-portfolio\"\n",
    "import requests\n",
    "url = \"https://api.coingecko.com/api/v3/coins/markets\"\n",
    "params = {\n",
    "    \"vs_currency\": \"usd\",\n",
    "    \"category\": category,\n",
    "    \"order\": \"market_cap_desc\",\n",
    "    \"per_page\": 300,\n",
    "    \"page\": 1\n",
    "}\n",
    "\n",
    "response = requests.get(url, params=params)\n",
    "data = response.json()\n",
    "\n",
    "# Extract the symbols\n",
    "defi_symbols = [coin['symbol'].upper() + '/USDT' for coin in data]\n",
    "print(\"DeFi Symbols:\", defi_symbols)"
   ]
  },
  {
   "cell_type": "code",
   "execution_count": 3,
   "metadata": {},
   "outputs": [
    {
     "name": "stdout",
     "output_type": "stream",
     "text": [
      "Available DeFi Symbols: ['XRP/USDT', 'TON/USDT', 'DOT/USDT', 'NEAR/USDT', 'FIL/USDT', 'ARB/USDT', 'INJ/USDT', 'ATOM/USDT', 'ONDO/USDT', 'HNT/USDT', 'STRK/USDT', 'MINA/USDT', 'LUNC/USDT', 'ROSE/USDT', '1INCH/USDT', 'LUNA/USDT', 'KSM/USDT', 'AEVO/USDT', 'ZRX/USDT', 'ANKR/USDT', 'BAT/USDT', 'ICX/USDT', 'SUSHI/USDT', 'WAXP/USDT', 'ZENT/USDT', 'OMNI/USDT', 'AURORA/USDT', 'ACA/USDT', 'FLIP/USDT', 'OMG/USDT', 'SD/USDT', 'ORDER/USDT', 'A8/USDT', 'PTU/USDT', 'GENE/USDT', 'FTT/USDT']\n"
     ]
    }
   ],
   "source": [
    "# Fetch aviable symbols from Bybit\n",
    "import ccxt\n",
    "\n",
    "exchange = ccxt.bybit()\n",
    "exchange.load_markets()\n",
    "all_symbols = exchange.symbols\n",
    "\n",
    "# Filter to include only DeFi symbols available on the exchange\n",
    "available_defi_symbols = [symbol for symbol in defi_symbols if symbol in all_symbols]\n",
    "print(\"Available DeFi Symbols:\", available_defi_symbols)"
   ]
  },
  {
   "cell_type": "code",
   "execution_count": 4,
   "metadata": {
    "id": "FXpPRMClxzwf"
   },
   "outputs": [
    {
     "data": {
      "text/html": [
       "<div>\n",
       "<style scoped>\n",
       "    .dataframe tbody tr th:only-of-type {\n",
       "        vertical-align: middle;\n",
       "    }\n",
       "\n",
       "    .dataframe tbody tr th {\n",
       "        vertical-align: top;\n",
       "    }\n",
       "\n",
       "    .dataframe thead th {\n",
       "        text-align: right;\n",
       "    }\n",
       "</style>\n",
       "<table border=\"1\" class=\"dataframe\">\n",
       "  <thead>\n",
       "    <tr style=\"text-align: right;\">\n",
       "      <th></th>\n",
       "      <th>timestamp</th>\n",
       "      <th>open</th>\n",
       "      <th>high</th>\n",
       "      <th>low</th>\n",
       "      <th>close</th>\n",
       "      <th>volume</th>\n",
       "      <th>symbol</th>\n",
       "    </tr>\n",
       "  </thead>\n",
       "  <tbody>\n",
       "    <tr>\n",
       "      <th>0</th>\n",
       "      <td>2024-03-10</td>\n",
       "      <td>0.6199</td>\n",
       "      <td>0.6277</td>\n",
       "      <td>0.5966</td>\n",
       "      <td>0.6081</td>\n",
       "      <td>1.214860e+08</td>\n",
       "      <td>XRP/USDT</td>\n",
       "    </tr>\n",
       "    <tr>\n",
       "      <th>1</th>\n",
       "      <td>2024-03-11</td>\n",
       "      <td>0.6081</td>\n",
       "      <td>0.7441</td>\n",
       "      <td>0.5812</td>\n",
       "      <td>0.7228</td>\n",
       "      <td>8.034530e+08</td>\n",
       "      <td>XRP/USDT</td>\n",
       "    </tr>\n",
       "    <tr>\n",
       "      <th>2</th>\n",
       "      <td>2024-03-12</td>\n",
       "      <td>0.7228</td>\n",
       "      <td>0.7329</td>\n",
       "      <td>0.6578</td>\n",
       "      <td>0.6880</td>\n",
       "      <td>4.895242e+08</td>\n",
       "      <td>XRP/USDT</td>\n",
       "    </tr>\n",
       "    <tr>\n",
       "      <th>3</th>\n",
       "      <td>2024-03-13</td>\n",
       "      <td>0.6880</td>\n",
       "      <td>0.7025</td>\n",
       "      <td>0.6684</td>\n",
       "      <td>0.6891</td>\n",
       "      <td>2.394229e+08</td>\n",
       "      <td>XRP/USDT</td>\n",
       "    </tr>\n",
       "    <tr>\n",
       "      <th>4</th>\n",
       "      <td>2024-03-14</td>\n",
       "      <td>0.6891</td>\n",
       "      <td>0.7075</td>\n",
       "      <td>0.6379</td>\n",
       "      <td>0.6691</td>\n",
       "      <td>4.721125e+08</td>\n",
       "      <td>XRP/USDT</td>\n",
       "    </tr>\n",
       "  </tbody>\n",
       "</table>\n",
       "</div>"
      ],
      "text/plain": [
       "   timestamp    open    high     low   close        volume    symbol\n",
       "0 2024-03-10  0.6199  0.6277  0.5966  0.6081  1.214860e+08  XRP/USDT\n",
       "1 2024-03-11  0.6081  0.7441  0.5812  0.7228  8.034530e+08  XRP/USDT\n",
       "2 2024-03-12  0.7228  0.7329  0.6578  0.6880  4.895242e+08  XRP/USDT\n",
       "3 2024-03-13  0.6880  0.7025  0.6684  0.6891  2.394229e+08  XRP/USDT\n",
       "4 2024-03-14  0.6891  0.7075  0.6379  0.6691  4.721125e+08  XRP/USDT"
      ]
     },
     "execution_count": 4,
     "metadata": {},
     "output_type": "execute_result"
    }
   ],
   "source": [
    "# Fetch ohlcv from Bybit\n",
    "import numpy as np\n",
    "import pandas as pd\n",
    "import datetime as dt\n",
    "import pytz\n",
    "import plotly.express as px\n",
    "import plotly.graph_objects as go\n",
    "\n",
    "symbols = available_defi_symbols\n",
    "timeframe = '1d'\n",
    "limit = 252\n",
    "\n",
    "# Create an empty list to store DataFrames for each symbol\n",
    "data_frames = []\n",
    "\n",
    "for symbol in symbols:\n",
    "    try:\n",
    "        ohlcv_data = exchange.fetch_ohlcv(symbol, timeframe, limit=limit)\n",
    "        df = pd.DataFrame(ohlcv_data, columns=['timestamp', 'open', 'high', 'low', 'close', 'volume'])\n",
    "        df['symbol'] = symbol\n",
    "\n",
    "        # Convert timestamp to datetime format for readability\n",
    "        df['timestamp'] = pd.to_datetime(df['timestamp'], unit='ms')\n",
    "\n",
    "        data_frames.append(df)\n",
    "    except Exception as e:\n",
    "        print(f\"Could not fetch data for {symbol}: {e}\")\n",
    "\n",
    "# Concatenate all DataFrames into a single DataFrame\n",
    "all_data = pd.concat(data_frames, ignore_index=True)\n",
    "all_data.head()"
   ]
  },
  {
   "cell_type": "code",
   "execution_count": 5,
   "metadata": {},
   "outputs": [
    {
     "name": "stdout",
     "output_type": "stream",
     "text": [
      "2024-03-10 00:00:00 2024-11-16 00:00:00\n"
     ]
    }
   ],
   "source": [
    "# Check min max date\n",
    "print(all_data['timestamp'].min(), all_data['timestamp'].max())"
   ]
  },
  {
   "cell_type": "code",
   "execution_count": 6,
   "metadata": {},
   "outputs": [
    {
     "name": "stdout",
     "output_type": "stream",
     "text": [
      "Filtered data range: 2024-03-10 00:00:00 - 2024-11-16 00:00:00\n",
      "Duplicate entries:\n",
      "<class 'pandas.core.frame.DataFrame'>\n",
      "Index: 0 entries\n",
      "Data columns (total 7 columns):\n",
      " #   Column     Non-Null Count  Dtype         \n",
      "---  ------     --------------  -----         \n",
      " 0   timestamp  0 non-null      datetime64[ns]\n",
      " 1   open       0 non-null      float64       \n",
      " 2   high       0 non-null      float64       \n",
      " 3   low        0 non-null      float64       \n",
      " 4   close      0 non-null      float64       \n",
      " 5   volume     0 non-null      float64       \n",
      " 6   symbol     0 non-null      object        \n",
      "dtypes: datetime64[ns](1), float64(5), object(1)\n",
      "memory usage: 0.0+ bytes\n"
     ]
    }
   ],
   "source": [
    "# Filter dublicates and unnecesary timestamps\n",
    "# Ensure that 'timestamp' is in datetime format\n",
    "all_data['timestamp'] = pd.to_datetime(all_data['timestamp'])\n",
    "\n",
    "# Find the latest date in the data\n",
    "latest_date = all_data['timestamp'].max()\n",
    "\n",
    "# Calculate the cutoff date for 252 days before the latest date\n",
    "cutoff_date = latest_date - pd.Timedelta(days=252)\n",
    "\n",
    "# Filter the data to include only rows within the last 252 days\n",
    "filtered_data = all_data[all_data['timestamp'] >= cutoff_date]\n",
    "\n",
    "# Check the new date range to confirm\n",
    "print(\"Filtered data range:\", filtered_data['timestamp'].min(), \"-\", filtered_data['timestamp'].max())\n",
    "\n",
    "# Identify duplicate entries based on 'timestamp' and 'symbol'\n",
    "duplicates = filtered_data[filtered_data.duplicated(subset=['timestamp', 'symbol'], keep=False)]\n",
    "print(\"Duplicate entries:\")\n",
    "duplicates.info()\n",
    "\n",
    "# Remove duplicate entries, keeping only the first occurrence\n",
    "filtered_data = filtered_data.drop_duplicates(subset=['timestamp', 'symbol'], keep='first')\n"
   ]
  },
  {
   "cell_type": "code",
   "execution_count": 7,
   "metadata": {},
   "outputs": [
    {
     "data": {
      "text/html": [
       "<div>\n",
       "<style scoped>\n",
       "    .dataframe tbody tr th:only-of-type {\n",
       "        vertical-align: middle;\n",
       "    }\n",
       "\n",
       "    .dataframe tbody tr th {\n",
       "        vertical-align: top;\n",
       "    }\n",
       "\n",
       "    .dataframe thead th {\n",
       "        text-align: right;\n",
       "    }\n",
       "</style>\n",
       "<table border=\"1\" class=\"dataframe\">\n",
       "  <thead>\n",
       "    <tr style=\"text-align: right;\">\n",
       "      <th></th>\n",
       "      <th>timestamp</th>\n",
       "      <th>close</th>\n",
       "      <th>symbol</th>\n",
       "    </tr>\n",
       "  </thead>\n",
       "  <tbody>\n",
       "    <tr>\n",
       "      <th>0</th>\n",
       "      <td>2024-03-10</td>\n",
       "      <td>0.6081</td>\n",
       "      <td>XRP/USDT</td>\n",
       "    </tr>\n",
       "    <tr>\n",
       "      <th>1</th>\n",
       "      <td>2024-03-11</td>\n",
       "      <td>0.7228</td>\n",
       "      <td>XRP/USDT</td>\n",
       "    </tr>\n",
       "    <tr>\n",
       "      <th>2</th>\n",
       "      <td>2024-03-12</td>\n",
       "      <td>0.6880</td>\n",
       "      <td>XRP/USDT</td>\n",
       "    </tr>\n",
       "    <tr>\n",
       "      <th>3</th>\n",
       "      <td>2024-03-13</td>\n",
       "      <td>0.6891</td>\n",
       "      <td>XRP/USDT</td>\n",
       "    </tr>\n",
       "    <tr>\n",
       "      <th>4</th>\n",
       "      <td>2024-03-14</td>\n",
       "      <td>0.6691</td>\n",
       "      <td>XRP/USDT</td>\n",
       "    </tr>\n",
       "  </tbody>\n",
       "</table>\n",
       "</div>"
      ],
      "text/plain": [
       "   timestamp   close    symbol\n",
       "0 2024-03-10  0.6081  XRP/USDT\n",
       "1 2024-03-11  0.7228  XRP/USDT\n",
       "2 2024-03-12  0.6880  XRP/USDT\n",
       "3 2024-03-13  0.6891  XRP/USDT\n",
       "4 2024-03-14  0.6691  XRP/USDT"
      ]
     },
     "execution_count": 7,
     "metadata": {},
     "output_type": "execute_result"
    }
   ],
   "source": [
    "# get closed price data\n",
    "df = filtered_data[['timestamp', 'close', 'symbol']]\n",
    "df.head()"
   ]
  },
  {
   "cell_type": "code",
   "execution_count": 8,
   "metadata": {},
   "outputs": [
    {
     "name": "stdout",
     "output_type": "stream",
     "text": [
      "symbol      1INCH/USDT  A8/USDT  ACA/USDT  AEVO/USDT  ANKR/USDT  ARB/USDT  \\\n",
      "timestamp                                                                   \n",
      "2024-03-10      0.6425      NaN    0.1321        NaN    0.05013     2.068   \n",
      "2024-03-11      0.6616      NaN    0.1449        NaN    0.05231     2.083   \n",
      "2024-03-12      0.6582      NaN    0.1883        NaN    0.05824     2.017   \n",
      "2024-03-13      0.6837      NaN    0.1991      3.324    0.05836     2.116   \n",
      "2024-03-14      0.6567      NaN    0.1822      3.037    0.05654     2.016   \n",
      "\n",
      "symbol      ATOM/USDT  AURORA/USDT  BAT/USDT  DOT/USDT  ...  PTU/USDT  \\\n",
      "timestamp                                               ...             \n",
      "2024-03-10    13.1767          NaN    0.3562    10.266  ...    0.4463   \n",
      "2024-03-11    13.7027          NaN    0.3720    11.039  ...    0.4466   \n",
      "2024-03-12    13.4098          NaN    0.3717    10.736  ...    0.4191   \n",
      "2024-03-13    14.1133          NaN    0.3754    11.372  ...    0.4185   \n",
      "2024-03-14    13.6783          NaN    0.3623    11.558  ...    0.3879   \n",
      "\n",
      "symbol      ROSE/USDT  SD/USDT  STRK/USDT  SUSHI/USDT  TON/USDT  WAXP/USDT  \\\n",
      "timestamp                                                                    \n",
      "2024-03-10    0.17641   1.0908      2.427       2.007    2.8184    0.09356   \n",
      "2024-03-11    0.17964   1.1285      2.591       2.077    3.2881    0.09638   \n",
      "2024-03-12    0.17695   1.1290      2.481       2.059    4.0601    0.09758   \n",
      "2024-03-13    0.17096   1.1700      2.631       2.067    4.3115    0.09885   \n",
      "2024-03-14    0.16766   1.1181      2.390       2.035    4.0332    0.09557   \n",
      "\n",
      "symbol      XRP/USDT  ZENT/USDT  ZRX/USDT  \n",
      "timestamp                                  \n",
      "2024-03-10    0.6081        NaN    0.7995  \n",
      "2024-03-11    0.7228        NaN    0.8263  \n",
      "2024-03-12    0.6880        NaN    0.9428  \n",
      "2024-03-13    0.6891        NaN    1.0967  \n",
      "2024-03-14    0.6691        NaN    1.3388  \n",
      "\n",
      "[5 rows x 36 columns]\n",
      "symbol      1INCH/USDT  A8/USDT  ACA/USDT  AEVO/USDT  ANKR/USDT  ARB/USDT  \\\n",
      "timestamp                                                                   \n",
      "2024-11-12      0.3042   0.0832    0.0632     0.3711    0.03218     0.630   \n",
      "2024-11-13      0.2895   0.0852    0.0601     0.3491    0.02966     0.612   \n",
      "2024-11-14      0.2743   0.0767    0.0572     0.3312    0.02849     0.580   \n",
      "2024-11-15      0.2879   0.0779    0.0585     0.3436    0.03090     0.607   \n",
      "2024-11-16      0.3085   0.0787    0.0622     0.3670    0.03211     0.651   \n",
      "\n",
      "symbol      ATOM/USDT  AURORA/USDT  BAT/USDT  DOT/USDT  ...  PTU/USDT  \\\n",
      "timestamp                                               ...             \n",
      "2024-11-12     5.3100       0.1387    0.1962     5.310  ...    0.2014   \n",
      "2024-11-13     5.1214       0.1330    0.1866     5.073  ...    0.1931   \n",
      "2024-11-14     4.9537       0.1320    0.1816     4.775  ...    0.1920   \n",
      "2024-11-15     5.2617       0.1267    0.1922     5.161  ...    0.1938   \n",
      "2024-11-16     5.5600       0.1377    0.2058     5.411  ...    0.1924   \n",
      "\n",
      "symbol      ROSE/USDT  SD/USDT  STRK/USDT  SUSHI/USDT  TON/USDT  WAXP/USDT  \\\n",
      "timestamp                                                                    \n",
      "2024-11-12    0.08172   0.8858     0.5038       0.790     5.467    0.04022   \n",
      "2024-11-13    0.07896   0.8128     0.4700       0.760     5.257    0.03761   \n",
      "2024-11-14    0.07561   0.7126     0.4337       0.714     5.235    0.03490   \n",
      "2024-11-15    0.07818   0.7071     0.4470       0.755     5.380    0.03773   \n",
      "2024-11-16    0.08365   0.7056     0.4628       0.790     5.581    0.04016   \n",
      "\n",
      "symbol      XRP/USDT  ZENT/USDT  ZRX/USDT  \n",
      "timestamp                                  \n",
      "2024-11-12    0.7041    0.02174    0.3802  \n",
      "2024-11-13    0.6899    0.02011    0.3601  \n",
      "2024-11-14    0.7735    0.01983    0.3427  \n",
      "2024-11-15    0.8919    0.02059    0.3590  \n",
      "2024-11-16    1.0799    0.02153    0.3802  \n",
      "\n",
      "[5 rows x 36 columns]\n"
     ]
    }
   ],
   "source": [
    "# pivot by timestamp and symbol\n",
    "df_pivoted = df.pivot(index='timestamp', columns='symbol', values='close')\n",
    "\n",
    "print(df_pivoted.head())\n",
    "print(df_pivoted.tail())"
   ]
  },
  {
   "cell_type": "code",
   "execution_count": 9,
   "metadata": {},
   "outputs": [
    {
     "data": {
      "text/html": [
       "<div>\n",
       "<style scoped>\n",
       "    .dataframe tbody tr th:only-of-type {\n",
       "        vertical-align: middle;\n",
       "    }\n",
       "\n",
       "    .dataframe tbody tr th {\n",
       "        vertical-align: top;\n",
       "    }\n",
       "\n",
       "    .dataframe thead th {\n",
       "        text-align: right;\n",
       "    }\n",
       "</style>\n",
       "<table border=\"1\" class=\"dataframe\">\n",
       "  <thead>\n",
       "    <tr style=\"text-align: right;\">\n",
       "      <th>symbol</th>\n",
       "      <th>1INCH/USDT</th>\n",
       "      <th>A8/USDT</th>\n",
       "      <th>ACA/USDT</th>\n",
       "      <th>AEVO/USDT</th>\n",
       "      <th>ANKR/USDT</th>\n",
       "      <th>ARB/USDT</th>\n",
       "      <th>ATOM/USDT</th>\n",
       "      <th>AURORA/USDT</th>\n",
       "      <th>BAT/USDT</th>\n",
       "      <th>DOT/USDT</th>\n",
       "      <th>...</th>\n",
       "      <th>PTU/USDT</th>\n",
       "      <th>ROSE/USDT</th>\n",
       "      <th>SD/USDT</th>\n",
       "      <th>STRK/USDT</th>\n",
       "      <th>SUSHI/USDT</th>\n",
       "      <th>TON/USDT</th>\n",
       "      <th>WAXP/USDT</th>\n",
       "      <th>XRP/USDT</th>\n",
       "      <th>ZENT/USDT</th>\n",
       "      <th>ZRX/USDT</th>\n",
       "    </tr>\n",
       "    <tr>\n",
       "      <th>timestamp</th>\n",
       "      <th></th>\n",
       "      <th></th>\n",
       "      <th></th>\n",
       "      <th></th>\n",
       "      <th></th>\n",
       "      <th></th>\n",
       "      <th></th>\n",
       "      <th></th>\n",
       "      <th></th>\n",
       "      <th></th>\n",
       "      <th></th>\n",
       "      <th></th>\n",
       "      <th></th>\n",
       "      <th></th>\n",
       "      <th></th>\n",
       "      <th></th>\n",
       "      <th></th>\n",
       "      <th></th>\n",
       "      <th></th>\n",
       "      <th></th>\n",
       "      <th></th>\n",
       "    </tr>\n",
       "  </thead>\n",
       "  <tbody>\n",
       "    <tr>\n",
       "      <th>2024-05-31 00:00:00+00:00</th>\n",
       "      <td>0.225856</td>\n",
       "      <td>0.000000</td>\n",
       "      <td>-0.035581</td>\n",
       "      <td>-0.358183</td>\n",
       "      <td>-0.085811</td>\n",
       "      <td>0.093842</td>\n",
       "      <td>-0.017103</td>\n",
       "      <td>0.000000</td>\n",
       "      <td>0.023520</td>\n",
       "      <td>0.086328</td>\n",
       "      <td>...</td>\n",
       "      <td>-0.150925</td>\n",
       "      <td>0.134799</td>\n",
       "      <td>0.109397</td>\n",
       "      <td>-0.039967</td>\n",
       "      <td>0.219307</td>\n",
       "      <td>0.227224</td>\n",
       "      <td>0.030813</td>\n",
       "      <td>0.033546</td>\n",
       "      <td>0.083517</td>\n",
       "      <td>0.123163</td>\n",
       "    </tr>\n",
       "    <tr>\n",
       "      <th>2024-06-30 00:00:00+00:00</th>\n",
       "      <td>-0.173077</td>\n",
       "      <td>0.000000</td>\n",
       "      <td>-0.319417</td>\n",
       "      <td>-0.416333</td>\n",
       "      <td>-0.276487</td>\n",
       "      <td>-0.282395</td>\n",
       "      <td>-0.188762</td>\n",
       "      <td>-0.324313</td>\n",
       "      <td>-0.190398</td>\n",
       "      <td>-0.110395</td>\n",
       "      <td>...</td>\n",
       "      <td>-0.201089</td>\n",
       "      <td>-0.025734</td>\n",
       "      <td>-0.183960</td>\n",
       "      <td>-0.413764</td>\n",
       "      <td>-0.278830</td>\n",
       "      <td>0.209809</td>\n",
       "      <td>-0.379199</td>\n",
       "      <td>-0.080178</td>\n",
       "      <td>-0.397609</td>\n",
       "      <td>-0.291458</td>\n",
       "    </tr>\n",
       "    <tr>\n",
       "      <th>2024-07-31 00:00:00+00:00</th>\n",
       "      <td>-0.148537</td>\n",
       "      <td>-0.421999</td>\n",
       "      <td>-0.074180</td>\n",
       "      <td>-0.145254</td>\n",
       "      <td>-0.074823</td>\n",
       "      <td>-0.181818</td>\n",
       "      <td>-0.137442</td>\n",
       "      <td>-0.054837</td>\n",
       "      <td>-0.020274</td>\n",
       "      <td>-0.132786</td>\n",
       "      <td>...</td>\n",
       "      <td>0.044304</td>\n",
       "      <td>-0.185096</td>\n",
       "      <td>-0.189620</td>\n",
       "      <td>-0.327536</td>\n",
       "      <td>-0.202864</td>\n",
       "      <td>-0.118807</td>\n",
       "      <td>-0.016133</td>\n",
       "      <td>0.308339</td>\n",
       "      <td>-0.112331</td>\n",
       "      <td>-0.005973</td>\n",
       "    </tr>\n",
       "    <tr>\n",
       "      <th>2024-08-31 00:00:00+00:00</th>\n",
       "      <td>-0.297504</td>\n",
       "      <td>-0.336469</td>\n",
       "      <td>-0.107858</td>\n",
       "      <td>-0.277208</td>\n",
       "      <td>-0.174592</td>\n",
       "      <td>-0.217656</td>\n",
       "      <td>-0.214241</td>\n",
       "      <td>-0.248370</td>\n",
       "      <td>-0.156234</td>\n",
       "      <td>-0.209540</td>\n",
       "      <td>...</td>\n",
       "      <td>-0.069464</td>\n",
       "      <td>-0.311930</td>\n",
       "      <td>0.015379</td>\n",
       "      <td>-0.232759</td>\n",
       "      <td>-0.164671</td>\n",
       "      <td>-0.197205</td>\n",
       "      <td>-0.249243</td>\n",
       "      <td>-0.091026</td>\n",
       "      <td>-0.163178</td>\n",
       "      <td>-0.207594</td>\n",
       "    </tr>\n",
       "    <tr>\n",
       "      <th>2024-09-30 00:00:00+00:00</th>\n",
       "      <td>0.163043</td>\n",
       "      <td>0.008724</td>\n",
       "      <td>0.119171</td>\n",
       "      <td>0.210120</td>\n",
       "      <td>0.198066</td>\n",
       "      <td>0.177043</td>\n",
       "      <td>0.035854</td>\n",
       "      <td>0.181266</td>\n",
       "      <td>0.096873</td>\n",
       "      <td>0.041324</td>\n",
       "      <td>...</td>\n",
       "      <td>-0.016533</td>\n",
       "      <td>0.379008</td>\n",
       "      <td>-0.143405</td>\n",
       "      <td>0.233146</td>\n",
       "      <td>0.437276</td>\n",
       "      <td>0.053117</td>\n",
       "      <td>0.163306</td>\n",
       "      <td>0.079830</td>\n",
       "      <td>0.241615</td>\n",
       "      <td>0.153051</td>\n",
       "    </tr>\n",
       "    <tr>\n",
       "      <th>2024-10-31 00:00:00+00:00</th>\n",
       "      <td>-0.115025</td>\n",
       "      <td>-0.243243</td>\n",
       "      <td>-0.137346</td>\n",
       "      <td>-0.185365</td>\n",
       "      <td>-0.142506</td>\n",
       "      <td>-0.128926</td>\n",
       "      <td>-0.103417</td>\n",
       "      <td>-0.119677</td>\n",
       "      <td>-0.103410</td>\n",
       "      <td>-0.107103</td>\n",
       "      <td>...</td>\n",
       "      <td>-0.011717</td>\n",
       "      <td>-0.156254</td>\n",
       "      <td>-0.286929</td>\n",
       "      <td>-0.154897</td>\n",
       "      <td>-0.147132</td>\n",
       "      <td>-0.151138</td>\n",
       "      <td>-0.108608</td>\n",
       "      <td>-0.166503</td>\n",
       "      <td>-0.252747</td>\n",
       "      <td>-0.050523</td>\n",
       "    </tr>\n",
       "    <tr>\n",
       "      <th>2024-11-30 00:00:00+00:00</th>\n",
       "      <td>0.253046</td>\n",
       "      <td>0.124286</td>\n",
       "      <td>0.112701</td>\n",
       "      <td>0.148670</td>\n",
       "      <td>0.314368</td>\n",
       "      <td>0.235294</td>\n",
       "      <td>0.312032</td>\n",
       "      <td>0.148457</td>\n",
       "      <td>0.283042</td>\n",
       "      <td>0.366414</td>\n",
       "      <td>...</td>\n",
       "      <td>-0.008247</td>\n",
       "      <td>0.287716</td>\n",
       "      <td>1.214689</td>\n",
       "      <td>0.247439</td>\n",
       "      <td>0.154971</td>\n",
       "      <td>0.151434</td>\n",
       "      <td>0.301361</td>\n",
       "      <td>1.119113</td>\n",
       "      <td>0.319240</td>\n",
       "      <td>0.197103</td>\n",
       "    </tr>\n",
       "  </tbody>\n",
       "</table>\n",
       "<p>7 rows × 36 columns</p>\n",
       "</div>"
      ],
      "text/plain": [
       "symbol                     1INCH/USDT   A8/USDT  ACA/USDT  AEVO/USDT  \\\n",
       "timestamp                                                              \n",
       "2024-05-31 00:00:00+00:00    0.225856  0.000000 -0.035581  -0.358183   \n",
       "2024-06-30 00:00:00+00:00   -0.173077  0.000000 -0.319417  -0.416333   \n",
       "2024-07-31 00:00:00+00:00   -0.148537 -0.421999 -0.074180  -0.145254   \n",
       "2024-08-31 00:00:00+00:00   -0.297504 -0.336469 -0.107858  -0.277208   \n",
       "2024-09-30 00:00:00+00:00    0.163043  0.008724  0.119171   0.210120   \n",
       "2024-10-31 00:00:00+00:00   -0.115025 -0.243243 -0.137346  -0.185365   \n",
       "2024-11-30 00:00:00+00:00    0.253046  0.124286  0.112701   0.148670   \n",
       "\n",
       "symbol                     ANKR/USDT  ARB/USDT  ATOM/USDT  AURORA/USDT  \\\n",
       "timestamp                                                                \n",
       "2024-05-31 00:00:00+00:00  -0.085811  0.093842  -0.017103     0.000000   \n",
       "2024-06-30 00:00:00+00:00  -0.276487 -0.282395  -0.188762    -0.324313   \n",
       "2024-07-31 00:00:00+00:00  -0.074823 -0.181818  -0.137442    -0.054837   \n",
       "2024-08-31 00:00:00+00:00  -0.174592 -0.217656  -0.214241    -0.248370   \n",
       "2024-09-30 00:00:00+00:00   0.198066  0.177043   0.035854     0.181266   \n",
       "2024-10-31 00:00:00+00:00  -0.142506 -0.128926  -0.103417    -0.119677   \n",
       "2024-11-30 00:00:00+00:00   0.314368  0.235294   0.312032     0.148457   \n",
       "\n",
       "symbol                     BAT/USDT  DOT/USDT  ...  PTU/USDT  ROSE/USDT  \\\n",
       "timestamp                                      ...                        \n",
       "2024-05-31 00:00:00+00:00  0.023520  0.086328  ... -0.150925   0.134799   \n",
       "2024-06-30 00:00:00+00:00 -0.190398 -0.110395  ... -0.201089  -0.025734   \n",
       "2024-07-31 00:00:00+00:00 -0.020274 -0.132786  ...  0.044304  -0.185096   \n",
       "2024-08-31 00:00:00+00:00 -0.156234 -0.209540  ... -0.069464  -0.311930   \n",
       "2024-09-30 00:00:00+00:00  0.096873  0.041324  ... -0.016533   0.379008   \n",
       "2024-10-31 00:00:00+00:00 -0.103410 -0.107103  ... -0.011717  -0.156254   \n",
       "2024-11-30 00:00:00+00:00  0.283042  0.366414  ... -0.008247   0.287716   \n",
       "\n",
       "symbol                      SD/USDT  STRK/USDT  SUSHI/USDT  TON/USDT  \\\n",
       "timestamp                                                              \n",
       "2024-05-31 00:00:00+00:00  0.109397  -0.039967    0.219307  0.227224   \n",
       "2024-06-30 00:00:00+00:00 -0.183960  -0.413764   -0.278830  0.209809   \n",
       "2024-07-31 00:00:00+00:00 -0.189620  -0.327536   -0.202864 -0.118807   \n",
       "2024-08-31 00:00:00+00:00  0.015379  -0.232759   -0.164671 -0.197205   \n",
       "2024-09-30 00:00:00+00:00 -0.143405   0.233146    0.437276  0.053117   \n",
       "2024-10-31 00:00:00+00:00 -0.286929  -0.154897   -0.147132 -0.151138   \n",
       "2024-11-30 00:00:00+00:00  1.214689   0.247439    0.154971  0.151434   \n",
       "\n",
       "symbol                     WAXP/USDT  XRP/USDT  ZENT/USDT  ZRX/USDT  \n",
       "timestamp                                                            \n",
       "2024-05-31 00:00:00+00:00   0.030813  0.033546   0.083517  0.123163  \n",
       "2024-06-30 00:00:00+00:00  -0.379199 -0.080178  -0.397609 -0.291458  \n",
       "2024-07-31 00:00:00+00:00  -0.016133  0.308339  -0.112331 -0.005973  \n",
       "2024-08-31 00:00:00+00:00  -0.249243 -0.091026  -0.163178 -0.207594  \n",
       "2024-09-30 00:00:00+00:00   0.163306  0.079830   0.241615  0.153051  \n",
       "2024-10-31 00:00:00+00:00  -0.108608 -0.166503  -0.252747 -0.050523  \n",
       "2024-11-30 00:00:00+00:00   0.301361  1.119113   0.319240  0.197103  \n",
       "\n",
       "[7 rows x 36 columns]"
      ]
     },
     "execution_count": 9,
     "metadata": {},
     "output_type": "execute_result"
    }
   ],
   "source": [
    "# Calculate monthly returns\n",
    "returns_df = df_pivoted.pct_change().resample(\"ME\").agg(lambda x: (x+1).prod()-1)\n",
    "# Convert the index of past_cum_return_df to timezone-aware UTC\n",
    "returns_df.index = returns_df.index.tz_localize('UTC')\n",
    "returns_df.tail(7)"
   ]
  },
  {
   "cell_type": "code",
   "execution_count": 10,
   "metadata": {},
   "outputs": [
    {
     "data": {
      "application/vnd.plotly.v1+json": {
       "config": {
        "plotlyServerURL": "https://plot.ly"
       },
       "data": [
        {
         "hovertemplate": "symbol=1INCH/USDT<br>timestamp=%{x}<br>value=%{y}<extra></extra>",
         "legendgroup": "1INCH/USDT",
         "line": {
          "color": "#636efa",
          "dash": "solid"
         },
         "marker": {
          "symbol": "circle"
         },
         "mode": "lines",
         "name": "1INCH/USDT",
         "orientation": "v",
         "showlegend": true,
         "type": "scatter",
         "x": [
          "2024-03-31T00:00:00+00:00",
          "2024-04-30T00:00:00+00:00",
          "2024-05-31T00:00:00+00:00",
          "2024-06-30T00:00:00+00:00",
          "2024-07-31T00:00:00+00:00",
          "2024-08-31T00:00:00+00:00",
          "2024-09-30T00:00:00+00:00",
          "2024-10-31T00:00:00+00:00",
          "2024-11-30T00:00:00+00:00"
         ],
         "xaxis": "x",
         "y": [
          -0.038754863813229345,
          -0.3612370466321243,
          0.2258555133079836,
          -0.1730769230769229,
          -0.1485371342835713,
          -0.2975036710719531,
          0.1630434782608703,
          -0.11502516175413435,
          0.25304630381803417
         ],
         "yaxis": "y"
        },
        {
         "hovertemplate": "symbol=A8/USDT<br>timestamp=%{x}<br>value=%{y}<extra></extra>",
         "legendgroup": "A8/USDT",
         "line": {
          "color": "#EF553B",
          "dash": "solid"
         },
         "marker": {
          "symbol": "circle"
         },
         "mode": "lines",
         "name": "A8/USDT",
         "orientation": "v",
         "showlegend": true,
         "type": "scatter",
         "x": [
          "2024-03-31T00:00:00+00:00",
          "2024-04-30T00:00:00+00:00",
          "2024-05-31T00:00:00+00:00",
          "2024-06-30T00:00:00+00:00",
          "2024-07-31T00:00:00+00:00",
          "2024-08-31T00:00:00+00:00",
          "2024-09-30T00:00:00+00:00",
          "2024-10-31T00:00:00+00:00",
          "2024-11-30T00:00:00+00:00"
         ],
         "xaxis": "x",
         "y": [
          0,
          0,
          0,
          0,
          -0.42199916352990363,
          -0.3364688856729374,
          0.008724100327153872,
          -0.2432432432432433,
          0.12428571428571411
         ],
         "yaxis": "y"
        },
        {
         "hovertemplate": "symbol=ACA/USDT<br>timestamp=%{x}<br>value=%{y}<extra></extra>",
         "legendgroup": "ACA/USDT",
         "line": {
          "color": "#00cc96",
          "dash": "solid"
         },
         "marker": {
          "symbol": "circle"
         },
         "mode": "lines",
         "name": "ACA/USDT",
         "orientation": "v",
         "showlegend": true,
         "type": "scatter",
         "x": [
          "2024-03-31T00:00:00+00:00",
          "2024-04-30T00:00:00+00:00",
          "2024-05-31T00:00:00+00:00",
          "2024-06-30T00:00:00+00:00",
          "2024-07-31T00:00:00+00:00",
          "2024-08-31T00:00:00+00:00",
          "2024-09-30T00:00:00+00:00",
          "2024-10-31T00:00:00+00:00",
          "2024-11-30T00:00:00+00:00"
         ],
         "xaxis": "x",
         "y": [
          0.3845571536714609,
          -0.41607435757244404,
          -0.0355805243445696,
          -0.3194174757281554,
          -0.07417974322396592,
          -0.10785824345146355,
          0.11917098445595786,
          -0.13734567901234573,
          0.11270125223613614
         ],
         "yaxis": "y"
        },
        {
         "hovertemplate": "symbol=AEVO/USDT<br>timestamp=%{x}<br>value=%{y}<extra></extra>",
         "legendgroup": "AEVO/USDT",
         "line": {
          "color": "#ab63fa",
          "dash": "solid"
         },
         "marker": {
          "symbol": "circle"
         },
         "mode": "lines",
         "name": "AEVO/USDT",
         "orientation": "v",
         "showlegend": true,
         "type": "scatter",
         "x": [
          "2024-03-31T00:00:00+00:00",
          "2024-04-30T00:00:00+00:00",
          "2024-05-31T00:00:00+00:00",
          "2024-06-30T00:00:00+00:00",
          "2024-07-31T00:00:00+00:00",
          "2024-08-31T00:00:00+00:00",
          "2024-09-30T00:00:00+00:00",
          "2024-10-31T00:00:00+00:00",
          "2024-11-30T00:00:00+00:00"
         ],
         "xaxis": "x",
         "y": [
          -0.10574608904933824,
          -0.5288814129520604,
          -0.3581833761782347,
          -0.41633288829550497,
          -0.14525352649637846,
          -0.27720785013380933,
          0.21012033323048485,
          -0.1853646098929117,
          0.14866979655712043
         ],
         "yaxis": "y"
        },
        {
         "hovertemplate": "symbol=ANKR/USDT<br>timestamp=%{x}<br>value=%{y}<extra></extra>",
         "legendgroup": "ANKR/USDT",
         "line": {
          "color": "#FFA15A",
          "dash": "solid"
         },
         "marker": {
          "symbol": "circle"
         },
         "mode": "lines",
         "name": "ANKR/USDT",
         "orientation": "v",
         "showlegend": true,
         "type": "scatter",
         "x": [
          "2024-03-31T00:00:00+00:00",
          "2024-04-30T00:00:00+00:00",
          "2024-05-31T00:00:00+00:00",
          "2024-06-30T00:00:00+00:00",
          "2024-07-31T00:00:00+00:00",
          "2024-08-31T00:00:00+00:00",
          "2024-09-30T00:00:00+00:00",
          "2024-10-31T00:00:00+00:00",
          "2024-11-30T00:00:00+00:00"
         ],
         "xaxis": "x",
         "y": [
          0.19070416916018362,
          -0.21125816719718582,
          -0.08581138487680495,
          -0.2764869888475836,
          -0.07482337829158647,
          -0.17459215550156193,
          0.19806560134566875,
          -0.14250614250614257,
          0.31436758084322536
         ],
         "yaxis": "y"
        },
        {
         "hovertemplate": "symbol=ARB/USDT<br>timestamp=%{x}<br>value=%{y}<extra></extra>",
         "legendgroup": "ARB/USDT",
         "line": {
          "color": "#19d3f3",
          "dash": "solid"
         },
         "marker": {
          "symbol": "circle"
         },
         "mode": "lines",
         "name": "ARB/USDT",
         "orientation": "v",
         "showlegend": true,
         "type": "scatter",
         "x": [
          "2024-03-31T00:00:00+00:00",
          "2024-04-30T00:00:00+00:00",
          "2024-05-31T00:00:00+00:00",
          "2024-06-30T00:00:00+00:00",
          "2024-07-31T00:00:00+00:00",
          "2024-08-31T00:00:00+00:00",
          "2024-09-30T00:00:00+00:00",
          "2024-10-31T00:00:00+00:00",
          "2024-11-30T00:00:00+00:00"
         ],
         "xaxis": "x",
         "y": [
          -0.19632495164410035,
          -0.3844765342960289,
          0.09384164222873936,
          -0.282394995531724,
          -0.18181818181818188,
          -0.21765601217656005,
          0.17704280155642005,
          -0.12892561983471085,
          0.23529411764705932
         ],
         "yaxis": "y"
        },
        {
         "hovertemplate": "symbol=ATOM/USDT<br>timestamp=%{x}<br>value=%{y}<extra></extra>",
         "legendgroup": "ATOM/USDT",
         "line": {
          "color": "#FF6692",
          "dash": "solid"
         },
         "marker": {
          "symbol": "circle"
         },
         "mode": "lines",
         "name": "ATOM/USDT",
         "orientation": "v",
         "showlegend": true,
         "type": "scatter",
         "x": [
          "2024-03-31T00:00:00+00:00",
          "2024-04-30T00:00:00+00:00",
          "2024-05-31T00:00:00+00:00",
          "2024-06-30T00:00:00+00:00",
          "2024-07-31T00:00:00+00:00",
          "2024-08-31T00:00:00+00:00",
          "2024-09-30T00:00:00+00:00",
          "2024-10-31T00:00:00+00:00",
          "2024-11-30T00:00:00+00:00"
         ],
         "xaxis": "x",
         "y": [
          -0.06725507904103423,
          -0.31303038932508875,
          -0.017102520371422902,
          -0.1887622306839537,
          -0.13744188464566331,
          -0.2142414327535732,
          0.03585439084792519,
          -0.10341690468634268,
          0.31203247044387283
         ],
         "yaxis": "y"
        },
        {
         "hovertemplate": "symbol=AURORA/USDT<br>timestamp=%{x}<br>value=%{y}<extra></extra>",
         "legendgroup": "AURORA/USDT",
         "line": {
          "color": "#B6E880",
          "dash": "solid"
         },
         "marker": {
          "symbol": "circle"
         },
         "mode": "lines",
         "name": "AURORA/USDT",
         "orientation": "v",
         "showlegend": true,
         "type": "scatter",
         "x": [
          "2024-03-31T00:00:00+00:00",
          "2024-04-30T00:00:00+00:00",
          "2024-05-31T00:00:00+00:00",
          "2024-06-30T00:00:00+00:00",
          "2024-07-31T00:00:00+00:00",
          "2024-08-31T00:00:00+00:00",
          "2024-09-30T00:00:00+00:00",
          "2024-10-31T00:00:00+00:00",
          "2024-11-30T00:00:00+00:00"
         ],
         "xaxis": "x",
         "y": [
          0,
          0,
          0,
          -0.3243130724396336,
          -0.05483672211953161,
          -0.24837027379400312,
          0.18126626192541218,
          -0.11967694566813547,
          0.14845704753961675
         ],
         "yaxis": "y"
        },
        {
         "hovertemplate": "symbol=BAT/USDT<br>timestamp=%{x}<br>value=%{y}<extra></extra>",
         "legendgroup": "BAT/USDT",
         "line": {
          "color": "#FF97FF",
          "dash": "solid"
         },
         "marker": {
          "symbol": "circle"
         },
         "mode": "lines",
         "name": "BAT/USDT",
         "orientation": "v",
         "showlegend": true,
         "type": "scatter",
         "x": [
          "2024-03-31T00:00:00+00:00",
          "2024-04-30T00:00:00+00:00",
          "2024-05-31T00:00:00+00:00",
          "2024-06-30T00:00:00+00:00",
          "2024-07-31T00:00:00+00:00",
          "2024-08-31T00:00:00+00:00",
          "2024-09-30T00:00:00+00:00",
          "2024-10-31T00:00:00+00:00",
          "2024-11-30T00:00:00+00:00"
         ],
         "xaxis": "x",
         "y": [
          -0.05558674901740612,
          -0.2922116527942926,
          0.023519529609407064,
          -0.19039803036520309,
          -0.020273694880892035,
          -0.15623383341955543,
          0.09687308399754735,
          -0.1034097261039687,
          0.28304239401496245
         ],
         "yaxis": "y"
        },
        {
         "hovertemplate": "symbol=DOT/USDT<br>timestamp=%{x}<br>value=%{y}<extra></extra>",
         "legendgroup": "DOT/USDT",
         "line": {
          "color": "#FECB52",
          "dash": "solid"
         },
         "marker": {
          "symbol": "circle"
         },
         "mode": "lines",
         "name": "DOT/USDT",
         "orientation": "v",
         "showlegend": true,
         "type": "scatter",
         "x": [
          "2024-03-31T00:00:00+00:00",
          "2024-04-30T00:00:00+00:00",
          "2024-05-31T00:00:00+00:00",
          "2024-06-30T00:00:00+00:00",
          "2024-07-31T00:00:00+00:00",
          "2024-08-31T00:00:00+00:00",
          "2024-09-30T00:00:00+00:00",
          "2024-10-31T00:00:00+00:00",
          "2024-11-30T00:00:00+00:00"
         ],
         "xaxis": "x",
         "y": [
          -0.06039353204753628,
          -0.33350611652498463,
          0.0863275781614552,
          -0.11039518900343592,
          -0.1327860936745534,
          -0.20953971789161108,
          0.04132425451984023,
          -0.10710259301014691,
          0.3664141414141415
         ],
         "yaxis": "y"
        },
        {
         "hovertemplate": "symbol=FIL/USDT<br>timestamp=%{x}<br>value=%{y}<extra></extra>",
         "legendgroup": "FIL/USDT",
         "line": {
          "color": "#636efa",
          "dash": "solid"
         },
         "marker": {
          "symbol": "circle"
         },
         "mode": "lines",
         "name": "FIL/USDT",
         "orientation": "v",
         "showlegend": true,
         "type": "scatter",
         "x": [
          "2024-03-31T00:00:00+00:00",
          "2024-04-30T00:00:00+00:00",
          "2024-05-31T00:00:00+00:00",
          "2024-06-30T00:00:00+00:00",
          "2024-07-31T00:00:00+00:00",
          "2024-08-31T00:00:00+00:00",
          "2024-09-30T00:00:00+00:00",
          "2024-10-31T00:00:00+00:00",
          "2024-11-30T00:00:00+00:00"
         ],
         "xaxis": "x",
         "y": [
          -0.067315794401273,
          -0.43515358361774725,
          0.019015461169361814,
          -0.21869550052319442,
          -0.060714285714285166,
          -0.15161596958174917,
          0.06806722689075562,
          -0.07317073170731714,
          0.2433503112620261
         ],
         "yaxis": "y"
        },
        {
         "hovertemplate": "symbol=FLIP/USDT<br>timestamp=%{x}<br>value=%{y}<extra></extra>",
         "legendgroup": "FLIP/USDT",
         "line": {
          "color": "#EF553B",
          "dash": "solid"
         },
         "marker": {
          "symbol": "circle"
         },
         "mode": "lines",
         "name": "FLIP/USDT",
         "orientation": "v",
         "showlegend": true,
         "type": "scatter",
         "x": [
          "2024-03-31T00:00:00+00:00",
          "2024-04-30T00:00:00+00:00",
          "2024-05-31T00:00:00+00:00",
          "2024-06-30T00:00:00+00:00",
          "2024-07-31T00:00:00+00:00",
          "2024-08-31T00:00:00+00:00",
          "2024-09-30T00:00:00+00:00",
          "2024-10-31T00:00:00+00:00",
          "2024-11-30T00:00:00+00:00"
         ],
         "xaxis": "x",
         "y": [
          -0.3924660386489741,
          -0.5144683216005925,
          0.005341676523331174,
          -0.4976659455766824,
          0.07056512541553284,
          -0.24438955539872986,
          0.17932193891846482,
          -0.05321929199334774,
          0.15031367628607262
         ],
         "yaxis": "y"
        },
        {
         "hovertemplate": "symbol=FTT/USDT<br>timestamp=%{x}<br>value=%{y}<extra></extra>",
         "legendgroup": "FTT/USDT",
         "line": {
          "color": "#00cc96",
          "dash": "solid"
         },
         "marker": {
          "symbol": "circle"
         },
         "mode": "lines",
         "name": "FTT/USDT",
         "orientation": "v",
         "showlegend": true,
         "type": "scatter",
         "x": [
          "2024-03-31T00:00:00+00:00",
          "2024-04-30T00:00:00+00:00",
          "2024-05-31T00:00:00+00:00",
          "2024-06-30T00:00:00+00:00",
          "2024-07-31T00:00:00+00:00",
          "2024-08-31T00:00:00+00:00",
          "2024-09-30T00:00:00+00:00",
          "2024-10-31T00:00:00+00:00",
          "2024-11-30T00:00:00+00:00"
         ],
         "xaxis": "x",
         "y": [
          -0.16931032984224903,
          -0.2901909495160866,
          0.18027712264150986,
          -0.10671912076932655,
          -0.04928346731911981,
          -0.050882352941175824,
          0.41896498295630646,
          -0.047226468661279775,
          0.1453784883387772
         ],
         "yaxis": "y"
        },
        {
         "hovertemplate": "symbol=GENE/USDT<br>timestamp=%{x}<br>value=%{y}<extra></extra>",
         "legendgroup": "GENE/USDT",
         "line": {
          "color": "#ab63fa",
          "dash": "solid"
         },
         "marker": {
          "symbol": "circle"
         },
         "mode": "lines",
         "name": "GENE/USDT",
         "orientation": "v",
         "showlegend": true,
         "type": "scatter",
         "x": [
          "2024-03-31T00:00:00+00:00",
          "2024-04-30T00:00:00+00:00",
          "2024-05-31T00:00:00+00:00",
          "2024-06-30T00:00:00+00:00",
          "2024-07-31T00:00:00+00:00",
          "2024-08-31T00:00:00+00:00",
          "2024-09-30T00:00:00+00:00",
          "2024-10-31T00:00:00+00:00",
          "2024-11-30T00:00:00+00:00"
         ],
         "xaxis": "x",
         "y": [
          -0.16042047531992687,
          -0.4017419706042463,
          -0.3280254777070064,
          0.13337846987136093,
          -0.08960573476702494,
          -0.36745406824146976,
          0.22925311203319465,
          -0.368776371308017,
          -0.11497326203208547
         ],
         "yaxis": "y"
        },
        {
         "hovertemplate": "symbol=HNT/USDT<br>timestamp=%{x}<br>value=%{y}<extra></extra>",
         "legendgroup": "HNT/USDT",
         "line": {
          "color": "#FFA15A",
          "dash": "solid"
         },
         "marker": {
          "symbol": "circle"
         },
         "mode": "lines",
         "name": "HNT/USDT",
         "orientation": "v",
         "showlegend": true,
         "type": "scatter",
         "x": [
          "2024-03-31T00:00:00+00:00",
          "2024-04-30T00:00:00+00:00",
          "2024-05-31T00:00:00+00:00",
          "2024-06-30T00:00:00+00:00",
          "2024-07-31T00:00:00+00:00",
          "2024-08-31T00:00:00+00:00",
          "2024-09-30T00:00:00+00:00",
          "2024-10-31T00:00:00+00:00",
          "2024-11-30T00:00:00+00:00"
         ],
         "xaxis": "x",
         "y": [
          -0.3426489394540726,
          -0.11800023479296318,
          -0.22167290981346632,
          -0.1598465785551999,
          0.4136086071532419,
          0.4528530875879382,
          0.06711124325701912,
          -0.16198967745359494,
          -0.06534198860037987
         ],
         "yaxis": "y"
        },
        {
         "hovertemplate": "symbol=ICX/USDT<br>timestamp=%{x}<br>value=%{y}<extra></extra>",
         "legendgroup": "ICX/USDT",
         "line": {
          "color": "#19d3f3",
          "dash": "solid"
         },
         "marker": {
          "symbol": "circle"
         },
         "mode": "lines",
         "name": "ICX/USDT",
         "orientation": "v",
         "showlegend": true,
         "type": "scatter",
         "x": [
          "2024-03-31T00:00:00+00:00",
          "2024-04-30T00:00:00+00:00",
          "2024-05-31T00:00:00+00:00",
          "2024-06-30T00:00:00+00:00",
          "2024-07-31T00:00:00+00:00",
          "2024-08-31T00:00:00+00:00",
          "2024-09-30T00:00:00+00:00",
          "2024-10-31T00:00:00+00:00",
          "2024-11-30T00:00:00+00:00"
         ],
         "xaxis": "x",
         "y": [
          0.031617060098072525,
          -0.3998894569573025,
          0.00911812111443755,
          -0.2629945694336696,
          -0.0534984520123839,
          -0.188734790003925,
          0.17788887992903835,
          -0.12439241459574191,
          0.23440187646598853
         ],
         "yaxis": "y"
        },
        {
         "hovertemplate": "symbol=INJ/USDT<br>timestamp=%{x}<br>value=%{y}<extra></extra>",
         "legendgroup": "INJ/USDT",
         "line": {
          "color": "#FF6692",
          "dash": "solid"
         },
         "marker": {
          "symbol": "circle"
         },
         "mode": "lines",
         "name": "INJ/USDT",
         "orientation": "v",
         "showlegend": true,
         "type": "scatter",
         "x": [
          "2024-03-31T00:00:00+00:00",
          "2024-04-30T00:00:00+00:00",
          "2024-05-31T00:00:00+00:00",
          "2024-06-30T00:00:00+00:00",
          "2024-07-31T00:00:00+00:00",
          "2024-08-31T00:00:00+00:00",
          "2024-09-30T00:00:00+00:00",
          "2024-10-31T00:00:00+00:00",
          "2024-11-30T00:00:00+00:00"
         ],
         "xaxis": "x",
         "y": [
          -0.08237786640079758,
          -0.35485535787043343,
          0.028546166477201096,
          -0.036677719104343476,
          -0.06692729358772886,
          -0.2137717460606613,
          0.3257066728452267,
          -0.16747498579979903,
          0.33599244253175153
         ],
         "yaxis": "y"
        },
        {
         "hovertemplate": "symbol=KSM/USDT<br>timestamp=%{x}<br>value=%{y}<extra></extra>",
         "legendgroup": "KSM/USDT",
         "line": {
          "color": "#B6E880",
          "dash": "solid"
         },
         "marker": {
          "symbol": "circle"
         },
         "mode": "lines",
         "name": "KSM/USDT",
         "orientation": "v",
         "showlegend": true,
         "type": "scatter",
         "x": [
          "2024-03-31T00:00:00+00:00",
          "2024-04-30T00:00:00+00:00",
          "2024-05-31T00:00:00+00:00",
          "2024-06-30T00:00:00+00:00",
          "2024-07-31T00:00:00+00:00",
          "2024-08-31T00:00:00+00:00",
          "2024-09-30T00:00:00+00:00",
          "2024-10-31T00:00:00+00:00",
          "2024-11-30T00:00:00+00:00"
         ],
         "xaxis": "x",
         "y": [
          -0.07422953125836229,
          -0.406231418472516,
          0.05771002771277445,
          -0.21769617673164787,
          -0.13832473977702964,
          -0.11223494528217215,
          0.10278623144618115,
          -0.17259861817493427,
          0.25165562913907236
         ],
         "yaxis": "y"
        },
        {
         "hovertemplate": "symbol=LUNA/USDT<br>timestamp=%{x}<br>value=%{y}<extra></extra>",
         "legendgroup": "LUNA/USDT",
         "line": {
          "color": "#FF97FF",
          "dash": "solid"
         },
         "marker": {
          "symbol": "circle"
         },
         "mode": "lines",
         "name": "LUNA/USDT",
         "orientation": "v",
         "showlegend": true,
         "type": "scatter",
         "x": [
          "2024-03-31T00:00:00+00:00",
          "2024-04-30T00:00:00+00:00",
          "2024-05-31T00:00:00+00:00",
          "2024-06-30T00:00:00+00:00",
          "2024-07-31T00:00:00+00:00",
          "2024-08-31T00:00:00+00:00",
          "2024-09-30T00:00:00+00:00",
          "2024-10-31T00:00:00+00:00",
          "2024-11-30T00:00:00+00:00"
         ],
         "xaxis": "x",
         "y": [
          0.06789041601328316,
          -0.519478275891855,
          0.19827431242135463,
          -0.35418541854185404,
          -0.11219512195121928,
          -0.09236002093144924,
          0.16719515710579436,
          -0.1612743887379603,
          0.5141342756183749
         ],
         "yaxis": "y"
        },
        {
         "hovertemplate": "symbol=LUNC/USDT<br>timestamp=%{x}<br>value=%{y}<extra></extra>",
         "legendgroup": "LUNC/USDT",
         "line": {
          "color": "#FECB52",
          "dash": "solid"
         },
         "marker": {
          "symbol": "circle"
         },
         "mode": "lines",
         "name": "LUNC/USDT",
         "orientation": "v",
         "showlegend": true,
         "type": "scatter",
         "x": [
          "2024-03-31T00:00:00+00:00",
          "2024-04-30T00:00:00+00:00",
          "2024-05-31T00:00:00+00:00",
          "2024-06-30T00:00:00+00:00",
          "2024-07-31T00:00:00+00:00",
          "2024-08-31T00:00:00+00:00",
          "2024-09-30T00:00:00+00:00",
          "2024-10-31T00:00:00+00:00",
          "2024-11-30T00:00:00+00:00"
         ],
         "xaxis": "x",
         "y": [
          -0.15376825498347757,
          -0.3709768848019147,
          0.1938520076098924,
          -0.3080600520003356,
          -0.0544242424242426,
          0.00499935905653115,
          0.1687500000000004,
          -0.00010913456291661294,
          0.28683693516699416
         ],
         "yaxis": "y"
        },
        {
         "hovertemplate": "symbol=MINA/USDT<br>timestamp=%{x}<br>value=%{y}<extra></extra>",
         "legendgroup": "MINA/USDT",
         "line": {
          "color": "#636efa",
          "dash": "solid"
         },
         "marker": {
          "symbol": "circle"
         },
         "mode": "lines",
         "name": "MINA/USDT",
         "orientation": "v",
         "showlegend": true,
         "type": "scatter",
         "x": [
          "2024-03-31T00:00:00+00:00",
          "2024-04-30T00:00:00+00:00",
          "2024-05-31T00:00:00+00:00",
          "2024-06-30T00:00:00+00:00",
          "2024-07-31T00:00:00+00:00",
          "2024-08-31T00:00:00+00:00",
          "2024-09-30T00:00:00+00:00",
          "2024-10-31T00:00:00+00:00",
          "2024-11-30T00:00:00+00:00"
         ],
         "xaxis": "x",
         "y": [
          -0.1860465116279072,
          -0.3586763518966909,
          0.07362194815001222,
          -0.36654553979603777,
          -0.10177646188008938,
          -0.10815822002472142,
          0.28805728805728825,
          -0.05972022955523704,
          0.2935342361243565
         ],
         "yaxis": "y"
        },
        {
         "hovertemplate": "symbol=NEAR/USDT<br>timestamp=%{x}<br>value=%{y}<extra></extra>",
         "legendgroup": "NEAR/USDT",
         "line": {
          "color": "#EF553B",
          "dash": "solid"
         },
         "marker": {
          "symbol": "circle"
         },
         "mode": "lines",
         "name": "NEAR/USDT",
         "orientation": "v",
         "showlegend": true,
         "type": "scatter",
         "x": [
          "2024-03-31T00:00:00+00:00",
          "2024-04-30T00:00:00+00:00",
          "2024-05-31T00:00:00+00:00",
          "2024-06-30T00:00:00+00:00",
          "2024-07-31T00:00:00+00:00",
          "2024-08-31T00:00:00+00:00",
          "2024-09-30T00:00:00+00:00",
          "2024-10-31T00:00:00+00:00",
          "2024-11-30T00:00:00+00:00"
         ],
         "xaxis": "x",
         "y": [
          0.22633260467462502,
          -0.15115864527629252,
          0.1708235066067909,
          -0.2681944233661241,
          -0.058934429320161574,
          -0.1921027325907525,
          0.31080913531876897,
          -0.23306407370272963,
          0.5016156483559853
         ],
         "yaxis": "y"
        },
        {
         "hovertemplate": "symbol=OMG/USDT<br>timestamp=%{x}<br>value=%{y}<extra></extra>",
         "legendgroup": "OMG/USDT",
         "line": {
          "color": "#00cc96",
          "dash": "solid"
         },
         "marker": {
          "symbol": "circle"
         },
         "mode": "lines",
         "name": "OMG/USDT",
         "orientation": "v",
         "showlegend": true,
         "type": "scatter",
         "x": [
          "2024-03-31T00:00:00+00:00",
          "2024-04-30T00:00:00+00:00",
          "2024-05-31T00:00:00+00:00",
          "2024-06-30T00:00:00+00:00",
          "2024-07-31T00:00:00+00:00",
          "2024-08-31T00:00:00+00:00",
          "2024-09-30T00:00:00+00:00",
          "2024-10-31T00:00:00+00:00",
          "2024-11-30T00:00:00+00:00"
         ],
         "xaxis": "x",
         "y": [
          -0.0435897435897441,
          -0.46112600536193005,
          0.19237147595356574,
          -0.5173852573018078,
          -0.27953890489913535,
          -0.15200000000000002,
          0.3254716981132071,
          -0.1637010676156584,
          0.2634042553191487
         ],
         "yaxis": "y"
        },
        {
         "hovertemplate": "symbol=OMNI/USDT<br>timestamp=%{x}<br>value=%{y}<extra></extra>",
         "legendgroup": "OMNI/USDT",
         "line": {
          "color": "#ab63fa",
          "dash": "solid"
         },
         "marker": {
          "symbol": "circle"
         },
         "mode": "lines",
         "name": "OMNI/USDT",
         "orientation": "v",
         "showlegend": true,
         "type": "scatter",
         "x": [
          "2024-03-31T00:00:00+00:00",
          "2024-04-30T00:00:00+00:00",
          "2024-05-31T00:00:00+00:00",
          "2024-06-30T00:00:00+00:00",
          "2024-07-31T00:00:00+00:00",
          "2024-08-31T00:00:00+00:00",
          "2024-09-30T00:00:00+00:00",
          "2024-10-31T00:00:00+00:00",
          "2024-11-30T00:00:00+00:00"
         ],
         "xaxis": "x",
         "y": [
          0,
          -0.3217303043165336,
          0.11184271387137046,
          -0.28856695379796427,
          -0.24759218492019763,
          -0.3725884611867969,
          0.42480326435441573,
          -0.19341311240666859,
          0.10727872178544207
         ],
         "yaxis": "y"
        },
        {
         "hovertemplate": "symbol=ONDO/USDT<br>timestamp=%{x}<br>value=%{y}<extra></extra>",
         "legendgroup": "ONDO/USDT",
         "line": {
          "color": "#FFA15A",
          "dash": "solid"
         },
         "marker": {
          "symbol": "circle"
         },
         "mode": "lines",
         "name": "ONDO/USDT",
         "orientation": "v",
         "showlegend": true,
         "type": "scatter",
         "x": [
          "2024-03-31T00:00:00+00:00",
          "2024-04-30T00:00:00+00:00",
          "2024-05-31T00:00:00+00:00",
          "2024-06-30T00:00:00+00:00",
          "2024-07-31T00:00:00+00:00",
          "2024-08-31T00:00:00+00:00",
          "2024-09-30T00:00:00+00:00",
          "2024-10-31T00:00:00+00:00",
          "2024-11-30T00:00:00+00:00"
         ],
         "xaxis": "x",
         "y": [
          0.6321360489615733,
          -0.23661697658931402,
          0.6672661387733185,
          -0.03323727340052163,
          -0.22822005179060623,
          -0.31904196784982186,
          0.18920117874457376,
          -0.07761790567545968,
          0.40823872663720207
         ],
         "yaxis": "y"
        },
        {
         "hovertemplate": "symbol=ORDER/USDT<br>timestamp=%{x}<br>value=%{y}<extra></extra>",
         "legendgroup": "ORDER/USDT",
         "line": {
          "color": "#19d3f3",
          "dash": "solid"
         },
         "marker": {
          "symbol": "circle"
         },
         "mode": "lines",
         "name": "ORDER/USDT",
         "orientation": "v",
         "showlegend": true,
         "type": "scatter",
         "x": [
          "2024-03-31T00:00:00+00:00",
          "2024-04-30T00:00:00+00:00",
          "2024-05-31T00:00:00+00:00",
          "2024-06-30T00:00:00+00:00",
          "2024-07-31T00:00:00+00:00",
          "2024-08-31T00:00:00+00:00",
          "2024-09-30T00:00:00+00:00",
          "2024-10-31T00:00:00+00:00",
          "2024-11-30T00:00:00+00:00"
         ],
         "xaxis": "x",
         "y": [
          0,
          0,
          0,
          0,
          0,
          -0.11624513618677035,
          -0.22674738580077058,
          -0.20854092526690393,
          0.40557553956834536
         ],
         "yaxis": "y"
        },
        {
         "hovertemplate": "symbol=PTU/USDT<br>timestamp=%{x}<br>value=%{y}<extra></extra>",
         "legendgroup": "PTU/USDT",
         "line": {
          "color": "#FF6692",
          "dash": "solid"
         },
         "marker": {
          "symbol": "circle"
         },
         "mode": "lines",
         "name": "PTU/USDT",
         "orientation": "v",
         "showlegend": true,
         "type": "scatter",
         "x": [
          "2024-03-31T00:00:00+00:00",
          "2024-04-30T00:00:00+00:00",
          "2024-05-31T00:00:00+00:00",
          "2024-06-30T00:00:00+00:00",
          "2024-07-31T00:00:00+00:00",
          "2024-08-31T00:00:00+00:00",
          "2024-09-30T00:00:00+00:00",
          "2024-10-31T00:00:00+00:00",
          "2024-11-30T00:00:00+00:00"
         ],
         "xaxis": "x",
         "y": [
          -0.1301814922697735,
          -0.2199896960329727,
          -0.15092470277410863,
          -0.2010890704006223,
          0.04430379746835422,
          -0.06946386946386973,
          -0.016533066132264906,
          -0.011716760061131093,
          -0.00824742268041212
         ],
         "yaxis": "y"
        },
        {
         "hovertemplate": "symbol=ROSE/USDT<br>timestamp=%{x}<br>value=%{y}<extra></extra>",
         "legendgroup": "ROSE/USDT",
         "line": {
          "color": "#B6E880",
          "dash": "solid"
         },
         "marker": {
          "symbol": "circle"
         },
         "mode": "lines",
         "name": "ROSE/USDT",
         "orientation": "v",
         "showlegend": true,
         "type": "scatter",
         "x": [
          "2024-03-31T00:00:00+00:00",
          "2024-04-30T00:00:00+00:00",
          "2024-05-31T00:00:00+00:00",
          "2024-06-30T00:00:00+00:00",
          "2024-07-31T00:00:00+00:00",
          "2024-08-31T00:00:00+00:00",
          "2024-09-30T00:00:00+00:00",
          "2024-10-31T00:00:00+00:00",
          "2024-11-30T00:00:00+00:00"
         ],
         "xaxis": "x",
         "y": [
          -0.2201689246641344,
          -0.3453514574398484,
          0.13479902287363976,
          -0.025733855185910093,
          -0.1850959124234205,
          -0.31192999753512496,
          0.3790077019523552,
          -0.15625405896869726,
          0.2877155172413792
         ],
         "yaxis": "y"
        },
        {
         "hovertemplate": "symbol=SD/USDT<br>timestamp=%{x}<br>value=%{y}<extra></extra>",
         "legendgroup": "SD/USDT",
         "line": {
          "color": "#FF97FF",
          "dash": "solid"
         },
         "marker": {
          "symbol": "circle"
         },
         "mode": "lines",
         "name": "SD/USDT",
         "orientation": "v",
         "showlegend": true,
         "type": "scatter",
         "x": [
          "2024-03-31T00:00:00+00:00",
          "2024-04-30T00:00:00+00:00",
          "2024-05-31T00:00:00+00:00",
          "2024-06-30T00:00:00+00:00",
          "2024-07-31T00:00:00+00:00",
          "2024-08-31T00:00:00+00:00",
          "2024-09-30T00:00:00+00:00",
          "2024-10-31T00:00:00+00:00",
          "2024-11-30T00:00:00+00:00"
         ],
         "xaxis": "x",
         "y": [
          -0.06408140814081387,
          -0.3141345871290041,
          0.10939731505284223,
          -0.183959835221421,
          -0.1896198138507652,
          0.015378625656997658,
          -0.14340490797546024,
          -0.2869292748433302,
          1.2146892655367236
         ],
         "yaxis": "y"
        },
        {
         "hovertemplate": "symbol=STRK/USDT<br>timestamp=%{x}<br>value=%{y}<extra></extra>",
         "legendgroup": "STRK/USDT",
         "line": {
          "color": "#FECB52",
          "dash": "solid"
         },
         "marker": {
          "symbol": "circle"
         },
         "mode": "lines",
         "name": "STRK/USDT",
         "orientation": "v",
         "showlegend": true,
         "type": "scatter",
         "x": [
          "2024-03-31T00:00:00+00:00",
          "2024-04-30T00:00:00+00:00",
          "2024-05-31T00:00:00+00:00",
          "2024-06-30T00:00:00+00:00",
          "2024-07-31T00:00:00+00:00",
          "2024-08-31T00:00:00+00:00",
          "2024-09-30T00:00:00+00:00",
          "2024-10-31T00:00:00+00:00",
          "2024-11-30T00:00:00+00:00"
         ],
         "xaxis": "x",
         "y": [
          -0.10218376596621359,
          -0.4373565855897198,
          -0.03996737357259372,
          -0.413763806287171,
          -0.32753623188405756,
          -0.23275862068965525,
          0.2331460674157304,
          -0.15489749430523891,
          0.24743935309973053
         ],
         "yaxis": "y"
        },
        {
         "hovertemplate": "symbol=SUSHI/USDT<br>timestamp=%{x}<br>value=%{y}<extra></extra>",
         "legendgroup": "SUSHI/USDT",
         "line": {
          "color": "#636efa",
          "dash": "solid"
         },
         "marker": {
          "symbol": "circle"
         },
         "mode": "lines",
         "name": "SUSHI/USDT",
         "orientation": "v",
         "showlegend": true,
         "type": "scatter",
         "x": [
          "2024-03-31T00:00:00+00:00",
          "2024-04-30T00:00:00+00:00",
          "2024-05-31T00:00:00+00:00",
          "2024-06-30T00:00:00+00:00",
          "2024-07-31T00:00:00+00:00",
          "2024-08-31T00:00:00+00:00",
          "2024-09-30T00:00:00+00:00",
          "2024-10-31T00:00:00+00:00",
          "2024-11-30T00:00:00+00:00"
         ],
         "xaxis": "x",
         "y": [
          -0.058295964125560595,
          -0.4957671957671955,
          0.2193074501573975,
          -0.27882960413080904,
          -0.2028639618138428,
          -0.16467065868263464,
          0.4372759856630821,
          -0.1471321695760598,
          0.15497076023391743
         ],
         "yaxis": "y"
        },
        {
         "hovertemplate": "symbol=TON/USDT<br>timestamp=%{x}<br>value=%{y}<extra></extra>",
         "legendgroup": "TON/USDT",
         "line": {
          "color": "#EF553B",
          "dash": "solid"
         },
         "marker": {
          "symbol": "circle"
         },
         "mode": "lines",
         "name": "TON/USDT",
         "orientation": "v",
         "showlegend": true,
         "type": "scatter",
         "x": [
          "2024-03-31T00:00:00+00:00",
          "2024-04-30T00:00:00+00:00",
          "2024-05-31T00:00:00+00:00",
          "2024-06-30T00:00:00+00:00",
          "2024-07-31T00:00:00+00:00",
          "2024-08-31T00:00:00+00:00",
          "2024-09-30T00:00:00+00:00",
          "2024-10-31T00:00:00+00:00",
          "2024-11-30T00:00:00+00:00"
         ],
         "xaxis": "x",
         "y": [
          0.9237510644337217,
          -0.0478798945019282,
          0.22722429924646081,
          0.2098085331397097,
          -0.11880748907299865,
          -0.19720457809561864,
          0.05311693102176318,
          -0.15113835376532425,
          0.15143387662471608
         ],
         "yaxis": "y"
        },
        {
         "hovertemplate": "symbol=WAXP/USDT<br>timestamp=%{x}<br>value=%{y}<extra></extra>",
         "legendgroup": "WAXP/USDT",
         "line": {
          "color": "#00cc96",
          "dash": "solid"
         },
         "marker": {
          "symbol": "circle"
         },
         "mode": "lines",
         "name": "WAXP/USDT",
         "orientation": "v",
         "showlegend": true,
         "type": "scatter",
         "x": [
          "2024-03-31T00:00:00+00:00",
          "2024-04-30T00:00:00+00:00",
          "2024-05-31T00:00:00+00:00",
          "2024-06-30T00:00:00+00:00",
          "2024-07-31T00:00:00+00:00",
          "2024-08-31T00:00:00+00:00",
          "2024-09-30T00:00:00+00:00",
          "2024-10-31T00:00:00+00:00",
          "2024-11-30T00:00:00+00:00"
         ],
         "xaxis": "x",
         "y": [
          0.07097050021376683,
          -0.37165668662674634,
          0.030813214739517925,
          -0.3791987673343604,
          -0.016133035492678194,
          -0.24924318869828466,
          0.16330645161290325,
          -0.10860774119006322,
          0.3013609850939729
         ],
         "yaxis": "y"
        },
        {
         "hovertemplate": "symbol=XRP/USDT<br>timestamp=%{x}<br>value=%{y}<extra></extra>",
         "legendgroup": "XRP/USDT",
         "line": {
          "color": "#ab63fa",
          "dash": "solid"
         },
         "marker": {
          "symbol": "circle"
         },
         "mode": "lines",
         "name": "XRP/USDT",
         "orientation": "v",
         "showlegend": true,
         "type": "scatter",
         "x": [
          "2024-03-31T00:00:00+00:00",
          "2024-04-30T00:00:00+00:00",
          "2024-05-31T00:00:00+00:00",
          "2024-06-30T00:00:00+00:00",
          "2024-07-31T00:00:00+00:00",
          "2024-08-31T00:00:00+00:00",
          "2024-09-30T00:00:00+00:00",
          "2024-10-31T00:00:00+00:00",
          "2024-11-30T00:00:00+00:00"
         ],
         "xaxis": "x",
         "y": [
          0.03453379378391719,
          -0.2039421395644575,
          0.03354632587859463,
          -0.08017774343122064,
          0.30833858433102335,
          -0.09102584684539994,
          0.07983044860473276,
          -0.16650310762185172,
          1.1191130298273144
         ],
         "yaxis": "y"
        },
        {
         "hovertemplate": "symbol=ZENT/USDT<br>timestamp=%{x}<br>value=%{y}<extra></extra>",
         "legendgroup": "ZENT/USDT",
         "line": {
          "color": "#FFA15A",
          "dash": "solid"
         },
         "marker": {
          "symbol": "circle"
         },
         "mode": "lines",
         "name": "ZENT/USDT",
         "orientation": "v",
         "showlegend": true,
         "type": "scatter",
         "x": [
          "2024-03-31T00:00:00+00:00",
          "2024-04-30T00:00:00+00:00",
          "2024-05-31T00:00:00+00:00",
          "2024-06-30T00:00:00+00:00",
          "2024-07-31T00:00:00+00:00",
          "2024-08-31T00:00:00+00:00",
          "2024-09-30T00:00:00+00:00",
          "2024-10-31T00:00:00+00:00",
          "2024-11-30T00:00:00+00:00"
         ],
         "xaxis": "x",
         "y": [
          0,
          0,
          0.08351708930540269,
          -0.39760875095395565,
          -0.11233108108108047,
          -0.1631779257849666,
          0.24161455372370622,
          -0.2527472527472534,
          0.31924019607843124
         ],
         "yaxis": "y"
        },
        {
         "hovertemplate": "symbol=ZRX/USDT<br>timestamp=%{x}<br>value=%{y}<extra></extra>",
         "legendgroup": "ZRX/USDT",
         "line": {
          "color": "#19d3f3",
          "dash": "solid"
         },
         "marker": {
          "symbol": "circle"
         },
         "mode": "lines",
         "name": "ZRX/USDT",
         "orientation": "v",
         "showlegend": true,
         "type": "scatter",
         "x": [
          "2024-03-31T00:00:00+00:00",
          "2024-04-30T00:00:00+00:00",
          "2024-05-31T00:00:00+00:00",
          "2024-06-30T00:00:00+00:00",
          "2024-07-31T00:00:00+00:00",
          "2024-08-31T00:00:00+00:00",
          "2024-09-30T00:00:00+00:00",
          "2024-10-31T00:00:00+00:00",
          "2024-11-30T00:00:00+00:00"
         ],
         "xaxis": "x",
         "y": [
          -0.04890556597873719,
          -0.3913729615991587,
          0.12316335350043262,
          -0.29145825317429797,
          -0.005973391257127703,
          -0.207593553673859,
          0.15305067218200663,
          -0.05052316890881903,
          0.19710327455919385
         ],
         "yaxis": "y"
        }
       ],
       "layout": {
        "height": 600,
        "legend": {
         "title": {
          "text": "symbol"
         },
         "tracegroupgap": 0
        },
        "template": {
         "data": {
          "bar": [
           {
            "error_x": {
             "color": "#2a3f5f"
            },
            "error_y": {
             "color": "#2a3f5f"
            },
            "marker": {
             "line": {
              "color": "#E5ECF6",
              "width": 0.5
             },
             "pattern": {
              "fillmode": "overlay",
              "size": 10,
              "solidity": 0.2
             }
            },
            "type": "bar"
           }
          ],
          "barpolar": [
           {
            "marker": {
             "line": {
              "color": "#E5ECF6",
              "width": 0.5
             },
             "pattern": {
              "fillmode": "overlay",
              "size": 10,
              "solidity": 0.2
             }
            },
            "type": "barpolar"
           }
          ],
          "carpet": [
           {
            "aaxis": {
             "endlinecolor": "#2a3f5f",
             "gridcolor": "white",
             "linecolor": "white",
             "minorgridcolor": "white",
             "startlinecolor": "#2a3f5f"
            },
            "baxis": {
             "endlinecolor": "#2a3f5f",
             "gridcolor": "white",
             "linecolor": "white",
             "minorgridcolor": "white",
             "startlinecolor": "#2a3f5f"
            },
            "type": "carpet"
           }
          ],
          "choropleth": [
           {
            "colorbar": {
             "outlinewidth": 0,
             "ticks": ""
            },
            "type": "choropleth"
           }
          ],
          "contour": [
           {
            "colorbar": {
             "outlinewidth": 0,
             "ticks": ""
            },
            "colorscale": [
             [
              0,
              "#0d0887"
             ],
             [
              0.1111111111111111,
              "#46039f"
             ],
             [
              0.2222222222222222,
              "#7201a8"
             ],
             [
              0.3333333333333333,
              "#9c179e"
             ],
             [
              0.4444444444444444,
              "#bd3786"
             ],
             [
              0.5555555555555556,
              "#d8576b"
             ],
             [
              0.6666666666666666,
              "#ed7953"
             ],
             [
              0.7777777777777778,
              "#fb9f3a"
             ],
             [
              0.8888888888888888,
              "#fdca26"
             ],
             [
              1,
              "#f0f921"
             ]
            ],
            "type": "contour"
           }
          ],
          "contourcarpet": [
           {
            "colorbar": {
             "outlinewidth": 0,
             "ticks": ""
            },
            "type": "contourcarpet"
           }
          ],
          "heatmap": [
           {
            "colorbar": {
             "outlinewidth": 0,
             "ticks": ""
            },
            "colorscale": [
             [
              0,
              "#0d0887"
             ],
             [
              0.1111111111111111,
              "#46039f"
             ],
             [
              0.2222222222222222,
              "#7201a8"
             ],
             [
              0.3333333333333333,
              "#9c179e"
             ],
             [
              0.4444444444444444,
              "#bd3786"
             ],
             [
              0.5555555555555556,
              "#d8576b"
             ],
             [
              0.6666666666666666,
              "#ed7953"
             ],
             [
              0.7777777777777778,
              "#fb9f3a"
             ],
             [
              0.8888888888888888,
              "#fdca26"
             ],
             [
              1,
              "#f0f921"
             ]
            ],
            "type": "heatmap"
           }
          ],
          "heatmapgl": [
           {
            "colorbar": {
             "outlinewidth": 0,
             "ticks": ""
            },
            "colorscale": [
             [
              0,
              "#0d0887"
             ],
             [
              0.1111111111111111,
              "#46039f"
             ],
             [
              0.2222222222222222,
              "#7201a8"
             ],
             [
              0.3333333333333333,
              "#9c179e"
             ],
             [
              0.4444444444444444,
              "#bd3786"
             ],
             [
              0.5555555555555556,
              "#d8576b"
             ],
             [
              0.6666666666666666,
              "#ed7953"
             ],
             [
              0.7777777777777778,
              "#fb9f3a"
             ],
             [
              0.8888888888888888,
              "#fdca26"
             ],
             [
              1,
              "#f0f921"
             ]
            ],
            "type": "heatmapgl"
           }
          ],
          "histogram": [
           {
            "marker": {
             "pattern": {
              "fillmode": "overlay",
              "size": 10,
              "solidity": 0.2
             }
            },
            "type": "histogram"
           }
          ],
          "histogram2d": [
           {
            "colorbar": {
             "outlinewidth": 0,
             "ticks": ""
            },
            "colorscale": [
             [
              0,
              "#0d0887"
             ],
             [
              0.1111111111111111,
              "#46039f"
             ],
             [
              0.2222222222222222,
              "#7201a8"
             ],
             [
              0.3333333333333333,
              "#9c179e"
             ],
             [
              0.4444444444444444,
              "#bd3786"
             ],
             [
              0.5555555555555556,
              "#d8576b"
             ],
             [
              0.6666666666666666,
              "#ed7953"
             ],
             [
              0.7777777777777778,
              "#fb9f3a"
             ],
             [
              0.8888888888888888,
              "#fdca26"
             ],
             [
              1,
              "#f0f921"
             ]
            ],
            "type": "histogram2d"
           }
          ],
          "histogram2dcontour": [
           {
            "colorbar": {
             "outlinewidth": 0,
             "ticks": ""
            },
            "colorscale": [
             [
              0,
              "#0d0887"
             ],
             [
              0.1111111111111111,
              "#46039f"
             ],
             [
              0.2222222222222222,
              "#7201a8"
             ],
             [
              0.3333333333333333,
              "#9c179e"
             ],
             [
              0.4444444444444444,
              "#bd3786"
             ],
             [
              0.5555555555555556,
              "#d8576b"
             ],
             [
              0.6666666666666666,
              "#ed7953"
             ],
             [
              0.7777777777777778,
              "#fb9f3a"
             ],
             [
              0.8888888888888888,
              "#fdca26"
             ],
             [
              1,
              "#f0f921"
             ]
            ],
            "type": "histogram2dcontour"
           }
          ],
          "mesh3d": [
           {
            "colorbar": {
             "outlinewidth": 0,
             "ticks": ""
            },
            "type": "mesh3d"
           }
          ],
          "parcoords": [
           {
            "line": {
             "colorbar": {
              "outlinewidth": 0,
              "ticks": ""
             }
            },
            "type": "parcoords"
           }
          ],
          "pie": [
           {
            "automargin": true,
            "type": "pie"
           }
          ],
          "scatter": [
           {
            "fillpattern": {
             "fillmode": "overlay",
             "size": 10,
             "solidity": 0.2
            },
            "type": "scatter"
           }
          ],
          "scatter3d": [
           {
            "line": {
             "colorbar": {
              "outlinewidth": 0,
              "ticks": ""
             }
            },
            "marker": {
             "colorbar": {
              "outlinewidth": 0,
              "ticks": ""
             }
            },
            "type": "scatter3d"
           }
          ],
          "scattercarpet": [
           {
            "marker": {
             "colorbar": {
              "outlinewidth": 0,
              "ticks": ""
             }
            },
            "type": "scattercarpet"
           }
          ],
          "scattergeo": [
           {
            "marker": {
             "colorbar": {
              "outlinewidth": 0,
              "ticks": ""
             }
            },
            "type": "scattergeo"
           }
          ],
          "scattergl": [
           {
            "marker": {
             "colorbar": {
              "outlinewidth": 0,
              "ticks": ""
             }
            },
            "type": "scattergl"
           }
          ],
          "scattermapbox": [
           {
            "marker": {
             "colorbar": {
              "outlinewidth": 0,
              "ticks": ""
             }
            },
            "type": "scattermapbox"
           }
          ],
          "scatterpolar": [
           {
            "marker": {
             "colorbar": {
              "outlinewidth": 0,
              "ticks": ""
             }
            },
            "type": "scatterpolar"
           }
          ],
          "scatterpolargl": [
           {
            "marker": {
             "colorbar": {
              "outlinewidth": 0,
              "ticks": ""
             }
            },
            "type": "scatterpolargl"
           }
          ],
          "scatterternary": [
           {
            "marker": {
             "colorbar": {
              "outlinewidth": 0,
              "ticks": ""
             }
            },
            "type": "scatterternary"
           }
          ],
          "surface": [
           {
            "colorbar": {
             "outlinewidth": 0,
             "ticks": ""
            },
            "colorscale": [
             [
              0,
              "#0d0887"
             ],
             [
              0.1111111111111111,
              "#46039f"
             ],
             [
              0.2222222222222222,
              "#7201a8"
             ],
             [
              0.3333333333333333,
              "#9c179e"
             ],
             [
              0.4444444444444444,
              "#bd3786"
             ],
             [
              0.5555555555555556,
              "#d8576b"
             ],
             [
              0.6666666666666666,
              "#ed7953"
             ],
             [
              0.7777777777777778,
              "#fb9f3a"
             ],
             [
              0.8888888888888888,
              "#fdca26"
             ],
             [
              1,
              "#f0f921"
             ]
            ],
            "type": "surface"
           }
          ],
          "table": [
           {
            "cells": {
             "fill": {
              "color": "#EBF0F8"
             },
             "line": {
              "color": "white"
             }
            },
            "header": {
             "fill": {
              "color": "#C8D4E3"
             },
             "line": {
              "color": "white"
             }
            },
            "type": "table"
           }
          ]
         },
         "layout": {
          "annotationdefaults": {
           "arrowcolor": "#2a3f5f",
           "arrowhead": 0,
           "arrowwidth": 1
          },
          "autotypenumbers": "strict",
          "coloraxis": {
           "colorbar": {
            "outlinewidth": 0,
            "ticks": ""
           }
          },
          "colorscale": {
           "diverging": [
            [
             0,
             "#8e0152"
            ],
            [
             0.1,
             "#c51b7d"
            ],
            [
             0.2,
             "#de77ae"
            ],
            [
             0.3,
             "#f1b6da"
            ],
            [
             0.4,
             "#fde0ef"
            ],
            [
             0.5,
             "#f7f7f7"
            ],
            [
             0.6,
             "#e6f5d0"
            ],
            [
             0.7,
             "#b8e186"
            ],
            [
             0.8,
             "#7fbc41"
            ],
            [
             0.9,
             "#4d9221"
            ],
            [
             1,
             "#276419"
            ]
           ],
           "sequential": [
            [
             0,
             "#0d0887"
            ],
            [
             0.1111111111111111,
             "#46039f"
            ],
            [
             0.2222222222222222,
             "#7201a8"
            ],
            [
             0.3333333333333333,
             "#9c179e"
            ],
            [
             0.4444444444444444,
             "#bd3786"
            ],
            [
             0.5555555555555556,
             "#d8576b"
            ],
            [
             0.6666666666666666,
             "#ed7953"
            ],
            [
             0.7777777777777778,
             "#fb9f3a"
            ],
            [
             0.8888888888888888,
             "#fdca26"
            ],
            [
             1,
             "#f0f921"
            ]
           ],
           "sequentialminus": [
            [
             0,
             "#0d0887"
            ],
            [
             0.1111111111111111,
             "#46039f"
            ],
            [
             0.2222222222222222,
             "#7201a8"
            ],
            [
             0.3333333333333333,
             "#9c179e"
            ],
            [
             0.4444444444444444,
             "#bd3786"
            ],
            [
             0.5555555555555556,
             "#d8576b"
            ],
            [
             0.6666666666666666,
             "#ed7953"
            ],
            [
             0.7777777777777778,
             "#fb9f3a"
            ],
            [
             0.8888888888888888,
             "#fdca26"
            ],
            [
             1,
             "#f0f921"
            ]
           ]
          },
          "colorway": [
           "#636efa",
           "#EF553B",
           "#00cc96",
           "#ab63fa",
           "#FFA15A",
           "#19d3f3",
           "#FF6692",
           "#B6E880",
           "#FF97FF",
           "#FECB52"
          ],
          "font": {
           "color": "#2a3f5f"
          },
          "geo": {
           "bgcolor": "white",
           "lakecolor": "white",
           "landcolor": "#E5ECF6",
           "showlakes": true,
           "showland": true,
           "subunitcolor": "white"
          },
          "hoverlabel": {
           "align": "left"
          },
          "hovermode": "closest",
          "mapbox": {
           "style": "light"
          },
          "paper_bgcolor": "white",
          "plot_bgcolor": "#E5ECF6",
          "polar": {
           "angularaxis": {
            "gridcolor": "white",
            "linecolor": "white",
            "ticks": ""
           },
           "bgcolor": "#E5ECF6",
           "radialaxis": {
            "gridcolor": "white",
            "linecolor": "white",
            "ticks": ""
           }
          },
          "scene": {
           "xaxis": {
            "backgroundcolor": "#E5ECF6",
            "gridcolor": "white",
            "gridwidth": 2,
            "linecolor": "white",
            "showbackground": true,
            "ticks": "",
            "zerolinecolor": "white"
           },
           "yaxis": {
            "backgroundcolor": "#E5ECF6",
            "gridcolor": "white",
            "gridwidth": 2,
            "linecolor": "white",
            "showbackground": true,
            "ticks": "",
            "zerolinecolor": "white"
           },
           "zaxis": {
            "backgroundcolor": "#E5ECF6",
            "gridcolor": "white",
            "gridwidth": 2,
            "linecolor": "white",
            "showbackground": true,
            "ticks": "",
            "zerolinecolor": "white"
           }
          },
          "shapedefaults": {
           "line": {
            "color": "#2a3f5f"
           }
          },
          "ternary": {
           "aaxis": {
            "gridcolor": "white",
            "linecolor": "white",
            "ticks": ""
           },
           "baxis": {
            "gridcolor": "white",
            "linecolor": "white",
            "ticks": ""
           },
           "bgcolor": "#E5ECF6",
           "caxis": {
            "gridcolor": "white",
            "linecolor": "white",
            "ticks": ""
           }
          },
          "title": {
           "x": 0.05
          },
          "xaxis": {
           "automargin": true,
           "gridcolor": "white",
           "linecolor": "white",
           "ticks": "",
           "title": {
            "standoff": 15
           },
           "zerolinecolor": "white",
           "zerolinewidth": 2
          },
          "yaxis": {
           "automargin": true,
           "gridcolor": "white",
           "linecolor": "white",
           "ticks": "",
           "title": {
            "standoff": 15
           },
           "zerolinecolor": "white",
           "zerolinewidth": 2
          }
         }
        },
        "title": {
         "text": "Monthly returns"
        },
        "width": 1200,
        "xaxis": {
         "anchor": "y",
         "domain": [
          0,
          1
         ],
         "title": {
          "text": "Timestamp"
         }
        },
        "yaxis": {
         "anchor": "x",
         "domain": [
          0,
          1
         ],
         "title": {
          "text": "Returns"
         }
        }
       }
      }
     },
     "metadata": {},
     "output_type": "display_data"
    }
   ],
   "source": [
    "# Create a line plot with Plotly\n",
    "fig = px.line(returns_df, x=returns_df.index, y=returns_df.columns, title=\"Monthly returns\")\n",
    "# Adjust the layout for a wider plot\n",
    "fig.update_layout(width=1200, height=600, xaxis_title=\"Timestamp\", yaxis_title=\"Returns\")\n",
    "# Show the interactive plot\n",
    "fig.show()"
   ]
  },
  {
   "cell_type": "code",
   "execution_count": 11,
   "metadata": {},
   "outputs": [
    {
     "data": {
      "text/html": [
       "<div>\n",
       "<style scoped>\n",
       "    .dataframe tbody tr th:only-of-type {\n",
       "        vertical-align: middle;\n",
       "    }\n",
       "\n",
       "    .dataframe tbody tr th {\n",
       "        vertical-align: top;\n",
       "    }\n",
       "\n",
       "    .dataframe thead th {\n",
       "        text-align: right;\n",
       "    }\n",
       "</style>\n",
       "<table border=\"1\" class=\"dataframe\">\n",
       "  <thead>\n",
       "    <tr style=\"text-align: right;\">\n",
       "      <th>symbol</th>\n",
       "      <th>1INCH/USDT</th>\n",
       "      <th>A8/USDT</th>\n",
       "      <th>ACA/USDT</th>\n",
       "      <th>AEVO/USDT</th>\n",
       "      <th>ANKR/USDT</th>\n",
       "      <th>ARB/USDT</th>\n",
       "      <th>ATOM/USDT</th>\n",
       "      <th>AURORA/USDT</th>\n",
       "      <th>BAT/USDT</th>\n",
       "      <th>DOT/USDT</th>\n",
       "      <th>...</th>\n",
       "      <th>PTU/USDT</th>\n",
       "      <th>ROSE/USDT</th>\n",
       "      <th>SD/USDT</th>\n",
       "      <th>STRK/USDT</th>\n",
       "      <th>SUSHI/USDT</th>\n",
       "      <th>TON/USDT</th>\n",
       "      <th>WAXP/USDT</th>\n",
       "      <th>XRP/USDT</th>\n",
       "      <th>ZENT/USDT</th>\n",
       "      <th>ZRX/USDT</th>\n",
       "    </tr>\n",
       "    <tr>\n",
       "      <th>timestamp</th>\n",
       "      <th></th>\n",
       "      <th></th>\n",
       "      <th></th>\n",
       "      <th></th>\n",
       "      <th></th>\n",
       "      <th></th>\n",
       "      <th></th>\n",
       "      <th></th>\n",
       "      <th></th>\n",
       "      <th></th>\n",
       "      <th></th>\n",
       "      <th></th>\n",
       "      <th></th>\n",
       "      <th></th>\n",
       "      <th></th>\n",
       "      <th></th>\n",
       "      <th></th>\n",
       "      <th></th>\n",
       "      <th></th>\n",
       "      <th></th>\n",
       "      <th></th>\n",
       "    </tr>\n",
       "  </thead>\n",
       "  <tbody>\n",
       "    <tr>\n",
       "      <th>2024-05-31 00:00:00+00:00</th>\n",
       "      <td>NaN</td>\n",
       "      <td>NaN</td>\n",
       "      <td>NaN</td>\n",
       "      <td>NaN</td>\n",
       "      <td>NaN</td>\n",
       "      <td>NaN</td>\n",
       "      <td>NaN</td>\n",
       "      <td>NaN</td>\n",
       "      <td>NaN</td>\n",
       "      <td>NaN</td>\n",
       "      <td>...</td>\n",
       "      <td>NaN</td>\n",
       "      <td>NaN</td>\n",
       "      <td>NaN</td>\n",
       "      <td>NaN</td>\n",
       "      <td>NaN</td>\n",
       "      <td>NaN</td>\n",
       "      <td>NaN</td>\n",
       "      <td>NaN</td>\n",
       "      <td>NaN</td>\n",
       "      <td>NaN</td>\n",
       "    </tr>\n",
       "    <tr>\n",
       "      <th>2024-06-30 00:00:00+00:00</th>\n",
       "      <td>NaN</td>\n",
       "      <td>NaN</td>\n",
       "      <td>NaN</td>\n",
       "      <td>NaN</td>\n",
       "      <td>NaN</td>\n",
       "      <td>NaN</td>\n",
       "      <td>NaN</td>\n",
       "      <td>NaN</td>\n",
       "      <td>NaN</td>\n",
       "      <td>NaN</td>\n",
       "      <td>...</td>\n",
       "      <td>NaN</td>\n",
       "      <td>NaN</td>\n",
       "      <td>NaN</td>\n",
       "      <td>NaN</td>\n",
       "      <td>NaN</td>\n",
       "      <td>NaN</td>\n",
       "      <td>NaN</td>\n",
       "      <td>NaN</td>\n",
       "      <td>NaN</td>\n",
       "      <td>NaN</td>\n",
       "    </tr>\n",
       "    <tr>\n",
       "      <th>2024-07-31 00:00:00+00:00</th>\n",
       "      <td>NaN</td>\n",
       "      <td>NaN</td>\n",
       "      <td>NaN</td>\n",
       "      <td>NaN</td>\n",
       "      <td>NaN</td>\n",
       "      <td>NaN</td>\n",
       "      <td>NaN</td>\n",
       "      <td>NaN</td>\n",
       "      <td>NaN</td>\n",
       "      <td>NaN</td>\n",
       "      <td>...</td>\n",
       "      <td>NaN</td>\n",
       "      <td>NaN</td>\n",
       "      <td>NaN</td>\n",
       "      <td>NaN</td>\n",
       "      <td>NaN</td>\n",
       "      <td>NaN</td>\n",
       "      <td>NaN</td>\n",
       "      <td>NaN</td>\n",
       "      <td>NaN</td>\n",
       "      <td>NaN</td>\n",
       "    </tr>\n",
       "    <tr>\n",
       "      <th>2024-08-31 00:00:00+00:00</th>\n",
       "      <td>-0.627704</td>\n",
       "      <td>-0.616478</td>\n",
       "      <td>-0.561696</td>\n",
       "      <td>-0.902497</td>\n",
       "      <td>-0.525633</td>\n",
       "      <td>-0.751451</td>\n",
       "      <td>-0.653715</td>\n",
       "      <td>-0.519983</td>\n",
       "      <td>-0.542111</td>\n",
       "      <td>-0.585135</td>\n",
       "      <td>...</td>\n",
       "      <td>-0.552767</td>\n",
       "      <td>-0.683521</td>\n",
       "      <td>-0.521819</td>\n",
       "      <td>-0.853317</td>\n",
       "      <td>-0.721973</td>\n",
       "      <td>0.923787</td>\n",
       "      <td>-0.681915</td>\n",
       "      <td>-0.068903</td>\n",
       "      <td>-0.515160</td>\n",
       "      <td>-0.637148</td>\n",
       "    </tr>\n",
       "    <tr>\n",
       "      <th>2024-09-30 00:00:00+00:00</th>\n",
       "      <td>-0.549547</td>\n",
       "      <td>-0.613133</td>\n",
       "      <td>-0.645708</td>\n",
       "      <td>-0.868057</td>\n",
       "      <td>-0.522701</td>\n",
       "      <td>-0.635981</td>\n",
       "      <td>-0.615435</td>\n",
       "      <td>-0.432973</td>\n",
       "      <td>-0.468193</td>\n",
       "      <td>-0.540224</td>\n",
       "      <td>...</td>\n",
       "      <td>-0.494333</td>\n",
       "      <td>-0.440358</td>\n",
       "      <td>-0.562347</td>\n",
       "      <td>-0.798531</td>\n",
       "      <td>-0.575661</td>\n",
       "      <td>0.053136</td>\n",
       "      <td>-0.654491</td>\n",
       "      <td>-0.028135</td>\n",
       "      <td>-0.398015</td>\n",
       "      <td>-0.560100</td>\n",
       "    </tr>\n",
       "    <tr>\n",
       "      <th>2024-10-31 00:00:00+00:00</th>\n",
       "      <td>-0.375919</td>\n",
       "      <td>-0.707235</td>\n",
       "      <td>-0.476592</td>\n",
       "      <td>-0.771851</td>\n",
       "      <td>-0.481096</td>\n",
       "      <td>-0.484848</td>\n",
       "      <td>-0.498093</td>\n",
       "      <td>-0.500833</td>\n",
       "      <td>-0.326333</td>\n",
       "      <td>-0.384041</td>\n",
       "      <td>...</td>\n",
       "      <td>-0.359313</td>\n",
       "      <td>-0.278703</td>\n",
       "      <td>-0.544987</td>\n",
       "      <td>-0.697390</td>\n",
       "      <td>-0.282267</td>\n",
       "      <td>-0.061077</td>\n",
       "      <td>-0.509848</td>\n",
       "      <td>0.017572</td>\n",
       "      <td>-0.550165</td>\n",
       "      <td>-0.313742</td>\n",
       "    </tr>\n",
       "    <tr>\n",
       "      <th>2024-11-30 00:00:00+00:00</th>\n",
       "      <td>-0.362076</td>\n",
       "      <td>-0.670849</td>\n",
       "      <td>-0.396117</td>\n",
       "      <td>-0.591678</td>\n",
       "      <td>-0.253950</td>\n",
       "      <td>-0.418231</td>\n",
       "      <td>-0.330024</td>\n",
       "      <td>-0.426728</td>\n",
       "      <td>-0.155519</td>\n",
       "      <td>-0.225229</td>\n",
       "      <td>...</td>\n",
       "      <td>-0.251653</td>\n",
       "      <td>-0.181507</td>\n",
       "      <td>-0.091658</td>\n",
       "      <td>-0.606797</td>\n",
       "      <td>-0.320138</td>\n",
       "      <td>-0.119063</td>\n",
       "      <td>-0.381202</td>\n",
       "      <td>1.086360</td>\n",
       "      <td>-0.452302</td>\n",
       "      <td>-0.268565</td>\n",
       "    </tr>\n",
       "  </tbody>\n",
       "</table>\n",
       "<p>7 rows × 36 columns</p>\n",
       "</div>"
      ],
      "text/plain": [
       "symbol                     1INCH/USDT   A8/USDT  ACA/USDT  AEVO/USDT  \\\n",
       "timestamp                                                              \n",
       "2024-05-31 00:00:00+00:00         NaN       NaN       NaN        NaN   \n",
       "2024-06-30 00:00:00+00:00         NaN       NaN       NaN        NaN   \n",
       "2024-07-31 00:00:00+00:00         NaN       NaN       NaN        NaN   \n",
       "2024-08-31 00:00:00+00:00   -0.627704 -0.616478 -0.561696  -0.902497   \n",
       "2024-09-30 00:00:00+00:00   -0.549547 -0.613133 -0.645708  -0.868057   \n",
       "2024-10-31 00:00:00+00:00   -0.375919 -0.707235 -0.476592  -0.771851   \n",
       "2024-11-30 00:00:00+00:00   -0.362076 -0.670849 -0.396117  -0.591678   \n",
       "\n",
       "symbol                     ANKR/USDT  ARB/USDT  ATOM/USDT  AURORA/USDT  \\\n",
       "timestamp                                                                \n",
       "2024-05-31 00:00:00+00:00        NaN       NaN        NaN          NaN   \n",
       "2024-06-30 00:00:00+00:00        NaN       NaN        NaN          NaN   \n",
       "2024-07-31 00:00:00+00:00        NaN       NaN        NaN          NaN   \n",
       "2024-08-31 00:00:00+00:00  -0.525633 -0.751451  -0.653715    -0.519983   \n",
       "2024-09-30 00:00:00+00:00  -0.522701 -0.635981  -0.615435    -0.432973   \n",
       "2024-10-31 00:00:00+00:00  -0.481096 -0.484848  -0.498093    -0.500833   \n",
       "2024-11-30 00:00:00+00:00  -0.253950 -0.418231  -0.330024    -0.426728   \n",
       "\n",
       "symbol                     BAT/USDT  DOT/USDT  ...  PTU/USDT  ROSE/USDT  \\\n",
       "timestamp                                      ...                        \n",
       "2024-05-31 00:00:00+00:00       NaN       NaN  ...       NaN        NaN   \n",
       "2024-06-30 00:00:00+00:00       NaN       NaN  ...       NaN        NaN   \n",
       "2024-07-31 00:00:00+00:00       NaN       NaN  ...       NaN        NaN   \n",
       "2024-08-31 00:00:00+00:00 -0.542111 -0.585135  ... -0.552767  -0.683521   \n",
       "2024-09-30 00:00:00+00:00 -0.468193 -0.540224  ... -0.494333  -0.440358   \n",
       "2024-10-31 00:00:00+00:00 -0.326333 -0.384041  ... -0.359313  -0.278703   \n",
       "2024-11-30 00:00:00+00:00 -0.155519 -0.225229  ... -0.251653  -0.181507   \n",
       "\n",
       "symbol                      SD/USDT  STRK/USDT  SUSHI/USDT  TON/USDT  \\\n",
       "timestamp                                                              \n",
       "2024-05-31 00:00:00+00:00       NaN        NaN         NaN       NaN   \n",
       "2024-06-30 00:00:00+00:00       NaN        NaN         NaN       NaN   \n",
       "2024-07-31 00:00:00+00:00       NaN        NaN         NaN       NaN   \n",
       "2024-08-31 00:00:00+00:00 -0.521819  -0.853317   -0.721973  0.923787   \n",
       "2024-09-30 00:00:00+00:00 -0.562347  -0.798531   -0.575661  0.053136   \n",
       "2024-10-31 00:00:00+00:00 -0.544987  -0.697390   -0.282267 -0.061077   \n",
       "2024-11-30 00:00:00+00:00 -0.091658  -0.606797   -0.320138 -0.119063   \n",
       "\n",
       "symbol                     WAXP/USDT  XRP/USDT  ZENT/USDT  ZRX/USDT  \n",
       "timestamp                                                            \n",
       "2024-05-31 00:00:00+00:00        NaN       NaN        NaN       NaN  \n",
       "2024-06-30 00:00:00+00:00        NaN       NaN        NaN       NaN  \n",
       "2024-07-31 00:00:00+00:00        NaN       NaN        NaN       NaN  \n",
       "2024-08-31 00:00:00+00:00  -0.681915 -0.068903  -0.515160 -0.637148  \n",
       "2024-09-30 00:00:00+00:00  -0.654491 -0.028135  -0.398015 -0.560100  \n",
       "2024-10-31 00:00:00+00:00  -0.509848  0.017572  -0.550165 -0.313742  \n",
       "2024-11-30 00:00:00+00:00  -0.381202  1.086360  -0.452302 -0.268565  \n",
       "\n",
       "[7 rows x 36 columns]"
      ]
     },
     "execution_count": 11,
     "metadata": {},
     "output_type": "execute_result"
    }
   ],
   "source": [
    "# rolling cumulative for 6 months return\n",
    "past_cum_return_df = (returns_df + 1).rolling(6).apply(np.prod) - 1\n",
    "\n",
    "past_cum_return_df.tail(7)"
   ]
  },
  {
   "cell_type": "code",
   "execution_count": 12,
   "metadata": {},
   "outputs": [
    {
     "data": {
      "application/vnd.plotly.v1+json": {
       "config": {
        "plotlyServerURL": "https://plot.ly"
       },
       "data": [
        {
         "hovertemplate": "symbol=1INCH/USDT<br>timestamp=%{x}<br>value=%{y}<extra></extra>",
         "legendgroup": "1INCH/USDT",
         "line": {
          "color": "#636efa",
          "dash": "solid"
         },
         "marker": {
          "symbol": "circle"
         },
         "mode": "lines",
         "name": "1INCH/USDT",
         "orientation": "v",
         "showlegend": true,
         "type": "scatter",
         "x": [
          "2024-03-31T00:00:00+00:00",
          "2024-04-30T00:00:00+00:00",
          "2024-05-31T00:00:00+00:00",
          "2024-06-30T00:00:00+00:00",
          "2024-07-31T00:00:00+00:00",
          "2024-08-31T00:00:00+00:00",
          "2024-09-30T00:00:00+00:00",
          "2024-10-31T00:00:00+00:00",
          "2024-11-30T00:00:00+00:00"
         ],
         "xaxis": "x",
         "y": [
          null,
          null,
          null,
          null,
          null,
          -0.6277042801556425,
          -0.5495466321243525,
          -0.3759188846641328,
          -0.362076095947064
         ],
         "yaxis": "y"
        },
        {
         "hovertemplate": "symbol=A8/USDT<br>timestamp=%{x}<br>value=%{y}<extra></extra>",
         "legendgroup": "A8/USDT",
         "line": {
          "color": "#EF553B",
          "dash": "solid"
         },
         "marker": {
          "symbol": "circle"
         },
         "mode": "lines",
         "name": "A8/USDT",
         "orientation": "v",
         "showlegend": true,
         "type": "scatter",
         "x": [
          "2024-03-31T00:00:00+00:00",
          "2024-04-30T00:00:00+00:00",
          "2024-05-31T00:00:00+00:00",
          "2024-06-30T00:00:00+00:00",
          "2024-07-31T00:00:00+00:00",
          "2024-08-31T00:00:00+00:00",
          "2024-09-30T00:00:00+00:00",
          "2024-10-31T00:00:00+00:00",
          "2024-11-30T00:00:00+00:00"
         ],
         "xaxis": "x",
         "y": [
          null,
          null,
          null,
          null,
          null,
          -0.6164784608950227,
          -0.6131325805102463,
          -0.7072354663320783,
          -0.6708490171476367
         ],
         "yaxis": "y"
        },
        {
         "hovertemplate": "symbol=ACA/USDT<br>timestamp=%{x}<br>value=%{y}<extra></extra>",
         "legendgroup": "ACA/USDT",
         "line": {
          "color": "#00cc96",
          "dash": "solid"
         },
         "marker": {
          "symbol": "circle"
         },
         "mode": "lines",
         "name": "ACA/USDT",
         "orientation": "v",
         "showlegend": true,
         "type": "scatter",
         "x": [
          "2024-03-31T00:00:00+00:00",
          "2024-04-30T00:00:00+00:00",
          "2024-05-31T00:00:00+00:00",
          "2024-06-30T00:00:00+00:00",
          "2024-07-31T00:00:00+00:00",
          "2024-08-31T00:00:00+00:00",
          "2024-09-30T00:00:00+00:00",
          "2024-10-31T00:00:00+00:00",
          "2024-11-30T00:00:00+00:00"
         ],
         "xaxis": "x",
         "y": [
          null,
          null,
          null,
          null,
          null,
          -0.5616956850870556,
          -0.6457080371787866,
          -0.4765917602996259,
          -0.3961165048543692
         ],
         "yaxis": "y"
        },
        {
         "hovertemplate": "symbol=AEVO/USDT<br>timestamp=%{x}<br>value=%{y}<extra></extra>",
         "legendgroup": "AEVO/USDT",
         "line": {
          "color": "#ab63fa",
          "dash": "solid"
         },
         "marker": {
          "symbol": "circle"
         },
         "mode": "lines",
         "name": "AEVO/USDT",
         "orientation": "v",
         "showlegend": true,
         "type": "scatter",
         "x": [
          "2024-03-31T00:00:00+00:00",
          "2024-04-30T00:00:00+00:00",
          "2024-05-31T00:00:00+00:00",
          "2024-06-30T00:00:00+00:00",
          "2024-07-31T00:00:00+00:00",
          "2024-08-31T00:00:00+00:00",
          "2024-09-30T00:00:00+00:00",
          "2024-10-31T00:00:00+00:00",
          "2024-11-30T00:00:00+00:00"
         ],
         "xaxis": "x",
         "y": [
          null,
          null,
          null,
          null,
          null,
          -0.9024969915764139,
          -0.8680571909167367,
          -0.7718508997429305,
          -0.5916777926123721
         ],
         "yaxis": "y"
        },
        {
         "hovertemplate": "symbol=ANKR/USDT<br>timestamp=%{x}<br>value=%{y}<extra></extra>",
         "legendgroup": "ANKR/USDT",
         "line": {
          "color": "#FFA15A",
          "dash": "solid"
         },
         "marker": {
          "symbol": "circle"
         },
         "mode": "lines",
         "name": "ANKR/USDT",
         "orientation": "v",
         "showlegend": true,
         "type": "scatter",
         "x": [
          "2024-03-31T00:00:00+00:00",
          "2024-04-30T00:00:00+00:00",
          "2024-05-31T00:00:00+00:00",
          "2024-06-30T00:00:00+00:00",
          "2024-07-31T00:00:00+00:00",
          "2024-08-31T00:00:00+00:00",
          "2024-09-30T00:00:00+00:00",
          "2024-10-31T00:00:00+00:00",
          "2024-11-30T00:00:00+00:00"
         ],
         "xaxis": "x",
         "y": [
          null,
          null,
          null,
          null,
          null,
          -0.5256333532814681,
          -0.5227006198693247,
          -0.4810960067969411,
          -0.25394981412639417
         ],
         "yaxis": "y"
        },
        {
         "hovertemplate": "symbol=ARB/USDT<br>timestamp=%{x}<br>value=%{y}<extra></extra>",
         "legendgroup": "ARB/USDT",
         "line": {
          "color": "#19d3f3",
          "dash": "solid"
         },
         "marker": {
          "symbol": "circle"
         },
         "mode": "lines",
         "name": "ARB/USDT",
         "orientation": "v",
         "showlegend": true,
         "type": "scatter",
         "x": [
          "2024-03-31T00:00:00+00:00",
          "2024-04-30T00:00:00+00:00",
          "2024-05-31T00:00:00+00:00",
          "2024-06-30T00:00:00+00:00",
          "2024-07-31T00:00:00+00:00",
          "2024-08-31T00:00:00+00:00",
          "2024-09-30T00:00:00+00:00",
          "2024-10-31T00:00:00+00:00",
          "2024-11-30T00:00:00+00:00"
         ],
         "xaxis": "x",
         "y": [
          null,
          null,
          null,
          null,
          null,
          -0.7514506769825915,
          -0.6359807460890489,
          -0.4848484848484842,
          -0.41823056300268013
         ],
         "yaxis": "y"
        },
        {
         "hovertemplate": "symbol=ATOM/USDT<br>timestamp=%{x}<br>value=%{y}<extra></extra>",
         "legendgroup": "ATOM/USDT",
         "line": {
          "color": "#FF6692",
          "dash": "solid"
         },
         "marker": {
          "symbol": "circle"
         },
         "mode": "lines",
         "name": "ATOM/USDT",
         "orientation": "v",
         "showlegend": true,
         "type": "scatter",
         "x": [
          "2024-03-31T00:00:00+00:00",
          "2024-04-30T00:00:00+00:00",
          "2024-05-31T00:00:00+00:00",
          "2024-06-30T00:00:00+00:00",
          "2024-07-31T00:00:00+00:00",
          "2024-08-31T00:00:00+00:00",
          "2024-09-30T00:00:00+00:00",
          "2024-10-31T00:00:00+00:00",
          "2024-11-30T00:00:00+00:00"
         ],
         "xaxis": "x",
         "y": [
          null,
          null,
          null,
          null,
          null,
          -0.6537145112205631,
          -0.6154346853260647,
          -0.4980931400416898,
          -0.33002361787246304
         ],
         "yaxis": "y"
        },
        {
         "hovertemplate": "symbol=AURORA/USDT<br>timestamp=%{x}<br>value=%{y}<extra></extra>",
         "legendgroup": "AURORA/USDT",
         "line": {
          "color": "#B6E880",
          "dash": "solid"
         },
         "marker": {
          "symbol": "circle"
         },
         "mode": "lines",
         "name": "AURORA/USDT",
         "orientation": "v",
         "showlegend": true,
         "type": "scatter",
         "x": [
          "2024-03-31T00:00:00+00:00",
          "2024-04-30T00:00:00+00:00",
          "2024-05-31T00:00:00+00:00",
          "2024-06-30T00:00:00+00:00",
          "2024-07-31T00:00:00+00:00",
          "2024-08-31T00:00:00+00:00",
          "2024-09-30T00:00:00+00:00",
          "2024-10-31T00:00:00+00:00",
          "2024-11-30T00:00:00+00:00"
         ],
         "xaxis": "x",
         "y": [
          null,
          null,
          null,
          null,
          null,
          -0.5199833472106581,
          -0.4329725228975856,
          -0.5008326394671112,
          -0.4267277268942551
         ],
         "yaxis": "y"
        },
        {
         "hovertemplate": "symbol=BAT/USDT<br>timestamp=%{x}<br>value=%{y}<extra></extra>",
         "legendgroup": "BAT/USDT",
         "line": {
          "color": "#FF97FF",
          "dash": "solid"
         },
         "marker": {
          "symbol": "circle"
         },
         "mode": "lines",
         "name": "BAT/USDT",
         "orientation": "v",
         "showlegend": true,
         "type": "scatter",
         "x": [
          "2024-03-31T00:00:00+00:00",
          "2024-04-30T00:00:00+00:00",
          "2024-05-31T00:00:00+00:00",
          "2024-06-30T00:00:00+00:00",
          "2024-07-31T00:00:00+00:00",
          "2024-08-31T00:00:00+00:00",
          "2024-09-30T00:00:00+00:00",
          "2024-10-31T00:00:00+00:00",
          "2024-11-30T00:00:00+00:00"
         ],
         "xaxis": "x",
         "y": [
          null,
          null,
          null,
          null,
          null,
          -0.5421111734980355,
          -0.4681926278240197,
          -0.3263334733305343,
          -0.1555190808370953
         ],
         "yaxis": "y"
        },
        {
         "hovertemplate": "symbol=DOT/USDT<br>timestamp=%{x}<br>value=%{y}<extra></extra>",
         "legendgroup": "DOT/USDT",
         "line": {
          "color": "#FECB52",
          "dash": "solid"
         },
         "marker": {
          "symbol": "circle"
         },
         "mode": "lines",
         "name": "DOT/USDT",
         "orientation": "v",
         "showlegend": true,
         "type": "scatter",
         "x": [
          "2024-03-31T00:00:00+00:00",
          "2024-04-30T00:00:00+00:00",
          "2024-05-31T00:00:00+00:00",
          "2024-06-30T00:00:00+00:00",
          "2024-07-31T00:00:00+00:00",
          "2024-08-31T00:00:00+00:00",
          "2024-09-30T00:00:00+00:00",
          "2024-10-31T00:00:00+00:00",
          "2024-11-30T00:00:00+00:00"
         ],
         "xaxis": "x",
         "y": [
          null,
          null,
          null,
          null,
          null,
          -0.5851353984024942,
          -0.54022392701638,
          -0.3840410639290719,
          -0.22522909507445588
         ],
         "yaxis": "y"
        },
        {
         "hovertemplate": "symbol=FIL/USDT<br>timestamp=%{x}<br>value=%{y}<extra></extra>",
         "legendgroup": "FIL/USDT",
         "line": {
          "color": "#636efa",
          "dash": "solid"
         },
         "marker": {
          "symbol": "circle"
         },
         "mode": "lines",
         "name": "FIL/USDT",
         "orientation": "v",
         "showlegend": true,
         "type": "scatter",
         "x": [
          "2024-03-31T00:00:00+00:00",
          "2024-04-30T00:00:00+00:00",
          "2024-05-31T00:00:00+00:00",
          "2024-06-30T00:00:00+00:00",
          "2024-07-31T00:00:00+00:00",
          "2024-08-31T00:00:00+00:00",
          "2024-09-30T00:00:00+00:00",
          "2024-10-31T00:00:00+00:00",
          "2024-11-30T00:00:00+00:00"
         ],
         "xaxis": "x",
         "y": [
          null,
          null,
          null,
          null,
          null,
          -0.6657616328059166,
          -0.6172455330254967,
          -0.3719566376399501,
          -0.23369375653993685
         ],
         "yaxis": "y"
        },
        {
         "hovertemplate": "symbol=FLIP/USDT<br>timestamp=%{x}<br>value=%{y}<extra></extra>",
         "legendgroup": "FLIP/USDT",
         "line": {
          "color": "#EF553B",
          "dash": "solid"
         },
         "marker": {
          "symbol": "circle"
         },
         "mode": "lines",
         "name": "FLIP/USDT",
         "orientation": "v",
         "showlegend": true,
         "type": "scatter",
         "x": [
          "2024-03-31T00:00:00+00:00",
          "2024-04-30T00:00:00+00:00",
          "2024-05-31T00:00:00+00:00",
          "2024-06-30T00:00:00+00:00",
          "2024-07-31T00:00:00+00:00",
          "2024-08-31T00:00:00+00:00",
          "2024-09-30T00:00:00+00:00",
          "2024-10-31T00:00:00+00:00",
          "2024-11-30T00:00:00+00:00"
         ],
         "xaxis": "x",
         "y": [
          null,
          null,
          null,
          null,
          null,
          -0.8794948846946012,
          -0.7660800296406077,
          -0.5438589797397848,
          -0.47808265968347996
         ],
         "yaxis": "y"
        },
        {
         "hovertemplate": "symbol=FTT/USDT<br>timestamp=%{x}<br>value=%{y}<extra></extra>",
         "legendgroup": "FTT/USDT",
         "line": {
          "color": "#00cc96",
          "dash": "solid"
         },
         "marker": {
          "symbol": "circle"
         },
         "mode": "lines",
         "name": "FTT/USDT",
         "orientation": "v",
         "showlegend": true,
         "type": "scatter",
         "x": [
          "2024-03-31T00:00:00+00:00",
          "2024-04-30T00:00:00+00:00",
          "2024-05-31T00:00:00+00:00",
          "2024-06-30T00:00:00+00:00",
          "2024-07-31T00:00:00+00:00",
          "2024-08-31T00:00:00+00:00",
          "2024-09-30T00:00:00+00:00",
          "2024-10-31T00:00:00+00:00",
          "2024-11-30T00:00:00+00:00"
         ],
         "xaxis": "x",
         "y": [
          null,
          null,
          null,
          null,
          null,
          -0.439050888705401,
          -0.04179963379544738,
          0.28618808962264275,
          0.24815786187086375
         ],
         "yaxis": "y"
        },
        {
         "hovertemplate": "symbol=GENE/USDT<br>timestamp=%{x}<br>value=%{y}<extra></extra>",
         "legendgroup": "GENE/USDT",
         "line": {
          "color": "#ab63fa",
          "dash": "solid"
         },
         "marker": {
          "symbol": "circle"
         },
         "mode": "lines",
         "name": "GENE/USDT",
         "orientation": "v",
         "showlegend": true,
         "type": "scatter",
         "x": [
          "2024-03-31T00:00:00+00:00",
          "2024-04-30T00:00:00+00:00",
          "2024-05-31T00:00:00+00:00",
          "2024-06-30T00:00:00+00:00",
          "2024-07-31T00:00:00+00:00",
          "2024-08-31T00:00:00+00:00",
          "2024-09-30T00:00:00+00:00",
          "2024-10-31T00:00:00+00:00",
          "2024-11-30T00:00:00+00:00"
         ],
         "xaxis": "x",
         "y": [
          null,
          null,
          null,
          null,
          null,
          -0.7797074954296161,
          -0.6774632553075668,
          -0.6596906278434942,
          -0.5517941773865944
         ],
         "yaxis": "y"
        },
        {
         "hovertemplate": "symbol=HNT/USDT<br>timestamp=%{x}<br>value=%{y}<extra></extra>",
         "legendgroup": "HNT/USDT",
         "line": {
          "color": "#FFA15A",
          "dash": "solid"
         },
         "marker": {
          "symbol": "circle"
         },
         "mode": "lines",
         "name": "HNT/USDT",
         "orientation": "v",
         "showlegend": true,
         "type": "scatter",
         "x": [
          "2024-03-31T00:00:00+00:00",
          "2024-04-30T00:00:00+00:00",
          "2024-05-31T00:00:00+00:00",
          "2024-06-30T00:00:00+00:00",
          "2024-07-31T00:00:00+00:00",
          "2024-08-31T00:00:00+00:00",
          "2024-09-30T00:00:00+00:00",
          "2024-10-31T00:00:00+00:00",
          "2024-11-30T00:00:00+00:00"
         ],
         "xaxis": "x",
         "y": [
          null,
          null,
          null,
          null,
          null,
          -0.22135864532345606,
          0.2640079158770354,
          0.20096594474339735,
          0.4421860112867375
         ],
         "yaxis": "y"
        },
        {
         "hovertemplate": "symbol=ICX/USDT<br>timestamp=%{x}<br>value=%{y}<extra></extra>",
         "legendgroup": "ICX/USDT",
         "line": {
          "color": "#19d3f3",
          "dash": "solid"
         },
         "marker": {
          "symbol": "circle"
         },
         "mode": "lines",
         "name": "ICX/USDT",
         "orientation": "v",
         "showlegend": true,
         "type": "scatter",
         "x": [
          "2024-03-31T00:00:00+00:00",
          "2024-04-30T00:00:00+00:00",
          "2024-05-31T00:00:00+00:00",
          "2024-06-30T00:00:00+00:00",
          "2024-07-31T00:00:00+00:00",
          "2024-08-31T00:00:00+00:00",
          "2024-09-30T00:00:00+00:00",
          "2024-10-31T00:00:00+00:00",
          "2024-11-30T00:00:00+00:00"
         ],
         "xaxis": "x",
         "y": [
          null,
          null,
          null,
          null,
          null,
          -0.646453415440757,
          -0.5963244438303159,
          -0.41100621690075945,
          -0.2795144434810388
         ],
         "yaxis": "y"
        },
        {
         "hovertemplate": "symbol=INJ/USDT<br>timestamp=%{x}<br>value=%{y}<extra></extra>",
         "legendgroup": "INJ/USDT",
         "line": {
          "color": "#FF6692",
          "dash": "solid"
         },
         "marker": {
          "symbol": "circle"
         },
         "mode": "lines",
         "name": "INJ/USDT",
         "orientation": "v",
         "showlegend": true,
         "type": "scatter",
         "x": [
          "2024-03-31T00:00:00+00:00",
          "2024-04-30T00:00:00+00:00",
          "2024-05-31T00:00:00+00:00",
          "2024-06-30T00:00:00+00:00",
          "2024-07-31T00:00:00+00:00",
          "2024-08-31T00:00:00+00:00",
          "2024-09-30T00:00:00+00:00",
          "2024-10-31T00:00:00+00:00",
          "2024-11-30T00:00:00+00:00"
         ],
         "xaxis": "x",
         "y": [
          null,
          null,
          null,
          null,
          null,
          -0.5696909272183457,
          -0.37832405269591307,
          -0.19776009431181973,
          0.04204019812517701
         ],
         "yaxis": "y"
        },
        {
         "hovertemplate": "symbol=KSM/USDT<br>timestamp=%{x}<br>value=%{y}<extra></extra>",
         "legendgroup": "KSM/USDT",
         "line": {
          "color": "#B6E880",
          "dash": "solid"
         },
         "marker": {
          "symbol": "circle"
         },
         "mode": "lines",
         "name": "KSM/USDT",
         "orientation": "v",
         "showlegend": true,
         "type": "scatter",
         "x": [
          "2024-03-31T00:00:00+00:00",
          "2024-04-30T00:00:00+00:00",
          "2024-05-31T00:00:00+00:00",
          "2024-06-30T00:00:00+00:00",
          "2024-07-31T00:00:00+00:00",
          "2024-08-31T00:00:00+00:00",
          "2024-09-30T00:00:00+00:00",
          "2024-10-31T00:00:00+00:00",
          "2024-11-30T00:00:00+00:00"
         ],
         "xaxis": "x",
         "y": [
          null,
          null,
          null,
          null,
          null,
          -0.6520600625396606,
          -0.5855307710095139,
          -0.4224476951803413,
          -0.3165455800650905
         ],
         "yaxis": "y"
        },
        {
         "hovertemplate": "symbol=LUNA/USDT<br>timestamp=%{x}<br>value=%{y}<extra></extra>",
         "legendgroup": "LUNA/USDT",
         "line": {
          "color": "#FF97FF",
          "dash": "solid"
         },
         "marker": {
          "symbol": "circle"
         },
         "mode": "lines",
         "name": "LUNA/USDT",
         "orientation": "v",
         "showlegend": true,
         "type": "scatter",
         "x": [
          "2024-03-31T00:00:00+00:00",
          "2024-04-30T00:00:00+00:00",
          "2024-05-31T00:00:00+00:00",
          "2024-06-30T00:00:00+00:00",
          "2024-07-31T00:00:00+00:00",
          "2024-08-31T00:00:00+00:00",
          "2024-09-30T00:00:00+00:00",
          "2024-10-31T00:00:00+00:00",
          "2024-11-30T00:00:00+00:00"
         ],
         "xaxis": "x",
         "y": [
          null,
          null,
          null,
          null,
          null,
          -0.6800110690895675,
          -0.650254815582621,
          -0.38953801905446694,
          -0.22862286228622808
         ],
         "yaxis": "y"
        },
        {
         "hovertemplate": "symbol=LUNC/USDT<br>timestamp=%{x}<br>value=%{y}<extra></extra>",
         "legendgroup": "LUNC/USDT",
         "line": {
          "color": "#FECB52",
          "dash": "solid"
         },
         "marker": {
          "symbol": "circle"
         },
         "mode": "lines",
         "name": "LUNC/USDT",
         "orientation": "v",
         "showlegend": true,
         "type": "scatter",
         "x": [
          "2024-03-31T00:00:00+00:00",
          "2024-04-30T00:00:00+00:00",
          "2024-05-31T00:00:00+00:00",
          "2024-06-30T00:00:00+00:00",
          "2024-07-31T00:00:00+00:00",
          "2024-08-31T00:00:00+00:00",
          "2024-09-30T00:00:00+00:00",
          "2024-10-31T00:00:00+00:00",
          "2024-11-30T00:00:00+00:00"
         ],
         "xaxis": "x",
         "y": [
          null,
          null,
          null,
          null,
          null,
          -0.5821341008421281,
          -0.42287585815960227,
          -0.08260738960648939,
          -0.011154910676843599
         ],
         "yaxis": "y"
        },
        {
         "hovertemplate": "symbol=MINA/USDT<br>timestamp=%{x}<br>value=%{y}<extra></extra>",
         "legendgroup": "MINA/USDT",
         "line": {
          "color": "#636efa",
          "dash": "solid"
         },
         "marker": {
          "symbol": "circle"
         },
         "mode": "lines",
         "name": "MINA/USDT",
         "orientation": "v",
         "showlegend": true,
         "type": "scatter",
         "x": [
          "2024-03-31T00:00:00+00:00",
          "2024-04-30T00:00:00+00:00",
          "2024-05-31T00:00:00+00:00",
          "2024-06-30T00:00:00+00:00",
          "2024-07-31T00:00:00+00:00",
          "2024-08-31T00:00:00+00:00",
          "2024-09-30T00:00:00+00:00",
          "2024-10-31T00:00:00+00:00",
          "2024-11-30T00:00:00+00:00"
         ],
         "xaxis": "x",
         "y": [
          null,
          null,
          null,
          null,
          null,
          -0.715608986992511,
          -0.5499596448748991,
          -0.3401711552982635,
          -0.2050169968350719
         ],
         "yaxis": "y"
        },
        {
         "hovertemplate": "symbol=NEAR/USDT<br>timestamp=%{x}<br>value=%{y}<extra></extra>",
         "legendgroup": "NEAR/USDT",
         "line": {
          "color": "#EF553B",
          "dash": "solid"
         },
         "marker": {
          "symbol": "circle"
         },
         "mode": "lines",
         "name": "NEAR/USDT",
         "orientation": "v",
         "showlegend": true,
         "type": "scatter",
         "x": [
          "2024-03-31T00:00:00+00:00",
          "2024-04-30T00:00:00+00:00",
          "2024-05-31T00:00:00+00:00",
          "2024-06-30T00:00:00+00:00",
          "2024-07-31T00:00:00+00:00",
          "2024-08-31T00:00:00+00:00",
          "2024-09-30T00:00:00+00:00",
          "2024-10-31T00:00:00+00:00",
          "2024-11-30T00:00:00+00:00"
         ],
         "xaxis": "x",
         "y": [
          null,
          null,
          null,
          null,
          null,
          -0.32189339162603126,
          -0.27518168106403496,
          -0.34512002067651004,
          -0.16009712890274763
         ],
         "yaxis": "y"
        },
        {
         "hovertemplate": "symbol=OMG/USDT<br>timestamp=%{x}<br>value=%{y}<extra></extra>",
         "legendgroup": "OMG/USDT",
         "line": {
          "color": "#00cc96",
          "dash": "solid"
         },
         "marker": {
          "symbol": "circle"
         },
         "mode": "lines",
         "name": "OMG/USDT",
         "orientation": "v",
         "showlegend": true,
         "type": "scatter",
         "x": [
          "2024-03-31T00:00:00+00:00",
          "2024-04-30T00:00:00+00:00",
          "2024-05-31T00:00:00+00:00",
          "2024-06-30T00:00:00+00:00",
          "2024-07-31T00:00:00+00:00",
          "2024-08-31T00:00:00+00:00",
          "2024-09-30T00:00:00+00:00",
          "2024-10-31T00:00:00+00:00",
          "2024-11-30T00:00:00+00:00"
         ],
         "xaxis": "x",
         "y": [
          null,
          null,
          null,
          null,
          null,
          -0.8188034188034187,
          -0.748882931188561,
          -0.6102819237147594,
          -0.5870653685674547
         ],
         "yaxis": "y"
        },
        {
         "hovertemplate": "symbol=OMNI/USDT<br>timestamp=%{x}<br>value=%{y}<extra></extra>",
         "legendgroup": "OMNI/USDT",
         "line": {
          "color": "#ab63fa",
          "dash": "solid"
         },
         "marker": {
          "symbol": "circle"
         },
         "mode": "lines",
         "name": "OMNI/USDT",
         "orientation": "v",
         "showlegend": true,
         "type": "scatter",
         "x": [
          "2024-03-31T00:00:00+00:00",
          "2024-04-30T00:00:00+00:00",
          "2024-05-31T00:00:00+00:00",
          "2024-06-30T00:00:00+00:00",
          "2024-07-31T00:00:00+00:00",
          "2024-08-31T00:00:00+00:00",
          "2024-09-30T00:00:00+00:00",
          "2024-10-31T00:00:00+00:00",
          "2024-11-30T00:00:00+00:00"
         ],
         "xaxis": "x",
         "y": [
          null,
          null,
          null,
          null,
          null,
          -0.7467289202207168,
          -0.6391385387639097,
          -0.5708696338297946,
          -0.5726311667971807
         ],
         "yaxis": "y"
        },
        {
         "hovertemplate": "symbol=ONDO/USDT<br>timestamp=%{x}<br>value=%{y}<extra></extra>",
         "legendgroup": "ONDO/USDT",
         "line": {
          "color": "#FFA15A",
          "dash": "solid"
         },
         "marker": {
          "symbol": "circle"
         },
         "mode": "lines",
         "name": "ONDO/USDT",
         "orientation": "v",
         "showlegend": true,
         "type": "scatter",
         "x": [
          "2024-03-31T00:00:00+00:00",
          "2024-04-30T00:00:00+00:00",
          "2024-05-31T00:00:00+00:00",
          "2024-06-30T00:00:00+00:00",
          "2024-07-31T00:00:00+00:00",
          "2024-08-31T00:00:00+00:00",
          "2024-09-30T00:00:00+00:00",
          "2024-10-31T00:00:00+00:00",
          "2024-11-30T00:00:00+00:00"
         ],
         "xaxis": "x",
         "y": [
          null,
          null,
          null,
          null,
          null,
          0.05544965051336059,
          -0.23098201936376228,
          -0.07080928734398095,
          -0.2151688830215407
         ],
         "yaxis": "y"
        },
        {
         "hovertemplate": "symbol=ORDER/USDT<br>timestamp=%{x}<br>value=%{y}<extra></extra>",
         "legendgroup": "ORDER/USDT",
         "line": {
          "color": "#19d3f3",
          "dash": "solid"
         },
         "marker": {
          "symbol": "circle"
         },
         "mode": "lines",
         "name": "ORDER/USDT",
         "orientation": "v",
         "showlegend": true,
         "type": "scatter",
         "x": [
          "2024-03-31T00:00:00+00:00",
          "2024-04-30T00:00:00+00:00",
          "2024-05-31T00:00:00+00:00",
          "2024-06-30T00:00:00+00:00",
          "2024-07-31T00:00:00+00:00",
          "2024-08-31T00:00:00+00:00",
          "2024-09-30T00:00:00+00:00",
          "2024-10-31T00:00:00+00:00",
          "2024-11-30T00:00:00+00:00"
         ],
         "xaxis": "x",
         "y": [
          null,
          null,
          null,
          null,
          null,
          -0.11624513618677035,
          -0.31663424124513617,
          -0.45914396887159536,
          -0.23978599221789887
         ],
         "yaxis": "y"
        },
        {
         "hovertemplate": "symbol=PTU/USDT<br>timestamp=%{x}<br>value=%{y}<extra></extra>",
         "legendgroup": "PTU/USDT",
         "line": {
          "color": "#FF6692",
          "dash": "solid"
         },
         "marker": {
          "symbol": "circle"
         },
         "mode": "lines",
         "name": "PTU/USDT",
         "orientation": "v",
         "showlegend": true,
         "type": "scatter",
         "x": [
          "2024-03-31T00:00:00+00:00",
          "2024-04-30T00:00:00+00:00",
          "2024-05-31T00:00:00+00:00",
          "2024-06-30T00:00:00+00:00",
          "2024-07-31T00:00:00+00:00",
          "2024-08-31T00:00:00+00:00",
          "2024-09-30T00:00:00+00:00",
          "2024-10-31T00:00:00+00:00",
          "2024-11-30T00:00:00+00:00"
         ],
         "xaxis": "x",
         "y": [
          null,
          null,
          null,
          null,
          null,
          -0.5527671969527226,
          -0.49433281813498253,
          -0.3593130779392347,
          -0.25165305328665943
         ],
         "yaxis": "y"
        },
        {
         "hovertemplate": "symbol=ROSE/USDT<br>timestamp=%{x}<br>value=%{y}<extra></extra>",
         "legendgroup": "ROSE/USDT",
         "line": {
          "color": "#B6E880",
          "dash": "solid"
         },
         "marker": {
          "symbol": "circle"
         },
         "mode": "lines",
         "name": "ROSE/USDT",
         "orientation": "v",
         "showlegend": true,
         "type": "scatter",
         "x": [
          "2024-03-31T00:00:00+00:00",
          "2024-04-30T00:00:00+00:00",
          "2024-05-31T00:00:00+00:00",
          "2024-06-30T00:00:00+00:00",
          "2024-07-31T00:00:00+00:00",
          "2024-08-31T00:00:00+00:00",
          "2024-09-30T00:00:00+00:00",
          "2024-10-31T00:00:00+00:00",
          "2024-11-30T00:00:00+00:00"
         ],
         "xaxis": "x",
         "y": [
          null,
          null,
          null,
          null,
          null,
          -0.6835213423275324,
          -0.44035763611252454,
          -0.2787030868310021,
          -0.181506849315069
         ],
         "yaxis": "y"
        },
        {
         "hovertemplate": "symbol=SD/USDT<br>timestamp=%{x}<br>value=%{y}<extra></extra>",
         "legendgroup": "SD/USDT",
         "line": {
          "color": "#FF97FF",
          "dash": "solid"
         },
         "marker": {
          "symbol": "circle"
         },
         "mode": "lines",
         "name": "SD/USDT",
         "orientation": "v",
         "showlegend": true,
         "type": "scatter",
         "x": [
          "2024-03-31T00:00:00+00:00",
          "2024-04-30T00:00:00+00:00",
          "2024-05-31T00:00:00+00:00",
          "2024-06-30T00:00:00+00:00",
          "2024-07-31T00:00:00+00:00",
          "2024-08-31T00:00:00+00:00",
          "2024-09-30T00:00:00+00:00",
          "2024-10-31T00:00:00+00:00",
          "2024-11-30T00:00:00+00:00"
         ],
         "xaxis": "x",
         "y": [
          null,
          null,
          null,
          null,
          null,
          -0.521818848551522,
          -0.5623469487706929,
          -0.544987146529563,
          -0.09165808444902157
         ],
         "yaxis": "y"
        },
        {
         "hovertemplate": "symbol=STRK/USDT<br>timestamp=%{x}<br>value=%{y}<extra></extra>",
         "legendgroup": "STRK/USDT",
         "line": {
          "color": "#FECB52",
          "dash": "solid"
         },
         "marker": {
          "symbol": "circle"
         },
         "mode": "lines",
         "name": "STRK/USDT",
         "orientation": "v",
         "showlegend": true,
         "type": "scatter",
         "x": [
          "2024-03-31T00:00:00+00:00",
          "2024-04-30T00:00:00+00:00",
          "2024-05-31T00:00:00+00:00",
          "2024-06-30T00:00:00+00:00",
          "2024-07-31T00:00:00+00:00",
          "2024-08-31T00:00:00+00:00",
          "2024-09-30T00:00:00+00:00",
          "2024-10-31T00:00:00+00:00",
          "2024-11-30T00:00:00+00:00"
         ],
         "xaxis": "x",
         "y": [
          null,
          null,
          null,
          null,
          null,
          -0.853316852080758,
          -0.7985314364387333,
          -0.6973898858075038,
          -0.6067969413763805
         ],
         "yaxis": "y"
        },
        {
         "hovertemplate": "symbol=SUSHI/USDT<br>timestamp=%{x}<br>value=%{y}<extra></extra>",
         "legendgroup": "SUSHI/USDT",
         "line": {
          "color": "#636efa",
          "dash": "solid"
         },
         "marker": {
          "symbol": "circle"
         },
         "mode": "lines",
         "name": "SUSHI/USDT",
         "orientation": "v",
         "showlegend": true,
         "type": "scatter",
         "x": [
          "2024-03-31T00:00:00+00:00",
          "2024-04-30T00:00:00+00:00",
          "2024-05-31T00:00:00+00:00",
          "2024-06-30T00:00:00+00:00",
          "2024-07-31T00:00:00+00:00",
          "2024-08-31T00:00:00+00:00",
          "2024-09-30T00:00:00+00:00",
          "2024-10-31T00:00:00+00:00",
          "2024-11-30T00:00:00+00:00"
         ],
         "xaxis": "x",
         "y": [
          null,
          null,
          null,
          null,
          null,
          -0.7219730941704037,
          -0.5756613756613758,
          -0.2822665267576081,
          -0.32013769363167033
         ],
         "yaxis": "y"
        },
        {
         "hovertemplate": "symbol=TON/USDT<br>timestamp=%{x}<br>value=%{y}<extra></extra>",
         "legendgroup": "TON/USDT",
         "line": {
          "color": "#EF553B",
          "dash": "solid"
         },
         "marker": {
          "symbol": "circle"
         },
         "mode": "lines",
         "name": "TON/USDT",
         "orientation": "v",
         "showlegend": true,
         "type": "scatter",
         "x": [
          "2024-03-31T00:00:00+00:00",
          "2024-04-30T00:00:00+00:00",
          "2024-05-31T00:00:00+00:00",
          "2024-06-30T00:00:00+00:00",
          "2024-07-31T00:00:00+00:00",
          "2024-08-31T00:00:00+00:00",
          "2024-09-30T00:00:00+00:00",
          "2024-10-31T00:00:00+00:00",
          "2024-11-30T00:00:00+00:00"
         ],
         "xaxis": "x",
         "y": [
          null,
          null,
          null,
          null,
          null,
          0.9237865455577652,
          0.05313635441450493,
          -0.061077426728395,
          -0.11906302779663136
         ],
         "yaxis": "y"
        },
        {
         "hovertemplate": "symbol=WAXP/USDT<br>timestamp=%{x}<br>value=%{y}<extra></extra>",
         "legendgroup": "WAXP/USDT",
         "line": {
          "color": "#00cc96",
          "dash": "solid"
         },
         "marker": {
          "symbol": "circle"
         },
         "mode": "lines",
         "name": "WAXP/USDT",
         "orientation": "v",
         "showlegend": true,
         "type": "scatter",
         "x": [
          "2024-03-31T00:00:00+00:00",
          "2024-04-30T00:00:00+00:00",
          "2024-05-31T00:00:00+00:00",
          "2024-06-30T00:00:00+00:00",
          "2024-07-31T00:00:00+00:00",
          "2024-08-31T00:00:00+00:00",
          "2024-09-30T00:00:00+00:00",
          "2024-10-31T00:00:00+00:00",
          "2024-11-30T00:00:00+00:00"
         ],
         "xaxis": "x",
         "y": [
          null,
          null,
          null,
          null,
          null,
          -0.6819153484395037,
          -0.6544910179640715,
          -0.5098475222363401,
          -0.3812018489984589
         ],
         "yaxis": "y"
        },
        {
         "hovertemplate": "symbol=XRP/USDT<br>timestamp=%{x}<br>value=%{y}<extra></extra>",
         "legendgroup": "XRP/USDT",
         "line": {
          "color": "#ab63fa",
          "dash": "solid"
         },
         "marker": {
          "symbol": "circle"
         },
         "mode": "lines",
         "name": "XRP/USDT",
         "orientation": "v",
         "showlegend": true,
         "type": "scatter",
         "x": [
          "2024-03-31T00:00:00+00:00",
          "2024-04-30T00:00:00+00:00",
          "2024-05-31T00:00:00+00:00",
          "2024-06-30T00:00:00+00:00",
          "2024-07-31T00:00:00+00:00",
          "2024-08-31T00:00:00+00:00",
          "2024-09-30T00:00:00+00:00",
          "2024-10-31T00:00:00+00:00",
          "2024-11-30T00:00:00+00:00"
         ],
         "xaxis": "x",
         "y": [
          null,
          null,
          null,
          null,
          null,
          -0.06890314093076655,
          -0.028135431568907188,
          0.01757188498402673,
          1.0863601236476046
         ],
         "yaxis": "y"
        },
        {
         "hovertemplate": "symbol=ZENT/USDT<br>timestamp=%{x}<br>value=%{y}<extra></extra>",
         "legendgroup": "ZENT/USDT",
         "line": {
          "color": "#FFA15A",
          "dash": "solid"
         },
         "marker": {
          "symbol": "circle"
         },
         "mode": "lines",
         "name": "ZENT/USDT",
         "orientation": "v",
         "showlegend": true,
         "type": "scatter",
         "x": [
          "2024-03-31T00:00:00+00:00",
          "2024-04-30T00:00:00+00:00",
          "2024-05-31T00:00:00+00:00",
          "2024-06-30T00:00:00+00:00",
          "2024-07-31T00:00:00+00:00",
          "2024-08-31T00:00:00+00:00",
          "2024-09-30T00:00:00+00:00",
          "2024-10-31T00:00:00+00:00",
          "2024-11-30T00:00:00+00:00"
         ],
         "xaxis": "x",
         "y": [
          null,
          null,
          null,
          null,
          null,
          -0.5151598676956994,
          -0.3980154355016532,
          -0.5501653803748621,
          -0.4523022131773087
         ],
         "yaxis": "y"
        },
        {
         "hovertemplate": "symbol=ZRX/USDT<br>timestamp=%{x}<br>value=%{y}<extra></extra>",
         "legendgroup": "ZRX/USDT",
         "line": {
          "color": "#19d3f3",
          "dash": "solid"
         },
         "marker": {
          "symbol": "circle"
         },
         "mode": "lines",
         "name": "ZRX/USDT",
         "orientation": "v",
         "showlegend": true,
         "type": "scatter",
         "x": [
          "2024-03-31T00:00:00+00:00",
          "2024-04-30T00:00:00+00:00",
          "2024-05-31T00:00:00+00:00",
          "2024-06-30T00:00:00+00:00",
          "2024-07-31T00:00:00+00:00",
          "2024-08-31T00:00:00+00:00",
          "2024-09-30T00:00:00+00:00",
          "2024-10-31T00:00:00+00:00",
          "2024-11-30T00:00:00+00:00"
         ],
         "xaxis": "x",
         "y": [
          null,
          null,
          null,
          null,
          null,
          -0.6371482176360226,
          -0.5600999473961072,
          -0.31374243733794227,
          -0.2685648326279332
         ],
         "yaxis": "y"
        }
       ],
       "layout": {
        "height": 600,
        "legend": {
         "title": {
          "text": "symbol"
         },
         "tracegroupgap": 0
        },
        "template": {
         "data": {
          "bar": [
           {
            "error_x": {
             "color": "#2a3f5f"
            },
            "error_y": {
             "color": "#2a3f5f"
            },
            "marker": {
             "line": {
              "color": "#E5ECF6",
              "width": 0.5
             },
             "pattern": {
              "fillmode": "overlay",
              "size": 10,
              "solidity": 0.2
             }
            },
            "type": "bar"
           }
          ],
          "barpolar": [
           {
            "marker": {
             "line": {
              "color": "#E5ECF6",
              "width": 0.5
             },
             "pattern": {
              "fillmode": "overlay",
              "size": 10,
              "solidity": 0.2
             }
            },
            "type": "barpolar"
           }
          ],
          "carpet": [
           {
            "aaxis": {
             "endlinecolor": "#2a3f5f",
             "gridcolor": "white",
             "linecolor": "white",
             "minorgridcolor": "white",
             "startlinecolor": "#2a3f5f"
            },
            "baxis": {
             "endlinecolor": "#2a3f5f",
             "gridcolor": "white",
             "linecolor": "white",
             "minorgridcolor": "white",
             "startlinecolor": "#2a3f5f"
            },
            "type": "carpet"
           }
          ],
          "choropleth": [
           {
            "colorbar": {
             "outlinewidth": 0,
             "ticks": ""
            },
            "type": "choropleth"
           }
          ],
          "contour": [
           {
            "colorbar": {
             "outlinewidth": 0,
             "ticks": ""
            },
            "colorscale": [
             [
              0,
              "#0d0887"
             ],
             [
              0.1111111111111111,
              "#46039f"
             ],
             [
              0.2222222222222222,
              "#7201a8"
             ],
             [
              0.3333333333333333,
              "#9c179e"
             ],
             [
              0.4444444444444444,
              "#bd3786"
             ],
             [
              0.5555555555555556,
              "#d8576b"
             ],
             [
              0.6666666666666666,
              "#ed7953"
             ],
             [
              0.7777777777777778,
              "#fb9f3a"
             ],
             [
              0.8888888888888888,
              "#fdca26"
             ],
             [
              1,
              "#f0f921"
             ]
            ],
            "type": "contour"
           }
          ],
          "contourcarpet": [
           {
            "colorbar": {
             "outlinewidth": 0,
             "ticks": ""
            },
            "type": "contourcarpet"
           }
          ],
          "heatmap": [
           {
            "colorbar": {
             "outlinewidth": 0,
             "ticks": ""
            },
            "colorscale": [
             [
              0,
              "#0d0887"
             ],
             [
              0.1111111111111111,
              "#46039f"
             ],
             [
              0.2222222222222222,
              "#7201a8"
             ],
             [
              0.3333333333333333,
              "#9c179e"
             ],
             [
              0.4444444444444444,
              "#bd3786"
             ],
             [
              0.5555555555555556,
              "#d8576b"
             ],
             [
              0.6666666666666666,
              "#ed7953"
             ],
             [
              0.7777777777777778,
              "#fb9f3a"
             ],
             [
              0.8888888888888888,
              "#fdca26"
             ],
             [
              1,
              "#f0f921"
             ]
            ],
            "type": "heatmap"
           }
          ],
          "heatmapgl": [
           {
            "colorbar": {
             "outlinewidth": 0,
             "ticks": ""
            },
            "colorscale": [
             [
              0,
              "#0d0887"
             ],
             [
              0.1111111111111111,
              "#46039f"
             ],
             [
              0.2222222222222222,
              "#7201a8"
             ],
             [
              0.3333333333333333,
              "#9c179e"
             ],
             [
              0.4444444444444444,
              "#bd3786"
             ],
             [
              0.5555555555555556,
              "#d8576b"
             ],
             [
              0.6666666666666666,
              "#ed7953"
             ],
             [
              0.7777777777777778,
              "#fb9f3a"
             ],
             [
              0.8888888888888888,
              "#fdca26"
             ],
             [
              1,
              "#f0f921"
             ]
            ],
            "type": "heatmapgl"
           }
          ],
          "histogram": [
           {
            "marker": {
             "pattern": {
              "fillmode": "overlay",
              "size": 10,
              "solidity": 0.2
             }
            },
            "type": "histogram"
           }
          ],
          "histogram2d": [
           {
            "colorbar": {
             "outlinewidth": 0,
             "ticks": ""
            },
            "colorscale": [
             [
              0,
              "#0d0887"
             ],
             [
              0.1111111111111111,
              "#46039f"
             ],
             [
              0.2222222222222222,
              "#7201a8"
             ],
             [
              0.3333333333333333,
              "#9c179e"
             ],
             [
              0.4444444444444444,
              "#bd3786"
             ],
             [
              0.5555555555555556,
              "#d8576b"
             ],
             [
              0.6666666666666666,
              "#ed7953"
             ],
             [
              0.7777777777777778,
              "#fb9f3a"
             ],
             [
              0.8888888888888888,
              "#fdca26"
             ],
             [
              1,
              "#f0f921"
             ]
            ],
            "type": "histogram2d"
           }
          ],
          "histogram2dcontour": [
           {
            "colorbar": {
             "outlinewidth": 0,
             "ticks": ""
            },
            "colorscale": [
             [
              0,
              "#0d0887"
             ],
             [
              0.1111111111111111,
              "#46039f"
             ],
             [
              0.2222222222222222,
              "#7201a8"
             ],
             [
              0.3333333333333333,
              "#9c179e"
             ],
             [
              0.4444444444444444,
              "#bd3786"
             ],
             [
              0.5555555555555556,
              "#d8576b"
             ],
             [
              0.6666666666666666,
              "#ed7953"
             ],
             [
              0.7777777777777778,
              "#fb9f3a"
             ],
             [
              0.8888888888888888,
              "#fdca26"
             ],
             [
              1,
              "#f0f921"
             ]
            ],
            "type": "histogram2dcontour"
           }
          ],
          "mesh3d": [
           {
            "colorbar": {
             "outlinewidth": 0,
             "ticks": ""
            },
            "type": "mesh3d"
           }
          ],
          "parcoords": [
           {
            "line": {
             "colorbar": {
              "outlinewidth": 0,
              "ticks": ""
             }
            },
            "type": "parcoords"
           }
          ],
          "pie": [
           {
            "automargin": true,
            "type": "pie"
           }
          ],
          "scatter": [
           {
            "fillpattern": {
             "fillmode": "overlay",
             "size": 10,
             "solidity": 0.2
            },
            "type": "scatter"
           }
          ],
          "scatter3d": [
           {
            "line": {
             "colorbar": {
              "outlinewidth": 0,
              "ticks": ""
             }
            },
            "marker": {
             "colorbar": {
              "outlinewidth": 0,
              "ticks": ""
             }
            },
            "type": "scatter3d"
           }
          ],
          "scattercarpet": [
           {
            "marker": {
             "colorbar": {
              "outlinewidth": 0,
              "ticks": ""
             }
            },
            "type": "scattercarpet"
           }
          ],
          "scattergeo": [
           {
            "marker": {
             "colorbar": {
              "outlinewidth": 0,
              "ticks": ""
             }
            },
            "type": "scattergeo"
           }
          ],
          "scattergl": [
           {
            "marker": {
             "colorbar": {
              "outlinewidth": 0,
              "ticks": ""
             }
            },
            "type": "scattergl"
           }
          ],
          "scattermapbox": [
           {
            "marker": {
             "colorbar": {
              "outlinewidth": 0,
              "ticks": ""
             }
            },
            "type": "scattermapbox"
           }
          ],
          "scatterpolar": [
           {
            "marker": {
             "colorbar": {
              "outlinewidth": 0,
              "ticks": ""
             }
            },
            "type": "scatterpolar"
           }
          ],
          "scatterpolargl": [
           {
            "marker": {
             "colorbar": {
              "outlinewidth": 0,
              "ticks": ""
             }
            },
            "type": "scatterpolargl"
           }
          ],
          "scatterternary": [
           {
            "marker": {
             "colorbar": {
              "outlinewidth": 0,
              "ticks": ""
             }
            },
            "type": "scatterternary"
           }
          ],
          "surface": [
           {
            "colorbar": {
             "outlinewidth": 0,
             "ticks": ""
            },
            "colorscale": [
             [
              0,
              "#0d0887"
             ],
             [
              0.1111111111111111,
              "#46039f"
             ],
             [
              0.2222222222222222,
              "#7201a8"
             ],
             [
              0.3333333333333333,
              "#9c179e"
             ],
             [
              0.4444444444444444,
              "#bd3786"
             ],
             [
              0.5555555555555556,
              "#d8576b"
             ],
             [
              0.6666666666666666,
              "#ed7953"
             ],
             [
              0.7777777777777778,
              "#fb9f3a"
             ],
             [
              0.8888888888888888,
              "#fdca26"
             ],
             [
              1,
              "#f0f921"
             ]
            ],
            "type": "surface"
           }
          ],
          "table": [
           {
            "cells": {
             "fill": {
              "color": "#EBF0F8"
             },
             "line": {
              "color": "white"
             }
            },
            "header": {
             "fill": {
              "color": "#C8D4E3"
             },
             "line": {
              "color": "white"
             }
            },
            "type": "table"
           }
          ]
         },
         "layout": {
          "annotationdefaults": {
           "arrowcolor": "#2a3f5f",
           "arrowhead": 0,
           "arrowwidth": 1
          },
          "autotypenumbers": "strict",
          "coloraxis": {
           "colorbar": {
            "outlinewidth": 0,
            "ticks": ""
           }
          },
          "colorscale": {
           "diverging": [
            [
             0,
             "#8e0152"
            ],
            [
             0.1,
             "#c51b7d"
            ],
            [
             0.2,
             "#de77ae"
            ],
            [
             0.3,
             "#f1b6da"
            ],
            [
             0.4,
             "#fde0ef"
            ],
            [
             0.5,
             "#f7f7f7"
            ],
            [
             0.6,
             "#e6f5d0"
            ],
            [
             0.7,
             "#b8e186"
            ],
            [
             0.8,
             "#7fbc41"
            ],
            [
             0.9,
             "#4d9221"
            ],
            [
             1,
             "#276419"
            ]
           ],
           "sequential": [
            [
             0,
             "#0d0887"
            ],
            [
             0.1111111111111111,
             "#46039f"
            ],
            [
             0.2222222222222222,
             "#7201a8"
            ],
            [
             0.3333333333333333,
             "#9c179e"
            ],
            [
             0.4444444444444444,
             "#bd3786"
            ],
            [
             0.5555555555555556,
             "#d8576b"
            ],
            [
             0.6666666666666666,
             "#ed7953"
            ],
            [
             0.7777777777777778,
             "#fb9f3a"
            ],
            [
             0.8888888888888888,
             "#fdca26"
            ],
            [
             1,
             "#f0f921"
            ]
           ],
           "sequentialminus": [
            [
             0,
             "#0d0887"
            ],
            [
             0.1111111111111111,
             "#46039f"
            ],
            [
             0.2222222222222222,
             "#7201a8"
            ],
            [
             0.3333333333333333,
             "#9c179e"
            ],
            [
             0.4444444444444444,
             "#bd3786"
            ],
            [
             0.5555555555555556,
             "#d8576b"
            ],
            [
             0.6666666666666666,
             "#ed7953"
            ],
            [
             0.7777777777777778,
             "#fb9f3a"
            ],
            [
             0.8888888888888888,
             "#fdca26"
            ],
            [
             1,
             "#f0f921"
            ]
           ]
          },
          "colorway": [
           "#636efa",
           "#EF553B",
           "#00cc96",
           "#ab63fa",
           "#FFA15A",
           "#19d3f3",
           "#FF6692",
           "#B6E880",
           "#FF97FF",
           "#FECB52"
          ],
          "font": {
           "color": "#2a3f5f"
          },
          "geo": {
           "bgcolor": "white",
           "lakecolor": "white",
           "landcolor": "#E5ECF6",
           "showlakes": true,
           "showland": true,
           "subunitcolor": "white"
          },
          "hoverlabel": {
           "align": "left"
          },
          "hovermode": "closest",
          "mapbox": {
           "style": "light"
          },
          "paper_bgcolor": "white",
          "plot_bgcolor": "#E5ECF6",
          "polar": {
           "angularaxis": {
            "gridcolor": "white",
            "linecolor": "white",
            "ticks": ""
           },
           "bgcolor": "#E5ECF6",
           "radialaxis": {
            "gridcolor": "white",
            "linecolor": "white",
            "ticks": ""
           }
          },
          "scene": {
           "xaxis": {
            "backgroundcolor": "#E5ECF6",
            "gridcolor": "white",
            "gridwidth": 2,
            "linecolor": "white",
            "showbackground": true,
            "ticks": "",
            "zerolinecolor": "white"
           },
           "yaxis": {
            "backgroundcolor": "#E5ECF6",
            "gridcolor": "white",
            "gridwidth": 2,
            "linecolor": "white",
            "showbackground": true,
            "ticks": "",
            "zerolinecolor": "white"
           },
           "zaxis": {
            "backgroundcolor": "#E5ECF6",
            "gridcolor": "white",
            "gridwidth": 2,
            "linecolor": "white",
            "showbackground": true,
            "ticks": "",
            "zerolinecolor": "white"
           }
          },
          "shapedefaults": {
           "line": {
            "color": "#2a3f5f"
           }
          },
          "ternary": {
           "aaxis": {
            "gridcolor": "white",
            "linecolor": "white",
            "ticks": ""
           },
           "baxis": {
            "gridcolor": "white",
            "linecolor": "white",
            "ticks": ""
           },
           "bgcolor": "#E5ECF6",
           "caxis": {
            "gridcolor": "white",
            "linecolor": "white",
            "ticks": ""
           }
          },
          "title": {
           "x": 0.05
          },
          "xaxis": {
           "automargin": true,
           "gridcolor": "white",
           "linecolor": "white",
           "ticks": "",
           "title": {
            "standoff": 15
           },
           "zerolinecolor": "white",
           "zerolinewidth": 2
          },
          "yaxis": {
           "automargin": true,
           "gridcolor": "white",
           "linecolor": "white",
           "ticks": "",
           "title": {
            "standoff": 15
           },
           "zerolinecolor": "white",
           "zerolinewidth": 2
          }
         }
        },
        "title": {
         "text": "Rolling cumulative for 6 months return"
        },
        "width": 1200,
        "xaxis": {
         "anchor": "y",
         "domain": [
          0,
          1
         ],
         "title": {
          "text": "Timestamp"
         }
        },
        "yaxis": {
         "anchor": "x",
         "domain": [
          0,
          1
         ],
         "title": {
          "text": "Cumulative Returns"
         }
        }
       }
      }
     },
     "metadata": {},
     "output_type": "display_data"
    }
   ],
   "source": [
    "# Show cumulative return from past 6 months\n",
    "fig = px.line(past_cum_return_df, x=past_cum_return_df.index, y=past_cum_return_df.columns, title=\"Rolling cumulative for 6 months return\")\n",
    "fig.update_layout(width=1200, height=600, xaxis_title=\"Timestamp\", yaxis_title=\"Cumulative Returns\")\n",
    "fig.show()"
   ]
  },
  {
   "cell_type": "code",
   "execution_count": 13,
   "metadata": {},
   "outputs": [
    {
     "data": {
      "text/html": [
       "<div>\n",
       "<style scoped>\n",
       "    .dataframe tbody tr th:only-of-type {\n",
       "        vertical-align: middle;\n",
       "    }\n",
       "\n",
       "    .dataframe tbody tr th {\n",
       "        vertical-align: top;\n",
       "    }\n",
       "\n",
       "    .dataframe thead th {\n",
       "        text-align: right;\n",
       "    }\n",
       "</style>\n",
       "<table border=\"1\" class=\"dataframe\">\n",
       "  <thead>\n",
       "    <tr style=\"text-align: right;\">\n",
       "      <th></th>\n",
       "      <th>Symbol</th>\n",
       "      <th>Return</th>\n",
       "    </tr>\n",
       "  </thead>\n",
       "  <tbody>\n",
       "    <tr>\n",
       "      <th>0</th>\n",
       "      <td>1INCH/USDT</td>\n",
       "      <td>-0.549547</td>\n",
       "    </tr>\n",
       "    <tr>\n",
       "      <th>1</th>\n",
       "      <td>A8/USDT</td>\n",
       "      <td>-0.613133</td>\n",
       "    </tr>\n",
       "    <tr>\n",
       "      <th>2</th>\n",
       "      <td>ACA/USDT</td>\n",
       "      <td>-0.645708</td>\n",
       "    </tr>\n",
       "    <tr>\n",
       "      <th>3</th>\n",
       "      <td>AEVO/USDT</td>\n",
       "      <td>-0.868057</td>\n",
       "    </tr>\n",
       "    <tr>\n",
       "      <th>4</th>\n",
       "      <td>ANKR/USDT</td>\n",
       "      <td>-0.522701</td>\n",
       "    </tr>\n",
       "  </tbody>\n",
       "</table>\n",
       "</div>"
      ],
      "text/plain": [
       "       Symbol    Return\n",
       "0  1INCH/USDT -0.549547\n",
       "1     A8/USDT -0.613133\n",
       "2    ACA/USDT -0.645708\n",
       "3   AEVO/USDT -0.868057\n",
       "4   ANKR/USDT -0.522701"
      ]
     },
     "execution_count": 13,
     "metadata": {},
     "output_type": "execute_result"
    }
   ],
   "source": [
    "# Define formation and measurement period\n",
    "# Define the dates with timezone information\n",
    "end_of_measurement_period = dt.datetime(2024, 9, 30, tzinfo=pytz.UTC)\n",
    "formation_period = dt.datetime(2024, 10, 31, tzinfo=pytz.UTC)\n",
    "\n",
    "end_of_measurement_period_return_df = past_cum_return_df.loc[end_of_measurement_period]\n",
    "# Transpose the DataFrame so that tickers become rows and returns become a single column\n",
    "end_of_measurement_period_return_df = end_of_measurement_period_return_df.T\n",
    "end_of_measurement_period_return_df = end_of_measurement_period_return_df.reset_index()\n",
    "# Rename columns for clarity\n",
    "end_of_measurement_period_return_df.columns = ['Symbol', 'Return']\n",
    "end_of_measurement_period_return_df.head()"
   ]
  },
  {
   "cell_type": "code",
   "execution_count": 14,
   "metadata": {},
   "outputs": [
    {
     "data": {
      "text/plain": [
       "Symbol    HNT/USDT\n",
       "Return    0.264008\n",
       "Name: 14, dtype: object"
      ]
     },
     "execution_count": 14,
     "metadata": {},
     "output_type": "execute_result"
    }
   ],
   "source": [
    "# highest momentum in the positive direction\n",
    "end_of_measurement_period_return_df.loc[end_of_measurement_period_return_df.iloc[:,1].idxmax()]"
   ]
  },
  {
   "cell_type": "code",
   "execution_count": 15,
   "metadata": {},
   "outputs": [
    {
     "data": {
      "text/plain": [
       "Symbol    AEVO/USDT\n",
       "Return    -0.868057\n",
       "Name: 3, dtype: object"
      ]
     },
     "execution_count": 15,
     "metadata": {},
     "output_type": "execute_result"
    }
   ],
   "source": [
    "# highest momentum in the negative direction\n",
    "end_of_measurement_period_return_df.loc[end_of_measurement_period_return_df.iloc[:,1].idxmin()]"
   ]
  },
  {
   "cell_type": "code",
   "execution_count": 16,
   "metadata": {},
   "outputs": [
    {
     "data": {
      "text/html": [
       "<div>\n",
       "<style scoped>\n",
       "    .dataframe tbody tr th:only-of-type {\n",
       "        vertical-align: middle;\n",
       "    }\n",
       "\n",
       "    .dataframe tbody tr th {\n",
       "        vertical-align: top;\n",
       "    }\n",
       "\n",
       "    .dataframe thead th {\n",
       "        text-align: right;\n",
       "    }\n",
       "</style>\n",
       "<table border=\"1\" class=\"dataframe\">\n",
       "  <thead>\n",
       "    <tr style=\"text-align: right;\">\n",
       "      <th></th>\n",
       "      <th>Symbol</th>\n",
       "      <th>Return</th>\n",
       "      <th>rank</th>\n",
       "    </tr>\n",
       "  </thead>\n",
       "  <tbody>\n",
       "    <tr>\n",
       "      <th>0</th>\n",
       "      <td>1INCH/USDT</td>\n",
       "      <td>-0.549547</td>\n",
       "      <td>5</td>\n",
       "    </tr>\n",
       "    <tr>\n",
       "      <th>1</th>\n",
       "      <td>A8/USDT</td>\n",
       "      <td>-0.613133</td>\n",
       "      <td>3</td>\n",
       "    </tr>\n",
       "    <tr>\n",
       "      <th>2</th>\n",
       "      <td>ACA/USDT</td>\n",
       "      <td>-0.645708</td>\n",
       "      <td>2</td>\n",
       "    </tr>\n",
       "    <tr>\n",
       "      <th>3</th>\n",
       "      <td>AEVO/USDT</td>\n",
       "      <td>-0.868057</td>\n",
       "      <td>0</td>\n",
       "    </tr>\n",
       "    <tr>\n",
       "      <th>4</th>\n",
       "      <td>ANKR/USDT</td>\n",
       "      <td>-0.522701</td>\n",
       "      <td>6</td>\n",
       "    </tr>\n",
       "    <tr>\n",
       "      <th>5</th>\n",
       "      <td>ARB/USDT</td>\n",
       "      <td>-0.635981</td>\n",
       "      <td>2</td>\n",
       "    </tr>\n",
       "    <tr>\n",
       "      <th>6</th>\n",
       "      <td>ATOM/USDT</td>\n",
       "      <td>-0.615435</td>\n",
       "      <td>3</td>\n",
       "    </tr>\n",
       "  </tbody>\n",
       "</table>\n",
       "</div>"
      ],
      "text/plain": [
       "       Symbol    Return  rank\n",
       "0  1INCH/USDT -0.549547     5\n",
       "1     A8/USDT -0.613133     3\n",
       "2    ACA/USDT -0.645708     2\n",
       "3   AEVO/USDT -0.868057     0\n",
       "4   ANKR/USDT -0.522701     6\n",
       "5    ARB/USDT -0.635981     2\n",
       "6   ATOM/USDT -0.615435     3"
      ]
     },
     "execution_count": 16,
     "metadata": {},
     "output_type": "execute_result"
    }
   ],
   "source": [
    "# rank symbols with quantiles\n",
    "end_of_measurement_period_return_df['rank'] = pd.qcut(end_of_measurement_period_return_df.iloc[:,1], 11, labels=False)\n",
    "end_of_measurement_period_return_df.head(7)"
   ]
  },
  {
   "cell_type": "code",
   "execution_count": 17,
   "metadata": {},
   "outputs": [
    {
     "data": {
      "application/vnd.plotly.v1+json": {
       "config": {
        "plotlyServerURL": "https://plot.ly"
       },
       "data": [
        {
         "alignmentgroup": "True",
         "hovertemplate": "Symbol=%{x}<br>Return=%{y}<br>Rank=%{marker.color}<extra></extra>",
         "legendgroup": "",
         "marker": {
          "color": [
           5,
           3,
           2,
           0,
           6,
           2,
           3,
           7,
           7,
           6,
           3,
           0,
           10,
           1,
           10,
           4,
           8,
           4,
           1,
           8,
           5,
           9,
           0,
           2,
           9,
           9,
           6,
           7,
           5,
           0,
           4,
           10,
           1,
           10,
           8,
           5
          ],
          "coloraxis": "coloraxis",
          "pattern": {
           "shape": ""
          }
         },
         "name": "",
         "offsetgroup": "",
         "orientation": "v",
         "showlegend": false,
         "textposition": "auto",
         "type": "bar",
         "x": [
          "1INCH/USDT",
          "A8/USDT",
          "ACA/USDT",
          "AEVO/USDT",
          "ANKR/USDT",
          "ARB/USDT",
          "ATOM/USDT",
          "AURORA/USDT",
          "BAT/USDT",
          "DOT/USDT",
          "FIL/USDT",
          "FLIP/USDT",
          "FTT/USDT",
          "GENE/USDT",
          "HNT/USDT",
          "ICX/USDT",
          "INJ/USDT",
          "KSM/USDT",
          "LUNA/USDT",
          "LUNC/USDT",
          "MINA/USDT",
          "NEAR/USDT",
          "OMG/USDT",
          "OMNI/USDT",
          "ONDO/USDT",
          "ORDER/USDT",
          "PTU/USDT",
          "ROSE/USDT",
          "SD/USDT",
          "STRK/USDT",
          "SUSHI/USDT",
          "TON/USDT",
          "WAXP/USDT",
          "XRP/USDT",
          "ZENT/USDT",
          "ZRX/USDT"
         ],
         "xaxis": "x",
         "y": [
          -0.5495466321243525,
          -0.6131325805102463,
          -0.6457080371787866,
          -0.8680571909167367,
          -0.5227006198693247,
          -0.6359807460890489,
          -0.6154346853260647,
          -0.4329725228975856,
          -0.4681926278240197,
          -0.54022392701638,
          -0.6172455330254967,
          -0.7660800296406077,
          -0.04179963379544738,
          -0.6774632553075668,
          0.2640079158770354,
          -0.5963244438303159,
          -0.37832405269591307,
          -0.5855307710095139,
          -0.650254815582621,
          -0.42287585815960227,
          -0.5499596448748991,
          -0.27518168106403496,
          -0.748882931188561,
          -0.6391385387639097,
          -0.23098201936376228,
          -0.31663424124513617,
          -0.49433281813498253,
          -0.44035763611252454,
          -0.5623469487706929,
          -0.7985314364387333,
          -0.5756613756613758,
          0.05313635441450493,
          -0.6544910179640715,
          -0.028135431568907188,
          -0.3980154355016532,
          -0.5600999473961072
         ],
         "yaxis": "y"
        }
       ],
       "layout": {
        "barmode": "relative",
        "coloraxis": {
         "colorbar": {
          "title": {
           "text": "Rank"
          }
         },
         "colorscale": [
          [
           0,
           "#0d0887"
          ],
          [
           0.1111111111111111,
           "#46039f"
          ],
          [
           0.2222222222222222,
           "#7201a8"
          ],
          [
           0.3333333333333333,
           "#9c179e"
          ],
          [
           0.4444444444444444,
           "#bd3786"
          ],
          [
           0.5555555555555556,
           "#d8576b"
          ],
          [
           0.6666666666666666,
           "#ed7953"
          ],
          [
           0.7777777777777778,
           "#fb9f3a"
          ],
          [
           0.8888888888888888,
           "#fdca26"
          ],
          [
           1,
           "#f0f921"
          ]
         ]
        },
        "height": 600,
        "legend": {
         "tracegroupgap": 0
        },
        "template": {
         "data": {
          "bar": [
           {
            "error_x": {
             "color": "#2a3f5f"
            },
            "error_y": {
             "color": "#2a3f5f"
            },
            "marker": {
             "line": {
              "color": "#E5ECF6",
              "width": 0.5
             },
             "pattern": {
              "fillmode": "overlay",
              "size": 10,
              "solidity": 0.2
             }
            },
            "type": "bar"
           }
          ],
          "barpolar": [
           {
            "marker": {
             "line": {
              "color": "#E5ECF6",
              "width": 0.5
             },
             "pattern": {
              "fillmode": "overlay",
              "size": 10,
              "solidity": 0.2
             }
            },
            "type": "barpolar"
           }
          ],
          "carpet": [
           {
            "aaxis": {
             "endlinecolor": "#2a3f5f",
             "gridcolor": "white",
             "linecolor": "white",
             "minorgridcolor": "white",
             "startlinecolor": "#2a3f5f"
            },
            "baxis": {
             "endlinecolor": "#2a3f5f",
             "gridcolor": "white",
             "linecolor": "white",
             "minorgridcolor": "white",
             "startlinecolor": "#2a3f5f"
            },
            "type": "carpet"
           }
          ],
          "choropleth": [
           {
            "colorbar": {
             "outlinewidth": 0,
             "ticks": ""
            },
            "type": "choropleth"
           }
          ],
          "contour": [
           {
            "colorbar": {
             "outlinewidth": 0,
             "ticks": ""
            },
            "colorscale": [
             [
              0,
              "#0d0887"
             ],
             [
              0.1111111111111111,
              "#46039f"
             ],
             [
              0.2222222222222222,
              "#7201a8"
             ],
             [
              0.3333333333333333,
              "#9c179e"
             ],
             [
              0.4444444444444444,
              "#bd3786"
             ],
             [
              0.5555555555555556,
              "#d8576b"
             ],
             [
              0.6666666666666666,
              "#ed7953"
             ],
             [
              0.7777777777777778,
              "#fb9f3a"
             ],
             [
              0.8888888888888888,
              "#fdca26"
             ],
             [
              1,
              "#f0f921"
             ]
            ],
            "type": "contour"
           }
          ],
          "contourcarpet": [
           {
            "colorbar": {
             "outlinewidth": 0,
             "ticks": ""
            },
            "type": "contourcarpet"
           }
          ],
          "heatmap": [
           {
            "colorbar": {
             "outlinewidth": 0,
             "ticks": ""
            },
            "colorscale": [
             [
              0,
              "#0d0887"
             ],
             [
              0.1111111111111111,
              "#46039f"
             ],
             [
              0.2222222222222222,
              "#7201a8"
             ],
             [
              0.3333333333333333,
              "#9c179e"
             ],
             [
              0.4444444444444444,
              "#bd3786"
             ],
             [
              0.5555555555555556,
              "#d8576b"
             ],
             [
              0.6666666666666666,
              "#ed7953"
             ],
             [
              0.7777777777777778,
              "#fb9f3a"
             ],
             [
              0.8888888888888888,
              "#fdca26"
             ],
             [
              1,
              "#f0f921"
             ]
            ],
            "type": "heatmap"
           }
          ],
          "heatmapgl": [
           {
            "colorbar": {
             "outlinewidth": 0,
             "ticks": ""
            },
            "colorscale": [
             [
              0,
              "#0d0887"
             ],
             [
              0.1111111111111111,
              "#46039f"
             ],
             [
              0.2222222222222222,
              "#7201a8"
             ],
             [
              0.3333333333333333,
              "#9c179e"
             ],
             [
              0.4444444444444444,
              "#bd3786"
             ],
             [
              0.5555555555555556,
              "#d8576b"
             ],
             [
              0.6666666666666666,
              "#ed7953"
             ],
             [
              0.7777777777777778,
              "#fb9f3a"
             ],
             [
              0.8888888888888888,
              "#fdca26"
             ],
             [
              1,
              "#f0f921"
             ]
            ],
            "type": "heatmapgl"
           }
          ],
          "histogram": [
           {
            "marker": {
             "pattern": {
              "fillmode": "overlay",
              "size": 10,
              "solidity": 0.2
             }
            },
            "type": "histogram"
           }
          ],
          "histogram2d": [
           {
            "colorbar": {
             "outlinewidth": 0,
             "ticks": ""
            },
            "colorscale": [
             [
              0,
              "#0d0887"
             ],
             [
              0.1111111111111111,
              "#46039f"
             ],
             [
              0.2222222222222222,
              "#7201a8"
             ],
             [
              0.3333333333333333,
              "#9c179e"
             ],
             [
              0.4444444444444444,
              "#bd3786"
             ],
             [
              0.5555555555555556,
              "#d8576b"
             ],
             [
              0.6666666666666666,
              "#ed7953"
             ],
             [
              0.7777777777777778,
              "#fb9f3a"
             ],
             [
              0.8888888888888888,
              "#fdca26"
             ],
             [
              1,
              "#f0f921"
             ]
            ],
            "type": "histogram2d"
           }
          ],
          "histogram2dcontour": [
           {
            "colorbar": {
             "outlinewidth": 0,
             "ticks": ""
            },
            "colorscale": [
             [
              0,
              "#0d0887"
             ],
             [
              0.1111111111111111,
              "#46039f"
             ],
             [
              0.2222222222222222,
              "#7201a8"
             ],
             [
              0.3333333333333333,
              "#9c179e"
             ],
             [
              0.4444444444444444,
              "#bd3786"
             ],
             [
              0.5555555555555556,
              "#d8576b"
             ],
             [
              0.6666666666666666,
              "#ed7953"
             ],
             [
              0.7777777777777778,
              "#fb9f3a"
             ],
             [
              0.8888888888888888,
              "#fdca26"
             ],
             [
              1,
              "#f0f921"
             ]
            ],
            "type": "histogram2dcontour"
           }
          ],
          "mesh3d": [
           {
            "colorbar": {
             "outlinewidth": 0,
             "ticks": ""
            },
            "type": "mesh3d"
           }
          ],
          "parcoords": [
           {
            "line": {
             "colorbar": {
              "outlinewidth": 0,
              "ticks": ""
             }
            },
            "type": "parcoords"
           }
          ],
          "pie": [
           {
            "automargin": true,
            "type": "pie"
           }
          ],
          "scatter": [
           {
            "fillpattern": {
             "fillmode": "overlay",
             "size": 10,
             "solidity": 0.2
            },
            "type": "scatter"
           }
          ],
          "scatter3d": [
           {
            "line": {
             "colorbar": {
              "outlinewidth": 0,
              "ticks": ""
             }
            },
            "marker": {
             "colorbar": {
              "outlinewidth": 0,
              "ticks": ""
             }
            },
            "type": "scatter3d"
           }
          ],
          "scattercarpet": [
           {
            "marker": {
             "colorbar": {
              "outlinewidth": 0,
              "ticks": ""
             }
            },
            "type": "scattercarpet"
           }
          ],
          "scattergeo": [
           {
            "marker": {
             "colorbar": {
              "outlinewidth": 0,
              "ticks": ""
             }
            },
            "type": "scattergeo"
           }
          ],
          "scattergl": [
           {
            "marker": {
             "colorbar": {
              "outlinewidth": 0,
              "ticks": ""
             }
            },
            "type": "scattergl"
           }
          ],
          "scattermapbox": [
           {
            "marker": {
             "colorbar": {
              "outlinewidth": 0,
              "ticks": ""
             }
            },
            "type": "scattermapbox"
           }
          ],
          "scatterpolar": [
           {
            "marker": {
             "colorbar": {
              "outlinewidth": 0,
              "ticks": ""
             }
            },
            "type": "scatterpolar"
           }
          ],
          "scatterpolargl": [
           {
            "marker": {
             "colorbar": {
              "outlinewidth": 0,
              "ticks": ""
             }
            },
            "type": "scatterpolargl"
           }
          ],
          "scatterternary": [
           {
            "marker": {
             "colorbar": {
              "outlinewidth": 0,
              "ticks": ""
             }
            },
            "type": "scatterternary"
           }
          ],
          "surface": [
           {
            "colorbar": {
             "outlinewidth": 0,
             "ticks": ""
            },
            "colorscale": [
             [
              0,
              "#0d0887"
             ],
             [
              0.1111111111111111,
              "#46039f"
             ],
             [
              0.2222222222222222,
              "#7201a8"
             ],
             [
              0.3333333333333333,
              "#9c179e"
             ],
             [
              0.4444444444444444,
              "#bd3786"
             ],
             [
              0.5555555555555556,
              "#d8576b"
             ],
             [
              0.6666666666666666,
              "#ed7953"
             ],
             [
              0.7777777777777778,
              "#fb9f3a"
             ],
             [
              0.8888888888888888,
              "#fdca26"
             ],
             [
              1,
              "#f0f921"
             ]
            ],
            "type": "surface"
           }
          ],
          "table": [
           {
            "cells": {
             "fill": {
              "color": "#EBF0F8"
             },
             "line": {
              "color": "white"
             }
            },
            "header": {
             "fill": {
              "color": "#C8D4E3"
             },
             "line": {
              "color": "white"
             }
            },
            "type": "table"
           }
          ]
         },
         "layout": {
          "annotationdefaults": {
           "arrowcolor": "#2a3f5f",
           "arrowhead": 0,
           "arrowwidth": 1
          },
          "autotypenumbers": "strict",
          "coloraxis": {
           "colorbar": {
            "outlinewidth": 0,
            "ticks": ""
           }
          },
          "colorscale": {
           "diverging": [
            [
             0,
             "#8e0152"
            ],
            [
             0.1,
             "#c51b7d"
            ],
            [
             0.2,
             "#de77ae"
            ],
            [
             0.3,
             "#f1b6da"
            ],
            [
             0.4,
             "#fde0ef"
            ],
            [
             0.5,
             "#f7f7f7"
            ],
            [
             0.6,
             "#e6f5d0"
            ],
            [
             0.7,
             "#b8e186"
            ],
            [
             0.8,
             "#7fbc41"
            ],
            [
             0.9,
             "#4d9221"
            ],
            [
             1,
             "#276419"
            ]
           ],
           "sequential": [
            [
             0,
             "#0d0887"
            ],
            [
             0.1111111111111111,
             "#46039f"
            ],
            [
             0.2222222222222222,
             "#7201a8"
            ],
            [
             0.3333333333333333,
             "#9c179e"
            ],
            [
             0.4444444444444444,
             "#bd3786"
            ],
            [
             0.5555555555555556,
             "#d8576b"
            ],
            [
             0.6666666666666666,
             "#ed7953"
            ],
            [
             0.7777777777777778,
             "#fb9f3a"
            ],
            [
             0.8888888888888888,
             "#fdca26"
            ],
            [
             1,
             "#f0f921"
            ]
           ],
           "sequentialminus": [
            [
             0,
             "#0d0887"
            ],
            [
             0.1111111111111111,
             "#46039f"
            ],
            [
             0.2222222222222222,
             "#7201a8"
            ],
            [
             0.3333333333333333,
             "#9c179e"
            ],
            [
             0.4444444444444444,
             "#bd3786"
            ],
            [
             0.5555555555555556,
             "#d8576b"
            ],
            [
             0.6666666666666666,
             "#ed7953"
            ],
            [
             0.7777777777777778,
             "#fb9f3a"
            ],
            [
             0.8888888888888888,
             "#fdca26"
            ],
            [
             1,
             "#f0f921"
            ]
           ]
          },
          "colorway": [
           "#636efa",
           "#EF553B",
           "#00cc96",
           "#ab63fa",
           "#FFA15A",
           "#19d3f3",
           "#FF6692",
           "#B6E880",
           "#FF97FF",
           "#FECB52"
          ],
          "font": {
           "color": "#2a3f5f"
          },
          "geo": {
           "bgcolor": "white",
           "lakecolor": "white",
           "landcolor": "#E5ECF6",
           "showlakes": true,
           "showland": true,
           "subunitcolor": "white"
          },
          "hoverlabel": {
           "align": "left"
          },
          "hovermode": "closest",
          "mapbox": {
           "style": "light"
          },
          "paper_bgcolor": "white",
          "plot_bgcolor": "#E5ECF6",
          "polar": {
           "angularaxis": {
            "gridcolor": "white",
            "linecolor": "white",
            "ticks": ""
           },
           "bgcolor": "#E5ECF6",
           "radialaxis": {
            "gridcolor": "white",
            "linecolor": "white",
            "ticks": ""
           }
          },
          "scene": {
           "xaxis": {
            "backgroundcolor": "#E5ECF6",
            "gridcolor": "white",
            "gridwidth": 2,
            "linecolor": "white",
            "showbackground": true,
            "ticks": "",
            "zerolinecolor": "white"
           },
           "yaxis": {
            "backgroundcolor": "#E5ECF6",
            "gridcolor": "white",
            "gridwidth": 2,
            "linecolor": "white",
            "showbackground": true,
            "ticks": "",
            "zerolinecolor": "white"
           },
           "zaxis": {
            "backgroundcolor": "#E5ECF6",
            "gridcolor": "white",
            "gridwidth": 2,
            "linecolor": "white",
            "showbackground": true,
            "ticks": "",
            "zerolinecolor": "white"
           }
          },
          "shapedefaults": {
           "line": {
            "color": "#2a3f5f"
           }
          },
          "ternary": {
           "aaxis": {
            "gridcolor": "white",
            "linecolor": "white",
            "ticks": ""
           },
           "baxis": {
            "gridcolor": "white",
            "linecolor": "white",
            "ticks": ""
           },
           "bgcolor": "#E5ECF6",
           "caxis": {
            "gridcolor": "white",
            "linecolor": "white",
            "ticks": ""
           }
          },
          "title": {
           "x": 0.05
          },
          "xaxis": {
           "automargin": true,
           "gridcolor": "white",
           "linecolor": "white",
           "ticks": "",
           "title": {
            "standoff": 15
           },
           "zerolinecolor": "white",
           "zerolinewidth": 2
          },
          "yaxis": {
           "automargin": true,
           "gridcolor": "white",
           "linecolor": "white",
           "ticks": "",
           "title": {
            "standoff": 15
           },
           "zerolinecolor": "white",
           "zerolinewidth": 2
          }
         }
        },
        "title": {
         "text": "Asset Returns and Ranks"
        },
        "width": 1000,
        "xaxis": {
         "anchor": "y",
         "domain": [
          0,
          1
         ],
         "title": {
          "text": "Symbol"
         }
        },
        "yaxis": {
         "anchor": "x",
         "domain": [
          0,
          1
         ],
         "title": {
          "text": "Return"
         }
        }
       }
      }
     },
     "metadata": {},
     "output_type": "display_data"
    }
   ],
   "source": [
    "# Create a bar plot to visualize ranks\n",
    "fig = px.bar(\n",
    "    end_of_measurement_period_return_df, \n",
    "    x='Symbol', \n",
    "    y='Return', \n",
    "    color='rank',  # Color by rank to visually distinguish groups\n",
    "    title=\"Asset Returns and Ranks\",\n",
    "    labels={'rank': 'Rank'},\n",
    ")\n",
    "\n",
    "# Customize layout for readability\n",
    "fig.update_layout(\n",
    "    xaxis_title=\"Symbol\",\n",
    "    yaxis_title=\"Return\",\n",
    "    coloraxis_colorbar=dict(title=\"Rank\"),\n",
    "    width=1000,\n",
    "    height=600\n",
    ")\n",
    "\n",
    "fig.show()\n"
   ]
  },
  {
   "cell_type": "code",
   "execution_count": 18,
   "metadata": {},
   "outputs": [
    {
     "data": {
      "text/plain": [
       "array(['FTT/USDT', 'HNT/USDT', 'TON/USDT', 'XRP/USDT'], dtype=object)"
      ]
     },
     "execution_count": 18,
     "metadata": {},
     "output_type": "execute_result"
    }
   ],
   "source": [
    "# select highest rank\n",
    "long_stocks = end_of_measurement_period_return_df.loc[end_of_measurement_period_return_df[\"rank\"]==10,\"Symbol\"].values\n",
    "long_stocks"
   ]
  },
  {
   "cell_type": "code",
   "execution_count": 19,
   "metadata": {},
   "outputs": [
    {
     "data": {
      "text/plain": [
       "array(['AEVO/USDT', 'FLIP/USDT', 'OMG/USDT', 'STRK/USDT'], dtype=object)"
      ]
     },
     "execution_count": 19,
     "metadata": {},
     "output_type": "execute_result"
    }
   ],
   "source": [
    "# select lowest rank\n",
    "short_stocks = end_of_measurement_period_return_df.loc[end_of_measurement_period_return_df[\"rank\"]==0,\"Symbol\"].values\n",
    "short_stocks"
   ]
  },
  {
   "cell_type": "code",
   "execution_count": 20,
   "metadata": {},
   "outputs": [
    {
     "data": {
      "text/plain": [
       "symbol\n",
       "FTT/USDT    0.145378\n",
       "HNT/USDT   -0.065342\n",
       "TON/USDT    0.151434\n",
       "XRP/USDT    1.119113\n",
       "Name: 2024-11-30 00:00:00+00:00, dtype: float64"
      ]
     },
     "execution_count": 20,
     "metadata": {},
     "output_type": "execute_result"
    }
   ],
   "source": [
    "# long strategy return\n",
    "from dateutil.relativedelta import relativedelta\n",
    "\n",
    "long_return_df = returns_df.loc[formation_period + relativedelta(months=1), \\\n",
    "                                   returns_df.columns.isin(long_stocks)]\n",
    "long_return_df"
   ]
  },
  {
   "cell_type": "code",
   "execution_count": 21,
   "metadata": {},
   "outputs": [
    {
     "data": {
      "text/plain": [
       "symbol\n",
       "AEVO/USDT    0.148670\n",
       "FLIP/USDT    0.150314\n",
       "OMG/USDT     0.263404\n",
       "STRK/USDT    0.247439\n",
       "Name: 2024-11-30 00:00:00+00:00, dtype: float64"
      ]
     },
     "execution_count": 21,
     "metadata": {},
     "output_type": "execute_result"
    }
   ],
   "source": [
    "# short strategy return\n",
    "short_return_df = returns_df.loc[formation_period + relativedelta(months=1), \\\n",
    "                                   returns_df.columns.isin(short_stocks)]\n",
    "short_return_df"
   ]
  },
  {
   "cell_type": "code",
   "execution_count": 23,
   "metadata": {},
   "outputs": [],
   "source": [
    "# Define Strategy tester class\n",
    "class strategyTester:\n",
    "    \"\"\"Calculate metrics based on cumulative return\"\"\"\n",
    "\n",
    "    def __init__(self, df: pd.Series, period: str, riskfree_rate: float = 0.03, initial_wealth: int = 1000):\n",
    "        self.annualized_return_value = self.annualized_return(df, period)\n",
    "        self.annualized_volatility_value = self.annualized_volatility(df, period)\n",
    "        self.sharpe_ratio_value = self.sharpe_ratio(df, riskfree_rate)\n",
    "        self.max_drawdown_value = self.max_drawdown(df, initial_wealth)\n",
    "        \n",
    "    # annualized return\n",
    "    @staticmethod\n",
    "    def annualized_return(df: pd.Series, period: str):\n",
    "        if period == 'daily':\n",
    "            factor = 252\n",
    "        elif period == 'weekly':\n",
    "            factor = 52\n",
    "        elif period == 'monthly':\n",
    "            factor = 12\n",
    "        else:\n",
    "            raise ValueError(\"Invalid period. Use 'daily', 'weekly', or 'monthly'.\")\n",
    "        \n",
    "        annualized_return = (1 + df) ** (factor / len(df)) - 1\n",
    "        print(f\"Annualized return: {annualized_return}\")\n",
    "        return annualized_return\n",
    "\n",
    "    # annualized volatility\n",
    "    @staticmethod\n",
    "    def annualized_volatility(df: pd.Series, period: str):\n",
    "        if period == 'daily':\n",
    "            factor = 252\n",
    "        elif period == 'weekly':\n",
    "            factor = 52\n",
    "        elif period == 'monthly':\n",
    "            factor = 12\n",
    "        else:\n",
    "            raise ValueError(\"Invalid period. Use 'daily', 'weekly', or 'monthly'.\")\n",
    "        \n",
    "        volatility = df.std() * (factor ** 0.5)\n",
    "        print(f\"Annualized volatility: {volatility}\")\n",
    "        return volatility\n",
    "\n",
    "    # Sharpe ratio\n",
    "    @staticmethod\n",
    "    def sharpe_ratio(df: pd.Series, riskfree_rate: float = 0.03):\n",
    "        excess_return = df.mean() - riskfree_rate\n",
    "        volatility = df.std()\n",
    "        sharpe_ratio = excess_return / volatility if volatility != 0 else np.nan\n",
    "        print(f\"Sharpe ratio: {sharpe_ratio}\")\n",
    "        return sharpe_ratio\n",
    "\n",
    "    # Drawdown calculation\n",
    "    @staticmethod\n",
    "    def drawdown(return_series: pd.Series, initial_wealth: float = 100):\n",
    "        prior_peaks_series = return_series.cummax()\n",
    "        drawdown_series = (return_series - prior_peaks_series) / prior_peaks_series\n",
    "        return pd.DataFrame({\n",
    "            \"Wealth Index\": return_series,\n",
    "            \"Prior Peaks\": prior_peaks_series,\n",
    "            \"Drawdown\": drawdown_series\n",
    "        })\n",
    "    \n",
    "    # Max drawdown\n",
    "    @staticmethod\n",
    "    def max_drawdown(df: pd.Series, initial_wealth):\n",
    "        drawdown_df = strategyTester.drawdown(df, initial_wealth)\n",
    "        max_drawdown = drawdown_df[\"Drawdown\"].min()\n",
    "        print(f\"Max drawdown: {max_drawdown} with initial wealth: {initial_wealth}\")\n",
    "        return max_drawdown\n"
   ]
  },
  {
   "cell_type": "code",
   "execution_count": 24,
   "metadata": {},
   "outputs": [
    {
     "name": "stdout",
     "output_type": "stream",
     "text": [
      "Annualized return: symbol\n",
      "FTT/USDT    0.502613\n",
      "HNT/USDT   -0.183496\n",
      "TON/USDT    0.526571\n",
      "XRP/USDT    8.516174\n",
      "Name: 2024-11-30 00:00:00+00:00, dtype: float64\n",
      "Annualized volatility: 1.8381858323853406\n",
      "Sharpe ratio: 0.5797653710852276\n",
      "Max drawdown: -1.4494611915905513 with initial wealth: 1000\n"
     ]
    }
   ],
   "source": [
    "# long momentum strategy test\n",
    "long_momentum_strategy_test = strategyTester(long_return_df, 'monthly', 0.03, 1000)"
   ]
  },
  {
   "cell_type": "code",
   "execution_count": 25,
   "metadata": {},
   "outputs": [
    {
     "name": "stdout",
     "output_type": "stream",
     "text": [
      "Annualized return: symbol\n",
      "AEVO/USDT    0.515604\n",
      "FLIP/USDT    0.522120\n",
      "OMG/USDT     1.016634\n",
      "STRK/USDT    0.941147\n",
      "Name: 2024-11-30 00:00:00+00:00, dtype: float64\n",
      "Annualized volatility: 0.21307247108208466\n",
      "Sharpe ratio: 2.803777388779988\n",
      "Max drawdown: -0.060609887262734564 with initial wealth: 1000\n"
     ]
    }
   ],
   "source": [
    "# short momentum strategy test\n",
    "short_momentum_strategy_test = strategyTester(short_return_df, 'monthly', 0.03, 1000)"
   ]
  },
  {
   "cell_type": "code",
   "execution_count": 22,
   "metadata": {},
   "outputs": [
    {
     "data": {
      "application/vnd.plotly.v1+json": {
       "config": {
        "plotlyServerURL": "https://plot.ly"
       },
       "data": [
        {
         "marker": {
          "color": "blue"
         },
         "name": "Long",
         "type": "bar",
         "x": [
          "FTT/USDT",
          "HNT/USDT",
          "TON/USDT",
          "XRP/USDT"
         ],
         "y": [
          0.1453784883387772,
          -0.06534198860037987,
          0.15143387662471608,
          1.1191130298273144
         ]
        },
        {
         "marker": {
          "color": "red"
         },
         "name": "Short",
         "type": "bar",
         "x": [
          "AEVO/USDT",
          "FLIP/USDT",
          "OMG/USDT",
          "STRK/USDT"
         ],
         "y": [
          0.14866979655712043,
          0.15031367628607262,
          0.2634042553191487,
          0.24743935309973053
         ]
        }
       ],
       "layout": {
        "height": 500,
        "legend": {
         "title": {
          "text": "Strategies"
         }
        },
        "template": {
         "data": {
          "bar": [
           {
            "error_x": {
             "color": "#2a3f5f"
            },
            "error_y": {
             "color": "#2a3f5f"
            },
            "marker": {
             "line": {
              "color": "#E5ECF6",
              "width": 0.5
             },
             "pattern": {
              "fillmode": "overlay",
              "size": 10,
              "solidity": 0.2
             }
            },
            "type": "bar"
           }
          ],
          "barpolar": [
           {
            "marker": {
             "line": {
              "color": "#E5ECF6",
              "width": 0.5
             },
             "pattern": {
              "fillmode": "overlay",
              "size": 10,
              "solidity": 0.2
             }
            },
            "type": "barpolar"
           }
          ],
          "carpet": [
           {
            "aaxis": {
             "endlinecolor": "#2a3f5f",
             "gridcolor": "white",
             "linecolor": "white",
             "minorgridcolor": "white",
             "startlinecolor": "#2a3f5f"
            },
            "baxis": {
             "endlinecolor": "#2a3f5f",
             "gridcolor": "white",
             "linecolor": "white",
             "minorgridcolor": "white",
             "startlinecolor": "#2a3f5f"
            },
            "type": "carpet"
           }
          ],
          "choropleth": [
           {
            "colorbar": {
             "outlinewidth": 0,
             "ticks": ""
            },
            "type": "choropleth"
           }
          ],
          "contour": [
           {
            "colorbar": {
             "outlinewidth": 0,
             "ticks": ""
            },
            "colorscale": [
             [
              0,
              "#0d0887"
             ],
             [
              0.1111111111111111,
              "#46039f"
             ],
             [
              0.2222222222222222,
              "#7201a8"
             ],
             [
              0.3333333333333333,
              "#9c179e"
             ],
             [
              0.4444444444444444,
              "#bd3786"
             ],
             [
              0.5555555555555556,
              "#d8576b"
             ],
             [
              0.6666666666666666,
              "#ed7953"
             ],
             [
              0.7777777777777778,
              "#fb9f3a"
             ],
             [
              0.8888888888888888,
              "#fdca26"
             ],
             [
              1,
              "#f0f921"
             ]
            ],
            "type": "contour"
           }
          ],
          "contourcarpet": [
           {
            "colorbar": {
             "outlinewidth": 0,
             "ticks": ""
            },
            "type": "contourcarpet"
           }
          ],
          "heatmap": [
           {
            "colorbar": {
             "outlinewidth": 0,
             "ticks": ""
            },
            "colorscale": [
             [
              0,
              "#0d0887"
             ],
             [
              0.1111111111111111,
              "#46039f"
             ],
             [
              0.2222222222222222,
              "#7201a8"
             ],
             [
              0.3333333333333333,
              "#9c179e"
             ],
             [
              0.4444444444444444,
              "#bd3786"
             ],
             [
              0.5555555555555556,
              "#d8576b"
             ],
             [
              0.6666666666666666,
              "#ed7953"
             ],
             [
              0.7777777777777778,
              "#fb9f3a"
             ],
             [
              0.8888888888888888,
              "#fdca26"
             ],
             [
              1,
              "#f0f921"
             ]
            ],
            "type": "heatmap"
           }
          ],
          "heatmapgl": [
           {
            "colorbar": {
             "outlinewidth": 0,
             "ticks": ""
            },
            "colorscale": [
             [
              0,
              "#0d0887"
             ],
             [
              0.1111111111111111,
              "#46039f"
             ],
             [
              0.2222222222222222,
              "#7201a8"
             ],
             [
              0.3333333333333333,
              "#9c179e"
             ],
             [
              0.4444444444444444,
              "#bd3786"
             ],
             [
              0.5555555555555556,
              "#d8576b"
             ],
             [
              0.6666666666666666,
              "#ed7953"
             ],
             [
              0.7777777777777778,
              "#fb9f3a"
             ],
             [
              0.8888888888888888,
              "#fdca26"
             ],
             [
              1,
              "#f0f921"
             ]
            ],
            "type": "heatmapgl"
           }
          ],
          "histogram": [
           {
            "marker": {
             "pattern": {
              "fillmode": "overlay",
              "size": 10,
              "solidity": 0.2
             }
            },
            "type": "histogram"
           }
          ],
          "histogram2d": [
           {
            "colorbar": {
             "outlinewidth": 0,
             "ticks": ""
            },
            "colorscale": [
             [
              0,
              "#0d0887"
             ],
             [
              0.1111111111111111,
              "#46039f"
             ],
             [
              0.2222222222222222,
              "#7201a8"
             ],
             [
              0.3333333333333333,
              "#9c179e"
             ],
             [
              0.4444444444444444,
              "#bd3786"
             ],
             [
              0.5555555555555556,
              "#d8576b"
             ],
             [
              0.6666666666666666,
              "#ed7953"
             ],
             [
              0.7777777777777778,
              "#fb9f3a"
             ],
             [
              0.8888888888888888,
              "#fdca26"
             ],
             [
              1,
              "#f0f921"
             ]
            ],
            "type": "histogram2d"
           }
          ],
          "histogram2dcontour": [
           {
            "colorbar": {
             "outlinewidth": 0,
             "ticks": ""
            },
            "colorscale": [
             [
              0,
              "#0d0887"
             ],
             [
              0.1111111111111111,
              "#46039f"
             ],
             [
              0.2222222222222222,
              "#7201a8"
             ],
             [
              0.3333333333333333,
              "#9c179e"
             ],
             [
              0.4444444444444444,
              "#bd3786"
             ],
             [
              0.5555555555555556,
              "#d8576b"
             ],
             [
              0.6666666666666666,
              "#ed7953"
             ],
             [
              0.7777777777777778,
              "#fb9f3a"
             ],
             [
              0.8888888888888888,
              "#fdca26"
             ],
             [
              1,
              "#f0f921"
             ]
            ],
            "type": "histogram2dcontour"
           }
          ],
          "mesh3d": [
           {
            "colorbar": {
             "outlinewidth": 0,
             "ticks": ""
            },
            "type": "mesh3d"
           }
          ],
          "parcoords": [
           {
            "line": {
             "colorbar": {
              "outlinewidth": 0,
              "ticks": ""
             }
            },
            "type": "parcoords"
           }
          ],
          "pie": [
           {
            "automargin": true,
            "type": "pie"
           }
          ],
          "scatter": [
           {
            "fillpattern": {
             "fillmode": "overlay",
             "size": 10,
             "solidity": 0.2
            },
            "type": "scatter"
           }
          ],
          "scatter3d": [
           {
            "line": {
             "colorbar": {
              "outlinewidth": 0,
              "ticks": ""
             }
            },
            "marker": {
             "colorbar": {
              "outlinewidth": 0,
              "ticks": ""
             }
            },
            "type": "scatter3d"
           }
          ],
          "scattercarpet": [
           {
            "marker": {
             "colorbar": {
              "outlinewidth": 0,
              "ticks": ""
             }
            },
            "type": "scattercarpet"
           }
          ],
          "scattergeo": [
           {
            "marker": {
             "colorbar": {
              "outlinewidth": 0,
              "ticks": ""
             }
            },
            "type": "scattergeo"
           }
          ],
          "scattergl": [
           {
            "marker": {
             "colorbar": {
              "outlinewidth": 0,
              "ticks": ""
             }
            },
            "type": "scattergl"
           }
          ],
          "scattermapbox": [
           {
            "marker": {
             "colorbar": {
              "outlinewidth": 0,
              "ticks": ""
             }
            },
            "type": "scattermapbox"
           }
          ],
          "scatterpolar": [
           {
            "marker": {
             "colorbar": {
              "outlinewidth": 0,
              "ticks": ""
             }
            },
            "type": "scatterpolar"
           }
          ],
          "scatterpolargl": [
           {
            "marker": {
             "colorbar": {
              "outlinewidth": 0,
              "ticks": ""
             }
            },
            "type": "scatterpolargl"
           }
          ],
          "scatterternary": [
           {
            "marker": {
             "colorbar": {
              "outlinewidth": 0,
              "ticks": ""
             }
            },
            "type": "scatterternary"
           }
          ],
          "surface": [
           {
            "colorbar": {
             "outlinewidth": 0,
             "ticks": ""
            },
            "colorscale": [
             [
              0,
              "#0d0887"
             ],
             [
              0.1111111111111111,
              "#46039f"
             ],
             [
              0.2222222222222222,
              "#7201a8"
             ],
             [
              0.3333333333333333,
              "#9c179e"
             ],
             [
              0.4444444444444444,
              "#bd3786"
             ],
             [
              0.5555555555555556,
              "#d8576b"
             ],
             [
              0.6666666666666666,
              "#ed7953"
             ],
             [
              0.7777777777777778,
              "#fb9f3a"
             ],
             [
              0.8888888888888888,
              "#fdca26"
             ],
             [
              1,
              "#f0f921"
             ]
            ],
            "type": "surface"
           }
          ],
          "table": [
           {
            "cells": {
             "fill": {
              "color": "#EBF0F8"
             },
             "line": {
              "color": "white"
             }
            },
            "header": {
             "fill": {
              "color": "#C8D4E3"
             },
             "line": {
              "color": "white"
             }
            },
            "type": "table"
           }
          ]
         },
         "layout": {
          "annotationdefaults": {
           "arrowcolor": "#2a3f5f",
           "arrowhead": 0,
           "arrowwidth": 1
          },
          "autotypenumbers": "strict",
          "coloraxis": {
           "colorbar": {
            "outlinewidth": 0,
            "ticks": ""
           }
          },
          "colorscale": {
           "diverging": [
            [
             0,
             "#8e0152"
            ],
            [
             0.1,
             "#c51b7d"
            ],
            [
             0.2,
             "#de77ae"
            ],
            [
             0.3,
             "#f1b6da"
            ],
            [
             0.4,
             "#fde0ef"
            ],
            [
             0.5,
             "#f7f7f7"
            ],
            [
             0.6,
             "#e6f5d0"
            ],
            [
             0.7,
             "#b8e186"
            ],
            [
             0.8,
             "#7fbc41"
            ],
            [
             0.9,
             "#4d9221"
            ],
            [
             1,
             "#276419"
            ]
           ],
           "sequential": [
            [
             0,
             "#0d0887"
            ],
            [
             0.1111111111111111,
             "#46039f"
            ],
            [
             0.2222222222222222,
             "#7201a8"
            ],
            [
             0.3333333333333333,
             "#9c179e"
            ],
            [
             0.4444444444444444,
             "#bd3786"
            ],
            [
             0.5555555555555556,
             "#d8576b"
            ],
            [
             0.6666666666666666,
             "#ed7953"
            ],
            [
             0.7777777777777778,
             "#fb9f3a"
            ],
            [
             0.8888888888888888,
             "#fdca26"
            ],
            [
             1,
             "#f0f921"
            ]
           ],
           "sequentialminus": [
            [
             0,
             "#0d0887"
            ],
            [
             0.1111111111111111,
             "#46039f"
            ],
            [
             0.2222222222222222,
             "#7201a8"
            ],
            [
             0.3333333333333333,
             "#9c179e"
            ],
            [
             0.4444444444444444,
             "#bd3786"
            ],
            [
             0.5555555555555556,
             "#d8576b"
            ],
            [
             0.6666666666666666,
             "#ed7953"
            ],
            [
             0.7777777777777778,
             "#fb9f3a"
            ],
            [
             0.8888888888888888,
             "#fdca26"
            ],
            [
             1,
             "#f0f921"
            ]
           ]
          },
          "colorway": [
           "#636efa",
           "#EF553B",
           "#00cc96",
           "#ab63fa",
           "#FFA15A",
           "#19d3f3",
           "#FF6692",
           "#B6E880",
           "#FF97FF",
           "#FECB52"
          ],
          "font": {
           "color": "#2a3f5f"
          },
          "geo": {
           "bgcolor": "white",
           "lakecolor": "white",
           "landcolor": "#E5ECF6",
           "showlakes": true,
           "showland": true,
           "subunitcolor": "white"
          },
          "hoverlabel": {
           "align": "left"
          },
          "hovermode": "closest",
          "mapbox": {
           "style": "light"
          },
          "paper_bgcolor": "white",
          "plot_bgcolor": "#E5ECF6",
          "polar": {
           "angularaxis": {
            "gridcolor": "white",
            "linecolor": "white",
            "ticks": ""
           },
           "bgcolor": "#E5ECF6",
           "radialaxis": {
            "gridcolor": "white",
            "linecolor": "white",
            "ticks": ""
           }
          },
          "scene": {
           "xaxis": {
            "backgroundcolor": "#E5ECF6",
            "gridcolor": "white",
            "gridwidth": 2,
            "linecolor": "white",
            "showbackground": true,
            "ticks": "",
            "zerolinecolor": "white"
           },
           "yaxis": {
            "backgroundcolor": "#E5ECF6",
            "gridcolor": "white",
            "gridwidth": 2,
            "linecolor": "white",
            "showbackground": true,
            "ticks": "",
            "zerolinecolor": "white"
           },
           "zaxis": {
            "backgroundcolor": "#E5ECF6",
            "gridcolor": "white",
            "gridwidth": 2,
            "linecolor": "white",
            "showbackground": true,
            "ticks": "",
            "zerolinecolor": "white"
           }
          },
          "shapedefaults": {
           "line": {
            "color": "#2a3f5f"
           }
          },
          "ternary": {
           "aaxis": {
            "gridcolor": "white",
            "linecolor": "white",
            "ticks": ""
           },
           "baxis": {
            "gridcolor": "white",
            "linecolor": "white",
            "ticks": ""
           },
           "bgcolor": "#E5ECF6",
           "caxis": {
            "gridcolor": "white",
            "linecolor": "white",
            "ticks": ""
           }
          },
          "title": {
           "x": 0.05
          },
          "xaxis": {
           "automargin": true,
           "gridcolor": "white",
           "linecolor": "white",
           "ticks": "",
           "title": {
            "standoff": 15
           },
           "zerolinecolor": "white",
           "zerolinewidth": 2
          },
          "yaxis": {
           "automargin": true,
           "gridcolor": "white",
           "linecolor": "white",
           "ticks": "",
           "title": {
            "standoff": 15
           },
           "zerolinecolor": "white",
           "zerolinewidth": 2
          }
         }
        },
        "title": {
         "text": "Comparison of monthly Long and Short momentum strategies"
        },
        "width": 1400,
        "xaxis": {
         "title": {
          "text": "Symbol"
         }
        },
        "yaxis": {
         "title": {
          "text": "Cumulative Returns"
         }
        }
       }
      }
     },
     "metadata": {},
     "output_type": "display_data"
    }
   ],
   "source": [
    "# Comparison of monthly Long and Short momentum strategies\n",
    "# Initialize an empty figure\n",
    "fig = go.Figure()\n",
    "\n",
    "# Add the first strategy (e.g., long strategy)\n",
    "fig.add_trace(go.Bar(x=long_return_df.index, y=long_return_df.values, marker_color='blue', name=\"Long\"))\n",
    "\n",
    "# Add the second strategy (e.g., short strategy)\n",
    "fig.add_trace(go.Bar(x=short_return_df.index, y=short_return_df.values, marker_color='red', name=\"Short\"))\n",
    "\n",
    "# Update layout for title and axis labels\n",
    "fig.update_layout(\n",
    "    title=\"Comparison of monthly Long and Short momentum strategies\",\n",
    "    width=1400,\n",
    "    height=500,\n",
    "    xaxis_title=\"Symbol\",\n",
    "    yaxis_title=\"Cumulative Returns\",\n",
    "    legend_title=\"Strategies\",\n",
    ")\n",
    "\n",
    "# Show the plot\n",
    "fig.show()"
   ]
  },
  {
   "cell_type": "code",
   "execution_count": 26,
   "metadata": {},
   "outputs": [
    {
     "data": {
      "application/vnd.plotly.v1+json": {
       "config": {
        "plotlyServerURL": "https://plot.ly"
       },
       "data": [
        {
         "marker": {
          "color": "blue"
         },
         "name": "Long",
         "type": "bar",
         "x": [
          "Annualized Return (Long)",
          "Max Drawdown (Long)"
         ],
         "y": [
          2.3404653316176742,
          -1.4494611915905513
         ]
        },
        {
         "marker": {
          "color": "red"
         },
         "name": "Short",
         "type": "bar",
         "x": [
          "Annualized Return (Short)",
          "Max Drawdown (Short)"
         ],
         "y": [
          0.7488758856074826,
          -0.060609887262734564
         ]
        }
       ],
       "layout": {
        "barmode": "group",
        "height": 400,
        "template": {
         "data": {
          "bar": [
           {
            "error_x": {
             "color": "#2a3f5f"
            },
            "error_y": {
             "color": "#2a3f5f"
            },
            "marker": {
             "line": {
              "color": "#E5ECF6",
              "width": 0.5
             },
             "pattern": {
              "fillmode": "overlay",
              "size": 10,
              "solidity": 0.2
             }
            },
            "type": "bar"
           }
          ],
          "barpolar": [
           {
            "marker": {
             "line": {
              "color": "#E5ECF6",
              "width": 0.5
             },
             "pattern": {
              "fillmode": "overlay",
              "size": 10,
              "solidity": 0.2
             }
            },
            "type": "barpolar"
           }
          ],
          "carpet": [
           {
            "aaxis": {
             "endlinecolor": "#2a3f5f",
             "gridcolor": "white",
             "linecolor": "white",
             "minorgridcolor": "white",
             "startlinecolor": "#2a3f5f"
            },
            "baxis": {
             "endlinecolor": "#2a3f5f",
             "gridcolor": "white",
             "linecolor": "white",
             "minorgridcolor": "white",
             "startlinecolor": "#2a3f5f"
            },
            "type": "carpet"
           }
          ],
          "choropleth": [
           {
            "colorbar": {
             "outlinewidth": 0,
             "ticks": ""
            },
            "type": "choropleth"
           }
          ],
          "contour": [
           {
            "colorbar": {
             "outlinewidth": 0,
             "ticks": ""
            },
            "colorscale": [
             [
              0,
              "#0d0887"
             ],
             [
              0.1111111111111111,
              "#46039f"
             ],
             [
              0.2222222222222222,
              "#7201a8"
             ],
             [
              0.3333333333333333,
              "#9c179e"
             ],
             [
              0.4444444444444444,
              "#bd3786"
             ],
             [
              0.5555555555555556,
              "#d8576b"
             ],
             [
              0.6666666666666666,
              "#ed7953"
             ],
             [
              0.7777777777777778,
              "#fb9f3a"
             ],
             [
              0.8888888888888888,
              "#fdca26"
             ],
             [
              1,
              "#f0f921"
             ]
            ],
            "type": "contour"
           }
          ],
          "contourcarpet": [
           {
            "colorbar": {
             "outlinewidth": 0,
             "ticks": ""
            },
            "type": "contourcarpet"
           }
          ],
          "heatmap": [
           {
            "colorbar": {
             "outlinewidth": 0,
             "ticks": ""
            },
            "colorscale": [
             [
              0,
              "#0d0887"
             ],
             [
              0.1111111111111111,
              "#46039f"
             ],
             [
              0.2222222222222222,
              "#7201a8"
             ],
             [
              0.3333333333333333,
              "#9c179e"
             ],
             [
              0.4444444444444444,
              "#bd3786"
             ],
             [
              0.5555555555555556,
              "#d8576b"
             ],
             [
              0.6666666666666666,
              "#ed7953"
             ],
             [
              0.7777777777777778,
              "#fb9f3a"
             ],
             [
              0.8888888888888888,
              "#fdca26"
             ],
             [
              1,
              "#f0f921"
             ]
            ],
            "type": "heatmap"
           }
          ],
          "heatmapgl": [
           {
            "colorbar": {
             "outlinewidth": 0,
             "ticks": ""
            },
            "colorscale": [
             [
              0,
              "#0d0887"
             ],
             [
              0.1111111111111111,
              "#46039f"
             ],
             [
              0.2222222222222222,
              "#7201a8"
             ],
             [
              0.3333333333333333,
              "#9c179e"
             ],
             [
              0.4444444444444444,
              "#bd3786"
             ],
             [
              0.5555555555555556,
              "#d8576b"
             ],
             [
              0.6666666666666666,
              "#ed7953"
             ],
             [
              0.7777777777777778,
              "#fb9f3a"
             ],
             [
              0.8888888888888888,
              "#fdca26"
             ],
             [
              1,
              "#f0f921"
             ]
            ],
            "type": "heatmapgl"
           }
          ],
          "histogram": [
           {
            "marker": {
             "pattern": {
              "fillmode": "overlay",
              "size": 10,
              "solidity": 0.2
             }
            },
            "type": "histogram"
           }
          ],
          "histogram2d": [
           {
            "colorbar": {
             "outlinewidth": 0,
             "ticks": ""
            },
            "colorscale": [
             [
              0,
              "#0d0887"
             ],
             [
              0.1111111111111111,
              "#46039f"
             ],
             [
              0.2222222222222222,
              "#7201a8"
             ],
             [
              0.3333333333333333,
              "#9c179e"
             ],
             [
              0.4444444444444444,
              "#bd3786"
             ],
             [
              0.5555555555555556,
              "#d8576b"
             ],
             [
              0.6666666666666666,
              "#ed7953"
             ],
             [
              0.7777777777777778,
              "#fb9f3a"
             ],
             [
              0.8888888888888888,
              "#fdca26"
             ],
             [
              1,
              "#f0f921"
             ]
            ],
            "type": "histogram2d"
           }
          ],
          "histogram2dcontour": [
           {
            "colorbar": {
             "outlinewidth": 0,
             "ticks": ""
            },
            "colorscale": [
             [
              0,
              "#0d0887"
             ],
             [
              0.1111111111111111,
              "#46039f"
             ],
             [
              0.2222222222222222,
              "#7201a8"
             ],
             [
              0.3333333333333333,
              "#9c179e"
             ],
             [
              0.4444444444444444,
              "#bd3786"
             ],
             [
              0.5555555555555556,
              "#d8576b"
             ],
             [
              0.6666666666666666,
              "#ed7953"
             ],
             [
              0.7777777777777778,
              "#fb9f3a"
             ],
             [
              0.8888888888888888,
              "#fdca26"
             ],
             [
              1,
              "#f0f921"
             ]
            ],
            "type": "histogram2dcontour"
           }
          ],
          "mesh3d": [
           {
            "colorbar": {
             "outlinewidth": 0,
             "ticks": ""
            },
            "type": "mesh3d"
           }
          ],
          "parcoords": [
           {
            "line": {
             "colorbar": {
              "outlinewidth": 0,
              "ticks": ""
             }
            },
            "type": "parcoords"
           }
          ],
          "pie": [
           {
            "automargin": true,
            "type": "pie"
           }
          ],
          "scatter": [
           {
            "fillpattern": {
             "fillmode": "overlay",
             "size": 10,
             "solidity": 0.2
            },
            "type": "scatter"
           }
          ],
          "scatter3d": [
           {
            "line": {
             "colorbar": {
              "outlinewidth": 0,
              "ticks": ""
             }
            },
            "marker": {
             "colorbar": {
              "outlinewidth": 0,
              "ticks": ""
             }
            },
            "type": "scatter3d"
           }
          ],
          "scattercarpet": [
           {
            "marker": {
             "colorbar": {
              "outlinewidth": 0,
              "ticks": ""
             }
            },
            "type": "scattercarpet"
           }
          ],
          "scattergeo": [
           {
            "marker": {
             "colorbar": {
              "outlinewidth": 0,
              "ticks": ""
             }
            },
            "type": "scattergeo"
           }
          ],
          "scattergl": [
           {
            "marker": {
             "colorbar": {
              "outlinewidth": 0,
              "ticks": ""
             }
            },
            "type": "scattergl"
           }
          ],
          "scattermapbox": [
           {
            "marker": {
             "colorbar": {
              "outlinewidth": 0,
              "ticks": ""
             }
            },
            "type": "scattermapbox"
           }
          ],
          "scatterpolar": [
           {
            "marker": {
             "colorbar": {
              "outlinewidth": 0,
              "ticks": ""
             }
            },
            "type": "scatterpolar"
           }
          ],
          "scatterpolargl": [
           {
            "marker": {
             "colorbar": {
              "outlinewidth": 0,
              "ticks": ""
             }
            },
            "type": "scatterpolargl"
           }
          ],
          "scatterternary": [
           {
            "marker": {
             "colorbar": {
              "outlinewidth": 0,
              "ticks": ""
             }
            },
            "type": "scatterternary"
           }
          ],
          "surface": [
           {
            "colorbar": {
             "outlinewidth": 0,
             "ticks": ""
            },
            "colorscale": [
             [
              0,
              "#0d0887"
             ],
             [
              0.1111111111111111,
              "#46039f"
             ],
             [
              0.2222222222222222,
              "#7201a8"
             ],
             [
              0.3333333333333333,
              "#9c179e"
             ],
             [
              0.4444444444444444,
              "#bd3786"
             ],
             [
              0.5555555555555556,
              "#d8576b"
             ],
             [
              0.6666666666666666,
              "#ed7953"
             ],
             [
              0.7777777777777778,
              "#fb9f3a"
             ],
             [
              0.8888888888888888,
              "#fdca26"
             ],
             [
              1,
              "#f0f921"
             ]
            ],
            "type": "surface"
           }
          ],
          "table": [
           {
            "cells": {
             "fill": {
              "color": "#EBF0F8"
             },
             "line": {
              "color": "white"
             }
            },
            "header": {
             "fill": {
              "color": "#C8D4E3"
             },
             "line": {
              "color": "white"
             }
            },
            "type": "table"
           }
          ]
         },
         "layout": {
          "annotationdefaults": {
           "arrowcolor": "#2a3f5f",
           "arrowhead": 0,
           "arrowwidth": 1
          },
          "autotypenumbers": "strict",
          "coloraxis": {
           "colorbar": {
            "outlinewidth": 0,
            "ticks": ""
           }
          },
          "colorscale": {
           "diverging": [
            [
             0,
             "#8e0152"
            ],
            [
             0.1,
             "#c51b7d"
            ],
            [
             0.2,
             "#de77ae"
            ],
            [
             0.3,
             "#f1b6da"
            ],
            [
             0.4,
             "#fde0ef"
            ],
            [
             0.5,
             "#f7f7f7"
            ],
            [
             0.6,
             "#e6f5d0"
            ],
            [
             0.7,
             "#b8e186"
            ],
            [
             0.8,
             "#7fbc41"
            ],
            [
             0.9,
             "#4d9221"
            ],
            [
             1,
             "#276419"
            ]
           ],
           "sequential": [
            [
             0,
             "#0d0887"
            ],
            [
             0.1111111111111111,
             "#46039f"
            ],
            [
             0.2222222222222222,
             "#7201a8"
            ],
            [
             0.3333333333333333,
             "#9c179e"
            ],
            [
             0.4444444444444444,
             "#bd3786"
            ],
            [
             0.5555555555555556,
             "#d8576b"
            ],
            [
             0.6666666666666666,
             "#ed7953"
            ],
            [
             0.7777777777777778,
             "#fb9f3a"
            ],
            [
             0.8888888888888888,
             "#fdca26"
            ],
            [
             1,
             "#f0f921"
            ]
           ],
           "sequentialminus": [
            [
             0,
             "#0d0887"
            ],
            [
             0.1111111111111111,
             "#46039f"
            ],
            [
             0.2222222222222222,
             "#7201a8"
            ],
            [
             0.3333333333333333,
             "#9c179e"
            ],
            [
             0.4444444444444444,
             "#bd3786"
            ],
            [
             0.5555555555555556,
             "#d8576b"
            ],
            [
             0.6666666666666666,
             "#ed7953"
            ],
            [
             0.7777777777777778,
             "#fb9f3a"
            ],
            [
             0.8888888888888888,
             "#fdca26"
            ],
            [
             1,
             "#f0f921"
            ]
           ]
          },
          "colorway": [
           "#636efa",
           "#EF553B",
           "#00cc96",
           "#ab63fa",
           "#FFA15A",
           "#19d3f3",
           "#FF6692",
           "#B6E880",
           "#FF97FF",
           "#FECB52"
          ],
          "font": {
           "color": "#2a3f5f"
          },
          "geo": {
           "bgcolor": "white",
           "lakecolor": "white",
           "landcolor": "#E5ECF6",
           "showlakes": true,
           "showland": true,
           "subunitcolor": "white"
          },
          "hoverlabel": {
           "align": "left"
          },
          "hovermode": "closest",
          "mapbox": {
           "style": "light"
          },
          "paper_bgcolor": "white",
          "plot_bgcolor": "#E5ECF6",
          "polar": {
           "angularaxis": {
            "gridcolor": "white",
            "linecolor": "white",
            "ticks": ""
           },
           "bgcolor": "#E5ECF6",
           "radialaxis": {
            "gridcolor": "white",
            "linecolor": "white",
            "ticks": ""
           }
          },
          "scene": {
           "xaxis": {
            "backgroundcolor": "#E5ECF6",
            "gridcolor": "white",
            "gridwidth": 2,
            "linecolor": "white",
            "showbackground": true,
            "ticks": "",
            "zerolinecolor": "white"
           },
           "yaxis": {
            "backgroundcolor": "#E5ECF6",
            "gridcolor": "white",
            "gridwidth": 2,
            "linecolor": "white",
            "showbackground": true,
            "ticks": "",
            "zerolinecolor": "white"
           },
           "zaxis": {
            "backgroundcolor": "#E5ECF6",
            "gridcolor": "white",
            "gridwidth": 2,
            "linecolor": "white",
            "showbackground": true,
            "ticks": "",
            "zerolinecolor": "white"
           }
          },
          "shapedefaults": {
           "line": {
            "color": "#2a3f5f"
           }
          },
          "ternary": {
           "aaxis": {
            "gridcolor": "white",
            "linecolor": "white",
            "ticks": ""
           },
           "baxis": {
            "gridcolor": "white",
            "linecolor": "white",
            "ticks": ""
           },
           "bgcolor": "#E5ECF6",
           "caxis": {
            "gridcolor": "white",
            "linecolor": "white",
            "ticks": ""
           }
          },
          "title": {
           "x": 0.05
          },
          "xaxis": {
           "automargin": true,
           "gridcolor": "white",
           "linecolor": "white",
           "ticks": "",
           "title": {
            "standoff": 15
           },
           "zerolinecolor": "white",
           "zerolinewidth": 2
          },
          "yaxis": {
           "automargin": true,
           "gridcolor": "white",
           "linecolor": "white",
           "ticks": "",
           "title": {
            "standoff": 15
           },
           "zerolinecolor": "white",
           "zerolinewidth": 2
          }
         }
        },
        "title": {
         "text": "Annualized Return and Max Drawdown from Long and Short Strategies"
        },
        "width": 800,
        "xaxis": {
         "title": {
          "text": "Metrics"
         }
        },
        "yaxis": {
         "title": {
          "text": "Values"
         }
        }
       }
      }
     },
     "metadata": {},
     "output_type": "display_data"
    }
   ],
   "source": [
    "# Annualized Return and Max Drawdown from Long and Short Strategies\n",
    "# Initialize an empty figure\n",
    "fig = go.Figure()\n",
    "\n",
    "# Add traces for Long strategy\n",
    "fig.add_trace(go.Bar(\n",
    "    x=[\"Annualized Return (Long)\", \"Max Drawdown (Long)\"], \n",
    "    y=[long_momentum_strategy_test.annualized_return_value.mean(), long_momentum_strategy_test.max_drawdown_value], \n",
    "    marker_color='blue', \n",
    "    name=\"Long\"\n",
    "))\n",
    "\n",
    "# Add traces for Short strategy\n",
    "fig.add_trace(go.Bar(\n",
    "    x=[\"Annualized Return (Short)\", \"Max Drawdown (Short)\"], \n",
    "    y=[short_momentum_strategy_test.annualized_return_value.mean(), short_momentum_strategy_test.max_drawdown_value], \n",
    "    marker_color='red', \n",
    "    name=\"Short\"\n",
    "))\n",
    "\n",
    "# Update layout\n",
    "fig.update_layout(\n",
    "    title=\"Annualized Return and Max Drawdown from Long and Short Strategies\",\n",
    "    xaxis_title=\"Metrics\",\n",
    "    yaxis_title=\"Values\",\n",
    "    barmode='group',  # Group bars by category\n",
    "    width=800,\n",
    "    height=400\n",
    ")\n",
    "\n",
    "# Show the plot\n",
    "fig.show()\n",
    "\n"
   ]
  },
  {
   "cell_type": "code",
   "execution_count": 27,
   "metadata": {},
   "outputs": [
    {
     "data": {
      "application/vnd.plotly.v1+json": {
       "config": {
        "plotlyServerURL": "https://plot.ly"
       },
       "data": [
        {
         "marker": {
          "color": "blue"
         },
         "name": "Long",
         "type": "bar",
         "x": [
          "Annualized Volatility(long)",
          "Sharpe Ratio(long)"
         ],
         "y": [
          1.8381858323853406,
          0.5797653710852276
         ]
        },
        {
         "marker": {
          "color": "red"
         },
         "name": "Short",
         "type": "bar",
         "x": [
          "Annualized Volatility(short)",
          "Sharpe Ratio(short)"
         ],
         "y": [
          0.21307247108208466,
          2.803777388779988
         ]
        }
       ],
       "layout": {
        "barmode": "group",
        "height": 400,
        "template": {
         "data": {
          "bar": [
           {
            "error_x": {
             "color": "#2a3f5f"
            },
            "error_y": {
             "color": "#2a3f5f"
            },
            "marker": {
             "line": {
              "color": "#E5ECF6",
              "width": 0.5
             },
             "pattern": {
              "fillmode": "overlay",
              "size": 10,
              "solidity": 0.2
             }
            },
            "type": "bar"
           }
          ],
          "barpolar": [
           {
            "marker": {
             "line": {
              "color": "#E5ECF6",
              "width": 0.5
             },
             "pattern": {
              "fillmode": "overlay",
              "size": 10,
              "solidity": 0.2
             }
            },
            "type": "barpolar"
           }
          ],
          "carpet": [
           {
            "aaxis": {
             "endlinecolor": "#2a3f5f",
             "gridcolor": "white",
             "linecolor": "white",
             "minorgridcolor": "white",
             "startlinecolor": "#2a3f5f"
            },
            "baxis": {
             "endlinecolor": "#2a3f5f",
             "gridcolor": "white",
             "linecolor": "white",
             "minorgridcolor": "white",
             "startlinecolor": "#2a3f5f"
            },
            "type": "carpet"
           }
          ],
          "choropleth": [
           {
            "colorbar": {
             "outlinewidth": 0,
             "ticks": ""
            },
            "type": "choropleth"
           }
          ],
          "contour": [
           {
            "colorbar": {
             "outlinewidth": 0,
             "ticks": ""
            },
            "colorscale": [
             [
              0,
              "#0d0887"
             ],
             [
              0.1111111111111111,
              "#46039f"
             ],
             [
              0.2222222222222222,
              "#7201a8"
             ],
             [
              0.3333333333333333,
              "#9c179e"
             ],
             [
              0.4444444444444444,
              "#bd3786"
             ],
             [
              0.5555555555555556,
              "#d8576b"
             ],
             [
              0.6666666666666666,
              "#ed7953"
             ],
             [
              0.7777777777777778,
              "#fb9f3a"
             ],
             [
              0.8888888888888888,
              "#fdca26"
             ],
             [
              1,
              "#f0f921"
             ]
            ],
            "type": "contour"
           }
          ],
          "contourcarpet": [
           {
            "colorbar": {
             "outlinewidth": 0,
             "ticks": ""
            },
            "type": "contourcarpet"
           }
          ],
          "heatmap": [
           {
            "colorbar": {
             "outlinewidth": 0,
             "ticks": ""
            },
            "colorscale": [
             [
              0,
              "#0d0887"
             ],
             [
              0.1111111111111111,
              "#46039f"
             ],
             [
              0.2222222222222222,
              "#7201a8"
             ],
             [
              0.3333333333333333,
              "#9c179e"
             ],
             [
              0.4444444444444444,
              "#bd3786"
             ],
             [
              0.5555555555555556,
              "#d8576b"
             ],
             [
              0.6666666666666666,
              "#ed7953"
             ],
             [
              0.7777777777777778,
              "#fb9f3a"
             ],
             [
              0.8888888888888888,
              "#fdca26"
             ],
             [
              1,
              "#f0f921"
             ]
            ],
            "type": "heatmap"
           }
          ],
          "heatmapgl": [
           {
            "colorbar": {
             "outlinewidth": 0,
             "ticks": ""
            },
            "colorscale": [
             [
              0,
              "#0d0887"
             ],
             [
              0.1111111111111111,
              "#46039f"
             ],
             [
              0.2222222222222222,
              "#7201a8"
             ],
             [
              0.3333333333333333,
              "#9c179e"
             ],
             [
              0.4444444444444444,
              "#bd3786"
             ],
             [
              0.5555555555555556,
              "#d8576b"
             ],
             [
              0.6666666666666666,
              "#ed7953"
             ],
             [
              0.7777777777777778,
              "#fb9f3a"
             ],
             [
              0.8888888888888888,
              "#fdca26"
             ],
             [
              1,
              "#f0f921"
             ]
            ],
            "type": "heatmapgl"
           }
          ],
          "histogram": [
           {
            "marker": {
             "pattern": {
              "fillmode": "overlay",
              "size": 10,
              "solidity": 0.2
             }
            },
            "type": "histogram"
           }
          ],
          "histogram2d": [
           {
            "colorbar": {
             "outlinewidth": 0,
             "ticks": ""
            },
            "colorscale": [
             [
              0,
              "#0d0887"
             ],
             [
              0.1111111111111111,
              "#46039f"
             ],
             [
              0.2222222222222222,
              "#7201a8"
             ],
             [
              0.3333333333333333,
              "#9c179e"
             ],
             [
              0.4444444444444444,
              "#bd3786"
             ],
             [
              0.5555555555555556,
              "#d8576b"
             ],
             [
              0.6666666666666666,
              "#ed7953"
             ],
             [
              0.7777777777777778,
              "#fb9f3a"
             ],
             [
              0.8888888888888888,
              "#fdca26"
             ],
             [
              1,
              "#f0f921"
             ]
            ],
            "type": "histogram2d"
           }
          ],
          "histogram2dcontour": [
           {
            "colorbar": {
             "outlinewidth": 0,
             "ticks": ""
            },
            "colorscale": [
             [
              0,
              "#0d0887"
             ],
             [
              0.1111111111111111,
              "#46039f"
             ],
             [
              0.2222222222222222,
              "#7201a8"
             ],
             [
              0.3333333333333333,
              "#9c179e"
             ],
             [
              0.4444444444444444,
              "#bd3786"
             ],
             [
              0.5555555555555556,
              "#d8576b"
             ],
             [
              0.6666666666666666,
              "#ed7953"
             ],
             [
              0.7777777777777778,
              "#fb9f3a"
             ],
             [
              0.8888888888888888,
              "#fdca26"
             ],
             [
              1,
              "#f0f921"
             ]
            ],
            "type": "histogram2dcontour"
           }
          ],
          "mesh3d": [
           {
            "colorbar": {
             "outlinewidth": 0,
             "ticks": ""
            },
            "type": "mesh3d"
           }
          ],
          "parcoords": [
           {
            "line": {
             "colorbar": {
              "outlinewidth": 0,
              "ticks": ""
             }
            },
            "type": "parcoords"
           }
          ],
          "pie": [
           {
            "automargin": true,
            "type": "pie"
           }
          ],
          "scatter": [
           {
            "fillpattern": {
             "fillmode": "overlay",
             "size": 10,
             "solidity": 0.2
            },
            "type": "scatter"
           }
          ],
          "scatter3d": [
           {
            "line": {
             "colorbar": {
              "outlinewidth": 0,
              "ticks": ""
             }
            },
            "marker": {
             "colorbar": {
              "outlinewidth": 0,
              "ticks": ""
             }
            },
            "type": "scatter3d"
           }
          ],
          "scattercarpet": [
           {
            "marker": {
             "colorbar": {
              "outlinewidth": 0,
              "ticks": ""
             }
            },
            "type": "scattercarpet"
           }
          ],
          "scattergeo": [
           {
            "marker": {
             "colorbar": {
              "outlinewidth": 0,
              "ticks": ""
             }
            },
            "type": "scattergeo"
           }
          ],
          "scattergl": [
           {
            "marker": {
             "colorbar": {
              "outlinewidth": 0,
              "ticks": ""
             }
            },
            "type": "scattergl"
           }
          ],
          "scattermapbox": [
           {
            "marker": {
             "colorbar": {
              "outlinewidth": 0,
              "ticks": ""
             }
            },
            "type": "scattermapbox"
           }
          ],
          "scatterpolar": [
           {
            "marker": {
             "colorbar": {
              "outlinewidth": 0,
              "ticks": ""
             }
            },
            "type": "scatterpolar"
           }
          ],
          "scatterpolargl": [
           {
            "marker": {
             "colorbar": {
              "outlinewidth": 0,
              "ticks": ""
             }
            },
            "type": "scatterpolargl"
           }
          ],
          "scatterternary": [
           {
            "marker": {
             "colorbar": {
              "outlinewidth": 0,
              "ticks": ""
             }
            },
            "type": "scatterternary"
           }
          ],
          "surface": [
           {
            "colorbar": {
             "outlinewidth": 0,
             "ticks": ""
            },
            "colorscale": [
             [
              0,
              "#0d0887"
             ],
             [
              0.1111111111111111,
              "#46039f"
             ],
             [
              0.2222222222222222,
              "#7201a8"
             ],
             [
              0.3333333333333333,
              "#9c179e"
             ],
             [
              0.4444444444444444,
              "#bd3786"
             ],
             [
              0.5555555555555556,
              "#d8576b"
             ],
             [
              0.6666666666666666,
              "#ed7953"
             ],
             [
              0.7777777777777778,
              "#fb9f3a"
             ],
             [
              0.8888888888888888,
              "#fdca26"
             ],
             [
              1,
              "#f0f921"
             ]
            ],
            "type": "surface"
           }
          ],
          "table": [
           {
            "cells": {
             "fill": {
              "color": "#EBF0F8"
             },
             "line": {
              "color": "white"
             }
            },
            "header": {
             "fill": {
              "color": "#C8D4E3"
             },
             "line": {
              "color": "white"
             }
            },
            "type": "table"
           }
          ]
         },
         "layout": {
          "annotationdefaults": {
           "arrowcolor": "#2a3f5f",
           "arrowhead": 0,
           "arrowwidth": 1
          },
          "autotypenumbers": "strict",
          "coloraxis": {
           "colorbar": {
            "outlinewidth": 0,
            "ticks": ""
           }
          },
          "colorscale": {
           "diverging": [
            [
             0,
             "#8e0152"
            ],
            [
             0.1,
             "#c51b7d"
            ],
            [
             0.2,
             "#de77ae"
            ],
            [
             0.3,
             "#f1b6da"
            ],
            [
             0.4,
             "#fde0ef"
            ],
            [
             0.5,
             "#f7f7f7"
            ],
            [
             0.6,
             "#e6f5d0"
            ],
            [
             0.7,
             "#b8e186"
            ],
            [
             0.8,
             "#7fbc41"
            ],
            [
             0.9,
             "#4d9221"
            ],
            [
             1,
             "#276419"
            ]
           ],
           "sequential": [
            [
             0,
             "#0d0887"
            ],
            [
             0.1111111111111111,
             "#46039f"
            ],
            [
             0.2222222222222222,
             "#7201a8"
            ],
            [
             0.3333333333333333,
             "#9c179e"
            ],
            [
             0.4444444444444444,
             "#bd3786"
            ],
            [
             0.5555555555555556,
             "#d8576b"
            ],
            [
             0.6666666666666666,
             "#ed7953"
            ],
            [
             0.7777777777777778,
             "#fb9f3a"
            ],
            [
             0.8888888888888888,
             "#fdca26"
            ],
            [
             1,
             "#f0f921"
            ]
           ],
           "sequentialminus": [
            [
             0,
             "#0d0887"
            ],
            [
             0.1111111111111111,
             "#46039f"
            ],
            [
             0.2222222222222222,
             "#7201a8"
            ],
            [
             0.3333333333333333,
             "#9c179e"
            ],
            [
             0.4444444444444444,
             "#bd3786"
            ],
            [
             0.5555555555555556,
             "#d8576b"
            ],
            [
             0.6666666666666666,
             "#ed7953"
            ],
            [
             0.7777777777777778,
             "#fb9f3a"
            ],
            [
             0.8888888888888888,
             "#fdca26"
            ],
            [
             1,
             "#f0f921"
            ]
           ]
          },
          "colorway": [
           "#636efa",
           "#EF553B",
           "#00cc96",
           "#ab63fa",
           "#FFA15A",
           "#19d3f3",
           "#FF6692",
           "#B6E880",
           "#FF97FF",
           "#FECB52"
          ],
          "font": {
           "color": "#2a3f5f"
          },
          "geo": {
           "bgcolor": "white",
           "lakecolor": "white",
           "landcolor": "#E5ECF6",
           "showlakes": true,
           "showland": true,
           "subunitcolor": "white"
          },
          "hoverlabel": {
           "align": "left"
          },
          "hovermode": "closest",
          "mapbox": {
           "style": "light"
          },
          "paper_bgcolor": "white",
          "plot_bgcolor": "#E5ECF6",
          "polar": {
           "angularaxis": {
            "gridcolor": "white",
            "linecolor": "white",
            "ticks": ""
           },
           "bgcolor": "#E5ECF6",
           "radialaxis": {
            "gridcolor": "white",
            "linecolor": "white",
            "ticks": ""
           }
          },
          "scene": {
           "xaxis": {
            "backgroundcolor": "#E5ECF6",
            "gridcolor": "white",
            "gridwidth": 2,
            "linecolor": "white",
            "showbackground": true,
            "ticks": "",
            "zerolinecolor": "white"
           },
           "yaxis": {
            "backgroundcolor": "#E5ECF6",
            "gridcolor": "white",
            "gridwidth": 2,
            "linecolor": "white",
            "showbackground": true,
            "ticks": "",
            "zerolinecolor": "white"
           },
           "zaxis": {
            "backgroundcolor": "#E5ECF6",
            "gridcolor": "white",
            "gridwidth": 2,
            "linecolor": "white",
            "showbackground": true,
            "ticks": "",
            "zerolinecolor": "white"
           }
          },
          "shapedefaults": {
           "line": {
            "color": "#2a3f5f"
           }
          },
          "ternary": {
           "aaxis": {
            "gridcolor": "white",
            "linecolor": "white",
            "ticks": ""
           },
           "baxis": {
            "gridcolor": "white",
            "linecolor": "white",
            "ticks": ""
           },
           "bgcolor": "#E5ECF6",
           "caxis": {
            "gridcolor": "white",
            "linecolor": "white",
            "ticks": ""
           }
          },
          "title": {
           "x": 0.05
          },
          "xaxis": {
           "automargin": true,
           "gridcolor": "white",
           "linecolor": "white",
           "ticks": "",
           "title": {
            "standoff": 15
           },
           "zerolinecolor": "white",
           "zerolinewidth": 2
          },
          "yaxis": {
           "automargin": true,
           "gridcolor": "white",
           "linecolor": "white",
           "ticks": "",
           "title": {
            "standoff": 15
           },
           "zerolinecolor": "white",
           "zerolinewidth": 2
          }
         }
        },
        "title": {
         "text": "Annualized Volatility and Max Drawdown from Long and Short Strategies"
        },
        "width": 800,
        "xaxis": {
         "title": {
          "text": "Metrics"
         }
        },
        "yaxis": {
         "title": {
          "text": "Metric Value"
         }
        }
       }
      }
     },
     "metadata": {},
     "output_type": "display_data"
    }
   ],
   "source": [
    "# Annualized Volatility and Max Drawdown from Long and Short Strategies\n",
    "# Create a figure\n",
    "fig = go.Figure()\n",
    "\n",
    "# Add bars for the Long Strategy - Volatility and Drawdown\n",
    "fig.add_trace(go.Bar(\n",
    "    x=[\"Annualized Volatility(long)\", \"Sharpe Ratio(long)\"], \n",
    "    y=[long_momentum_strategy_test.annualized_volatility_value, long_momentum_strategy_test.sharpe_ratio_value],\n",
    "    name=\"Long\",\n",
    "    marker_color='blue'\n",
    "))\n",
    "\n",
    "# Add bars for the Short Strategy - Volatility and Drawdown\n",
    "fig.add_trace(go.Bar(\n",
    "    x=[\"Annualized Volatility(short)\", \"Sharpe Ratio(short)\"], \n",
    "    y=[short_momentum_strategy_test.annualized_volatility_value, short_momentum_strategy_test.sharpe_ratio_value],\n",
    "    name=\"Short\",\n",
    "    marker_color='red'\n",
    "))\n",
    "\n",
    "# Update layout for grouped bars\n",
    "fig.update_layout(\n",
    "    title=\"Annualized Volatility and Max Drawdown from Long and Short Strategies\",\n",
    "    xaxis_title=\"Metrics\",\n",
    "    yaxis_title=\"Metric Value\",\n",
    "    barmode='group',  # Group bars side-by-side\n",
    "    width=800,\n",
    "    height=400\n",
    ")\n",
    "\n",
    "# Show the plot\n",
    "fig.show()\n"
   ]
  }
 ],
 "metadata": {
  "colab": {
   "authorship_tag": "ABX9TyPEBcgufjbBSFixya5jCUbT",
   "provenance": []
  },
  "kernelspec": {
   "display_name": "hmm",
   "language": "python",
   "name": "python3"
  },
  "language_info": {
   "codemirror_mode": {
    "name": "ipython",
    "version": 3
   },
   "file_extension": ".py",
   "mimetype": "text/x-python",
   "name": "python",
   "nbconvert_exporter": "python",
   "pygments_lexer": "ipython3",
   "version": "3.9.20"
  }
 },
 "nbformat": 4,
 "nbformat_minor": 0
}
